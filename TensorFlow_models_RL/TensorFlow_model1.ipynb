{
 "metadata": {
  "language_info": {
   "codemirror_mode": {
    "name": "ipython",
    "version": 3
   },
   "file_extension": ".py",
   "mimetype": "text/x-python",
   "name": "python",
   "nbconvert_exporter": "python",
   "pygments_lexer": "ipython3",
   "version": "3.7.0"
  },
  "orig_nbformat": 2,
  "kernelspec": {
   "name": "python37064bita3d838bdd0d04056af866227a473536d",
   "display_name": "Python 3.7.0 64-bit"
  },
  "metadata": {
   "interpreter": {
    "hash": "0600588c3b5f4418cbe7b5ebc6825b479f3bc010269d8b60d75058cdd010adfe"
   }
  }
 },
 "nbformat": 4,
 "nbformat_minor": 2,
 "cells": [
  {
   "cell_type": "code",
   "execution_count": 1,
   "metadata": {},
   "outputs": [],
   "source": [
    "import tensorflow as tf\n",
    "from tensorflow import keras\n",
    "from tensorflow.keras import layers"
   ]
  },
  {
   "cell_type": "code",
   "execution_count": 2,
   "metadata": {},
   "outputs": [],
   "source": [
    "inputs = keras.Input(shape=(784,), name=\"digits\")\n",
    "x = layers.Dense(64, activation=\"relu\", name=\"dense_1\")(inputs)\n",
    "x = layers.Dense(64, activation=\"relu\", name=\"dense_2\")(x)\n",
    "outputs = layers.Dense(10, activation=\"softmax\", name=\"predictions\")(x)\n",
    "\n",
    "model = keras.Model(inputs=inputs, outputs=outputs)"
   ]
  },
  {
   "cell_type": "code",
   "execution_count": 3,
   "metadata": {},
   "outputs": [],
   "source": [
    "(x_train, y_train), (x_test, y_test) = keras.datasets.mnist.load_data()\n",
    "\n",
    "# Preprocess the data (these are NumPy arrays)\n",
    "x_train = x_train.reshape(60000, 784).astype(\"float32\") / 255\n",
    "x_test = x_test.reshape(10000, 784).astype(\"float32\") / 255\n",
    "\n",
    "y_train = y_train.astype(\"float32\")\n",
    "y_test = y_test.astype(\"float32\")\n",
    "\n",
    "# Reserve 10,000 samples for validation\n",
    "x_val = x_train[-10000:]\n",
    "y_val = y_train[-10000:]\n",
    "x_train = x_train[:-10000]\n",
    "y_train = y_train[:-10000]"
   ]
  },
  {
   "cell_type": "code",
   "execution_count": 4,
   "metadata": {},
   "outputs": [],
   "source": [
    "model.compile(\n",
    "    optimizer=keras.optimizers.RMSprop(),  # Optimizer\n",
    "    # Loss function to minimize\n",
    "    loss=keras.losses.SparseCategoricalCrossentropy(),\n",
    "    # List of metrics to monitor\n",
    "    metrics=[keras.metrics.SparseCategoricalAccuracy()],\n",
    ")"
   ]
  },
  {
   "cell_type": "code",
   "execution_count": 6,
   "metadata": {},
   "outputs": [
    {
     "output_type": "stream",
     "name": "stdout",
     "text": [
      "Epoch 1/20\n",
      "782/782 [==============================] - 4s 5ms/step - loss: 0.0674 - sparse_categorical_accuracy: 0.9796 - val_loss: 0.1036 - val_sparse_categorical_accuracy: 0.9732\n",
      "Epoch 2/20\n",
      "782/782 [==============================] - 4s 5ms/step - loss: 0.0576 - sparse_categorical_accuracy: 0.9822 - val_loss: 0.1028 - val_sparse_categorical_accuracy: 0.9717\n",
      "Epoch 3/20\n",
      "782/782 [==============================] - 4s 5ms/step - loss: 0.0502 - sparse_categorical_accuracy: 0.9849 - val_loss: 0.1127 - val_sparse_categorical_accuracy: 0.9708\n",
      "Epoch 4/20\n",
      "782/782 [==============================] - 4s 5ms/step - loss: 0.0441 - sparse_categorical_accuracy: 0.9865 - val_loss: 0.1099 - val_sparse_categorical_accuracy: 0.9731\n",
      "Epoch 5/20\n",
      "782/782 [==============================] - 4s 5ms/step - loss: 0.0391 - sparse_categorical_accuracy: 0.9882 - val_loss: 0.1148 - val_sparse_categorical_accuracy: 0.9708\n",
      "Epoch 6/20\n",
      "782/782 [==============================] - 4s 5ms/step - loss: 0.0343 - sparse_categorical_accuracy: 0.9897 - val_loss: 0.1242 - val_sparse_categorical_accuracy: 0.9721\n",
      "Epoch 7/20\n",
      "782/782 [==============================] - 4s 5ms/step - loss: 0.0303 - sparse_categorical_accuracy: 0.9911 - val_loss: 0.1110 - val_sparse_categorical_accuracy: 0.9734\n",
      "Epoch 8/20\n",
      "782/782 [==============================] - 4s 6ms/step - loss: 0.0270 - sparse_categorical_accuracy: 0.9922 - val_loss: 0.1114 - val_sparse_categorical_accuracy: 0.9745\n",
      "Epoch 9/20\n",
      "782/782 [==============================] - 5s 6ms/step - loss: 0.0241 - sparse_categorical_accuracy: 0.9926 - val_loss: 0.1230 - val_sparse_categorical_accuracy: 0.9744\n",
      "Epoch 10/20\n",
      "782/782 [==============================] - 4s 5ms/step - loss: 0.0218 - sparse_categorical_accuracy: 0.9938 - val_loss: 0.1275 - val_sparse_categorical_accuracy: 0.9748\n",
      "Epoch 11/20\n",
      "782/782 [==============================] - 4s 6ms/step - loss: 0.0191 - sparse_categorical_accuracy: 0.9944 - val_loss: 0.1424 - val_sparse_categorical_accuracy: 0.9735\n",
      "Epoch 12/20\n",
      "782/782 [==============================] - 5s 6ms/step - loss: 0.0172 - sparse_categorical_accuracy: 0.9950 - val_loss: 0.1250 - val_sparse_categorical_accuracy: 0.9767\n",
      "Epoch 13/20\n",
      "782/782 [==============================] - 5s 6ms/step - loss: 0.0148 - sparse_categorical_accuracy: 0.9953 - val_loss: 0.1261 - val_sparse_categorical_accuracy: 0.9753\n",
      "Epoch 14/20\n",
      "782/782 [==============================] - 3s 4ms/step - loss: 0.0146 - sparse_categorical_accuracy: 0.9954 - val_loss: 0.1868 - val_sparse_categorical_accuracy: 0.9665\n",
      "Epoch 15/20\n",
      "782/782 [==============================] - 3s 4ms/step - loss: 0.0126 - sparse_categorical_accuracy: 0.9961 - val_loss: 0.1447 - val_sparse_categorical_accuracy: 0.9758\n",
      "Epoch 16/20\n",
      "782/782 [==============================] - 5s 6ms/step - loss: 0.0108 - sparse_categorical_accuracy: 0.9966 - val_loss: 0.1607 - val_sparse_categorical_accuracy: 0.9747\n",
      "Epoch 17/20\n",
      "782/782 [==============================] - 4s 5ms/step - loss: 0.0104 - sparse_categorical_accuracy: 0.9967 - val_loss: 0.1617 - val_sparse_categorical_accuracy: 0.9741\n",
      "Epoch 18/20\n",
      "782/782 [==============================] - 3s 4ms/step - loss: 0.0093 - sparse_categorical_accuracy: 0.9970 - val_loss: 0.1767 - val_sparse_categorical_accuracy: 0.9716\n",
      "Epoch 19/20\n",
      "782/782 [==============================] - 4s 5ms/step - loss: 0.0087 - sparse_categorical_accuracy: 0.9972 - val_loss: 0.1589 - val_sparse_categorical_accuracy: 0.9755\n",
      "Epoch 20/20\n",
      "782/782 [==============================] - 5s 6ms/step - loss: 0.0077 - sparse_categorical_accuracy: 0.9977 - val_loss: 0.1827 - val_sparse_categorical_accuracy: 0.9744\n"
     ]
    }
   ],
   "source": [
    "# print(\"Fit model on training data\")\n",
    "history = model.fit(\n",
    "    x_train,\n",
    "    y_train,\n",
    "    batch_size=64,\n",
    "    epochs=20,\n",
    "    # We pass some validation for\n",
    "    # monitoring validation loss and metrics\n",
    "    # at the end of each epoch\n",
    "    validation_data=(x_val, y_val),\n",
    ")"
   ]
  },
  {
   "cell_type": "code",
   "execution_count": 7,
   "metadata": {},
   "outputs": [
    {
     "output_type": "execute_result",
     "data": {
      "text/plain": [
       "{'loss': [0.0674259290099144,\n",
       "  0.0576399601995945,\n",
       "  0.05016695335507393,\n",
       "  0.044076982885599136,\n",
       "  0.03914137929677963,\n",
       "  0.03430519625544548,\n",
       "  0.030326278880238533,\n",
       "  0.026959441602230072,\n",
       "  0.02406676486134529,\n",
       "  0.02176572196185589,\n",
       "  0.01906014233827591,\n",
       "  0.017171714454889297,\n",
       "  0.014753355644643307,\n",
       "  0.014569017104804516,\n",
       "  0.012620543129742146,\n",
       "  0.01075682695955038,\n",
       "  0.010380227118730545,\n",
       "  0.009347370825707912,\n",
       "  0.008720289915800095,\n",
       "  0.007672152481973171],\n",
       " 'sparse_categorical_accuracy': [0.9796000123023987,\n",
       "  0.982200026512146,\n",
       "  0.9849200248718262,\n",
       "  0.986519992351532,\n",
       "  0.9881600141525269,\n",
       "  0.9896799921989441,\n",
       "  0.9910799860954285,\n",
       "  0.9921799898147583,\n",
       "  0.9926000237464905,\n",
       "  0.9938399791717529,\n",
       "  0.994379997253418,\n",
       "  0.9949600100517273,\n",
       "  0.9952999949455261,\n",
       "  0.9953600168228149,\n",
       "  0.9961199760437012,\n",
       "  0.9965999722480774,\n",
       "  0.9967399835586548,\n",
       "  0.9970399737358093,\n",
       "  0.997160017490387,\n",
       "  0.9976800084114075],\n",
       " 'val_loss': [0.103592649102211,\n",
       "  0.1027858555316925,\n",
       "  0.1126776859164238,\n",
       "  0.10991326719522476,\n",
       "  0.11482854187488556,\n",
       "  0.12421982735395432,\n",
       "  0.11098505556583405,\n",
       "  0.1113712415099144,\n",
       "  0.1229729875922203,\n",
       "  0.12753832340240479,\n",
       "  0.142387256026268,\n",
       "  0.1250326931476593,\n",
       "  0.12610778212547302,\n",
       "  0.18678469955921173,\n",
       "  0.14474450051784515,\n",
       "  0.16074007749557495,\n",
       "  0.16167905926704407,\n",
       "  0.17670248448848724,\n",
       "  0.15889255702495575,\n",
       "  0.18273504078388214],\n",
       " 'val_sparse_categorical_accuracy': [0.9732000231742859,\n",
       "  0.9717000126838684,\n",
       "  0.97079998254776,\n",
       "  0.9731000065803528,\n",
       "  0.97079998254776,\n",
       "  0.972100019454956,\n",
       "  0.9733999967575073,\n",
       "  0.9745000004768372,\n",
       "  0.974399983882904,\n",
       "  0.9747999906539917,\n",
       "  0.9735000133514404,\n",
       "  0.9767000079154968,\n",
       "  0.9753000140190125,\n",
       "  0.9664999842643738,\n",
       "  0.9757999777793884,\n",
       "  0.9746999740600586,\n",
       "  0.9740999937057495,\n",
       "  0.9715999960899353,\n",
       "  0.9754999876022339,\n",
       "  0.974399983882904]}"
      ]
     },
     "metadata": {},
     "execution_count": 7
    }
   ],
   "source": [
    "history.history"
   ]
  },
  {
   "cell_type": "code",
   "execution_count": 8,
   "metadata": {},
   "outputs": [
    {
     "output_type": "stream",
     "name": "stdout",
     "text": [
      "Evaluate on test data\n",
      "79/79 [==============================] - 0s 3ms/step - loss: 0.1668 - sparse_categorical_accuracy: 0.9729\n",
      "test loss, test acc: [0.16684752702713013, 0.9728999733924866]\n",
      "Generate predictions for 3 samples\n",
      "predictions shape: (3, 10)\n"
     ]
    }
   ],
   "source": [
    "# Evaluate the model on the test data using `evaluate`\n",
    "print(\"Evaluate on test data\")\n",
    "results = model.evaluate(x_test, y_test, batch_size=128)\n",
    "print(\"test loss, test acc:\", results)\n",
    "\n",
    "# Generate predictions (probabilities -- the output of the last layer)\n",
    "# on new data using `predict`\n",
    "print(\"Generate predictions for 3 samples\")\n",
    "predictions = model.predict(x_test[:3])\n",
    "print(\"predictions shape:\", predictions.shape)"
   ]
  },
  {
   "cell_type": "code",
   "execution_count": null,
   "metadata": {},
   "outputs": [],
   "source": []
  }
 ]
}