{
 "cells": [
  {
   "cell_type": "markdown",
   "metadata": {},
   "source": [
    "### Markov decision process\n",
    "\n",
    "This week's methods are all built to solve __M__arkov __D__ecision __P__rocesses. In the broadest sense, an MDP is defined by how it changes states and how rewards are computed.\n",
    "\n",
    "State transition is defined by $P(s' |s,a)$ - how likely are you to end at state $s'$ if you take action $a$ from state $s$. Now there's more than one way to define rewards, but we'll use $r(s,a,s')$ function for convenience.\n",
    "\n",
    "_This notebook is inspired by the awesome_ [CS294](https://github.com/berkeleydeeprlcourse/homework/blob/36a0b58261acde756abd55306fbe63df226bf62b/hw2/HW2.ipynb) _by Berkeley_"
   ]
  },
  {
   "cell_type": "markdown",
   "metadata": {},
   "source": [
    "For starters, let's define a simple MDP from this picture:\n",
    "\n",
    "<img src=\"https://upload.wikimedia.org/wikipedia/commons/a/ad/Markov_Decision_Process.svg\" width=\"400px\" alt=\"Diagram by Waldoalvarez via Wikimedia Commons, CC BY-SA 4.0\"/>"
   ]
  },
  {
   "cell_type": "code",
   "execution_count": 1,
   "metadata": {},
   "outputs": [
    {
     "output_type": "stream",
     "name": "stderr",
     "text": [
      "/bin/bash: ../xvfb: No such file or directory\n"
     ]
    }
   ],
   "source": [
    "import sys, os\n",
    "if 'google.colab' in sys.modules and not os.path.exists('.setup_complete'):\n",
    "    !wget -q https://raw.githubusercontent.com/yandexdataschool/Practical_RL/master/setup_colab.sh -O- | bash\n",
    "    !wget -q https://raw.githubusercontent.com/yandexdataschool/Practical_RL/master/week02_value_based/mdp.py\n",
    "    !touch .setup_complete\n",
    "\n",
    "# This code creates a virtual display to draw game images on.\n",
    "# It will have no effect if your machine has a monitor.\n",
    "if type(os.environ.get(\"DISPLAY\")) is not str or len(os.environ.get(\"DISPLAY\")) == 0:\n",
    "    !bash ../xvfb start\n",
    "    os.environ['DISPLAY'] = ':1'"
   ]
  },
  {
   "cell_type": "code",
   "execution_count": 2,
   "metadata": {},
   "outputs": [],
   "source": [
    "transition_probs = {\n",
    "    's0': {\n",
    "        'a0': {'s0': 0.5, 's2': 0.5},\n",
    "        'a1': {'s2': 1}\n",
    "    },\n",
    "    's1': {\n",
    "        'a0': {'s0': 0.7, 's1': 0.1, 's2': 0.2},\n",
    "        'a1': {'s1': 0.95, 's2': 0.05}\n",
    "    },\n",
    "    's2': {\n",
    "        'a0': {'s0': 0.4, 's2': 0.6},\n",
    "        'a1': {'s0': 0.3, 's1': 0.3, 's2': 0.4}\n",
    "    }\n",
    "}\n",
    "rewards = {\n",
    "    's1': {'a0': {'s0': +5}},\n",
    "    's2': {'a1': {'s0': -1}}\n",
    "}\n",
    "\n",
    "from mdp import MDP\n",
    "mdp = MDP(transition_probs, rewards, initial_state='s0')"
   ]
  },
  {
   "cell_type": "markdown",
   "metadata": {},
   "source": [
    "We can now use MDP just as any other gym environment:"
   ]
  },
  {
   "cell_type": "code",
   "execution_count": 3,
   "metadata": {},
   "outputs": [
    {
     "output_type": "stream",
     "name": "stdout",
     "text": [
      "initial state = s0\nnext_state = s2, reward = 0.0, done = False\n"
     ]
    }
   ],
   "source": [
    "print('initial state =', mdp.reset())\n",
    "next_state, reward, done, info = mdp.step('a1')\n",
    "print('next_state = %s, reward = %s, done = %s' % (next_state, reward, done))"
   ]
  },
  {
   "cell_type": "markdown",
   "metadata": {},
   "source": [
    "but it also has other methods that you'll need for Value Iteration"
   ]
  },
  {
   "cell_type": "code",
   "execution_count": 4,
   "metadata": {},
   "outputs": [
    {
     "output_type": "stream",
     "name": "stdout",
     "text": [
      "mdp.get_all_states = ('s0', 's1', 's2')\nmdp.get_possible_actions('s1') =  ('a0', 'a1')\nmdp.get_next_states('s1', 'a0') =  {'s0': 0.7, 's1': 0.1, 's2': 0.2}\nmdp.get_reward('s1', 'a0', 's0') =  5\nmdp.get_transition_prob('s1', 'a0', 's0') =  0.7\n"
     ]
    }
   ],
   "source": [
    "print(\"mdp.get_all_states =\", mdp.get_all_states())\n",
    "print(\"mdp.get_possible_actions('s1') = \", mdp.get_possible_actions('s1'))\n",
    "print(\"mdp.get_next_states('s1', 'a0') = \", mdp.get_next_states('s1', 'a0'))\n",
    "print(\"mdp.get_reward('s1', 'a0', 's0') = \", mdp.get_reward('s1', 'a0', 's0'))\n",
    "print(\"mdp.get_transition_prob('s1', 'a0', 's0') = \", mdp.get_transition_prob('s1', 'a0', 's0'))"
   ]
  },
  {
   "cell_type": "markdown",
   "metadata": {},
   "source": [
    "### Optional: Visualizing MDPs\n",
    "\n",
    "You can also visualize any MDP with the drawing fuction donated by [neer201](https://github.com/neer201).\n",
    "\n",
    "You have to install graphviz for system and for python. \n",
    "\n",
    "1. * For ubuntu just run: `sudo apt-get install graphviz` \n",
    "   * For OSX: `brew install graphviz`\n",
    "2. `pip install graphviz`\n",
    "3. restart the notebook\n",
    "\n",
    "__Note:__ Installing graphviz on some OS (esp. Windows) may be tricky. However, you can ignore this part alltogether and use the standart vizualization."
   ]
  },
  {
   "cell_type": "code",
   "execution_count": 5,
   "metadata": {},
   "outputs": [
    {
     "output_type": "stream",
     "name": "stdout",
     "text": [
      "Graphviz available: False\n"
     ]
    }
   ],
   "source": [
    "from mdp import has_graphviz\n",
    "from IPython.display import display\n",
    "print(\"Graphviz available:\", has_graphviz)"
   ]
  },
  {
   "cell_type": "code",
   "execution_count": null,
   "metadata": {},
   "outputs": [
    {
     "data": {
      "image/svg+xml": [
       "<?xml version=\"1.0\" encoding=\"UTF-8\" standalone=\"no\"?>\n",
       "<!DOCTYPE svg PUBLIC \"-//W3C//DTD SVG 1.1//EN\"\n",
       " \"http://www.w3.org/Graphics/SVG/1.1/DTD/svg11.dtd\">\n",
       "<!-- Generated by graphviz version 2.38.0 (20140413.2041)\n",
       " -->\n",
       "<!-- Title: MDP Pages: 1 -->\n",
       "<svg width=\"720pt\" height=\"197pt\"\n",
       " viewBox=\"0.00 0.00 720.00 196.66\" xmlns=\"http://www.w3.org/2000/svg\" xmlns:xlink=\"http://www.w3.org/1999/xlink\">\n",
       "<g id=\"graph0\" class=\"graph\" transform=\"scale(0.704871 0.704871) rotate(0) translate(4 275)\">\n",
       "<title>MDP</title>\n",
       "<polygon fill=\"white\" stroke=\"none\" points=\"-4,4 -4,-275 1017.46,-275 1017.46,4 -4,4\"/>\n",
       "<!-- s0 -->\n",
       "<g id=\"node1\" class=\"node\"><title>s0</title>\n",
       "<ellipse fill=\"lightgreen\" stroke=\"lightgreen\" cx=\"40\" cy=\"-103\" rx=\"36\" ry=\"36\"/>\n",
       "<ellipse fill=\"none\" stroke=\"lightgreen\" cx=\"40\" cy=\"-103\" rx=\"40\" ry=\"40\"/>\n",
       "<text text-anchor=\"middle\" x=\"40\" y=\"-96.8\" font-family=\"Arial\" font-size=\"24.00\">s0</text>\n",
       "</g>\n",
       "<!-- s0&#45;a0 -->\n",
       "<g id=\"node2\" class=\"node\"><title>s0&#45;a0</title>\n",
       "<ellipse fill=\"lightpink\" stroke=\"lightpink\" cx=\"192.577\" cy=\"-147\" rx=\"27.6545\" ry=\"27.6545\"/>\n",
       "<text text-anchor=\"middle\" x=\"192.577\" y=\"-142\" font-family=\"Arial\" font-size=\"20.00\">a0</text>\n",
       "</g>\n",
       "<!-- s0&#45;&gt;s0&#45;a0 -->\n",
       "<g id=\"edge1\" class=\"edge\"><title>s0&#45;&gt;s0&#45;a0</title>\n",
       "<path fill=\"none\" stroke=\"red\" stroke-width=\"2\" d=\"M79.0735,-111.577C99.3931,-116.435 124.733,-122.944 147,-130 150.338,-131.058 153.79,-132.23 157.227,-133.45\"/>\n",
       "<polygon fill=\"red\" stroke=\"red\" stroke-width=\"2\" points=\"156.171,-136.791 166.764,-136.959 158.588,-130.221 156.171,-136.791\"/>\n",
       "</g>\n",
       "<!-- s0&#45;a1 -->\n",
       "<g id=\"node4\" class=\"node\"><title>s0&#45;a1</title>\n",
       "<ellipse fill=\"lightpink\" stroke=\"lightpink\" cx=\"192.577\" cy=\"-220\" rx=\"27.6545\" ry=\"27.6545\"/>\n",
       "<text text-anchor=\"middle\" x=\"192.577\" y=\"-215\" font-family=\"Arial\" font-size=\"20.00\">a1</text>\n",
       "</g>\n",
       "<!-- s0&#45;&gt;s0&#45;a1 -->\n",
       "<g id=\"edge4\" class=\"edge\"><title>s0&#45;&gt;s0&#45;a1</title>\n",
       "<path fill=\"none\" stroke=\"red\" stroke-width=\"2\" d=\"M66.9211,-132.667C76.2366,-142.537 87.136,-153.237 98,-162 117.05,-177.365 140.454,-191.87 159.091,-202.532\"/>\n",
       "<polygon fill=\"red\" stroke=\"red\" stroke-width=\"2\" points=\"157.386,-205.588 167.817,-207.443 160.82,-199.488 157.386,-205.588\"/>\n",
       "</g>\n",
       "<!-- s0&#45;a0&#45;&gt;s0 -->\n",
       "<g id=\"edge2\" class=\"edge\"><title>s0&#45;a0&#45;&gt;s0</title>\n",
       "<path fill=\"none\" stroke=\"blue\" stroke-dasharray=\"5,2\" d=\"M165.016,-142.698C146.094,-139.302 120.188,-133.974 98,-127 94.1908,-125.803 90.2855,-124.447 86.3924,-123.004\"/>\n",
       "<polygon fill=\"blue\" stroke=\"blue\" points=\"87.3907,-119.637 76.802,-119.277 84.8555,-126.161 87.3907,-119.637\"/>\n",
       "<text text-anchor=\"middle\" x=\"122.5\" y=\"-145.2\" font-family=\"Arial\" font-size=\"16.00\">p = 0.5</text>\n",
       "</g>\n",
       "<!-- s2 -->\n",
       "<g id=\"node3\" class=\"node\"><title>s2</title>\n",
       "<ellipse fill=\"lightgreen\" stroke=\"lightgreen\" cx=\"430.154\" cy=\"-159\" rx=\"36\" ry=\"36\"/>\n",
       "<ellipse fill=\"none\" stroke=\"lightgreen\" cx=\"430.154\" cy=\"-159\" rx=\"40\" ry=\"40\"/>\n",
       "<text text-anchor=\"middle\" x=\"430.154\" y=\"-152.8\" font-family=\"Arial\" font-size=\"24.00\">s2</text>\n",
       "</g>\n",
       "<!-- s0&#45;a0&#45;&gt;s2 -->\n",
       "<g id=\"edge3\" class=\"edge\"><title>s0&#45;a0&#45;&gt;s2</title>\n",
       "<path fill=\"none\" stroke=\"blue\" stroke-dasharray=\"5,2\" d=\"M220.143,-148.353C258.819,-150.323 331.305,-154.016 379.91,-156.492\"/>\n",
       "<polygon fill=\"blue\" stroke=\"blue\" points=\"380.036,-160.002 390.201,-157.016 380.392,-153.011 380.036,-160.002\"/>\n",
       "<text text-anchor=\"middle\" x=\"305.154\" y=\"-162.2\" font-family=\"Arial\" font-size=\"16.00\">p = 0.5</text>\n",
       "</g>\n",
       "<!-- s2&#45;a0 -->\n",
       "<g id=\"node8\" class=\"node\"><title>s2&#45;a0</title>\n",
       "<ellipse fill=\"lightpink\" stroke=\"lightpink\" cx=\"662.731\" cy=\"-129\" rx=\"27.6545\" ry=\"27.6545\"/>\n",
       "<text text-anchor=\"middle\" x=\"662.731\" y=\"-124\" font-family=\"Arial\" font-size=\"20.00\">a0</text>\n",
       "</g>\n",
       "<!-- s2&#45;&gt;s2&#45;a0 -->\n",
       "<g id=\"edge13\" class=\"edge\"><title>s2&#45;&gt;s2&#45;a0</title>\n",
       "<path fill=\"none\" stroke=\"red\" stroke-width=\"2\" d=\"M470.375,-158.605C508.288,-157.576 567.173,-154.264 617.154,-144 620.354,-143.343 623.642,-142.525 626.912,-141.613\"/>\n",
       "<polygon fill=\"red\" stroke=\"red\" stroke-width=\"2\" points=\"628.029,-144.931 636.567,-138.658 625.98,-138.238 628.029,-144.931\"/>\n",
       "</g>\n",
       "<!-- s2&#45;a1 -->\n",
       "<g id=\"node9\" class=\"node\"><title>s2&#45;a1</title>\n",
       "<ellipse fill=\"lightpink\" stroke=\"lightpink\" cx=\"662.731\" cy=\"-56\" rx=\"27.6545\" ry=\"27.6545\"/>\n",
       "<text text-anchor=\"middle\" x=\"662.731\" y=\"-51\" font-family=\"Arial\" font-size=\"20.00\">a1</text>\n",
       "</g>\n",
       "<!-- s2&#45;&gt;s2&#45;a1 -->\n",
       "<g id=\"edge16\" class=\"edge\"><title>s2&#45;&gt;s2&#45;a1</title>\n",
       "<path fill=\"none\" stroke=\"red\" stroke-width=\"2\" d=\"M456.579,-128.48C465.696,-119.154 476.6,-109.623 488.154,-103 531.419,-78.2 588.27,-66.0502 624.91,-60.4193\"/>\n",
       "<polygon fill=\"red\" stroke=\"red\" stroke-width=\"2\" points=\"625.742,-63.8353 635.136,-58.9365 624.738,-56.9077 625.742,-63.8353\"/>\n",
       "</g>\n",
       "<!-- s0&#45;a1&#45;&gt;s2 -->\n",
       "<g id=\"edge5\" class=\"edge\"><title>s0&#45;a1&#45;&gt;s2</title>\n",
       "<path fill=\"none\" stroke=\"blue\" stroke-dasharray=\"5,2\" d=\"M219.837,-214.929C254.866,-207.948 318.68,-194.468 372.154,-179 375.531,-178.023 379,-176.96 382.48,-175.848\"/>\n",
       "<polygon fill=\"blue\" stroke=\"blue\" points=\"383.849,-179.082 392.248,-172.624 381.655,-172.435 383.849,-179.082\"/>\n",
       "<text text-anchor=\"middle\" x=\"305.154\" y=\"-216.2\" font-family=\"Arial\" font-size=\"16.00\">p = 1</text>\n",
       "</g>\n",
       "<!-- s1 -->\n",
       "<g id=\"node5\" class=\"node\"><title>s1</title>\n",
       "<ellipse fill=\"lightgreen\" stroke=\"lightgreen\" cx=\"824.309\" cy=\"-106\" rx=\"36\" ry=\"36\"/>\n",
       "<ellipse fill=\"none\" stroke=\"lightgreen\" cx=\"824.309\" cy=\"-106\" rx=\"40\" ry=\"40\"/>\n",
       "<text text-anchor=\"middle\" x=\"824.309\" y=\"-99.8\" font-family=\"Arial\" font-size=\"24.00\">s1</text>\n",
       "</g>\n",
       "<!-- s1&#45;a0 -->\n",
       "<g id=\"node6\" class=\"node\"><title>s1&#45;a0</title>\n",
       "<ellipse fill=\"lightpink\" stroke=\"lightpink\" cx=\"985.886\" cy=\"-70\" rx=\"27.6545\" ry=\"27.6545\"/>\n",
       "<text text-anchor=\"middle\" x=\"985.886\" y=\"-65\" font-family=\"Arial\" font-size=\"20.00\">a0</text>\n",
       "</g>\n",
       "<!-- s1&#45;&gt;s1&#45;a0 -->\n",
       "<g id=\"edge6\" class=\"edge\"><title>s1&#45;&gt;s1&#45;a0</title>\n",
       "<path fill=\"none\" stroke=\"red\" stroke-width=\"2\" d=\"M863.531,-97.3771C889.464,-91.5267 923.525,-83.8428 948.959,-78.105\"/>\n",
       "<polygon fill=\"red\" stroke=\"red\" stroke-width=\"2\" points=\"949.952,-81.469 958.936,-75.8541 948.411,-74.6406 949.952,-81.469\"/>\n",
       "</g>\n",
       "<!-- s1&#45;a1 -->\n",
       "<g id=\"node7\" class=\"node\"><title>s1&#45;a1</title>\n",
       "<ellipse fill=\"lightpink\" stroke=\"lightpink\" cx=\"985.886\" cy=\"-152\" rx=\"27.6545\" ry=\"27.6545\"/>\n",
       "<text text-anchor=\"middle\" x=\"985.886\" y=\"-147\" font-family=\"Arial\" font-size=\"20.00\">a1</text>\n",
       "</g>\n",
       "<!-- s1&#45;&gt;s1&#45;a1 -->\n",
       "<g id=\"edge10\" class=\"edge\"><title>s1&#45;&gt;s1&#45;a1</title>\n",
       "<path fill=\"none\" stroke=\"red\" stroke-width=\"2\" d=\"M863.837,-113.312C886.389,-118.021 915.267,-124.791 940.309,-133 943.876,-134.169 947.554,-135.508 951.196,-136.922\"/>\n",
       "<polygon fill=\"red\" stroke=\"red\" stroke-width=\"2\" points=\"950.07,-140.243 960.651,-140.775 952.712,-133.76 950.07,-140.243\"/>\n",
       "</g>\n",
       "<!-- s1&#45;a0&#45;&gt;s0 -->\n",
       "<g id=\"edge7\" class=\"edge\"><title>s1&#45;a0&#45;&gt;s0</title>\n",
       "<path fill=\"none\" stroke=\"blue\" stroke-dasharray=\"5,2\" d=\"M963.474,-53.7646C934.012,-33.0859 878.553,-0 825.309,-0 191.577,-0 191.577,-0 191.577,-0 144.186,-0 100.753,-35.1875 72.8408,-64.4291\"/>\n",
       "<polygon fill=\"blue\" stroke=\"blue\" points=\"69.9662,-62.382 65.7381,-72.0966 75.1015,-67.139 69.9662,-62.382\"/>\n",
       "<text text-anchor=\"middle\" x=\"552.654\" y=\"-5.2\" font-family=\"Arial\" font-size=\"16.00\">p = 0.7 &#160;reward =5</text>\n",
       "</g>\n",
       "<!-- s1&#45;a0&#45;&gt;s2 -->\n",
       "<g id=\"edge9\" class=\"edge\"><title>s1&#45;a0&#45;&gt;s2</title>\n",
       "<path fill=\"none\" stroke=\"blue\" stroke-dasharray=\"5,2\" d=\"M970.179,-92.8767C966.041,-99.8269 961.738,-107.589 958.309,-115 948.039,-137.196 960.231,-152.814 940.309,-167 867.594,-218.778 592.763,-183.887 479.943,-166.845\"/>\n",
       "<polygon fill=\"blue\" stroke=\"blue\" points=\"480.276,-163.355 469.862,-165.304 479.218,-170.275 480.276,-163.355\"/>\n",
       "<text text-anchor=\"middle\" x=\"737.309\" y=\"-200.2\" font-family=\"Arial\" font-size=\"16.00\">p = 0.2</text>\n",
       "</g>\n",
       "<!-- s1&#45;a0&#45;&gt;s1 -->\n",
       "<g id=\"edge8\" class=\"edge\"><title>s1&#45;a0&#45;&gt;s1</title>\n",
       "<path fill=\"none\" stroke=\"blue\" stroke-dasharray=\"5,2\" d=\"M959.695,-61.2337C938.465,-55.2571 907.594,-49.9199 882.309,-59 874.67,-61.7432 867.325,-66.0021 860.594,-70.8598\"/>\n",
       "<polygon fill=\"blue\" stroke=\"blue\" points=\"858.135,-68.3406 852.423,-77.264 862.453,-73.8502 858.135,-68.3406\"/>\n",
       "<text text-anchor=\"middle\" x=\"911.309\" y=\"-64.2\" font-family=\"Arial\" font-size=\"16.00\">p = 0.1</text>\n",
       "</g>\n",
       "<!-- s1&#45;a1&#45;&gt;s2 -->\n",
       "<g id=\"edge12\" class=\"edge\"><title>s1&#45;a1&#45;&gt;s2</title>\n",
       "<path fill=\"none\" stroke=\"blue\" stroke-dasharray=\"5,2\" d=\"M969.759,-174.512C962.133,-183.877 952.013,-193.769 940.309,-199 756.84,-280.995 679.08,-261.7 488.154,-199 481.749,-196.897 475.43,-193.811 469.463,-190.272\"/>\n",
       "<polygon fill=\"blue\" stroke=\"blue\" points=\"471.306,-187.296 461.003,-184.823 467.515,-193.181 471.306,-187.296\"/>\n",
       "<text text-anchor=\"middle\" x=\"737.309\" y=\"-258.2\" font-family=\"Arial\" font-size=\"16.00\">p = 0.05</text>\n",
       "</g>\n",
       "<!-- s1&#45;a1&#45;&gt;s1 -->\n",
       "<g id=\"edge11\" class=\"edge\"><title>s1&#45;a1&#45;&gt;s1</title>\n",
       "<path fill=\"none\" stroke=\"blue\" stroke-dasharray=\"5,2\" d=\"M958.394,-147.727C937.471,-144.016 907.674,-137.983 882.309,-130 878.5,-128.801 874.595,-127.444 870.702,-126.001\"/>\n",
       "<polygon fill=\"blue\" stroke=\"blue\" points=\"871.701,-122.634 861.112,-122.273 869.165,-129.158 871.701,-122.634\"/>\n",
       "<text text-anchor=\"middle\" x=\"911.309\" y=\"-150.2\" font-family=\"Arial\" font-size=\"16.00\">p = 0.95</text>\n",
       "</g>\n",
       "<!-- s2&#45;a0&#45;&gt;s0 -->\n",
       "<g id=\"edge14\" class=\"edge\"><title>s2&#45;a0&#45;&gt;s0</title>\n",
       "<path fill=\"none\" stroke=\"blue\" stroke-dasharray=\"5,2\" d=\"M639.021,-114.018C632.261,-110.335 624.651,-106.904 617.154,-105 427.072,-56.7313 190.201,-81.2241 89.7024,-95.3394\"/>\n",
       "<polygon fill=\"blue\" stroke=\"blue\" points=\"88.9547,-91.9108 79.5531,-96.7954 89.9488,-98.8398 88.9547,-91.9108\"/>\n",
       "<text text-anchor=\"middle\" x=\"305.154\" y=\"-86.2\" font-family=\"Arial\" font-size=\"16.00\">p = 0.4</text>\n",
       "</g>\n",
       "<!-- s2&#45;a0&#45;&gt;s1 -->\n",
       "<g id=\"edge15\" class=\"edge\"><title>s2&#45;a0&#45;&gt;s1</title>\n",
       "<path fill=\"none\" stroke=\"blue\" stroke-dasharray=\"5,2\" d=\"M690.082,-125.202C713.025,-121.895 746.878,-117.016 774.717,-113.004\"/>\n",
       "<polygon fill=\"blue\" stroke=\"blue\" points=\"775.272,-116.46 784.67,-111.569 774.273,-109.531 775.272,-116.46\"/>\n",
       "<text text-anchor=\"middle\" x=\"737.309\" y=\"-128.2\" font-family=\"Arial\" font-size=\"16.00\">p = 0.6</text>\n",
       "</g>\n",
       "<!-- s2&#45;a1&#45;&gt;s0 -->\n",
       "<g id=\"edge17\" class=\"edge\"><title>s2&#45;a1&#45;&gt;s0</title>\n",
       "<path fill=\"none\" stroke=\"blue\" stroke-dasharray=\"5,2\" d=\"M634.867,-53.9388C567.736,-49.2213 387.339,-39.2124 238.154,-55 185.836,-60.5367 127.463,-75.9491 87.9054,-87.8304\"/>\n",
       "<polygon fill=\"blue\" stroke=\"blue\" points=\"86.8144,-84.5039 78.2688,-90.7669 88.8548,-91.1999 86.8144,-84.5039\"/>\n",
       "<text text-anchor=\"middle\" x=\"305.154\" y=\"-60.2\" font-family=\"Arial\" font-size=\"16.00\">p = 0.3 &#160;reward =&#45;1</text>\n",
       "</g>\n",
       "<!-- s2&#45;a1&#45;&gt;s2 -->\n",
       "<g id=\"edge19\" class=\"edge\"><title>s2&#45;a1&#45;&gt;s2</title>\n",
       "<path fill=\"none\" stroke=\"blue\" stroke-dasharray=\"5,2\" d=\"M644.001,-76.5595C636.457,-84.0842 627.104,-91.9769 617.154,-97 565.021,-123.32 542.31,-100.144 488.154,-122 482.617,-124.235 477.042,-127.032 471.66,-130.082\"/>\n",
       "<polygon fill=\"blue\" stroke=\"blue\" points=\"469.588,-127.243 462.825,-135.398 473.198,-133.241 469.588,-127.243\"/>\n",
       "<text text-anchor=\"middle\" x=\"552.654\" y=\"-127.2\" font-family=\"Arial\" font-size=\"16.00\">p = 0.4</text>\n",
       "</g>\n",
       "<!-- s2&#45;a1&#45;&gt;s1 -->\n",
       "<g id=\"edge18\" class=\"edge\"><title>s2&#45;a1&#45;&gt;s1</title>\n",
       "<path fill=\"none\" stroke=\"blue\" stroke-dasharray=\"5,2\" d=\"M689.37,-64.0334C712.698,-71.3427 747.719,-82.3157 776.1,-91.2083\"/>\n",
       "<polygon fill=\"blue\" stroke=\"blue\" points=\"775.243,-94.6074 785.832,-94.2575 777.336,-87.9276 775.243,-94.6074\"/>\n",
       "<text text-anchor=\"middle\" x=\"737.309\" y=\"-92.2\" font-family=\"Arial\" font-size=\"16.00\">p = 0.3</text>\n",
       "</g>\n",
       "</g>\n",
       "</svg>\n"
      ],
      "text/plain": [
       "<graphviz.dot.Digraph at 0x7f729b9db7b8>"
      ]
     },
     "metadata": {},
     "output_type": "display_data"
    }
   ],
   "source": [
    "if has_graphviz:\n",
    "    from mdp import plot_graph, plot_graph_with_state_values, plot_graph_optimal_strategy_and_state_values\n",
    "    display(plot_graph(mdp))"
   ]
  },
  {
   "cell_type": "markdown",
   "metadata": {},
   "source": [
    "### Value Iteration\n",
    "\n",
    "Now let's build something to solve this MDP. The simplest algorithm so far is __V__alue __I__teration\n",
    "\n",
    "Here's the pseudo-code for VI:\n",
    "\n",
    "---\n",
    "\n",
    "`1.` Initialize $V^{(0)}(s)=0$, for all $s$\n",
    "\n",
    "`2.` For $i=0, 1, 2, \\dots$\n",
    " \n",
    "`3.` $ \\quad V_{(i+1)}(s) = \\max_a \\sum_{s'} P(s' | s,a) \\cdot [ r(s,a,s') + \\gamma V_{i}(s')]$, for all $s$\n",
    "\n",
    "---"
   ]
  },
  {
   "cell_type": "markdown",
   "metadata": {},
   "source": [
    "First, let's write a function to compute the state-action value function $Q^{\\pi}$, defined as follows\n",
    "\n",
    "$$Q_i(s, a) = \\sum_{s'} P(s' | s,a) \\cdot [ r(s,a,s') + \\gamma V_{i}(s')]$$\n"
   ]
  },
  {
   "cell_type": "code",
   "execution_count": 6,
   "metadata": {},
   "outputs": [],
   "source": [
    "def get_action_value(mdp, state_values, state, action, gamma):\n",
    "    \"\"\" Computes Q(s,a) as in formula above \"\"\"\n",
    "\n",
    "    sum = 0\n",
    "    fut_states = mdp.get_next_states(state,action)\n",
    "\n",
    "    for i in fut_states.keys():\n",
    "        sum+= fut_states[i]*(mdp.get_reward(state,action,i) + gamma*state_values[i])\n",
    "\n",
    "    return sum"
   ]
  },
  {
   "cell_type": "code",
   "execution_count": 7,
   "metadata": {},
   "outputs": [],
   "source": [
    "import numpy as np\n",
    "test_Vs = {s: i for i, s in enumerate(sorted(mdp.get_all_states()))}\n",
    "assert np.isclose(get_action_value(mdp, test_Vs, 's2', 'a1', 0.9), 0.69)\n",
    "assert np.isclose(get_action_value(mdp, test_Vs, 's1', 'a0', 0.9), 3.95)"
   ]
  },
  {
   "cell_type": "markdown",
   "metadata": {},
   "source": [
    "Using $Q(s,a)$ we can now define the \"next\" V(s) for value iteration.\n",
    " $$V_{(i+1)}(s) = \\max_a \\sum_{s'} P(s' | s,a) \\cdot [ r(s,a,s') + \\gamma V_{i}(s')] = \\max_a Q_i(s,a)$$"
   ]
  },
  {
   "cell_type": "code",
   "execution_count": 8,
   "metadata": {},
   "outputs": [],
   "source": [
    "def get_new_state_value(mdp, state_values, state, gamma):\n",
    "    \"\"\" Computes next V(s) as in formula above. Please do not change state_values in process. \"\"\"\n",
    "    if mdp.is_terminal(state):\n",
    "        return 0\n",
    "\n",
    "    max = -1350000000000\n",
    "\n",
    "    for i in mdp.get_possible_actions(state):\n",
    "        val = get_action_value(mdp, state_values,state,i,gamma)\n",
    "        if max < val:\n",
    "            max = val\n",
    "    \n",
    "    return max"
   ]
  },
  {
   "cell_type": "code",
   "execution_count": 9,
   "metadata": {},
   "outputs": [],
   "source": [
    "test_Vs_copy = dict(test_Vs)\n",
    "assert np.isclose(get_new_state_value(mdp, test_Vs, 's0', 0.9), 1.8)\n",
    "assert np.isclose(get_new_state_value(mdp, test_Vs, 's2', 0.9), 1.08)\n",
    "assert np.isclose(get_new_state_value(mdp, {'s0': -1e10, 's1': 0, 's2': -2e10}, 's0', 0.9), -13500000000.0), \\\n",
    "    \"Please ensure that you handle negative Q-values of arbitrary magnitude correctly\"\n",
    "assert test_Vs == test_Vs_copy, \"Please do not change state_values in get_new_state_value\""
   ]
  },
  {
   "cell_type": "markdown",
   "metadata": {},
   "source": [
    "Finally, let's combine everything we wrote into a working value iteration algo."
   ]
  },
  {
   "cell_type": "code",
   "execution_count": 10,
   "metadata": {},
   "outputs": [
    {
     "output_type": "stream",
     "name": "stdout",
     "text": [
      "iter    0   |   diff: 3.50000   |   V(s0) = 0.000   V(s1) = 0.000   V(s2) = 0.000\niter    1   |   diff: 0.64500   |   V(s0) = 0.000   V(s1) = 3.500   V(s2) = 0.000\niter    2   |   diff: 0.58050   |   V(s0) = 0.000   V(s1) = 3.815   V(s2) = 0.645\niter    3   |   diff: 0.43582   |   V(s0) = 0.581   V(s1) = 3.959   V(s2) = 0.962\niter    4   |   diff: 0.30634   |   V(s0) = 0.866   V(s1) = 4.395   V(s2) = 1.272\niter    5   |   diff: 0.27571   |   V(s0) = 1.145   V(s1) = 4.670   V(s2) = 1.579\niter    6   |   diff: 0.24347   |   V(s0) = 1.421   V(s1) = 4.926   V(s2) = 1.838\niter    7   |   diff: 0.21419   |   V(s0) = 1.655   V(s1) = 5.169   V(s2) = 2.075\niter    8   |   diff: 0.19277   |   V(s0) = 1.868   V(s1) = 5.381   V(s2) = 2.290\niter    9   |   diff: 0.17327   |   V(s0) = 2.061   V(s1) = 5.573   V(s2) = 2.481\niter   10   |   diff: 0.15569   |   V(s0) = 2.233   V(s1) = 5.746   V(s2) = 2.654\niter   11   |   diff: 0.14012   |   V(s0) = 2.389   V(s1) = 5.902   V(s2) = 2.810\niter   12   |   diff: 0.12610   |   V(s0) = 2.529   V(s1) = 6.042   V(s2) = 2.950\niter   13   |   diff: 0.11348   |   V(s0) = 2.655   V(s1) = 6.168   V(s2) = 3.076\niter   14   |   diff: 0.10213   |   V(s0) = 2.769   V(s1) = 6.282   V(s2) = 3.190\niter   15   |   diff: 0.09192   |   V(s0) = 2.871   V(s1) = 6.384   V(s2) = 3.292\niter   16   |   diff: 0.08272   |   V(s0) = 2.963   V(s1) = 6.476   V(s2) = 3.384\niter   17   |   diff: 0.07445   |   V(s0) = 3.045   V(s1) = 6.558   V(s2) = 3.467\niter   18   |   diff: 0.06701   |   V(s0) = 3.120   V(s1) = 6.633   V(s2) = 3.541\niter   19   |   diff: 0.06031   |   V(s0) = 3.187   V(s1) = 6.700   V(s2) = 3.608\niter   20   |   diff: 0.05428   |   V(s0) = 3.247   V(s1) = 6.760   V(s2) = 3.668\niter   21   |   diff: 0.04885   |   V(s0) = 3.301   V(s1) = 6.814   V(s2) = 3.723\niter   22   |   diff: 0.04396   |   V(s0) = 3.350   V(s1) = 6.863   V(s2) = 3.771\niter   23   |   diff: 0.03957   |   V(s0) = 3.394   V(s1) = 6.907   V(s2) = 3.815\niter   24   |   diff: 0.03561   |   V(s0) = 3.434   V(s1) = 6.947   V(s2) = 3.855\niter   25   |   diff: 0.03205   |   V(s0) = 3.469   V(s1) = 6.982   V(s2) = 3.891\niter   26   |   diff: 0.02884   |   V(s0) = 3.502   V(s1) = 7.014   V(s2) = 3.923\niter   27   |   diff: 0.02596   |   V(s0) = 3.530   V(s1) = 7.043   V(s2) = 3.951\niter   28   |   diff: 0.02336   |   V(s0) = 3.556   V(s1) = 7.069   V(s2) = 3.977\niter   29   |   diff: 0.02103   |   V(s0) = 3.580   V(s1) = 7.093   V(s2) = 4.001\niter   30   |   diff: 0.01892   |   V(s0) = 3.601   V(s1) = 7.114   V(s2) = 4.022\niter   31   |   diff: 0.01703   |   V(s0) = 3.620   V(s1) = 7.133   V(s2) = 4.041\niter   32   |   diff: 0.01533   |   V(s0) = 3.637   V(s1) = 7.150   V(s2) = 4.058\niter   33   |   diff: 0.01380   |   V(s0) = 3.652   V(s1) = 7.165   V(s2) = 4.073\niter   34   |   diff: 0.01242   |   V(s0) = 3.666   V(s1) = 7.179   V(s2) = 4.087\niter   35   |   diff: 0.01117   |   V(s0) = 3.678   V(s1) = 7.191   V(s2) = 4.099\niter   36   |   diff: 0.01006   |   V(s0) = 3.689   V(s1) = 7.202   V(s2) = 4.110\niter   37   |   diff: 0.00905   |   V(s0) = 3.699   V(s1) = 7.212   V(s2) = 4.121\niter   38   |   diff: 0.00815   |   V(s0) = 3.708   V(s1) = 7.221   V(s2) = 4.130\niter   39   |   diff: 0.00733   |   V(s0) = 3.717   V(s1) = 7.230   V(s2) = 4.138\niter   40   |   diff: 0.00660   |   V(s0) = 3.724   V(s1) = 7.237   V(s2) = 4.145\niter   41   |   diff: 0.00594   |   V(s0) = 3.731   V(s1) = 7.244   V(s2) = 4.152\niter   42   |   diff: 0.00534   |   V(s0) = 3.736   V(s1) = 7.249   V(s2) = 4.158\niter   43   |   diff: 0.00481   |   V(s0) = 3.742   V(s1) = 7.255   V(s2) = 4.163\niter   44   |   diff: 0.00433   |   V(s0) = 3.747   V(s1) = 7.260   V(s2) = 4.168\niter   45   |   diff: 0.00390   |   V(s0) = 3.751   V(s1) = 7.264   V(s2) = 4.172\niter   46   |   diff: 0.00351   |   V(s0) = 3.755   V(s1) = 7.268   V(s2) = 4.176\niter   47   |   diff: 0.00316   |   V(s0) = 3.758   V(s1) = 7.271   V(s2) = 4.179\niter   48   |   diff: 0.00284   |   V(s0) = 3.762   V(s1) = 7.275   V(s2) = 4.183\niter   49   |   diff: 0.00256   |   V(s0) = 3.764   V(s1) = 7.277   V(s2) = 4.185\niter   50   |   diff: 0.00230   |   V(s0) = 3.767   V(s1) = 7.280   V(s2) = 4.188\niter   51   |   diff: 0.00207   |   V(s0) = 3.769   V(s1) = 7.282   V(s2) = 4.190\niter   52   |   diff: 0.00186   |   V(s0) = 3.771   V(s1) = 7.284   V(s2) = 4.192\niter   53   |   diff: 0.00168   |   V(s0) = 3.773   V(s1) = 7.286   V(s2) = 4.194\niter   54   |   diff: 0.00151   |   V(s0) = 3.775   V(s1) = 7.288   V(s2) = 4.196\niter   55   |   diff: 0.00136   |   V(s0) = 3.776   V(s1) = 7.289   V(s2) = 4.197\niter   56   |   diff: 0.00122   |   V(s0) = 3.778   V(s1) = 7.291   V(s2) = 4.199\niter   57   |   diff: 0.00110   |   V(s0) = 3.779   V(s1) = 7.292   V(s2) = 4.200\niter   58   |   diff: 0.00099   |   V(s0) = 3.780   V(s1) = 7.293   V(s2) = 4.201\nTerminated\n"
     ]
    }
   ],
   "source": [
    "# parameters\n",
    "gamma = 0.9            # discount for MDP\n",
    "num_iter = 100         # maximum iterations, excluding initialization\n",
    "# stop VI if new values are this close to old values (or closer)\n",
    "min_difference = 0.001\n",
    "\n",
    "# initialize V(s)\n",
    "state_values = {s: 0 for s in mdp.get_all_states()}\n",
    "\n",
    "if has_graphviz:\n",
    "    display(plot_graph_with_state_values(mdp, state_values))\n",
    "\n",
    "for i in range(num_iter):\n",
    "\n",
    "    # Compute new state values using the functions you defined above.\n",
    "    # It must be a dict {state : float V_new(state)}\n",
    "    new_state_values = {s: get_new_state_value(mdp,state_values,s,gamma) for s in mdp.get_all_states()}\n",
    "\n",
    "    assert isinstance(new_state_values, dict)\n",
    "\n",
    "    # Compute difference\n",
    "    diff = max(abs(new_state_values[s] - state_values[s])\n",
    "               for s in mdp.get_all_states())\n",
    "    print(\"iter %4i   |   diff: %6.5f   |   \" % (i, diff), end=\"\")\n",
    "    print('   '.join(\"V(%s) = %.3f\" % (s, v) for s, v in state_values.items()))\n",
    "    state_values = new_state_values\n",
    "\n",
    "    if diff < min_difference:\n",
    "        print(\"Terminated\")\n",
    "        break"
   ]
  },
  {
   "cell_type": "code",
   "execution_count": 11,
   "metadata": {},
   "outputs": [],
   "source": [
    "if has_graphviz:\n",
    "    display(plot_graph_with_state_values(mdp, state_values))"
   ]
  },
  {
   "cell_type": "code",
   "execution_count": 12,
   "metadata": {},
   "outputs": [
    {
     "output_type": "stream",
     "name": "stdout",
     "text": [
      "Final state values: {'s0': 3.7810348735476405, 's1': 7.294006423867229, 's2': 4.202140275227048}\n"
     ]
    }
   ],
   "source": [
    "print(\"Final state values:\", state_values)\n",
    "\n",
    "assert abs(state_values['s0'] - 3.781) < 0.01\n",
    "assert abs(state_values['s1'] - 7.294) < 0.01\n",
    "assert abs(state_values['s2'] - 4.202) < 0.01"
   ]
  },
  {
   "cell_type": "markdown",
   "metadata": {},
   "source": [
    "Now let's use those $V^{*}(s)$ to find optimal actions in each state\n",
    "\n",
    " $$\\pi^*(s) = argmax_a \\sum_{s'} P(s' | s,a) \\cdot [ r(s,a,s') + \\gamma V_{i}(s')] = argmax_a Q_i(s,a)$$\n",
    " \n",
    "The only difference vs V(s) is that here we take not max but argmax: find action such with maximum Q(s,a)."
   ]
  },
  {
   "cell_type": "code",
   "execution_count": 16,
   "metadata": {},
   "outputs": [],
   "source": [
    "def get_optimal_action(mdp, state_values, state, gamma=0.9):\n",
    "    \"\"\" Finds optimal action using formula above. \"\"\"\n",
    "    if mdp.is_terminal(state):\n",
    "        return None\n",
    "    \n",
    "    action = \"\"\n",
    "    value = -100000000000000\n",
    "\n",
    "    for i in mdp.get_possible_actions(state):\n",
    "        val = get_action_value(mdp, state_values, state, i,gamma)\n",
    "        if value < val:\n",
    "            action = i\n",
    "            value = val\n",
    "\n",
    "    return action"
   ]
  },
  {
   "cell_type": "code",
   "execution_count": 17,
   "metadata": {},
   "outputs": [],
   "source": [
    "assert get_optimal_action(mdp, state_values, 's0', gamma) == 'a1'\n",
    "assert get_optimal_action(mdp, state_values, 's1', gamma) == 'a0'\n",
    "assert get_optimal_action(mdp, state_values, 's2', gamma) == 'a1'\n",
    "\n",
    "assert get_optimal_action(mdp, {'s0': -1e10, 's1': 0, 's2': -2e10}, 's0', 0.9) == 'a0', \\\n",
    "    \"Please ensure that you handle negative Q-values of arbitrary magnitude correctly\"\n",
    "assert get_optimal_action(mdp, {'s0': -2e10, 's1': 0, 's2': -1e10}, 's0', 0.9) == 'a1', \\\n",
    "    \"Please ensure that you handle negative Q-values of arbitrary magnitude correctly\""
   ]
  },
  {
   "cell_type": "code",
   "execution_count": 18,
   "metadata": {},
   "outputs": [],
   "source": [
    "if has_graphviz:\n",
    "    display(plot_graph_optimal_strategy_and_state_values(mdp, state_values, get_action_value))"
   ]
  },
  {
   "cell_type": "code",
   "execution_count": 19,
   "metadata": {},
   "outputs": [
    {
     "output_type": "stream",
     "name": "stdout",
     "text": [
      "average reward:  0.4657\n"
     ]
    }
   ],
   "source": [
    "# Measure agent's average reward\n",
    "\n",
    "s = mdp.reset()\n",
    "rewards = []\n",
    "for _ in range(10000):\n",
    "    s, r, done, _ = mdp.step(get_optimal_action(mdp, state_values, s, gamma))\n",
    "    rewards.append(r)\n",
    "\n",
    "print(\"average reward: \", np.mean(rewards))\n",
    "\n",
    "assert(0.40 < np.mean(rewards) < 0.55)"
   ]
  },
  {
   "cell_type": "markdown",
   "metadata": {},
   "source": [
    "### Frozen lake"
   ]
  },
  {
   "cell_type": "code",
   "execution_count": 20,
   "metadata": {},
   "outputs": [
    {
     "output_type": "stream",
     "name": "stdout",
     "text": [
      "*FFF\nFHFH\nFFFH\nHFFG\n\n"
     ]
    }
   ],
   "source": [
    "from mdp import FrozenLakeEnv\n",
    "mdp = FrozenLakeEnv(slip_chance=0)\n",
    "\n",
    "mdp.render()"
   ]
  },
  {
   "cell_type": "code",
   "execution_count": 22,
   "metadata": {},
   "outputs": [],
   "source": [
    "def value_iteration(mdp, state_values=None, gamma=0.9, num_iter=1000, min_difference=1e-5):\n",
    "    \"\"\" performs num_iter value iteration steps starting from state_values. Same as before but in a function \"\"\"\n",
    "    state_values = state_values or {s: 0 for s in mdp.get_all_states()}\n",
    "    for i in range(num_iter):\n",
    "\n",
    "        # Compute new state values using the functions you defined above. It must be a dict {state : new_V(state)}\n",
    "        new_state_values = {s: get_new_state_value(mdp,state_values,s,gamma) for s in mdp.get_all_states()}\n",
    "\n",
    "        assert isinstance(new_state_values, dict)\n",
    "\n",
    "        # Compute difference\n",
    "        diff = max(abs(new_state_values[s] - state_values[s])\n",
    "                   for s in mdp.get_all_states())\n",
    "\n",
    "        print(\"iter %4i   |   diff: %6.5f   |   V(start): %.3f \" %\n",
    "              (i, diff, new_state_values[mdp._initial_state]))\n",
    "\n",
    "        state_values = new_state_values\n",
    "        if diff < min_difference:\n",
    "            break\n",
    "\n",
    "    return state_values"
   ]
  },
  {
   "cell_type": "code",
   "execution_count": 23,
   "metadata": {},
   "outputs": [
    {
     "output_type": "stream",
     "name": "stdout",
     "text": [
      "iter    0   |   diff: 1.00000   |   V(start): 0.000 \niter    1   |   diff: 0.90000   |   V(start): 0.000 \niter    2   |   diff: 0.81000   |   V(start): 0.000 \niter    3   |   diff: 0.72900   |   V(start): 0.000 \niter    4   |   diff: 0.65610   |   V(start): 0.000 \niter    5   |   diff: 0.59049   |   V(start): 0.590 \niter    6   |   diff: 0.00000   |   V(start): 0.590 \n"
     ]
    }
   ],
   "source": [
    "state_values = value_iteration(mdp)"
   ]
  },
  {
   "cell_type": "code",
   "execution_count": 24,
   "metadata": {},
   "outputs": [
    {
     "output_type": "stream",
     "name": "stdout",
     "text": [
      "*FFF\nFHFH\nFFFH\nHFFG\n\ndown\n\nSFFF\n*HFH\nFFFH\nHFFG\n\ndown\n\nSFFF\nFHFH\n*FFH\nHFFG\n\nright\n\nSFFF\nFHFH\nF*FH\nHFFG\n\ndown\n\nSFFF\nFHFH\nFFFH\nH*FG\n\nright\n\nSFFF\nFHFH\nFFFH\nHF*G\n\nright\n\nSFFF\nFHFH\nFFFH\nHFF*\n\n"
     ]
    }
   ],
   "source": [
    "s = mdp.reset()\n",
    "mdp.render()\n",
    "for t in range(100):\n",
    "    a = get_optimal_action(mdp, state_values, s, gamma)\n",
    "    print(a, end='\\n\\n')\n",
    "    s, r, done, _ = mdp.step(a)\n",
    "    mdp.render()\n",
    "    if done:\n",
    "        break"
   ]
  },
  {
   "cell_type": "markdown",
   "metadata": {},
   "source": [
    "### Let's visualize!\n",
    "\n",
    "It's usually interesting to see what your algorithm actually learned under the hood. To do so, we'll plot state value functions and optimal actions at each VI step."
   ]
  },
  {
   "cell_type": "code",
   "execution_count": 29,
   "metadata": {},
   "outputs": [],
   "source": [
    "import matplotlib.pyplot as plt\n",
    "%matplotlib inline\n",
    "\n",
    "\n",
    "def draw_policy(mdp, state_values):\n",
    "    plt.figure(figsize=(3, 3))\n",
    "    h, w = mdp.desc.shape\n",
    "    states = sorted(mdp.get_all_states())\n",
    "    V = np.array([state_values[s] for s in states])\n",
    "    Pi = {s: get_optimal_action(mdp, state_values, s, gamma) for s in states}\n",
    "    plt.imshow(V.reshape(w, h), cmap='gray', interpolation='none', clim=(0, 1))\n",
    "    ax = plt.gca()\n",
    "    ax.set_xticks(np.arange(h)-.5)\n",
    "    ax.set_yticks(np.arange(w)-.5)\n",
    "    ax.set_xticklabels([])\n",
    "    ax.set_yticklabels([])\n",
    "    Y, X = np.mgrid[0:4, 0:4]\n",
    "    a2uv = {'left': (-1, 0), 'down': (0, -1), 'right': (1, 0), 'up': (0, 1)}\n",
    "    for y in range(h):\n",
    "        for x in range(w):\n",
    "            plt.text(x, y, str(mdp.desc[y, x].item()),\n",
    "                     color='g', size=12,  verticalalignment='center',\n",
    "                     horizontalalignment='center', fontweight='bold')\n",
    "            a = Pi[y, x]\n",
    "            if a is None:\n",
    "                continue\n",
    "            u, v = a2uv[a]\n",
    "            plt.arrow(x, y, u*.3, -v*.3, color='m',\n",
    "                      head_width=0.1, head_length=0.1)\n",
    "    plt.grid(color='b', lw=2, ls='-')\n",
    "    plt.show()"
   ]
  },
  {
   "cell_type": "code",
   "execution_count": 30,
   "metadata": {},
   "outputs": [
    {
     "output_type": "stream",
     "name": "stdout",
     "text": [
      "after iteration 0\niter    0   |   diff: 1.00000   |   V(start): 0.000 \n"
     ]
    },
    {
     "output_type": "display_data",
     "data": {
      "text/plain": "<Figure size 216x216 with 1 Axes>",
      "image/svg+xml": "<?xml version=\"1.0\" encoding=\"utf-8\" standalone=\"no\"?>\r\n<!DOCTYPE svg PUBLIC \"-//W3C//DTD SVG 1.1//EN\"\r\n  \"http://www.w3.org/Graphics/SVG/1.1/DTD/svg11.dtd\">\r\n<svg height=\"180.98pt\" version=\"1.1\" viewBox=\"0 0 180.98 180.98\" width=\"180.98pt\" xmlns=\"http://www.w3.org/2000/svg\" xmlns:xlink=\"http://www.w3.org/1999/xlink\">\r\n <metadata>\r\n  <rdf:RDF xmlns:cc=\"http://creativecommons.org/ns#\" xmlns:dc=\"http://purl.org/dc/elements/1.1/\" xmlns:rdf=\"http://www.w3.org/1999/02/22-rdf-syntax-ns#\">\r\n   <cc:Work>\r\n    <dc:type rdf:resource=\"http://purl.org/dc/dcmitype/StillImage\"/>\r\n    <dc:date>2021-06-03T00:12:15.892382</dc:date>\r\n    <dc:format>image/svg+xml</dc:format>\r\n    <dc:creator>\r\n     <cc:Agent>\r\n      <dc:title>Matplotlib v3.4.1, https://matplotlib.org/</dc:title>\r\n     </cc:Agent>\r\n    </dc:creator>\r\n   </cc:Work>\r\n  </rdf:RDF>\r\n </metadata>\r\n <defs>\r\n  <style type=\"text/css\">*{stroke-linecap:butt;stroke-linejoin:round;}</style>\r\n </defs>\r\n <g id=\"figure_1\">\r\n  <g id=\"patch_1\">\r\n   <path d=\"M 0 180.98 \r\nL 180.98 180.98 \r\nL 180.98 0 \r\nL 0 0 \r\nz\r\n\" style=\"fill:none;\"/>\r\n  </g>\r\n  <g id=\"axes_1\">\r\n   <g id=\"patch_2\">\r\n    <path d=\"M 10.7 170.28 \r\nL 173.78 170.28 \r\nL 173.78 7.2 \r\nL 10.7 7.2 \r\nz\r\n\" style=\"fill:#ffffff;\"/>\r\n   </g>\r\n   <g clip-path=\"url(#p78f6aebeb1)\">\r\n    <image height=\"4\" id=\"image7a4220f917\" style=\"image-rendering:crisp-edges;image-rendering:pixelated\" transform=\"matrix(41 0 0 41 10.7 6.28)\" width=\"4\" xlink:href=\"data:image/png;base64,\r\niVBORw0KGgoAAAANSUhEUgAAAAQAAAAECAYAAACp8Z5+AAAAGUlEQVR4nGNkYGD4z4AEmBjQAG6B//8hOgFV/wQEbKnzqAAAAABJRU5ErkJggg==\"/>\r\n   </g>\r\n   <g id=\"patch_3\">\r\n    <path clip-path=\"url(#p78f6aebeb1)\" d=\"M 14.777 27.585 \r\nL 18.854 29.6235 \r\nL 18.854 27.605385 \r\nL 31.085 27.605385 \r\nL 31.085 27.564615 \r\nL 18.854 27.564615 \r\nL 18.854 25.5465 \r\nz\r\n\" style=\"fill:#bf00bf;stroke:#bf00bf;stroke-linejoin:miter;\"/>\r\n   </g>\r\n   <g id=\"patch_4\">\r\n    <path clip-path=\"url(#p78f6aebeb1)\" d=\"M 55.547 27.585 \r\nL 59.624 29.6235 \r\nL 59.624 27.605385 \r\nL 71.855 27.605385 \r\nL 71.855 27.564615 \r\nL 59.624 27.564615 \r\nL 59.624 25.5465 \r\nz\r\n\" style=\"fill:#bf00bf;stroke:#bf00bf;stroke-linejoin:miter;\"/>\r\n   </g>\r\n   <g id=\"patch_5\">\r\n    <path clip-path=\"url(#p78f6aebeb1)\" d=\"M 96.317 27.585 \r\nL 100.394 29.6235 \r\nL 100.394 27.605385 \r\nL 112.625 27.605385 \r\nL 112.625 27.564615 \r\nL 100.394 27.564615 \r\nL 100.394 25.5465 \r\nz\r\n\" style=\"fill:#bf00bf;stroke:#bf00bf;stroke-linejoin:miter;\"/>\r\n   </g>\r\n   <g id=\"patch_6\">\r\n    <path clip-path=\"url(#p78f6aebeb1)\" d=\"M 137.087 27.585 \r\nL 141.164 29.6235 \r\nL 141.164 27.605385 \r\nL 153.395 27.605385 \r\nL 153.395 27.564615 \r\nL 141.164 27.564615 \r\nL 141.164 25.5465 \r\nz\r\n\" style=\"fill:#bf00bf;stroke:#bf00bf;stroke-linejoin:miter;\"/>\r\n   </g>\r\n   <g id=\"patch_7\">\r\n    <path clip-path=\"url(#p78f6aebeb1)\" d=\"M 14.777 68.355 \r\nL 18.854 70.3935 \r\nL 18.854 68.375385 \r\nL 31.085 68.375385 \r\nL 31.085 68.334615 \r\nL 18.854 68.334615 \r\nL 18.854 66.3165 \r\nz\r\n\" style=\"fill:#bf00bf;stroke:#bf00bf;stroke-linejoin:miter;\"/>\r\n   </g>\r\n   <g id=\"patch_8\">\r\n    <path clip-path=\"url(#p78f6aebeb1)\" d=\"M 96.317 68.355 \r\nL 100.394 70.3935 \r\nL 100.394 68.375385 \r\nL 112.625 68.375385 \r\nL 112.625 68.334615 \r\nL 100.394 68.334615 \r\nL 100.394 66.3165 \r\nz\r\n\" style=\"fill:#bf00bf;stroke:#bf00bf;stroke-linejoin:miter;\"/>\r\n   </g>\r\n   <g id=\"patch_9\">\r\n    <path clip-path=\"url(#p78f6aebeb1)\" d=\"M 14.777 109.125 \r\nL 18.854 111.1635 \r\nL 18.854 109.145385 \r\nL 31.085 109.145385 \r\nL 31.085 109.104615 \r\nL 18.854 109.104615 \r\nL 18.854 107.0865 \r\nz\r\n\" style=\"fill:#bf00bf;stroke:#bf00bf;stroke-linejoin:miter;\"/>\r\n   </g>\r\n   <g id=\"patch_10\">\r\n    <path clip-path=\"url(#p78f6aebeb1)\" d=\"M 55.547 109.125 \r\nL 59.624 111.1635 \r\nL 59.624 109.145385 \r\nL 71.855 109.145385 \r\nL 71.855 109.104615 \r\nL 59.624 109.104615 \r\nL 59.624 107.0865 \r\nz\r\n\" style=\"fill:#bf00bf;stroke:#bf00bf;stroke-linejoin:miter;\"/>\r\n   </g>\r\n   <g id=\"patch_11\">\r\n    <path clip-path=\"url(#p78f6aebeb1)\" d=\"M 112.625 125.433 \r\nL 114.6635 121.356 \r\nL 112.645385 121.356 \r\nL 112.645385 109.125 \r\nL 112.604615 109.125 \r\nL 112.604615 121.356 \r\nL 110.5865 121.356 \r\nz\r\n\" style=\"fill:#bf00bf;stroke:#bf00bf;stroke-linejoin:miter;\"/>\r\n   </g>\r\n   <g id=\"patch_12\">\r\n    <path clip-path=\"url(#p78f6aebeb1)\" d=\"M 88.163 149.895 \r\nL 84.086 147.8565 \r\nL 84.086 149.874615 \r\nL 71.855 149.874615 \r\nL 71.855 149.915385 \r\nL 84.086 149.915385 \r\nL 84.086 151.9335 \r\nz\r\n\" style=\"fill:#bf00bf;stroke:#bf00bf;stroke-linejoin:miter;\"/>\r\n   </g>\r\n   <g id=\"patch_13\">\r\n    <path clip-path=\"url(#p78f6aebeb1)\" d=\"M 128.933 149.895 \r\nL 124.856 147.8565 \r\nL 124.856 149.874615 \r\nL 112.625 149.874615 \r\nL 112.625 149.915385 \r\nL 124.856 149.915385 \r\nL 124.856 151.9335 \r\nz\r\n\" style=\"fill:#bf00bf;stroke:#bf00bf;stroke-linejoin:miter;\"/>\r\n   </g>\r\n   <g id=\"matplotlib.axis_1\">\r\n    <g id=\"xtick_1\">\r\n     <g id=\"line2d_1\">\r\n      <path clip-path=\"url(#p78f6aebeb1)\" d=\"M 10.7 170.28 \r\nL 10.7 7.2 \r\n\" style=\"fill:none;stroke:#0000ff;stroke-linecap:square;stroke-width:2;\"/>\r\n     </g>\r\n     <g id=\"line2d_2\">\r\n      <defs>\r\n       <path d=\"M 0 0 \r\nL 0 3.5 \r\n\" id=\"m5a0e05395e\" style=\"stroke:#000000;stroke-width:0.8;\"/>\r\n      </defs>\r\n      <g>\r\n       <use style=\"stroke:#000000;stroke-width:0.8;\" x=\"10.7\" xlink:href=\"#m5a0e05395e\" y=\"170.28\"/>\r\n      </g>\r\n     </g>\r\n    </g>\r\n    <g id=\"xtick_2\">\r\n     <g id=\"line2d_3\">\r\n      <path clip-path=\"url(#p78f6aebeb1)\" d=\"M 51.47 170.28 \r\nL 51.47 7.2 \r\n\" style=\"fill:none;stroke:#0000ff;stroke-linecap:square;stroke-width:2;\"/>\r\n     </g>\r\n     <g id=\"line2d_4\">\r\n      <g>\r\n       <use style=\"stroke:#000000;stroke-width:0.8;\" x=\"51.47\" xlink:href=\"#m5a0e05395e\" y=\"170.28\"/>\r\n      </g>\r\n     </g>\r\n    </g>\r\n    <g id=\"xtick_3\">\r\n     <g id=\"line2d_5\">\r\n      <path clip-path=\"url(#p78f6aebeb1)\" d=\"M 92.24 170.28 \r\nL 92.24 7.2 \r\n\" style=\"fill:none;stroke:#0000ff;stroke-linecap:square;stroke-width:2;\"/>\r\n     </g>\r\n     <g id=\"line2d_6\">\r\n      <g>\r\n       <use style=\"stroke:#000000;stroke-width:0.8;\" x=\"92.24\" xlink:href=\"#m5a0e05395e\" y=\"170.28\"/>\r\n      </g>\r\n     </g>\r\n    </g>\r\n    <g id=\"xtick_4\">\r\n     <g id=\"line2d_7\">\r\n      <path clip-path=\"url(#p78f6aebeb1)\" d=\"M 133.01 170.28 \r\nL 133.01 7.2 \r\n\" style=\"fill:none;stroke:#0000ff;stroke-linecap:square;stroke-width:2;\"/>\r\n     </g>\r\n     <g id=\"line2d_8\">\r\n      <g>\r\n       <use style=\"stroke:#000000;stroke-width:0.8;\" x=\"133.01\" xlink:href=\"#m5a0e05395e\" y=\"170.28\"/>\r\n      </g>\r\n     </g>\r\n    </g>\r\n   </g>\r\n   <g id=\"matplotlib.axis_2\">\r\n    <g id=\"ytick_1\">\r\n     <g id=\"line2d_9\">\r\n      <path clip-path=\"url(#p78f6aebeb1)\" d=\"M 10.7 7.2 \r\nL 173.78 7.2 \r\n\" style=\"fill:none;stroke:#0000ff;stroke-linecap:square;stroke-width:2;\"/>\r\n     </g>\r\n     <g id=\"line2d_10\">\r\n      <defs>\r\n       <path d=\"M 0 0 \r\nL -3.5 0 \r\n\" id=\"m7ccbdecc2e\" style=\"stroke:#000000;stroke-width:0.8;\"/>\r\n      </defs>\r\n      <g>\r\n       <use style=\"stroke:#000000;stroke-width:0.8;\" x=\"10.7\" xlink:href=\"#m7ccbdecc2e\" y=\"7.2\"/>\r\n      </g>\r\n     </g>\r\n    </g>\r\n    <g id=\"ytick_2\">\r\n     <g id=\"line2d_11\">\r\n      <path clip-path=\"url(#p78f6aebeb1)\" d=\"M 10.7 47.97 \r\nL 173.78 47.97 \r\n\" style=\"fill:none;stroke:#0000ff;stroke-linecap:square;stroke-width:2;\"/>\r\n     </g>\r\n     <g id=\"line2d_12\">\r\n      <g>\r\n       <use style=\"stroke:#000000;stroke-width:0.8;\" x=\"10.7\" xlink:href=\"#m7ccbdecc2e\" y=\"47.97\"/>\r\n      </g>\r\n     </g>\r\n    </g>\r\n    <g id=\"ytick_3\">\r\n     <g id=\"line2d_13\">\r\n      <path clip-path=\"url(#p78f6aebeb1)\" d=\"M 10.7 88.74 \r\nL 173.78 88.74 \r\n\" style=\"fill:none;stroke:#0000ff;stroke-linecap:square;stroke-width:2;\"/>\r\n     </g>\r\n     <g id=\"line2d_14\">\r\n      <g>\r\n       <use style=\"stroke:#000000;stroke-width:0.8;\" x=\"10.7\" xlink:href=\"#m7ccbdecc2e\" y=\"88.74\"/>\r\n      </g>\r\n     </g>\r\n    </g>\r\n    <g id=\"ytick_4\">\r\n     <g id=\"line2d_15\">\r\n      <path clip-path=\"url(#p78f6aebeb1)\" d=\"M 10.7 129.51 \r\nL 173.78 129.51 \r\n\" style=\"fill:none;stroke:#0000ff;stroke-linecap:square;stroke-width:2;\"/>\r\n     </g>\r\n     <g id=\"line2d_16\">\r\n      <g>\r\n       <use style=\"stroke:#000000;stroke-width:0.8;\" x=\"10.7\" xlink:href=\"#m7ccbdecc2e\" y=\"129.51\"/>\r\n      </g>\r\n     </g>\r\n    </g>\r\n   </g>\r\n   <g id=\"patch_14\">\r\n    <path d=\"M 10.7 170.28 \r\nL 10.7 7.2 \r\n\" style=\"fill:none;stroke:#000000;stroke-linecap:square;stroke-linejoin:miter;stroke-width:0.8;\"/>\r\n   </g>\r\n   <g id=\"patch_15\">\r\n    <path d=\"M 173.78 170.28 \r\nL 173.78 7.2 \r\n\" style=\"fill:none;stroke:#000000;stroke-linecap:square;stroke-linejoin:miter;stroke-width:0.8;\"/>\r\n   </g>\r\n   <g id=\"patch_16\">\r\n    <path d=\"M 10.7 170.28 \r\nL 173.78 170.28 \r\n\" style=\"fill:none;stroke:#000000;stroke-linecap:square;stroke-linejoin:miter;stroke-width:0.8;\"/>\r\n   </g>\r\n   <g id=\"patch_17\">\r\n    <path d=\"M 10.7 7.2 \r\nL 173.78 7.2 \r\n\" style=\"fill:none;stroke:#000000;stroke-linecap:square;stroke-linejoin:miter;stroke-width:0.8;\"/>\r\n   </g>\r\n   <g id=\"text_1\">\r\n    <!-- S -->\r\n    <g style=\"fill:#008000;\" transform=\"translate(26.764063 30.89625)scale(0.12 -0.12)\">\r\n     <defs>\r\n      <path d=\"M 3834 4519 \r\nL 3834 3531 \r\nQ 3450 3703 3084 3790 \r\nQ 2719 3878 2394 3878 \r\nQ 1963 3878 1756 3759 \r\nQ 1550 3641 1550 3391 \r\nQ 1550 3203 1689 3098 \r\nQ 1828 2994 2194 2919 \r\nL 2706 2816 \r\nQ 3484 2659 3812 2340 \r\nQ 4141 2022 4141 1434 \r\nQ 4141 663 3683 286 \r\nQ 3225 -91 2284 -91 \r\nQ 1841 -91 1394 -6 \r\nQ 947 78 500 244 \r\nL 500 1259 \r\nQ 947 1022 1364 901 \r\nQ 1781 781 2169 781 \r\nQ 2563 781 2772 912 \r\nQ 2981 1044 2981 1288 \r\nQ 2981 1506 2839 1625 \r\nQ 2697 1744 2272 1838 \r\nL 1806 1941 \r\nQ 1106 2091 782 2419 \r\nQ 459 2747 459 3303 \r\nQ 459 4000 909 4375 \r\nQ 1359 4750 2203 4750 \r\nQ 2588 4750 2994 4692 \r\nQ 3400 4634 3834 4519 \r\nz\r\n\" id=\"DejaVuSans-Bold-53\" transform=\"scale(0.015625)\"/>\r\n     </defs>\r\n     <use xlink:href=\"#DejaVuSans-Bold-53\"/>\r\n    </g>\r\n   </g>\r\n   <g id=\"text_2\">\r\n    <!-- F -->\r\n    <g style=\"fill:#008000;\" transform=\"translate(67.75625 30.89625)scale(0.12 -0.12)\">\r\n     <defs>\r\n      <path d=\"M 588 4666 \r\nL 3834 4666 \r\nL 3834 3756 \r\nL 1791 3756 \r\nL 1791 2888 \r\nL 3713 2888 \r\nL 3713 1978 \r\nL 1791 1978 \r\nL 1791 0 \r\nL 588 0 \r\nL 588 4666 \r\nz\r\n\" id=\"DejaVuSans-Bold-46\" transform=\"scale(0.015625)\"/>\r\n     </defs>\r\n     <use xlink:href=\"#DejaVuSans-Bold-46\"/>\r\n    </g>\r\n   </g>\r\n   <g id=\"text_3\">\r\n    <!-- F -->\r\n    <g style=\"fill:#008000;\" transform=\"translate(108.52625 30.89625)scale(0.12 -0.12)\">\r\n     <use xlink:href=\"#DejaVuSans-Bold-46\"/>\r\n    </g>\r\n   </g>\r\n   <g id=\"text_4\">\r\n    <!-- F -->\r\n    <g style=\"fill:#008000;\" transform=\"translate(149.29625 30.89625)scale(0.12 -0.12)\">\r\n     <use xlink:href=\"#DejaVuSans-Bold-46\"/>\r\n    </g>\r\n   </g>\r\n   <g id=\"text_5\">\r\n    <!-- F -->\r\n    <g style=\"fill:#008000;\" transform=\"translate(26.98625 71.66625)scale(0.12 -0.12)\">\r\n     <use xlink:href=\"#DejaVuSans-Bold-46\"/>\r\n    </g>\r\n   </g>\r\n   <g id=\"text_6\">\r\n    <!-- H -->\r\n    <g style=\"fill:#008000;\" transform=\"translate(66.83375 71.66625)scale(0.12 -0.12)\">\r\n     <defs>\r\n      <path d=\"M 588 4666 \r\nL 1791 4666 \r\nL 1791 2888 \r\nL 3566 2888 \r\nL 3566 4666 \r\nL 4769 4666 \r\nL 4769 0 \r\nL 3566 0 \r\nL 3566 1978 \r\nL 1791 1978 \r\nL 1791 0 \r\nL 588 0 \r\nL 588 4666 \r\nz\r\n\" id=\"DejaVuSans-Bold-48\" transform=\"scale(0.015625)\"/>\r\n     </defs>\r\n     <use xlink:href=\"#DejaVuSans-Bold-48\"/>\r\n    </g>\r\n   </g>\r\n   <g id=\"text_7\">\r\n    <!-- F -->\r\n    <g style=\"fill:#008000;\" transform=\"translate(108.52625 71.66625)scale(0.12 -0.12)\">\r\n     <use xlink:href=\"#DejaVuSans-Bold-46\"/>\r\n    </g>\r\n   </g>\r\n   <g id=\"text_8\">\r\n    <!-- H -->\r\n    <g style=\"fill:#008000;\" transform=\"translate(148.37375 71.66625)scale(0.12 -0.12)\">\r\n     <use xlink:href=\"#DejaVuSans-Bold-48\"/>\r\n    </g>\r\n   </g>\r\n   <g id=\"text_9\">\r\n    <!-- F -->\r\n    <g style=\"fill:#008000;\" transform=\"translate(26.98625 112.43625)scale(0.12 -0.12)\">\r\n     <use xlink:href=\"#DejaVuSans-Bold-46\"/>\r\n    </g>\r\n   </g>\r\n   <g id=\"text_10\">\r\n    <!-- F -->\r\n    <g style=\"fill:#008000;\" transform=\"translate(67.75625 112.43625)scale(0.12 -0.12)\">\r\n     <use xlink:href=\"#DejaVuSans-Bold-46\"/>\r\n    </g>\r\n   </g>\r\n   <g id=\"text_11\">\r\n    <!-- F -->\r\n    <g style=\"fill:#008000;\" transform=\"translate(108.52625 112.43625)scale(0.12 -0.12)\">\r\n     <use xlink:href=\"#DejaVuSans-Bold-46\"/>\r\n    </g>\r\n   </g>\r\n   <g id=\"text_12\">\r\n    <!-- H -->\r\n    <g style=\"fill:#008000;\" transform=\"translate(148.37375 112.43625)scale(0.12 -0.12)\">\r\n     <use xlink:href=\"#DejaVuSans-Bold-48\"/>\r\n    </g>\r\n   </g>\r\n   <g id=\"text_13\">\r\n    <!-- H -->\r\n    <g style=\"fill:#008000;\" transform=\"translate(26.06375 153.20625)scale(0.12 -0.12)\">\r\n     <use xlink:href=\"#DejaVuSans-Bold-48\"/>\r\n    </g>\r\n   </g>\r\n   <g id=\"text_14\">\r\n    <!-- F -->\r\n    <g style=\"fill:#008000;\" transform=\"translate(67.75625 153.20625)scale(0.12 -0.12)\">\r\n     <use xlink:href=\"#DejaVuSans-Bold-46\"/>\r\n    </g>\r\n   </g>\r\n   <g id=\"text_15\">\r\n    <!-- F -->\r\n    <g style=\"fill:#008000;\" transform=\"translate(108.52625 153.20625)scale(0.12 -0.12)\">\r\n     <use xlink:href=\"#DejaVuSans-Bold-46\"/>\r\n    </g>\r\n   </g>\r\n   <g id=\"text_16\">\r\n    <!-- G -->\r\n    <g style=\"fill:#008000;\" transform=\"translate(148.470312 153.20625)scale(0.12 -0.12)\">\r\n     <defs>\r\n      <path d=\"M 4781 347 \r\nQ 4331 128 3847 18 \r\nQ 3363 -91 2847 -91 \r\nQ 1681 -91 1000 561 \r\nQ 319 1213 319 2328 \r\nQ 319 3456 1012 4103 \r\nQ 1706 4750 2913 4750 \r\nQ 3378 4750 3804 4662 \r\nQ 4231 4575 4609 4403 \r\nL 4609 3438 \r\nQ 4219 3659 3833 3768 \r\nQ 3447 3878 3059 3878 \r\nQ 2341 3878 1952 3476 \r\nQ 1563 3075 1563 2328 \r\nQ 1563 1588 1938 1184 \r\nQ 2313 781 3003 781 \r\nQ 3191 781 3352 804 \r\nQ 3513 828 3641 878 \r\nL 3641 1784 \r\nL 2906 1784 \r\nL 2906 2591 \r\nL 4781 2591 \r\nL 4781 347 \r\nz\r\n\" id=\"DejaVuSans-Bold-47\" transform=\"scale(0.015625)\"/>\r\n     </defs>\r\n     <use xlink:href=\"#DejaVuSans-Bold-47\"/>\r\n    </g>\r\n   </g>\r\n  </g>\r\n </g>\r\n <defs>\r\n  <clipPath id=\"p78f6aebeb1\">\r\n   <rect height=\"163.08\" width=\"163.08\" x=\"10.7\" y=\"7.2\"/>\r\n  </clipPath>\r\n </defs>\r\n</svg>\r\n",
      "image/png": "[encoded data removed]"
     },
     "metadata": {
      "needs_background": "light"
     }
    },
    {
     "output_type": "stream",
     "name": "stdout",
     "text": [
      "after iteration 1\niter    0   |   diff: 0.90000   |   V(start): 0.000 \n"
     ]
    },
    {
     "output_type": "display_data",
     "data": {
      "text/plain": "<Figure size 216x216 with 1 Axes>",
      "image/svg+xml": "<?xml version=\"1.0\" encoding=\"utf-8\" standalone=\"no\"?>\r\n<!DOCTYPE svg PUBLIC \"-//W3C//DTD SVG 1.1//EN\"\r\n  \"http://www.w3.org/Graphics/SVG/1.1/DTD/svg11.dtd\">\r\n<svg height=\"180.98pt\" version=\"1.1\" viewBox=\"0 0 180.98 180.98\" width=\"180.98pt\" xmlns=\"http://www.w3.org/2000/svg\" xmlns:xlink=\"http://www.w3.org/1999/xlink\">\r\n <metadata>\r\n  <rdf:RDF xmlns:cc=\"http://creativecommons.org/ns#\" xmlns:dc=\"http://purl.org/dc/elements/1.1/\" xmlns:rdf=\"http://www.w3.org/1999/02/22-rdf-syntax-ns#\">\r\n   <cc:Work>\r\n    <dc:type rdf:resource=\"http://purl.org/dc/dcmitype/StillImage\"/>\r\n    <dc:date>2021-06-03T00:12:16.090386</dc:date>\r\n    <dc:format>image/svg+xml</dc:format>\r\n    <dc:creator>\r\n     <cc:Agent>\r\n      <dc:title>Matplotlib v3.4.1, https://matplotlib.org/</dc:title>\r\n     </cc:Agent>\r\n    </dc:creator>\r\n   </cc:Work>\r\n  </rdf:RDF>\r\n </metadata>\r\n <defs>\r\n  <style type=\"text/css\">*{stroke-linecap:butt;stroke-linejoin:round;}</style>\r\n </defs>\r\n <g id=\"figure_1\">\r\n  <g id=\"patch_1\">\r\n   <path d=\"M 0 180.98 \r\nL 180.98 180.98 \r\nL 180.98 0 \r\nL 0 0 \r\nz\r\n\" style=\"fill:none;\"/>\r\n  </g>\r\n  <g id=\"axes_1\">\r\n   <g id=\"patch_2\">\r\n    <path d=\"M 10.7 170.28 \r\nL 173.78 170.28 \r\nL 173.78 7.2 \r\nL 10.7 7.2 \r\nz\r\n\" style=\"fill:#ffffff;\"/>\r\n   </g>\r\n   <g clip-path=\"url(#paec1396a0e)\">\r\n    <image height=\"4\" id=\"imagedca775a559\" style=\"image-rendering:crisp-edges;image-rendering:pixelated\" transform=\"matrix(41 0 0 41 10.7 6.28)\" width=\"4\" xlink:href=\"data:image/png;base64,\r\niVBORw0KGgoAAAANSUhEUgAAAAQAAAAECAYAAACp8Z5+AAAAJElEQVR4nF3IsQ0AIAzAsMD/d+aNsFUVHn2AWC6fCXUytSqgB9AXDWJMmLCcAAAAAElFTkSuQmCC\"/>\r\n   </g>\r\n   <g id=\"patch_3\">\r\n    <path clip-path=\"url(#paec1396a0e)\" d=\"M 14.777 27.585 \r\nL 18.854 29.6235 \r\nL 18.854 27.605385 \r\nL 31.085 27.605385 \r\nL 31.085 27.564615 \r\nL 18.854 27.564615 \r\nL 18.854 25.5465 \r\nz\r\n\" style=\"fill:#bf00bf;stroke:#bf00bf;stroke-linejoin:miter;\"/>\r\n   </g>\r\n   <g id=\"patch_4\">\r\n    <path clip-path=\"url(#paec1396a0e)\" d=\"M 55.547 27.585 \r\nL 59.624 29.6235 \r\nL 59.624 27.605385 \r\nL 71.855 27.605385 \r\nL 71.855 27.564615 \r\nL 59.624 27.564615 \r\nL 59.624 25.5465 \r\nz\r\n\" style=\"fill:#bf00bf;stroke:#bf00bf;stroke-linejoin:miter;\"/>\r\n   </g>\r\n   <g id=\"patch_5\">\r\n    <path clip-path=\"url(#paec1396a0e)\" d=\"M 96.317 27.585 \r\nL 100.394 29.6235 \r\nL 100.394 27.605385 \r\nL 112.625 27.605385 \r\nL 112.625 27.564615 \r\nL 100.394 27.564615 \r\nL 100.394 25.5465 \r\nz\r\n\" style=\"fill:#bf00bf;stroke:#bf00bf;stroke-linejoin:miter;\"/>\r\n   </g>\r\n   <g id=\"patch_6\">\r\n    <path clip-path=\"url(#paec1396a0e)\" d=\"M 137.087 27.585 \r\nL 141.164 29.6235 \r\nL 141.164 27.605385 \r\nL 153.395 27.605385 \r\nL 153.395 27.564615 \r\nL 141.164 27.564615 \r\nL 141.164 25.5465 \r\nz\r\n\" style=\"fill:#bf00bf;stroke:#bf00bf;stroke-linejoin:miter;\"/>\r\n   </g>\r\n   <g id=\"patch_7\">\r\n    <path clip-path=\"url(#paec1396a0e)\" d=\"M 14.777 68.355 \r\nL 18.854 70.3935 \r\nL 18.854 68.375385 \r\nL 31.085 68.375385 \r\nL 31.085 68.334615 \r\nL 18.854 68.334615 \r\nL 18.854 66.3165 \r\nz\r\n\" style=\"fill:#bf00bf;stroke:#bf00bf;stroke-linejoin:miter;\"/>\r\n   </g>\r\n   <g id=\"patch_8\">\r\n    <path clip-path=\"url(#paec1396a0e)\" d=\"M 112.625 84.663 \r\nL 114.6635 80.586 \r\nL 112.645385 80.586 \r\nL 112.645385 68.355 \r\nL 112.604615 68.355 \r\nL 112.604615 80.586 \r\nL 110.5865 80.586 \r\nz\r\n\" style=\"fill:#bf00bf;stroke:#bf00bf;stroke-linejoin:miter;\"/>\r\n   </g>\r\n   <g id=\"patch_9\">\r\n    <path clip-path=\"url(#paec1396a0e)\" d=\"M 14.777 109.125 \r\nL 18.854 111.1635 \r\nL 18.854 109.145385 \r\nL 31.085 109.145385 \r\nL 31.085 109.104615 \r\nL 18.854 109.104615 \r\nL 18.854 107.0865 \r\nz\r\n\" style=\"fill:#bf00bf;stroke:#bf00bf;stroke-linejoin:miter;\"/>\r\n   </g>\r\n   <g id=\"patch_10\">\r\n    <path clip-path=\"url(#paec1396a0e)\" d=\"M 71.855 125.433 \r\nL 73.8935 121.356 \r\nL 71.875385 121.356 \r\nL 71.875385 109.125 \r\nL 71.834615 109.125 \r\nL 71.834615 121.356 \r\nL 69.8165 121.356 \r\nz\r\n\" style=\"fill:#bf00bf;stroke:#bf00bf;stroke-linejoin:miter;\"/>\r\n   </g>\r\n   <g id=\"patch_11\">\r\n    <path clip-path=\"url(#paec1396a0e)\" d=\"M 112.625 125.433 \r\nL 114.6635 121.356 \r\nL 112.645385 121.356 \r\nL 112.645385 109.125 \r\nL 112.604615 109.125 \r\nL 112.604615 121.356 \r\nL 110.5865 121.356 \r\nz\r\n\" style=\"fill:#bf00bf;stroke:#bf00bf;stroke-linejoin:miter;\"/>\r\n   </g>\r\n   <g id=\"patch_12\">\r\n    <path clip-path=\"url(#paec1396a0e)\" d=\"M 88.163 149.895 \r\nL 84.086 147.8565 \r\nL 84.086 149.874615 \r\nL 71.855 149.874615 \r\nL 71.855 149.915385 \r\nL 84.086 149.915385 \r\nL 84.086 151.9335 \r\nz\r\n\" style=\"fill:#bf00bf;stroke:#bf00bf;stroke-linejoin:miter;\"/>\r\n   </g>\r\n   <g id=\"patch_13\">\r\n    <path clip-path=\"url(#paec1396a0e)\" d=\"M 128.933 149.895 \r\nL 124.856 147.8565 \r\nL 124.856 149.874615 \r\nL 112.625 149.874615 \r\nL 112.625 149.915385 \r\nL 124.856 149.915385 \r\nL 124.856 151.9335 \r\nz\r\n\" style=\"fill:#bf00bf;stroke:#bf00bf;stroke-linejoin:miter;\"/>\r\n   </g>\r\n   <g id=\"matplotlib.axis_1\">\r\n    <g id=\"xtick_1\">\r\n     <g id=\"line2d_1\">\r\n      <path clip-path=\"url(#paec1396a0e)\" d=\"M 10.7 170.28 \r\nL 10.7 7.2 \r\n\" style=\"fill:none;stroke:#0000ff;stroke-linecap:square;stroke-width:2;\"/>\r\n     </g>\r\n     <g id=\"line2d_2\">\r\n      <defs>\r\n       <path d=\"M 0 0 \r\nL 0 3.5 \r\n\" id=\"m7841e4981f\" style=\"stroke:#000000;stroke-width:0.8;\"/>\r\n      </defs>\r\n      <g>\r\n       <use style=\"stroke:#000000;stroke-width:0.8;\" x=\"10.7\" xlink:href=\"#m7841e4981f\" y=\"170.28\"/>\r\n      </g>\r\n     </g>\r\n    </g>\r\n    <g id=\"xtick_2\">\r\n     <g id=\"line2d_3\">\r\n      <path clip-path=\"url(#paec1396a0e)\" d=\"M 51.47 170.28 \r\nL 51.47 7.2 \r\n\" style=\"fill:none;stroke:#0000ff;stroke-linecap:square;stroke-width:2;\"/>\r\n     </g>\r\n     <g id=\"line2d_4\">\r\n      <g>\r\n       <use style=\"stroke:#000000;stroke-width:0.8;\" x=\"51.47\" xlink:href=\"#m7841e4981f\" y=\"170.28\"/>\r\n      </g>\r\n     </g>\r\n    </g>\r\n    <g id=\"xtick_3\">\r\n     <g id=\"line2d_5\">\r\n      <path clip-path=\"url(#paec1396a0e)\" d=\"M 92.24 170.28 \r\nL 92.24 7.2 \r\n\" style=\"fill:none;stroke:#0000ff;stroke-linecap:square;stroke-width:2;\"/>\r\n     </g>\r\n     <g id=\"line2d_6\">\r\n      <g>\r\n       <use style=\"stroke:#000000;stroke-width:0.8;\" x=\"92.24\" xlink:href=\"#m7841e4981f\" y=\"170.28\"/>\r\n      </g>\r\n     </g>\r\n    </g>\r\n    <g id=\"xtick_4\">\r\n     <g id=\"line2d_7\">\r\n      <path clip-path=\"url(#paec1396a0e)\" d=\"M 133.01 170.28 \r\nL 133.01 7.2 \r\n\" style=\"fill:none;stroke:#0000ff;stroke-linecap:square;stroke-width:2;\"/>\r\n     </g>\r\n     <g id=\"line2d_8\">\r\n      <g>\r\n       <use style=\"stroke:#000000;stroke-width:0.8;\" x=\"133.01\" xlink:href=\"#m7841e4981f\" y=\"170.28\"/>\r\n      </g>\r\n     </g>\r\n    </g>\r\n   </g>\r\n   <g id=\"matplotlib.axis_2\">\r\n    <g id=\"ytick_1\">\r\n     <g id=\"line2d_9\">\r\n      <path clip-path=\"url(#paec1396a0e)\" d=\"M 10.7 7.2 \r\nL 173.78 7.2 \r\n\" style=\"fill:none;stroke:#0000ff;stroke-linecap:square;stroke-width:2;\"/>\r\n     </g>\r\n     <g id=\"line2d_10\">\r\n      <defs>\r\n       <path d=\"M 0 0 \r\nL -3.5 0 \r\n\" id=\"m5911162633\" style=\"stroke:#000000;stroke-width:0.8;\"/>\r\n      </defs>\r\n      <g>\r\n       <use style=\"stroke:#000000;stroke-width:0.8;\" x=\"10.7\" xlink:href=\"#m5911162633\" y=\"7.2\"/>\r\n      </g>\r\n     </g>\r\n    </g>\r\n    <g id=\"ytick_2\">\r\n     <g id=\"line2d_11\">\r\n      <path clip-path=\"url(#paec1396a0e)\" d=\"M 10.7 47.97 \r\nL 173.78 47.97 \r\n\" style=\"fill:none;stroke:#0000ff;stroke-linecap:square;stroke-width:2;\"/>\r\n     </g>\r\n     <g id=\"line2d_12\">\r\n      <g>\r\n       <use style=\"stroke:#000000;stroke-width:0.8;\" x=\"10.7\" xlink:href=\"#m5911162633\" y=\"47.97\"/>\r\n      </g>\r\n     </g>\r\n    </g>\r\n    <g id=\"ytick_3\">\r\n     <g id=\"line2d_13\">\r\n      <path clip-path=\"url(#paec1396a0e)\" d=\"M 10.7 88.74 \r\nL 173.78 88.74 \r\n\" style=\"fill:none;stroke:#0000ff;stroke-linecap:square;stroke-width:2;\"/>\r\n     </g>\r\n     <g id=\"line2d_14\">\r\n      <g>\r\n       <use style=\"stroke:#000000;stroke-width:0.8;\" x=\"10.7\" xlink:href=\"#m5911162633\" y=\"88.74\"/>\r\n      </g>\r\n     </g>\r\n    </g>\r\n    <g id=\"ytick_4\">\r\n     <g id=\"line2d_15\">\r\n      <path clip-path=\"url(#paec1396a0e)\" d=\"M 10.7 129.51 \r\nL 173.78 129.51 \r\n\" style=\"fill:none;stroke:#0000ff;stroke-linecap:square;stroke-width:2;\"/>\r\n     </g>\r\n     <g id=\"line2d_16\">\r\n      <g>\r\n       <use style=\"stroke:#000000;stroke-width:0.8;\" x=\"10.7\" xlink:href=\"#m5911162633\" y=\"129.51\"/>\r\n      </g>\r\n     </g>\r\n    </g>\r\n   </g>\r\n   <g id=\"patch_14\">\r\n    <path d=\"M 10.7 170.28 \r\nL 10.7 7.2 \r\n\" style=\"fill:none;stroke:#000000;stroke-linecap:square;stroke-linejoin:miter;stroke-width:0.8;\"/>\r\n   </g>\r\n   <g id=\"patch_15\">\r\n    <path d=\"M 173.78 170.28 \r\nL 173.78 7.2 \r\n\" style=\"fill:none;stroke:#000000;stroke-linecap:square;stroke-linejoin:miter;stroke-width:0.8;\"/>\r\n   </g>\r\n   <g id=\"patch_16\">\r\n    <path d=\"M 10.7 170.28 \r\nL 173.78 170.28 \r\n\" style=\"fill:none;stroke:#000000;stroke-linecap:square;stroke-linejoin:miter;stroke-width:0.8;\"/>\r\n   </g>\r\n   <g id=\"patch_17\">\r\n    <path d=\"M 10.7 7.2 \r\nL 173.78 7.2 \r\n\" style=\"fill:none;stroke:#000000;stroke-linecap:square;stroke-linejoin:miter;stroke-width:0.8;\"/>\r\n   </g>\r\n   <g id=\"text_1\">\r\n    <!-- S -->\r\n    <g style=\"fill:#008000;\" transform=\"translate(26.764063 30.89625)scale(0.12 -0.12)\">\r\n     <defs>\r\n      <path d=\"M 3834 4519 \r\nL 3834 3531 \r\nQ 3450 3703 3084 3790 \r\nQ 2719 3878 2394 3878 \r\nQ 1963 3878 1756 3759 \r\nQ 1550 3641 1550 3391 \r\nQ 1550 3203 1689 3098 \r\nQ 1828 2994 2194 2919 \r\nL 2706 2816 \r\nQ 3484 2659 3812 2340 \r\nQ 4141 2022 4141 1434 \r\nQ 4141 663 3683 286 \r\nQ 3225 -91 2284 -91 \r\nQ 1841 -91 1394 -6 \r\nQ 947 78 500 244 \r\nL 500 1259 \r\nQ 947 1022 1364 901 \r\nQ 1781 781 2169 781 \r\nQ 2563 781 2772 912 \r\nQ 2981 1044 2981 1288 \r\nQ 2981 1506 2839 1625 \r\nQ 2697 1744 2272 1838 \r\nL 1806 1941 \r\nQ 1106 2091 782 2419 \r\nQ 459 2747 459 3303 \r\nQ 459 4000 909 4375 \r\nQ 1359 4750 2203 4750 \r\nQ 2588 4750 2994 4692 \r\nQ 3400 4634 3834 4519 \r\nz\r\n\" id=\"DejaVuSans-Bold-53\" transform=\"scale(0.015625)\"/>\r\n     </defs>\r\n     <use xlink:href=\"#DejaVuSans-Bold-53\"/>\r\n    </g>\r\n   </g>\r\n   <g id=\"text_2\">\r\n    <!-- F -->\r\n    <g style=\"fill:#008000;\" transform=\"translate(67.75625 30.89625)scale(0.12 -0.12)\">\r\n     <defs>\r\n      <path d=\"M 588 4666 \r\nL 3834 4666 \r\nL 3834 3756 \r\nL 1791 3756 \r\nL 1791 2888 \r\nL 3713 2888 \r\nL 3713 1978 \r\nL 1791 1978 \r\nL 1791 0 \r\nL 588 0 \r\nL 588 4666 \r\nz\r\n\" id=\"DejaVuSans-Bold-46\" transform=\"scale(0.015625)\"/>\r\n     </defs>\r\n     <use xlink:href=\"#DejaVuSans-Bold-46\"/>\r\n    </g>\r\n   </g>\r\n   <g id=\"text_3\">\r\n    <!-- F -->\r\n    <g style=\"fill:#008000;\" transform=\"translate(108.52625 30.89625)scale(0.12 -0.12)\">\r\n     <use xlink:href=\"#DejaVuSans-Bold-46\"/>\r\n    </g>\r\n   </g>\r\n   <g id=\"text_4\">\r\n    <!-- F -->\r\n    <g style=\"fill:#008000;\" transform=\"translate(149.29625 30.89625)scale(0.12 -0.12)\">\r\n     <use xlink:href=\"#DejaVuSans-Bold-46\"/>\r\n    </g>\r\n   </g>\r\n   <g id=\"text_5\">\r\n    <!-- F -->\r\n    <g style=\"fill:#008000;\" transform=\"translate(26.98625 71.66625)scale(0.12 -0.12)\">\r\n     <use xlink:href=\"#DejaVuSans-Bold-46\"/>\r\n    </g>\r\n   </g>\r\n   <g id=\"text_6\">\r\n    <!-- H -->\r\n    <g style=\"fill:#008000;\" transform=\"translate(66.83375 71.66625)scale(0.12 -0.12)\">\r\n     <defs>\r\n      <path d=\"M 588 4666 \r\nL 1791 4666 \r\nL 1791 2888 \r\nL 3566 2888 \r\nL 3566 4666 \r\nL 4769 4666 \r\nL 4769 0 \r\nL 3566 0 \r\nL 3566 1978 \r\nL 1791 1978 \r\nL 1791 0 \r\nL 588 0 \r\nL 588 4666 \r\nz\r\n\" id=\"DejaVuSans-Bold-48\" transform=\"scale(0.015625)\"/>\r\n     </defs>\r\n     <use xlink:href=\"#DejaVuSans-Bold-48\"/>\r\n    </g>\r\n   </g>\r\n   <g id=\"text_7\">\r\n    <!-- F -->\r\n    <g style=\"fill:#008000;\" transform=\"translate(108.52625 71.66625)scale(0.12 -0.12)\">\r\n     <use xlink:href=\"#DejaVuSans-Bold-46\"/>\r\n    </g>\r\n   </g>\r\n   <g id=\"text_8\">\r\n    <!-- H -->\r\n    <g style=\"fill:#008000;\" transform=\"translate(148.37375 71.66625)scale(0.12 -0.12)\">\r\n     <use xlink:href=\"#DejaVuSans-Bold-48\"/>\r\n    </g>\r\n   </g>\r\n   <g id=\"text_9\">\r\n    <!-- F -->\r\n    <g style=\"fill:#008000;\" transform=\"translate(26.98625 112.43625)scale(0.12 -0.12)\">\r\n     <use xlink:href=\"#DejaVuSans-Bold-46\"/>\r\n    </g>\r\n   </g>\r\n   <g id=\"text_10\">\r\n    <!-- F -->\r\n    <g style=\"fill:#008000;\" transform=\"translate(67.75625 112.43625)scale(0.12 -0.12)\">\r\n     <use xlink:href=\"#DejaVuSans-Bold-46\"/>\r\n    </g>\r\n   </g>\r\n   <g id=\"text_11\">\r\n    <!-- F -->\r\n    <g style=\"fill:#008000;\" transform=\"translate(108.52625 112.43625)scale(0.12 -0.12)\">\r\n     <use xlink:href=\"#DejaVuSans-Bold-46\"/>\r\n    </g>\r\n   </g>\r\n   <g id=\"text_12\">\r\n    <!-- H -->\r\n    <g style=\"fill:#008000;\" transform=\"translate(148.37375 112.43625)scale(0.12 -0.12)\">\r\n     <use xlink:href=\"#DejaVuSans-Bold-48\"/>\r\n    </g>\r\n   </g>\r\n   <g id=\"text_13\">\r\n    <!-- H -->\r\n    <g style=\"fill:#008000;\" transform=\"translate(26.06375 153.20625)scale(0.12 -0.12)\">\r\n     <use xlink:href=\"#DejaVuSans-Bold-48\"/>\r\n    </g>\r\n   </g>\r\n   <g id=\"text_14\">\r\n    <!-- F -->\r\n    <g style=\"fill:#008000;\" transform=\"translate(67.75625 153.20625)scale(0.12 -0.12)\">\r\n     <use xlink:href=\"#DejaVuSans-Bold-46\"/>\r\n    </g>\r\n   </g>\r\n   <g id=\"text_15\">\r\n    <!-- F -->\r\n    <g style=\"fill:#008000;\" transform=\"translate(108.52625 153.20625)scale(0.12 -0.12)\">\r\n     <use xlink:href=\"#DejaVuSans-Bold-46\"/>\r\n    </g>\r\n   </g>\r\n   <g id=\"text_16\">\r\n    <!-- G -->\r\n    <g style=\"fill:#008000;\" transform=\"translate(148.470312 153.20625)scale(0.12 -0.12)\">\r\n     <defs>\r\n      <path d=\"M 4781 347 \r\nQ 4331 128 3847 18 \r\nQ 3363 -91 2847 -91 \r\nQ 1681 -91 1000 561 \r\nQ 319 1213 319 2328 \r\nQ 319 3456 1012 4103 \r\nQ 1706 4750 2913 4750 \r\nQ 3378 4750 3804 4662 \r\nQ 4231 4575 4609 4403 \r\nL 4609 3438 \r\nQ 4219 3659 3833 3768 \r\nQ 3447 3878 3059 3878 \r\nQ 2341 3878 1952 3476 \r\nQ 1563 3075 1563 2328 \r\nQ 1563 1588 1938 1184 \r\nQ 2313 781 3003 781 \r\nQ 3191 781 3352 804 \r\nQ 3513 828 3641 878 \r\nL 3641 1784 \r\nL 2906 1784 \r\nL 2906 2591 \r\nL 4781 2591 \r\nL 4781 347 \r\nz\r\n\" id=\"DejaVuSans-Bold-47\" transform=\"scale(0.015625)\"/>\r\n     </defs>\r\n     <use xlink:href=\"#DejaVuSans-Bold-47\"/>\r\n    </g>\r\n   </g>\r\n  </g>\r\n </g>\r\n <defs>\r\n  <clipPath id=\"paec1396a0e\">\r\n   <rect height=\"163.08\" width=\"163.08\" x=\"10.7\" y=\"7.2\"/>\r\n  </clipPath>\r\n </defs>\r\n</svg>\r\n",
      "image/png": "[encoded data removed]"
     },
     "metadata": {
      "needs_background": "light"
     }
    },
    {
     "output_type": "stream",
     "name": "stdout",
     "text": [
      "after iteration 2\niter    0   |   diff: 0.81000   |   V(start): 0.000 \n"
     ]
    },
    {
     "output_type": "display_data",
     "data": {
      "text/plain": "<Figure size 216x216 with 1 Axes>",
      "image/svg+xml": "<?xml version=\"1.0\" encoding=\"utf-8\" standalone=\"no\"?>\r\n<!DOCTYPE svg PUBLIC \"-//W3C//DTD SVG 1.1//EN\"\r\n  \"http://www.w3.org/Graphics/SVG/1.1/DTD/svg11.dtd\">\r\n<svg height=\"180.98pt\" version=\"1.1\" viewBox=\"0 0 180.98 180.98\" width=\"180.98pt\" xmlns=\"http://www.w3.org/2000/svg\" xmlns:xlink=\"http://www.w3.org/1999/xlink\">\r\n <metadata>\r\n  <rdf:RDF xmlns:cc=\"http://creativecommons.org/ns#\" xmlns:dc=\"http://purl.org/dc/elements/1.1/\" xmlns:rdf=\"http://www.w3.org/1999/02/22-rdf-syntax-ns#\">\r\n   <cc:Work>\r\n    <dc:type rdf:resource=\"http://purl.org/dc/dcmitype/StillImage\"/>\r\n    <dc:date>2021-06-03T00:12:16.266417</dc:date>\r\n    <dc:format>image/svg+xml</dc:format>\r\n    <dc:creator>\r\n     <cc:Agent>\r\n      <dc:title>Matplotlib v3.4.1, https://matplotlib.org/</dc:title>\r\n     </cc:Agent>\r\n    </dc:creator>\r\n   </cc:Work>\r\n  </rdf:RDF>\r\n </metadata>\r\n <defs>\r\n  <style type=\"text/css\">*{stroke-linecap:butt;stroke-linejoin:round;}</style>\r\n </defs>\r\n <g id=\"figure_1\">\r\n  <g id=\"patch_1\">\r\n   <path d=\"M 0 180.98 \r\nL 180.98 180.98 \r\nL 180.98 0 \r\nL 0 0 \r\nz\r\n\" style=\"fill:none;\"/>\r\n  </g>\r\n  <g id=\"axes_1\">\r\n   <g id=\"patch_2\">\r\n    <path d=\"M 10.7 170.28 \r\nL 173.78 170.28 \r\nL 173.78 7.2 \r\nL 10.7 7.2 \r\nz\r\n\" style=\"fill:#ffffff;\"/>\r\n   </g>\r\n   <g clip-path=\"url(#pd96d07f22c)\">\r\n    <image height=\"4\" id=\"imageb30f7e3add\" style=\"image-rendering:crisp-edges;image-rendering:pixelated\" transform=\"matrix(41 0 0 41 10.7 6.28)\" width=\"4\" xlink:href=\"data:image/png;base64,\r\niVBORw0KGgoAAAANSUhEUgAAAAQAAAAECAYAAACp8Z5+AAAALElEQVR4nE2KSREAMAyEaE3Ev6J1ERvk1YMXw7AA+dhHkryQhKq6l92tKuAAPU8PzyQ1aRsAAAAASUVORK5CYII=\"/>\r\n   </g>\r\n   <g id=\"patch_3\">\r\n    <path clip-path=\"url(#pd96d07f22c)\" d=\"M 14.777 27.585 \r\nL 18.854 29.6235 \r\nL 18.854 27.605385 \r\nL 31.085 27.605385 \r\nL 31.085 27.564615 \r\nL 18.854 27.564615 \r\nL 18.854 25.5465 \r\nz\r\n\" style=\"fill:#bf00bf;stroke:#bf00bf;stroke-linejoin:miter;\"/>\r\n   </g>\r\n   <g id=\"patch_4\">\r\n    <path clip-path=\"url(#pd96d07f22c)\" d=\"M 55.547 27.585 \r\nL 59.624 29.6235 \r\nL 59.624 27.605385 \r\nL 71.855 27.605385 \r\nL 71.855 27.564615 \r\nL 59.624 27.564615 \r\nL 59.624 25.5465 \r\nz\r\n\" style=\"fill:#bf00bf;stroke:#bf00bf;stroke-linejoin:miter;\"/>\r\n   </g>\r\n   <g id=\"patch_5\">\r\n    <path clip-path=\"url(#pd96d07f22c)\" d=\"M 112.625 43.893 \r\nL 114.6635 39.816 \r\nL 112.645385 39.816 \r\nL 112.645385 27.585 \r\nL 112.604615 27.585 \r\nL 112.604615 39.816 \r\nL 110.5865 39.816 \r\nz\r\n\" style=\"fill:#bf00bf;stroke:#bf00bf;stroke-linejoin:miter;\"/>\r\n   </g>\r\n   <g id=\"patch_6\">\r\n    <path clip-path=\"url(#pd96d07f22c)\" d=\"M 137.087 27.585 \r\nL 141.164 29.6235 \r\nL 141.164 27.605385 \r\nL 153.395 27.605385 \r\nL 153.395 27.564615 \r\nL 141.164 27.564615 \r\nL 141.164 25.5465 \r\nz\r\n\" style=\"fill:#bf00bf;stroke:#bf00bf;stroke-linejoin:miter;\"/>\r\n   </g>\r\n   <g id=\"patch_7\">\r\n    <path clip-path=\"url(#pd96d07f22c)\" d=\"M 14.777 68.355 \r\nL 18.854 70.3935 \r\nL 18.854 68.375385 \r\nL 31.085 68.375385 \r\nL 31.085 68.334615 \r\nL 18.854 68.334615 \r\nL 18.854 66.3165 \r\nz\r\n\" style=\"fill:#bf00bf;stroke:#bf00bf;stroke-linejoin:miter;\"/>\r\n   </g>\r\n   <g id=\"patch_8\">\r\n    <path clip-path=\"url(#pd96d07f22c)\" d=\"M 112.625 84.663 \r\nL 114.6635 80.586 \r\nL 112.645385 80.586 \r\nL 112.645385 68.355 \r\nL 112.604615 68.355 \r\nL 112.604615 80.586 \r\nL 110.5865 80.586 \r\nz\r\n\" style=\"fill:#bf00bf;stroke:#bf00bf;stroke-linejoin:miter;\"/>\r\n   </g>\r\n   <g id=\"patch_9\">\r\n    <path clip-path=\"url(#pd96d07f22c)\" d=\"M 47.393 109.125 \r\nL 43.316 107.0865 \r\nL 43.316 109.104615 \r\nL 31.085 109.104615 \r\nL 31.085 109.145385 \r\nL 43.316 109.145385 \r\nL 43.316 111.1635 \r\nz\r\n\" style=\"fill:#bf00bf;stroke:#bf00bf;stroke-linejoin:miter;\"/>\r\n   </g>\r\n   <g id=\"patch_10\">\r\n    <path clip-path=\"url(#pd96d07f22c)\" d=\"M 71.855 125.433 \r\nL 73.8935 121.356 \r\nL 71.875385 121.356 \r\nL 71.875385 109.125 \r\nL 71.834615 109.125 \r\nL 71.834615 121.356 \r\nL 69.8165 121.356 \r\nz\r\n\" style=\"fill:#bf00bf;stroke:#bf00bf;stroke-linejoin:miter;\"/>\r\n   </g>\r\n   <g id=\"patch_11\">\r\n    <path clip-path=\"url(#pd96d07f22c)\" d=\"M 112.625 125.433 \r\nL 114.6635 121.356 \r\nL 112.645385 121.356 \r\nL 112.645385 109.125 \r\nL 112.604615 109.125 \r\nL 112.604615 121.356 \r\nL 110.5865 121.356 \r\nz\r\n\" style=\"fill:#bf00bf;stroke:#bf00bf;stroke-linejoin:miter;\"/>\r\n   </g>\r\n   <g id=\"patch_12\">\r\n    <path clip-path=\"url(#pd96d07f22c)\" d=\"M 88.163 149.895 \r\nL 84.086 147.8565 \r\nL 84.086 149.874615 \r\nL 71.855 149.874615 \r\nL 71.855 149.915385 \r\nL 84.086 149.915385 \r\nL 84.086 151.9335 \r\nz\r\n\" style=\"fill:#bf00bf;stroke:#bf00bf;stroke-linejoin:miter;\"/>\r\n   </g>\r\n   <g id=\"patch_13\">\r\n    <path clip-path=\"url(#pd96d07f22c)\" d=\"M 128.933 149.895 \r\nL 124.856 147.8565 \r\nL 124.856 149.874615 \r\nL 112.625 149.874615 \r\nL 112.625 149.915385 \r\nL 124.856 149.915385 \r\nL 124.856 151.9335 \r\nz\r\n\" style=\"fill:#bf00bf;stroke:#bf00bf;stroke-linejoin:miter;\"/>\r\n   </g>\r\n   <g id=\"matplotlib.axis_1\">\r\n    <g id=\"xtick_1\">\r\n     <g id=\"line2d_1\">\r\n      <path clip-path=\"url(#pd96d07f22c)\" d=\"M 10.7 170.28 \r\nL 10.7 7.2 \r\n\" style=\"fill:none;stroke:#0000ff;stroke-linecap:square;stroke-width:2;\"/>\r\n     </g>\r\n     <g id=\"line2d_2\">\r\n      <defs>\r\n       <path d=\"M 0 0 \r\nL 0 3.5 \r\n\" id=\"mc9d012252a\" style=\"stroke:#000000;stroke-width:0.8;\"/>\r\n      </defs>\r\n      <g>\r\n       <use style=\"stroke:#000000;stroke-width:0.8;\" x=\"10.7\" xlink:href=\"#mc9d012252a\" y=\"170.28\"/>\r\n      </g>\r\n     </g>\r\n    </g>\r\n    <g id=\"xtick_2\">\r\n     <g id=\"line2d_3\">\r\n      <path clip-path=\"url(#pd96d07f22c)\" d=\"M 51.47 170.28 \r\nL 51.47 7.2 \r\n\" style=\"fill:none;stroke:#0000ff;stroke-linecap:square;stroke-width:2;\"/>\r\n     </g>\r\n     <g id=\"line2d_4\">\r\n      <g>\r\n       <use style=\"stroke:#000000;stroke-width:0.8;\" x=\"51.47\" xlink:href=\"#mc9d012252a\" y=\"170.28\"/>\r\n      </g>\r\n     </g>\r\n    </g>\r\n    <g id=\"xtick_3\">\r\n     <g id=\"line2d_5\">\r\n      <path clip-path=\"url(#pd96d07f22c)\" d=\"M 92.24 170.28 \r\nL 92.24 7.2 \r\n\" style=\"fill:none;stroke:#0000ff;stroke-linecap:square;stroke-width:2;\"/>\r\n     </g>\r\n     <g id=\"line2d_6\">\r\n      <g>\r\n       <use style=\"stroke:#000000;stroke-width:0.8;\" x=\"92.24\" xlink:href=\"#mc9d012252a\" y=\"170.28\"/>\r\n      </g>\r\n     </g>\r\n    </g>\r\n    <g id=\"xtick_4\">\r\n     <g id=\"line2d_7\">\r\n      <path clip-path=\"url(#pd96d07f22c)\" d=\"M 133.01 170.28 \r\nL 133.01 7.2 \r\n\" style=\"fill:none;stroke:#0000ff;stroke-linecap:square;stroke-width:2;\"/>\r\n     </g>\r\n     <g id=\"line2d_8\">\r\n      <g>\r\n       <use style=\"stroke:#000000;stroke-width:0.8;\" x=\"133.01\" xlink:href=\"#mc9d012252a\" y=\"170.28\"/>\r\n      </g>\r\n     </g>\r\n    </g>\r\n   </g>\r\n   <g id=\"matplotlib.axis_2\">\r\n    <g id=\"ytick_1\">\r\n     <g id=\"line2d_9\">\r\n      <path clip-path=\"url(#pd96d07f22c)\" d=\"M 10.7 7.2 \r\nL 173.78 7.2 \r\n\" style=\"fill:none;stroke:#0000ff;stroke-linecap:square;stroke-width:2;\"/>\r\n     </g>\r\n     <g id=\"line2d_10\">\r\n      <defs>\r\n       <path d=\"M 0 0 \r\nL -3.5 0 \r\n\" id=\"maae222f308\" style=\"stroke:#000000;stroke-width:0.8;\"/>\r\n      </defs>\r\n      <g>\r\n       <use style=\"stroke:#000000;stroke-width:0.8;\" x=\"10.7\" xlink:href=\"#maae222f308\" y=\"7.2\"/>\r\n      </g>\r\n     </g>\r\n    </g>\r\n    <g id=\"ytick_2\">\r\n     <g id=\"line2d_11\">\r\n      <path clip-path=\"url(#pd96d07f22c)\" d=\"M 10.7 47.97 \r\nL 173.78 47.97 \r\n\" style=\"fill:none;stroke:#0000ff;stroke-linecap:square;stroke-width:2;\"/>\r\n     </g>\r\n     <g id=\"line2d_12\">\r\n      <g>\r\n       <use style=\"stroke:#000000;stroke-width:0.8;\" x=\"10.7\" xlink:href=\"#maae222f308\" y=\"47.97\"/>\r\n      </g>\r\n     </g>\r\n    </g>\r\n    <g id=\"ytick_3\">\r\n     <g id=\"line2d_13\">\r\n      <path clip-path=\"url(#pd96d07f22c)\" d=\"M 10.7 88.74 \r\nL 173.78 88.74 \r\n\" style=\"fill:none;stroke:#0000ff;stroke-linecap:square;stroke-width:2;\"/>\r\n     </g>\r\n     <g id=\"line2d_14\">\r\n      <g>\r\n       <use style=\"stroke:#000000;stroke-width:0.8;\" x=\"10.7\" xlink:href=\"#maae222f308\" y=\"88.74\"/>\r\n      </g>\r\n     </g>\r\n    </g>\r\n    <g id=\"ytick_4\">\r\n     <g id=\"line2d_15\">\r\n      <path clip-path=\"url(#pd96d07f22c)\" d=\"M 10.7 129.51 \r\nL 173.78 129.51 \r\n\" style=\"fill:none;stroke:#0000ff;stroke-linecap:square;stroke-width:2;\"/>\r\n     </g>\r\n     <g id=\"line2d_16\">\r\n      <g>\r\n       <use style=\"stroke:#000000;stroke-width:0.8;\" x=\"10.7\" xlink:href=\"#maae222f308\" y=\"129.51\"/>\r\n      </g>\r\n     </g>\r\n    </g>\r\n   </g>\r\n   <g id=\"patch_14\">\r\n    <path d=\"M 10.7 170.28 \r\nL 10.7 7.2 \r\n\" style=\"fill:none;stroke:#000000;stroke-linecap:square;stroke-linejoin:miter;stroke-width:0.8;\"/>\r\n   </g>\r\n   <g id=\"patch_15\">\r\n    <path d=\"M 173.78 170.28 \r\nL 173.78 7.2 \r\n\" style=\"fill:none;stroke:#000000;stroke-linecap:square;stroke-linejoin:miter;stroke-width:0.8;\"/>\r\n   </g>\r\n   <g id=\"patch_16\">\r\n    <path d=\"M 10.7 170.28 \r\nL 173.78 170.28 \r\n\" style=\"fill:none;stroke:#000000;stroke-linecap:square;stroke-linejoin:miter;stroke-width:0.8;\"/>\r\n   </g>\r\n   <g id=\"patch_17\">\r\n    <path d=\"M 10.7 7.2 \r\nL 173.78 7.2 \r\n\" style=\"fill:none;stroke:#000000;stroke-linecap:square;stroke-linejoin:miter;stroke-width:0.8;\"/>\r\n   </g>\r\n   <g id=\"text_1\">\r\n    <!-- S -->\r\n    <g style=\"fill:#008000;\" transform=\"translate(26.764063 30.89625)scale(0.12 -0.12)\">\r\n     <defs>\r\n      <path d=\"M 3834 4519 \r\nL 3834 3531 \r\nQ 3450 3703 3084 3790 \r\nQ 2719 3878 2394 3878 \r\nQ 1963 3878 1756 3759 \r\nQ 1550 3641 1550 3391 \r\nQ 1550 3203 1689 3098 \r\nQ 1828 2994 2194 2919 \r\nL 2706 2816 \r\nQ 3484 2659 3812 2340 \r\nQ 4141 2022 4141 1434 \r\nQ 4141 663 3683 286 \r\nQ 3225 -91 2284 -91 \r\nQ 1841 -91 1394 -6 \r\nQ 947 78 500 244 \r\nL 500 1259 \r\nQ 947 1022 1364 901 \r\nQ 1781 781 2169 781 \r\nQ 2563 781 2772 912 \r\nQ 2981 1044 2981 1288 \r\nQ 2981 1506 2839 1625 \r\nQ 2697 1744 2272 1838 \r\nL 1806 1941 \r\nQ 1106 2091 782 2419 \r\nQ 459 2747 459 3303 \r\nQ 459 4000 909 4375 \r\nQ 1359 4750 2203 4750 \r\nQ 2588 4750 2994 4692 \r\nQ 3400 4634 3834 4519 \r\nz\r\n\" id=\"DejaVuSans-Bold-53\" transform=\"scale(0.015625)\"/>\r\n     </defs>\r\n     <use xlink:href=\"#DejaVuSans-Bold-53\"/>\r\n    </g>\r\n   </g>\r\n   <g id=\"text_2\">\r\n    <!-- F -->\r\n    <g style=\"fill:#008000;\" transform=\"translate(67.75625 30.89625)scale(0.12 -0.12)\">\r\n     <defs>\r\n      <path d=\"M 588 4666 \r\nL 3834 4666 \r\nL 3834 3756 \r\nL 1791 3756 \r\nL 1791 2888 \r\nL 3713 2888 \r\nL 3713 1978 \r\nL 1791 1978 \r\nL 1791 0 \r\nL 588 0 \r\nL 588 4666 \r\nz\r\n\" id=\"DejaVuSans-Bold-46\" transform=\"scale(0.015625)\"/>\r\n     </defs>\r\n     <use xlink:href=\"#DejaVuSans-Bold-46\"/>\r\n    </g>\r\n   </g>\r\n   <g id=\"text_3\">\r\n    <!-- F -->\r\n    <g style=\"fill:#008000;\" transform=\"translate(108.52625 30.89625)scale(0.12 -0.12)\">\r\n     <use xlink:href=\"#DejaVuSans-Bold-46\"/>\r\n    </g>\r\n   </g>\r\n   <g id=\"text_4\">\r\n    <!-- F -->\r\n    <g style=\"fill:#008000;\" transform=\"translate(149.29625 30.89625)scale(0.12 -0.12)\">\r\n     <use xlink:href=\"#DejaVuSans-Bold-46\"/>\r\n    </g>\r\n   </g>\r\n   <g id=\"text_5\">\r\n    <!-- F -->\r\n    <g style=\"fill:#008000;\" transform=\"translate(26.98625 71.66625)scale(0.12 -0.12)\">\r\n     <use xlink:href=\"#DejaVuSans-Bold-46\"/>\r\n    </g>\r\n   </g>\r\n   <g id=\"text_6\">\r\n    <!-- H -->\r\n    <g style=\"fill:#008000;\" transform=\"translate(66.83375 71.66625)scale(0.12 -0.12)\">\r\n     <defs>\r\n      <path d=\"M 588 4666 \r\nL 1791 4666 \r\nL 1791 2888 \r\nL 3566 2888 \r\nL 3566 4666 \r\nL 4769 4666 \r\nL 4769 0 \r\nL 3566 0 \r\nL 3566 1978 \r\nL 1791 1978 \r\nL 1791 0 \r\nL 588 0 \r\nL 588 4666 \r\nz\r\n\" id=\"DejaVuSans-Bold-48\" transform=\"scale(0.015625)\"/>\r\n     </defs>\r\n     <use xlink:href=\"#DejaVuSans-Bold-48\"/>\r\n    </g>\r\n   </g>\r\n   <g id=\"text_7\">\r\n    <!-- F -->\r\n    <g style=\"fill:#008000;\" transform=\"translate(108.52625 71.66625)scale(0.12 -0.12)\">\r\n     <use xlink:href=\"#DejaVuSans-Bold-46\"/>\r\n    </g>\r\n   </g>\r\n   <g id=\"text_8\">\r\n    <!-- H -->\r\n    <g style=\"fill:#008000;\" transform=\"translate(148.37375 71.66625)scale(0.12 -0.12)\">\r\n     <use xlink:href=\"#DejaVuSans-Bold-48\"/>\r\n    </g>\r\n   </g>\r\n   <g id=\"text_9\">\r\n    <!-- F -->\r\n    <g style=\"fill:#008000;\" transform=\"translate(26.98625 112.43625)scale(0.12 -0.12)\">\r\n     <use xlink:href=\"#DejaVuSans-Bold-46\"/>\r\n    </g>\r\n   </g>\r\n   <g id=\"text_10\">\r\n    <!-- F -->\r\n    <g style=\"fill:#008000;\" transform=\"translate(67.75625 112.43625)scale(0.12 -0.12)\">\r\n     <use xlink:href=\"#DejaVuSans-Bold-46\"/>\r\n    </g>\r\n   </g>\r\n   <g id=\"text_11\">\r\n    <!-- F -->\r\n    <g style=\"fill:#008000;\" transform=\"translate(108.52625 112.43625)scale(0.12 -0.12)\">\r\n     <use xlink:href=\"#DejaVuSans-Bold-46\"/>\r\n    </g>\r\n   </g>\r\n   <g id=\"text_12\">\r\n    <!-- H -->\r\n    <g style=\"fill:#008000;\" transform=\"translate(148.37375 112.43625)scale(0.12 -0.12)\">\r\n     <use xlink:href=\"#DejaVuSans-Bold-48\"/>\r\n    </g>\r\n   </g>\r\n   <g id=\"text_13\">\r\n    <!-- H -->\r\n    <g style=\"fill:#008000;\" transform=\"translate(26.06375 153.20625)scale(0.12 -0.12)\">\r\n     <use xlink:href=\"#DejaVuSans-Bold-48\"/>\r\n    </g>\r\n   </g>\r\n   <g id=\"text_14\">\r\n    <!-- F -->\r\n    <g style=\"fill:#008000;\" transform=\"translate(67.75625 153.20625)scale(0.12 -0.12)\">\r\n     <use xlink:href=\"#DejaVuSans-Bold-46\"/>\r\n    </g>\r\n   </g>\r\n   <g id=\"text_15\">\r\n    <!-- F -->\r\n    <g style=\"fill:#008000;\" transform=\"translate(108.52625 153.20625)scale(0.12 -0.12)\">\r\n     <use xlink:href=\"#DejaVuSans-Bold-46\"/>\r\n    </g>\r\n   </g>\r\n   <g id=\"text_16\">\r\n    <!-- G -->\r\n    <g style=\"fill:#008000;\" transform=\"translate(148.470312 153.20625)scale(0.12 -0.12)\">\r\n     <defs>\r\n      <path d=\"M 4781 347 \r\nQ 4331 128 3847 18 \r\nQ 3363 -91 2847 -91 \r\nQ 1681 -91 1000 561 \r\nQ 319 1213 319 2328 \r\nQ 319 3456 1012 4103 \r\nQ 1706 4750 2913 4750 \r\nQ 3378 4750 3804 4662 \r\nQ 4231 4575 4609 4403 \r\nL 4609 3438 \r\nQ 4219 3659 3833 3768 \r\nQ 3447 3878 3059 3878 \r\nQ 2341 3878 1952 3476 \r\nQ 1563 3075 1563 2328 \r\nQ 1563 1588 1938 1184 \r\nQ 2313 781 3003 781 \r\nQ 3191 781 3352 804 \r\nQ 3513 828 3641 878 \r\nL 3641 1784 \r\nL 2906 1784 \r\nL 2906 2591 \r\nL 4781 2591 \r\nL 4781 347 \r\nz\r\n\" id=\"DejaVuSans-Bold-47\" transform=\"scale(0.015625)\"/>\r\n     </defs>\r\n     <use xlink:href=\"#DejaVuSans-Bold-47\"/>\r\n    </g>\r\n   </g>\r\n  </g>\r\n </g>\r\n <defs>\r\n  <clipPath id=\"pd96d07f22c\">\r\n   <rect height=\"163.08\" width=\"163.08\" x=\"10.7\" y=\"7.2\"/>\r\n  </clipPath>\r\n </defs>\r\n</svg>\r\n",
      "image/png": "[encoded data removed]"
     },
     "metadata": {
      "needs_background": "light"
     }
    },
    {
     "output_type": "stream",
     "name": "stdout",
     "text": [
      "after iteration 3\niter    0   |   diff: 0.72900   |   V(start): 0.000 \n"
     ]
    },
    {
     "output_type": "display_data",
     "data": {
      "text/plain": "<Figure size 216x216 with 1 Axes>",
      "image/svg+xml": "<?xml version=\"1.0\" encoding=\"utf-8\" standalone=\"no\"?>\r\n<!DOCTYPE svg PUBLIC \"-//W3C//DTD SVG 1.1//EN\"\r\n  \"http://www.w3.org/Graphics/SVG/1.1/DTD/svg11.dtd\">\r\n<svg height=\"180.98pt\" version=\"1.1\" viewBox=\"0 0 180.98 180.98\" width=\"180.98pt\" xmlns=\"http://www.w3.org/2000/svg\" xmlns:xlink=\"http://www.w3.org/1999/xlink\">\r\n <metadata>\r\n  <rdf:RDF xmlns:cc=\"http://creativecommons.org/ns#\" xmlns:dc=\"http://purl.org/dc/elements/1.1/\" xmlns:rdf=\"http://www.w3.org/1999/02/22-rdf-syntax-ns#\">\r\n   <cc:Work>\r\n    <dc:type rdf:resource=\"http://purl.org/dc/dcmitype/StillImage\"/>\r\n    <dc:date>2021-06-03T00:12:16.450382</dc:date>\r\n    <dc:format>image/svg+xml</dc:format>\r\n    <dc:creator>\r\n     <cc:Agent>\r\n      <dc:title>Matplotlib v3.4.1, https://matplotlib.org/</dc:title>\r\n     </cc:Agent>\r\n    </dc:creator>\r\n   </cc:Work>\r\n  </rdf:RDF>\r\n </metadata>\r\n <defs>\r\n  <style type=\"text/css\">*{stroke-linecap:butt;stroke-linejoin:round;}</style>\r\n </defs>\r\n <g id=\"figure_1\">\r\n  <g id=\"patch_1\">\r\n   <path d=\"M 0 180.98 \r\nL 180.98 180.98 \r\nL 180.98 0 \r\nL 0 0 \r\nz\r\n\" style=\"fill:none;\"/>\r\n  </g>\r\n  <g id=\"axes_1\">\r\n   <g id=\"patch_2\">\r\n    <path d=\"M 10.7 170.28 \r\nL 173.78 170.28 \r\nL 173.78 7.2 \r\nL 10.7 7.2 \r\nz\r\n\" style=\"fill:#ffffff;\"/>\r\n   </g>\r\n   <g clip-path=\"url(#pd99429bd13)\">\r\n    <image height=\"4\" id=\"imagec11ce7d7f7\" style=\"image-rendering:crisp-edges;image-rendering:pixelated\" transform=\"matrix(41 0 0 41 10.7 6.28)\" width=\"4\" xlink:href=\"data:image/png;base64,\r\niVBORw0KGgoAAAANSUhEUgAAAAQAAAAECAYAAACp8Z5+AAAAMUlEQVR4nDXJMQ0AMRAEsVEUCqvjT2MBHY1J8+/WAAK2FfDwSQLAbUsSZuY/3F1VAR8SfBLNmfnRmAAAAABJRU5ErkJggg==\"/>\r\n   </g>\r\n   <g id=\"patch_3\">\r\n    <path clip-path=\"url(#pd99429bd13)\" d=\"M 14.777 27.585 \r\nL 18.854 29.6235 \r\nL 18.854 27.605385 \r\nL 31.085 27.605385 \r\nL 31.085 27.564615 \r\nL 18.854 27.564615 \r\nL 18.854 25.5465 \r\nz\r\n\" style=\"fill:#bf00bf;stroke:#bf00bf;stroke-linejoin:miter;\"/>\r\n   </g>\r\n   <g id=\"patch_4\">\r\n    <path clip-path=\"url(#pd99429bd13)\" d=\"M 88.163 27.585 \r\nL 84.086 25.5465 \r\nL 84.086 27.564615 \r\nL 71.855 27.564615 \r\nL 71.855 27.605385 \r\nL 84.086 27.605385 \r\nL 84.086 29.6235 \r\nz\r\n\" style=\"fill:#bf00bf;stroke:#bf00bf;stroke-linejoin:miter;\"/>\r\n   </g>\r\n   <g id=\"patch_5\">\r\n    <path clip-path=\"url(#pd99429bd13)\" d=\"M 112.625 43.893 \r\nL 114.6635 39.816 \r\nL 112.645385 39.816 \r\nL 112.645385 27.585 \r\nL 112.604615 27.585 \r\nL 112.604615 39.816 \r\nL 110.5865 39.816 \r\nz\r\n\" style=\"fill:#bf00bf;stroke:#bf00bf;stroke-linejoin:miter;\"/>\r\n   </g>\r\n   <g id=\"patch_6\">\r\n    <path clip-path=\"url(#pd99429bd13)\" d=\"M 137.087 27.585 \r\nL 141.164 29.6235 \r\nL 141.164 27.605385 \r\nL 153.395 27.605385 \r\nL 153.395 27.564615 \r\nL 141.164 27.564615 \r\nL 141.164 25.5465 \r\nz\r\n\" style=\"fill:#bf00bf;stroke:#bf00bf;stroke-linejoin:miter;\"/>\r\n   </g>\r\n   <g id=\"patch_7\">\r\n    <path clip-path=\"url(#pd99429bd13)\" d=\"M 31.085 84.663 \r\nL 33.1235 80.586 \r\nL 31.105385 80.586 \r\nL 31.105385 68.355 \r\nL 31.064615 68.355 \r\nL 31.064615 80.586 \r\nL 29.0465 80.586 \r\nz\r\n\" style=\"fill:#bf00bf;stroke:#bf00bf;stroke-linejoin:miter;\"/>\r\n   </g>\r\n   <g id=\"patch_8\">\r\n    <path clip-path=\"url(#pd99429bd13)\" d=\"M 112.625 84.663 \r\nL 114.6635 80.586 \r\nL 112.645385 80.586 \r\nL 112.645385 68.355 \r\nL 112.604615 68.355 \r\nL 112.604615 80.586 \r\nL 110.5865 80.586 \r\nz\r\n\" style=\"fill:#bf00bf;stroke:#bf00bf;stroke-linejoin:miter;\"/>\r\n   </g>\r\n   <g id=\"patch_9\">\r\n    <path clip-path=\"url(#pd99429bd13)\" d=\"M 47.393 109.125 \r\nL 43.316 107.0865 \r\nL 43.316 109.104615 \r\nL 31.085 109.104615 \r\nL 31.085 109.145385 \r\nL 43.316 109.145385 \r\nL 43.316 111.1635 \r\nz\r\n\" style=\"fill:#bf00bf;stroke:#bf00bf;stroke-linejoin:miter;\"/>\r\n   </g>\r\n   <g id=\"patch_10\">\r\n    <path clip-path=\"url(#pd99429bd13)\" d=\"M 71.855 125.433 \r\nL 73.8935 121.356 \r\nL 71.875385 121.356 \r\nL 71.875385 109.125 \r\nL 71.834615 109.125 \r\nL 71.834615 121.356 \r\nL 69.8165 121.356 \r\nz\r\n\" style=\"fill:#bf00bf;stroke:#bf00bf;stroke-linejoin:miter;\"/>\r\n   </g>\r\n   <g id=\"patch_11\">\r\n    <path clip-path=\"url(#pd99429bd13)\" d=\"M 112.625 125.433 \r\nL 114.6635 121.356 \r\nL 112.645385 121.356 \r\nL 112.645385 109.125 \r\nL 112.604615 109.125 \r\nL 112.604615 121.356 \r\nL 110.5865 121.356 \r\nz\r\n\" style=\"fill:#bf00bf;stroke:#bf00bf;stroke-linejoin:miter;\"/>\r\n   </g>\r\n   <g id=\"patch_12\">\r\n    <path clip-path=\"url(#pd99429bd13)\" d=\"M 88.163 149.895 \r\nL 84.086 147.8565 \r\nL 84.086 149.874615 \r\nL 71.855 149.874615 \r\nL 71.855 149.915385 \r\nL 84.086 149.915385 \r\nL 84.086 151.9335 \r\nz\r\n\" style=\"fill:#bf00bf;stroke:#bf00bf;stroke-linejoin:miter;\"/>\r\n   </g>\r\n   <g id=\"patch_13\">\r\n    <path clip-path=\"url(#pd99429bd13)\" d=\"M 128.933 149.895 \r\nL 124.856 147.8565 \r\nL 124.856 149.874615 \r\nL 112.625 149.874615 \r\nL 112.625 149.915385 \r\nL 124.856 149.915385 \r\nL 124.856 151.9335 \r\nz\r\n\" style=\"fill:#bf00bf;stroke:#bf00bf;stroke-linejoin:miter;\"/>\r\n   </g>\r\n   <g id=\"matplotlib.axis_1\">\r\n    <g id=\"xtick_1\">\r\n     <g id=\"line2d_1\">\r\n      <path clip-path=\"url(#pd99429bd13)\" d=\"M 10.7 170.28 \r\nL 10.7 7.2 \r\n\" style=\"fill:none;stroke:#0000ff;stroke-linecap:square;stroke-width:2;\"/>\r\n     </g>\r\n     <g id=\"line2d_2\">\r\n      <defs>\r\n       <path d=\"M 0 0 \r\nL 0 3.5 \r\n\" id=\"m9ecc0ced8b\" style=\"stroke:#000000;stroke-width:0.8;\"/>\r\n      </defs>\r\n      <g>\r\n       <use style=\"stroke:#000000;stroke-width:0.8;\" x=\"10.7\" xlink:href=\"#m9ecc0ced8b\" y=\"170.28\"/>\r\n      </g>\r\n     </g>\r\n    </g>\r\n    <g id=\"xtick_2\">\r\n     <g id=\"line2d_3\">\r\n      <path clip-path=\"url(#pd99429bd13)\" d=\"M 51.47 170.28 \r\nL 51.47 7.2 \r\n\" style=\"fill:none;stroke:#0000ff;stroke-linecap:square;stroke-width:2;\"/>\r\n     </g>\r\n     <g id=\"line2d_4\">\r\n      <g>\r\n       <use style=\"stroke:#000000;stroke-width:0.8;\" x=\"51.47\" xlink:href=\"#m9ecc0ced8b\" y=\"170.28\"/>\r\n      </g>\r\n     </g>\r\n    </g>\r\n    <g id=\"xtick_3\">\r\n     <g id=\"line2d_5\">\r\n      <path clip-path=\"url(#pd99429bd13)\" d=\"M 92.24 170.28 \r\nL 92.24 7.2 \r\n\" style=\"fill:none;stroke:#0000ff;stroke-linecap:square;stroke-width:2;\"/>\r\n     </g>\r\n     <g id=\"line2d_6\">\r\n      <g>\r\n       <use style=\"stroke:#000000;stroke-width:0.8;\" x=\"92.24\" xlink:href=\"#m9ecc0ced8b\" y=\"170.28\"/>\r\n      </g>\r\n     </g>\r\n    </g>\r\n    <g id=\"xtick_4\">\r\n     <g id=\"line2d_7\">\r\n      <path clip-path=\"url(#pd99429bd13)\" d=\"M 133.01 170.28 \r\nL 133.01 7.2 \r\n\" style=\"fill:none;stroke:#0000ff;stroke-linecap:square;stroke-width:2;\"/>\r\n     </g>\r\n     <g id=\"line2d_8\">\r\n      <g>\r\n       <use style=\"stroke:#000000;stroke-width:0.8;\" x=\"133.01\" xlink:href=\"#m9ecc0ced8b\" y=\"170.28\"/>\r\n      </g>\r\n     </g>\r\n    </g>\r\n   </g>\r\n   <g id=\"matplotlib.axis_2\">\r\n    <g id=\"ytick_1\">\r\n     <g id=\"line2d_9\">\r\n      <path clip-path=\"url(#pd99429bd13)\" d=\"M 10.7 7.2 \r\nL 173.78 7.2 \r\n\" style=\"fill:none;stroke:#0000ff;stroke-linecap:square;stroke-width:2;\"/>\r\n     </g>\r\n     <g id=\"line2d_10\">\r\n      <defs>\r\n       <path d=\"M 0 0 \r\nL -3.5 0 \r\n\" id=\"md0536c5f76\" style=\"stroke:#000000;stroke-width:0.8;\"/>\r\n      </defs>\r\n      <g>\r\n       <use style=\"stroke:#000000;stroke-width:0.8;\" x=\"10.7\" xlink:href=\"#md0536c5f76\" y=\"7.2\"/>\r\n      </g>\r\n     </g>\r\n    </g>\r\n    <g id=\"ytick_2\">\r\n     <g id=\"line2d_11\">\r\n      <path clip-path=\"url(#pd99429bd13)\" d=\"M 10.7 47.97 \r\nL 173.78 47.97 \r\n\" style=\"fill:none;stroke:#0000ff;stroke-linecap:square;stroke-width:2;\"/>\r\n     </g>\r\n     <g id=\"line2d_12\">\r\n      <g>\r\n       <use style=\"stroke:#000000;stroke-width:0.8;\" x=\"10.7\" xlink:href=\"#md0536c5f76\" y=\"47.97\"/>\r\n      </g>\r\n     </g>\r\n    </g>\r\n    <g id=\"ytick_3\">\r\n     <g id=\"line2d_13\">\r\n      <path clip-path=\"url(#pd99429bd13)\" d=\"M 10.7 88.74 \r\nL 173.78 88.74 \r\n\" style=\"fill:none;stroke:#0000ff;stroke-linecap:square;stroke-width:2;\"/>\r\n     </g>\r\n     <g id=\"line2d_14\">\r\n      <g>\r\n       <use style=\"stroke:#000000;stroke-width:0.8;\" x=\"10.7\" xlink:href=\"#md0536c5f76\" y=\"88.74\"/>\r\n      </g>\r\n     </g>\r\n    </g>\r\n    <g id=\"ytick_4\">\r\n     <g id=\"line2d_15\">\r\n      <path clip-path=\"url(#pd99429bd13)\" d=\"M 10.7 129.51 \r\nL 173.78 129.51 \r\n\" style=\"fill:none;stroke:#0000ff;stroke-linecap:square;stroke-width:2;\"/>\r\n     </g>\r\n     <g id=\"line2d_16\">\r\n      <g>\r\n       <use style=\"stroke:#000000;stroke-width:0.8;\" x=\"10.7\" xlink:href=\"#md0536c5f76\" y=\"129.51\"/>\r\n      </g>\r\n     </g>\r\n    </g>\r\n   </g>\r\n   <g id=\"patch_14\">\r\n    <path d=\"M 10.7 170.28 \r\nL 10.7 7.2 \r\n\" style=\"fill:none;stroke:#000000;stroke-linecap:square;stroke-linejoin:miter;stroke-width:0.8;\"/>\r\n   </g>\r\n   <g id=\"patch_15\">\r\n    <path d=\"M 173.78 170.28 \r\nL 173.78 7.2 \r\n\" style=\"fill:none;stroke:#000000;stroke-linecap:square;stroke-linejoin:miter;stroke-width:0.8;\"/>\r\n   </g>\r\n   <g id=\"patch_16\">\r\n    <path d=\"M 10.7 170.28 \r\nL 173.78 170.28 \r\n\" style=\"fill:none;stroke:#000000;stroke-linecap:square;stroke-linejoin:miter;stroke-width:0.8;\"/>\r\n   </g>\r\n   <g id=\"patch_17\">\r\n    <path d=\"M 10.7 7.2 \r\nL 173.78 7.2 \r\n\" style=\"fill:none;stroke:#000000;stroke-linecap:square;stroke-linejoin:miter;stroke-width:0.8;\"/>\r\n   </g>\r\n   <g id=\"text_1\">\r\n    <!-- S -->\r\n    <g style=\"fill:#008000;\" transform=\"translate(26.764063 30.89625)scale(0.12 -0.12)\">\r\n     <defs>\r\n      <path d=\"M 3834 4519 \r\nL 3834 3531 \r\nQ 3450 3703 3084 3790 \r\nQ 2719 3878 2394 3878 \r\nQ 1963 3878 1756 3759 \r\nQ 1550 3641 1550 3391 \r\nQ 1550 3203 1689 3098 \r\nQ 1828 2994 2194 2919 \r\nL 2706 2816 \r\nQ 3484 2659 3812 2340 \r\nQ 4141 2022 4141 1434 \r\nQ 4141 663 3683 286 \r\nQ 3225 -91 2284 -91 \r\nQ 1841 -91 1394 -6 \r\nQ 947 78 500 244 \r\nL 500 1259 \r\nQ 947 1022 1364 901 \r\nQ 1781 781 2169 781 \r\nQ 2563 781 2772 912 \r\nQ 2981 1044 2981 1288 \r\nQ 2981 1506 2839 1625 \r\nQ 2697 1744 2272 1838 \r\nL 1806 1941 \r\nQ 1106 2091 782 2419 \r\nQ 459 2747 459 3303 \r\nQ 459 4000 909 4375 \r\nQ 1359 4750 2203 4750 \r\nQ 2588 4750 2994 4692 \r\nQ 3400 4634 3834 4519 \r\nz\r\n\" id=\"DejaVuSans-Bold-53\" transform=\"scale(0.015625)\"/>\r\n     </defs>\r\n     <use xlink:href=\"#DejaVuSans-Bold-53\"/>\r\n    </g>\r\n   </g>\r\n   <g id=\"text_2\">\r\n    <!-- F -->\r\n    <g style=\"fill:#008000;\" transform=\"translate(67.75625 30.89625)scale(0.12 -0.12)\">\r\n     <defs>\r\n      <path d=\"M 588 4666 \r\nL 3834 4666 \r\nL 3834 3756 \r\nL 1791 3756 \r\nL 1791 2888 \r\nL 3713 2888 \r\nL 3713 1978 \r\nL 1791 1978 \r\nL 1791 0 \r\nL 588 0 \r\nL 588 4666 \r\nz\r\n\" id=\"DejaVuSans-Bold-46\" transform=\"scale(0.015625)\"/>\r\n     </defs>\r\n     <use xlink:href=\"#DejaVuSans-Bold-46\"/>\r\n    </g>\r\n   </g>\r\n   <g id=\"text_3\">\r\n    <!-- F -->\r\n    <g style=\"fill:#008000;\" transform=\"translate(108.52625 30.89625)scale(0.12 -0.12)\">\r\n     <use xlink:href=\"#DejaVuSans-Bold-46\"/>\r\n    </g>\r\n   </g>\r\n   <g id=\"text_4\">\r\n    <!-- F -->\r\n    <g style=\"fill:#008000;\" transform=\"translate(149.29625 30.89625)scale(0.12 -0.12)\">\r\n     <use xlink:href=\"#DejaVuSans-Bold-46\"/>\r\n    </g>\r\n   </g>\r\n   <g id=\"text_5\">\r\n    <!-- F -->\r\n    <g style=\"fill:#008000;\" transform=\"translate(26.98625 71.66625)scale(0.12 -0.12)\">\r\n     <use xlink:href=\"#DejaVuSans-Bold-46\"/>\r\n    </g>\r\n   </g>\r\n   <g id=\"text_6\">\r\n    <!-- H -->\r\n    <g style=\"fill:#008000;\" transform=\"translate(66.83375 71.66625)scale(0.12 -0.12)\">\r\n     <defs>\r\n      <path d=\"M 588 4666 \r\nL 1791 4666 \r\nL 1791 2888 \r\nL 3566 2888 \r\nL 3566 4666 \r\nL 4769 4666 \r\nL 4769 0 \r\nL 3566 0 \r\nL 3566 1978 \r\nL 1791 1978 \r\nL 1791 0 \r\nL 588 0 \r\nL 588 4666 \r\nz\r\n\" id=\"DejaVuSans-Bold-48\" transform=\"scale(0.015625)\"/>\r\n     </defs>\r\n     <use xlink:href=\"#DejaVuSans-Bold-48\"/>\r\n    </g>\r\n   </g>\r\n   <g id=\"text_7\">\r\n    <!-- F -->\r\n    <g style=\"fill:#008000;\" transform=\"translate(108.52625 71.66625)scale(0.12 -0.12)\">\r\n     <use xlink:href=\"#DejaVuSans-Bold-46\"/>\r\n    </g>\r\n   </g>\r\n   <g id=\"text_8\">\r\n    <!-- H -->\r\n    <g style=\"fill:#008000;\" transform=\"translate(148.37375 71.66625)scale(0.12 -0.12)\">\r\n     <use xlink:href=\"#DejaVuSans-Bold-48\"/>\r\n    </g>\r\n   </g>\r\n   <g id=\"text_9\">\r\n    <!-- F -->\r\n    <g style=\"fill:#008000;\" transform=\"translate(26.98625 112.43625)scale(0.12 -0.12)\">\r\n     <use xlink:href=\"#DejaVuSans-Bold-46\"/>\r\n    </g>\r\n   </g>\r\n   <g id=\"text_10\">\r\n    <!-- F -->\r\n    <g style=\"fill:#008000;\" transform=\"translate(67.75625 112.43625)scale(0.12 -0.12)\">\r\n     <use xlink:href=\"#DejaVuSans-Bold-46\"/>\r\n    </g>\r\n   </g>\r\n   <g id=\"text_11\">\r\n    <!-- F -->\r\n    <g style=\"fill:#008000;\" transform=\"translate(108.52625 112.43625)scale(0.12 -0.12)\">\r\n     <use xlink:href=\"#DejaVuSans-Bold-46\"/>\r\n    </g>\r\n   </g>\r\n   <g id=\"text_12\">\r\n    <!-- H -->\r\n    <g style=\"fill:#008000;\" transform=\"translate(148.37375 112.43625)scale(0.12 -0.12)\">\r\n     <use xlink:href=\"#DejaVuSans-Bold-48\"/>\r\n    </g>\r\n   </g>\r\n   <g id=\"text_13\">\r\n    <!-- H -->\r\n    <g style=\"fill:#008000;\" transform=\"translate(26.06375 153.20625)scale(0.12 -0.12)\">\r\n     <use xlink:href=\"#DejaVuSans-Bold-48\"/>\r\n    </g>\r\n   </g>\r\n   <g id=\"text_14\">\r\n    <!-- F -->\r\n    <g style=\"fill:#008000;\" transform=\"translate(67.75625 153.20625)scale(0.12 -0.12)\">\r\n     <use xlink:href=\"#DejaVuSans-Bold-46\"/>\r\n    </g>\r\n   </g>\r\n   <g id=\"text_15\">\r\n    <!-- F -->\r\n    <g style=\"fill:#008000;\" transform=\"translate(108.52625 153.20625)scale(0.12 -0.12)\">\r\n     <use xlink:href=\"#DejaVuSans-Bold-46\"/>\r\n    </g>\r\n   </g>\r\n   <g id=\"text_16\">\r\n    <!-- G -->\r\n    <g style=\"fill:#008000;\" transform=\"translate(148.470312 153.20625)scale(0.12 -0.12)\">\r\n     <defs>\r\n      <path d=\"M 4781 347 \r\nQ 4331 128 3847 18 \r\nQ 3363 -91 2847 -91 \r\nQ 1681 -91 1000 561 \r\nQ 319 1213 319 2328 \r\nQ 319 3456 1012 4103 \r\nQ 1706 4750 2913 4750 \r\nQ 3378 4750 3804 4662 \r\nQ 4231 4575 4609 4403 \r\nL 4609 3438 \r\nQ 4219 3659 3833 3768 \r\nQ 3447 3878 3059 3878 \r\nQ 2341 3878 1952 3476 \r\nQ 1563 3075 1563 2328 \r\nQ 1563 1588 1938 1184 \r\nQ 2313 781 3003 781 \r\nQ 3191 781 3352 804 \r\nQ 3513 828 3641 878 \r\nL 3641 1784 \r\nL 2906 1784 \r\nL 2906 2591 \r\nL 4781 2591 \r\nL 4781 347 \r\nz\r\n\" id=\"DejaVuSans-Bold-47\" transform=\"scale(0.015625)\"/>\r\n     </defs>\r\n     <use xlink:href=\"#DejaVuSans-Bold-47\"/>\r\n    </g>\r\n   </g>\r\n  </g>\r\n </g>\r\n <defs>\r\n  <clipPath id=\"pd99429bd13\">\r\n   <rect height=\"163.08\" width=\"163.08\" x=\"10.7\" y=\"7.2\"/>\r\n  </clipPath>\r\n </defs>\r\n</svg>\r\n",
      "image/png": "[encoded data removed]"
     },
     "metadata": {
      "needs_background": "light"
     }
    },
    {
     "output_type": "stream",
     "name": "stdout",
     "text": [
      "after iteration 4\niter    0   |   diff: 0.65610   |   V(start): 0.000 \n"
     ]
    },
    {
     "output_type": "display_data",
     "data": {
      "text/plain": "<Figure size 216x216 with 1 Axes>",
      "image/svg+xml": "<?xml version=\"1.0\" encoding=\"utf-8\" standalone=\"no\"?>\r\n<!DOCTYPE svg PUBLIC \"-//W3C//DTD SVG 1.1//EN\"\r\n  \"http://www.w3.org/Graphics/SVG/1.1/DTD/svg11.dtd\">\r\n<svg height=\"180.98pt\" version=\"1.1\" viewBox=\"0 0 180.98 180.98\" width=\"180.98pt\" xmlns=\"http://www.w3.org/2000/svg\" xmlns:xlink=\"http://www.w3.org/1999/xlink\">\r\n <metadata>\r\n  <rdf:RDF xmlns:cc=\"http://creativecommons.org/ns#\" xmlns:dc=\"http://purl.org/dc/elements/1.1/\" xmlns:rdf=\"http://www.w3.org/1999/02/22-rdf-syntax-ns#\">\r\n   <cc:Work>\r\n    <dc:type rdf:resource=\"http://purl.org/dc/dcmitype/StillImage\"/>\r\n    <dc:date>2021-06-03T00:12:16.614382</dc:date>\r\n    <dc:format>image/svg+xml</dc:format>\r\n    <dc:creator>\r\n     <cc:Agent>\r\n      <dc:title>Matplotlib v3.4.1, https://matplotlib.org/</dc:title>\r\n     </cc:Agent>\r\n    </dc:creator>\r\n   </cc:Work>\r\n  </rdf:RDF>\r\n </metadata>\r\n <defs>\r\n  <style type=\"text/css\">*{stroke-linecap:butt;stroke-linejoin:round;}</style>\r\n </defs>\r\n <g id=\"figure_1\">\r\n  <g id=\"patch_1\">\r\n   <path d=\"M 0 180.98 \r\nL 180.98 180.98 \r\nL 180.98 0 \r\nL 0 0 \r\nz\r\n\" style=\"fill:none;\"/>\r\n  </g>\r\n  <g id=\"axes_1\">\r\n   <g id=\"patch_2\">\r\n    <path d=\"M 10.7 170.28 \r\nL 173.78 170.28 \r\nL 173.78 7.2 \r\nL 10.7 7.2 \r\nz\r\n\" style=\"fill:#ffffff;\"/>\r\n   </g>\r\n   <g clip-path=\"url(#pb7240d18d4)\">\r\n    <image height=\"4\" id=\"image9297ea32eb\" style=\"image-rendering:crisp-edges;image-rendering:pixelated\" transform=\"matrix(41 0 0 41 10.7 6.28)\" width=\"4\" xlink:href=\"data:image/png;base64,\r\niVBORw0KGgoAAAANSUhEUgAAAAQAAAAECAYAAACp8Z5+AAAANUlEQVR4nDXBIQHAAAwDwd8sBNQ/ipy4KKuGDO3uAWobSdwd2C7QJAX6SiIJM8Ovu9u2BfoBY6Ia7IowkrEAAAAASUVORK5CYII=\"/>\r\n   </g>\r\n   <g id=\"patch_3\">\r\n    <path clip-path=\"url(#pb7240d18d4)\" d=\"M 31.085 43.893 \r\nL 33.1235 39.816 \r\nL 31.105385 39.816 \r\nL 31.105385 27.585 \r\nL 31.064615 27.585 \r\nL 31.064615 39.816 \r\nL 29.0465 39.816 \r\nz\r\n\" style=\"fill:#bf00bf;stroke:#bf00bf;stroke-linejoin:miter;\"/>\r\n   </g>\r\n   <g id=\"patch_4\">\r\n    <path clip-path=\"url(#pb7240d18d4)\" d=\"M 88.163 27.585 \r\nL 84.086 25.5465 \r\nL 84.086 27.564615 \r\nL 71.855 27.564615 \r\nL 71.855 27.605385 \r\nL 84.086 27.605385 \r\nL 84.086 29.6235 \r\nz\r\n\" style=\"fill:#bf00bf;stroke:#bf00bf;stroke-linejoin:miter;\"/>\r\n   </g>\r\n   <g id=\"patch_5\">\r\n    <path clip-path=\"url(#pb7240d18d4)\" d=\"M 112.625 43.893 \r\nL 114.6635 39.816 \r\nL 112.645385 39.816 \r\nL 112.645385 27.585 \r\nL 112.604615 27.585 \r\nL 112.604615 39.816 \r\nL 110.5865 39.816 \r\nz\r\n\" style=\"fill:#bf00bf;stroke:#bf00bf;stroke-linejoin:miter;\"/>\r\n   </g>\r\n   <g id=\"patch_6\">\r\n    <path clip-path=\"url(#pb7240d18d4)\" d=\"M 137.087 27.585 \r\nL 141.164 29.6235 \r\nL 141.164 27.605385 \r\nL 153.395 27.605385 \r\nL 153.395 27.564615 \r\nL 141.164 27.564615 \r\nL 141.164 25.5465 \r\nz\r\n\" style=\"fill:#bf00bf;stroke:#bf00bf;stroke-linejoin:miter;\"/>\r\n   </g>\r\n   <g id=\"patch_7\">\r\n    <path clip-path=\"url(#pb7240d18d4)\" d=\"M 31.085 84.663 \r\nL 33.1235 80.586 \r\nL 31.105385 80.586 \r\nL 31.105385 68.355 \r\nL 31.064615 68.355 \r\nL 31.064615 80.586 \r\nL 29.0465 80.586 \r\nz\r\n\" style=\"fill:#bf00bf;stroke:#bf00bf;stroke-linejoin:miter;\"/>\r\n   </g>\r\n   <g id=\"patch_8\">\r\n    <path clip-path=\"url(#pb7240d18d4)\" d=\"M 112.625 84.663 \r\nL 114.6635 80.586 \r\nL 112.645385 80.586 \r\nL 112.645385 68.355 \r\nL 112.604615 68.355 \r\nL 112.604615 80.586 \r\nL 110.5865 80.586 \r\nz\r\n\" style=\"fill:#bf00bf;stroke:#bf00bf;stroke-linejoin:miter;\"/>\r\n   </g>\r\n   <g id=\"patch_9\">\r\n    <path clip-path=\"url(#pb7240d18d4)\" d=\"M 47.393 109.125 \r\nL 43.316 107.0865 \r\nL 43.316 109.104615 \r\nL 31.085 109.104615 \r\nL 31.085 109.145385 \r\nL 43.316 109.145385 \r\nL 43.316 111.1635 \r\nz\r\n\" style=\"fill:#bf00bf;stroke:#bf00bf;stroke-linejoin:miter;\"/>\r\n   </g>\r\n   <g id=\"patch_10\">\r\n    <path clip-path=\"url(#pb7240d18d4)\" d=\"M 71.855 125.433 \r\nL 73.8935 121.356 \r\nL 71.875385 121.356 \r\nL 71.875385 109.125 \r\nL 71.834615 109.125 \r\nL 71.834615 121.356 \r\nL 69.8165 121.356 \r\nz\r\n\" style=\"fill:#bf00bf;stroke:#bf00bf;stroke-linejoin:miter;\"/>\r\n   </g>\r\n   <g id=\"patch_11\">\r\n    <path clip-path=\"url(#pb7240d18d4)\" d=\"M 112.625 125.433 \r\nL 114.6635 121.356 \r\nL 112.645385 121.356 \r\nL 112.645385 109.125 \r\nL 112.604615 109.125 \r\nL 112.604615 121.356 \r\nL 110.5865 121.356 \r\nz\r\n\" style=\"fill:#bf00bf;stroke:#bf00bf;stroke-linejoin:miter;\"/>\r\n   </g>\r\n   <g id=\"patch_12\">\r\n    <path clip-path=\"url(#pb7240d18d4)\" d=\"M 88.163 149.895 \r\nL 84.086 147.8565 \r\nL 84.086 149.874615 \r\nL 71.855 149.874615 \r\nL 71.855 149.915385 \r\nL 84.086 149.915385 \r\nL 84.086 151.9335 \r\nz\r\n\" style=\"fill:#bf00bf;stroke:#bf00bf;stroke-linejoin:miter;\"/>\r\n   </g>\r\n   <g id=\"patch_13\">\r\n    <path clip-path=\"url(#pb7240d18d4)\" d=\"M 128.933 149.895 \r\nL 124.856 147.8565 \r\nL 124.856 149.874615 \r\nL 112.625 149.874615 \r\nL 112.625 149.915385 \r\nL 124.856 149.915385 \r\nL 124.856 151.9335 \r\nz\r\n\" style=\"fill:#bf00bf;stroke:#bf00bf;stroke-linejoin:miter;\"/>\r\n   </g>\r\n   <g id=\"matplotlib.axis_1\">\r\n    <g id=\"xtick_1\">\r\n     <g id=\"line2d_1\">\r\n      <path clip-path=\"url(#pb7240d18d4)\" d=\"M 10.7 170.28 \r\nL 10.7 7.2 \r\n\" style=\"fill:none;stroke:#0000ff;stroke-linecap:square;stroke-width:2;\"/>\r\n     </g>\r\n     <g id=\"line2d_2\">\r\n      <defs>\r\n       <path d=\"M 0 0 \r\nL 0 3.5 \r\n\" id=\"m50a783fa72\" style=\"stroke:#000000;stroke-width:0.8;\"/>\r\n      </defs>\r\n      <g>\r\n       <use style=\"stroke:#000000;stroke-width:0.8;\" x=\"10.7\" xlink:href=\"#m50a783fa72\" y=\"170.28\"/>\r\n      </g>\r\n     </g>\r\n    </g>\r\n    <g id=\"xtick_2\">\r\n     <g id=\"line2d_3\">\r\n      <path clip-path=\"url(#pb7240d18d4)\" d=\"M 51.47 170.28 \r\nL 51.47 7.2 \r\n\" style=\"fill:none;stroke:#0000ff;stroke-linecap:square;stroke-width:2;\"/>\r\n     </g>\r\n     <g id=\"line2d_4\">\r\n      <g>\r\n       <use style=\"stroke:#000000;stroke-width:0.8;\" x=\"51.47\" xlink:href=\"#m50a783fa72\" y=\"170.28\"/>\r\n      </g>\r\n     </g>\r\n    </g>\r\n    <g id=\"xtick_3\">\r\n     <g id=\"line2d_5\">\r\n      <path clip-path=\"url(#pb7240d18d4)\" d=\"M 92.24 170.28 \r\nL 92.24 7.2 \r\n\" style=\"fill:none;stroke:#0000ff;stroke-linecap:square;stroke-width:2;\"/>\r\n     </g>\r\n     <g id=\"line2d_6\">\r\n      <g>\r\n       <use style=\"stroke:#000000;stroke-width:0.8;\" x=\"92.24\" xlink:href=\"#m50a783fa72\" y=\"170.28\"/>\r\n      </g>\r\n     </g>\r\n    </g>\r\n    <g id=\"xtick_4\">\r\n     <g id=\"line2d_7\">\r\n      <path clip-path=\"url(#pb7240d18d4)\" d=\"M 133.01 170.28 \r\nL 133.01 7.2 \r\n\" style=\"fill:none;stroke:#0000ff;stroke-linecap:square;stroke-width:2;\"/>\r\n     </g>\r\n     <g id=\"line2d_8\">\r\n      <g>\r\n       <use style=\"stroke:#000000;stroke-width:0.8;\" x=\"133.01\" xlink:href=\"#m50a783fa72\" y=\"170.28\"/>\r\n      </g>\r\n     </g>\r\n    </g>\r\n   </g>\r\n   <g id=\"matplotlib.axis_2\">\r\n    <g id=\"ytick_1\">\r\n     <g id=\"line2d_9\">\r\n      <path clip-path=\"url(#pb7240d18d4)\" d=\"M 10.7 7.2 \r\nL 173.78 7.2 \r\n\" style=\"fill:none;stroke:#0000ff;stroke-linecap:square;stroke-width:2;\"/>\r\n     </g>\r\n     <g id=\"line2d_10\">\r\n      <defs>\r\n       <path d=\"M 0 0 \r\nL -3.5 0 \r\n\" id=\"mde89558967\" style=\"stroke:#000000;stroke-width:0.8;\"/>\r\n      </defs>\r\n      <g>\r\n       <use style=\"stroke:#000000;stroke-width:0.8;\" x=\"10.7\" xlink:href=\"#mde89558967\" y=\"7.2\"/>\r\n      </g>\r\n     </g>\r\n    </g>\r\n    <g id=\"ytick_2\">\r\n     <g id=\"line2d_11\">\r\n      <path clip-path=\"url(#pb7240d18d4)\" d=\"M 10.7 47.97 \r\nL 173.78 47.97 \r\n\" style=\"fill:none;stroke:#0000ff;stroke-linecap:square;stroke-width:2;\"/>\r\n     </g>\r\n     <g id=\"line2d_12\">\r\n      <g>\r\n       <use style=\"stroke:#000000;stroke-width:0.8;\" x=\"10.7\" xlink:href=\"#mde89558967\" y=\"47.97\"/>\r\n      </g>\r\n     </g>\r\n    </g>\r\n    <g id=\"ytick_3\">\r\n     <g id=\"line2d_13\">\r\n      <path clip-path=\"url(#pb7240d18d4)\" d=\"M 10.7 88.74 \r\nL 173.78 88.74 \r\n\" style=\"fill:none;stroke:#0000ff;stroke-linecap:square;stroke-width:2;\"/>\r\n     </g>\r\n     <g id=\"line2d_14\">\r\n      <g>\r\n       <use style=\"stroke:#000000;stroke-width:0.8;\" x=\"10.7\" xlink:href=\"#mde89558967\" y=\"88.74\"/>\r\n      </g>\r\n     </g>\r\n    </g>\r\n    <g id=\"ytick_4\">\r\n     <g id=\"line2d_15\">\r\n      <path clip-path=\"url(#pb7240d18d4)\" d=\"M 10.7 129.51 \r\nL 173.78 129.51 \r\n\" style=\"fill:none;stroke:#0000ff;stroke-linecap:square;stroke-width:2;\"/>\r\n     </g>\r\n     <g id=\"line2d_16\">\r\n      <g>\r\n       <use style=\"stroke:#000000;stroke-width:0.8;\" x=\"10.7\" xlink:href=\"#mde89558967\" y=\"129.51\"/>\r\n      </g>\r\n     </g>\r\n    </g>\r\n   </g>\r\n   <g id=\"patch_14\">\r\n    <path d=\"M 10.7 170.28 \r\nL 10.7 7.2 \r\n\" style=\"fill:none;stroke:#000000;stroke-linecap:square;stroke-linejoin:miter;stroke-width:0.8;\"/>\r\n   </g>\r\n   <g id=\"patch_15\">\r\n    <path d=\"M 173.78 170.28 \r\nL 173.78 7.2 \r\n\" style=\"fill:none;stroke:#000000;stroke-linecap:square;stroke-linejoin:miter;stroke-width:0.8;\"/>\r\n   </g>\r\n   <g id=\"patch_16\">\r\n    <path d=\"M 10.7 170.28 \r\nL 173.78 170.28 \r\n\" style=\"fill:none;stroke:#000000;stroke-linecap:square;stroke-linejoin:miter;stroke-width:0.8;\"/>\r\n   </g>\r\n   <g id=\"patch_17\">\r\n    <path d=\"M 10.7 7.2 \r\nL 173.78 7.2 \r\n\" style=\"fill:none;stroke:#000000;stroke-linecap:square;stroke-linejoin:miter;stroke-width:0.8;\"/>\r\n   </g>\r\n   <g id=\"text_1\">\r\n    <!-- S -->\r\n    <g style=\"fill:#008000;\" transform=\"translate(26.764063 30.89625)scale(0.12 -0.12)\">\r\n     <defs>\r\n      <path d=\"M 3834 4519 \r\nL 3834 3531 \r\nQ 3450 3703 3084 3790 \r\nQ 2719 3878 2394 3878 \r\nQ 1963 3878 1756 3759 \r\nQ 1550 3641 1550 3391 \r\nQ 1550 3203 1689 3098 \r\nQ 1828 2994 2194 2919 \r\nL 2706 2816 \r\nQ 3484 2659 3812 2340 \r\nQ 4141 2022 4141 1434 \r\nQ 4141 663 3683 286 \r\nQ 3225 -91 2284 -91 \r\nQ 1841 -91 1394 -6 \r\nQ 947 78 500 244 \r\nL 500 1259 \r\nQ 947 1022 1364 901 \r\nQ 1781 781 2169 781 \r\nQ 2563 781 2772 912 \r\nQ 2981 1044 2981 1288 \r\nQ 2981 1506 2839 1625 \r\nQ 2697 1744 2272 1838 \r\nL 1806 1941 \r\nQ 1106 2091 782 2419 \r\nQ 459 2747 459 3303 \r\nQ 459 4000 909 4375 \r\nQ 1359 4750 2203 4750 \r\nQ 2588 4750 2994 4692 \r\nQ 3400 4634 3834 4519 \r\nz\r\n\" id=\"DejaVuSans-Bold-53\" transform=\"scale(0.015625)\"/>\r\n     </defs>\r\n     <use xlink:href=\"#DejaVuSans-Bold-53\"/>\r\n    </g>\r\n   </g>\r\n   <g id=\"text_2\">\r\n    <!-- F -->\r\n    <g style=\"fill:#008000;\" transform=\"translate(67.75625 30.89625)scale(0.12 -0.12)\">\r\n     <defs>\r\n      <path d=\"M 588 4666 \r\nL 3834 4666 \r\nL 3834 3756 \r\nL 1791 3756 \r\nL 1791 2888 \r\nL 3713 2888 \r\nL 3713 1978 \r\nL 1791 1978 \r\nL 1791 0 \r\nL 588 0 \r\nL 588 4666 \r\nz\r\n\" id=\"DejaVuSans-Bold-46\" transform=\"scale(0.015625)\"/>\r\n     </defs>\r\n     <use xlink:href=\"#DejaVuSans-Bold-46\"/>\r\n    </g>\r\n   </g>\r\n   <g id=\"text_3\">\r\n    <!-- F -->\r\n    <g style=\"fill:#008000;\" transform=\"translate(108.52625 30.89625)scale(0.12 -0.12)\">\r\n     <use xlink:href=\"#DejaVuSans-Bold-46\"/>\r\n    </g>\r\n   </g>\r\n   <g id=\"text_4\">\r\n    <!-- F -->\r\n    <g style=\"fill:#008000;\" transform=\"translate(149.29625 30.89625)scale(0.12 -0.12)\">\r\n     <use xlink:href=\"#DejaVuSans-Bold-46\"/>\r\n    </g>\r\n   </g>\r\n   <g id=\"text_5\">\r\n    <!-- F -->\r\n    <g style=\"fill:#008000;\" transform=\"translate(26.98625 71.66625)scale(0.12 -0.12)\">\r\n     <use xlink:href=\"#DejaVuSans-Bold-46\"/>\r\n    </g>\r\n   </g>\r\n   <g id=\"text_6\">\r\n    <!-- H -->\r\n    <g style=\"fill:#008000;\" transform=\"translate(66.83375 71.66625)scale(0.12 -0.12)\">\r\n     <defs>\r\n      <path d=\"M 588 4666 \r\nL 1791 4666 \r\nL 1791 2888 \r\nL 3566 2888 \r\nL 3566 4666 \r\nL 4769 4666 \r\nL 4769 0 \r\nL 3566 0 \r\nL 3566 1978 \r\nL 1791 1978 \r\nL 1791 0 \r\nL 588 0 \r\nL 588 4666 \r\nz\r\n\" id=\"DejaVuSans-Bold-48\" transform=\"scale(0.015625)\"/>\r\n     </defs>\r\n     <use xlink:href=\"#DejaVuSans-Bold-48\"/>\r\n    </g>\r\n   </g>\r\n   <g id=\"text_7\">\r\n    <!-- F -->\r\n    <g style=\"fill:#008000;\" transform=\"translate(108.52625 71.66625)scale(0.12 -0.12)\">\r\n     <use xlink:href=\"#DejaVuSans-Bold-46\"/>\r\n    </g>\r\n   </g>\r\n   <g id=\"text_8\">\r\n    <!-- H -->\r\n    <g style=\"fill:#008000;\" transform=\"translate(148.37375 71.66625)scale(0.12 -0.12)\">\r\n     <use xlink:href=\"#DejaVuSans-Bold-48\"/>\r\n    </g>\r\n   </g>\r\n   <g id=\"text_9\">\r\n    <!-- F -->\r\n    <g style=\"fill:#008000;\" transform=\"translate(26.98625 112.43625)scale(0.12 -0.12)\">\r\n     <use xlink:href=\"#DejaVuSans-Bold-46\"/>\r\n    </g>\r\n   </g>\r\n   <g id=\"text_10\">\r\n    <!-- F -->\r\n    <g style=\"fill:#008000;\" transform=\"translate(67.75625 112.43625)scale(0.12 -0.12)\">\r\n     <use xlink:href=\"#DejaVuSans-Bold-46\"/>\r\n    </g>\r\n   </g>\r\n   <g id=\"text_11\">\r\n    <!-- F -->\r\n    <g style=\"fill:#008000;\" transform=\"translate(108.52625 112.43625)scale(0.12 -0.12)\">\r\n     <use xlink:href=\"#DejaVuSans-Bold-46\"/>\r\n    </g>\r\n   </g>\r\n   <g id=\"text_12\">\r\n    <!-- H -->\r\n    <g style=\"fill:#008000;\" transform=\"translate(148.37375 112.43625)scale(0.12 -0.12)\">\r\n     <use xlink:href=\"#DejaVuSans-Bold-48\"/>\r\n    </g>\r\n   </g>\r\n   <g id=\"text_13\">\r\n    <!-- H -->\r\n    <g style=\"fill:#008000;\" transform=\"translate(26.06375 153.20625)scale(0.12 -0.12)\">\r\n     <use xlink:href=\"#DejaVuSans-Bold-48\"/>\r\n    </g>\r\n   </g>\r\n   <g id=\"text_14\">\r\n    <!-- F -->\r\n    <g style=\"fill:#008000;\" transform=\"translate(67.75625 153.20625)scale(0.12 -0.12)\">\r\n     <use xlink:href=\"#DejaVuSans-Bold-46\"/>\r\n    </g>\r\n   </g>\r\n   <g id=\"text_15\">\r\n    <!-- F -->\r\n    <g style=\"fill:#008000;\" transform=\"translate(108.52625 153.20625)scale(0.12 -0.12)\">\r\n     <use xlink:href=\"#DejaVuSans-Bold-46\"/>\r\n    </g>\r\n   </g>\r\n   <g id=\"text_16\">\r\n    <!-- G -->\r\n    <g style=\"fill:#008000;\" transform=\"translate(148.470312 153.20625)scale(0.12 -0.12)\">\r\n     <defs>\r\n      <path d=\"M 4781 347 \r\nQ 4331 128 3847 18 \r\nQ 3363 -91 2847 -91 \r\nQ 1681 -91 1000 561 \r\nQ 319 1213 319 2328 \r\nQ 319 3456 1012 4103 \r\nQ 1706 4750 2913 4750 \r\nQ 3378 4750 3804 4662 \r\nQ 4231 4575 4609 4403 \r\nL 4609 3438 \r\nQ 4219 3659 3833 3768 \r\nQ 3447 3878 3059 3878 \r\nQ 2341 3878 1952 3476 \r\nQ 1563 3075 1563 2328 \r\nQ 1563 1588 1938 1184 \r\nQ 2313 781 3003 781 \r\nQ 3191 781 3352 804 \r\nQ 3513 828 3641 878 \r\nL 3641 1784 \r\nL 2906 1784 \r\nL 2906 2591 \r\nL 4781 2591 \r\nL 4781 347 \r\nz\r\n\" id=\"DejaVuSans-Bold-47\" transform=\"scale(0.015625)\"/>\r\n     </defs>\r\n     <use xlink:href=\"#DejaVuSans-Bold-47\"/>\r\n    </g>\r\n   </g>\r\n  </g>\r\n </g>\r\n <defs>\r\n  <clipPath id=\"pb7240d18d4\">\r\n   <rect height=\"163.08\" width=\"163.08\" x=\"10.7\" y=\"7.2\"/>\r\n  </clipPath>\r\n </defs>\r\n</svg>\r\n",
      "image/png": "[encoded data removed]"
     },
     "metadata": {
      "needs_background": "light"
     }
    },
    {
     "output_type": "stream",
     "name": "stdout",
     "text": [
      "after iteration 5\niter    0   |   diff: 0.59049   |   V(start): 0.590 \n"
     ]
    },
    {
     "output_type": "display_data",
     "data": {
      "text/plain": "<Figure size 216x216 with 1 Axes>",
      "image/svg+xml": "<?xml version=\"1.0\" encoding=\"utf-8\" standalone=\"no\"?>\r\n<!DOCTYPE svg PUBLIC \"-//W3C//DTD SVG 1.1//EN\"\r\n  \"http://www.w3.org/Graphics/SVG/1.1/DTD/svg11.dtd\">\r\n<svg height=\"180.98pt\" version=\"1.1\" viewBox=\"0 0 180.98 180.98\" width=\"180.98pt\" xmlns=\"http://www.w3.org/2000/svg\" xmlns:xlink=\"http://www.w3.org/1999/xlink\">\r\n <metadata>\r\n  <rdf:RDF xmlns:cc=\"http://creativecommons.org/ns#\" xmlns:dc=\"http://purl.org/dc/elements/1.1/\" xmlns:rdf=\"http://www.w3.org/1999/02/22-rdf-syntax-ns#\">\r\n   <cc:Work>\r\n    <dc:type rdf:resource=\"http://purl.org/dc/dcmitype/StillImage\"/>\r\n    <dc:date>2021-06-03T00:12:16.805385</dc:date>\r\n    <dc:format>image/svg+xml</dc:format>\r\n    <dc:creator>\r\n     <cc:Agent>\r\n      <dc:title>Matplotlib v3.4.1, https://matplotlib.org/</dc:title>\r\n     </cc:Agent>\r\n    </dc:creator>\r\n   </cc:Work>\r\n  </rdf:RDF>\r\n </metadata>\r\n <defs>\r\n  <style type=\"text/css\">*{stroke-linecap:butt;stroke-linejoin:round;}</style>\r\n </defs>\r\n <g id=\"figure_1\">\r\n  <g id=\"patch_1\">\r\n   <path d=\"M 0 180.98 \r\nL 180.98 180.98 \r\nL 180.98 0 \r\nL 0 0 \r\nz\r\n\" style=\"fill:none;\"/>\r\n  </g>\r\n  <g id=\"axes_1\">\r\n   <g id=\"patch_2\">\r\n    <path d=\"M 10.7 170.28 \r\nL 173.78 170.28 \r\nL 173.78 7.2 \r\nL 10.7 7.2 \r\nz\r\n\" style=\"fill:#ffffff;\"/>\r\n   </g>\r\n   <g clip-path=\"url(#pf4825a7048)\">\r\n    <image height=\"4\" id=\"imagec037f92655\" style=\"image-rendering:crisp-edges;image-rendering:pixelated\" transform=\"matrix(41 0 0 41 10.7 6.28)\" width=\"4\" xlink:href=\"data:image/png;base64,\r\niVBORw0KGgoAAAANSUhEUgAAAAQAAAAECAYAAACp8Z5+AAAAOUlEQVR4nDXBMRHAAAgEwUsUMEOBdCQg513QoeFTZffpbkcEmcndwcwYsCQDfjMTSVQVP++ubRvwB2q2GuxcSPqxAAAAAElFTkSuQmCC\"/>\r\n   </g>\r\n   <g id=\"patch_3\">\r\n    <path clip-path=\"url(#pf4825a7048)\" d=\"M 31.085 43.893 \r\nL 33.1235 39.816 \r\nL 31.105385 39.816 \r\nL 31.105385 27.585 \r\nL 31.064615 27.585 \r\nL 31.064615 39.816 \r\nL 29.0465 39.816 \r\nz\r\n\" style=\"fill:#bf00bf;stroke:#bf00bf;stroke-linejoin:miter;\"/>\r\n   </g>\r\n   <g id=\"patch_4\">\r\n    <path clip-path=\"url(#pf4825a7048)\" d=\"M 88.163 27.585 \r\nL 84.086 25.5465 \r\nL 84.086 27.564615 \r\nL 71.855 27.564615 \r\nL 71.855 27.605385 \r\nL 84.086 27.605385 \r\nL 84.086 29.6235 \r\nz\r\n\" style=\"fill:#bf00bf;stroke:#bf00bf;stroke-linejoin:miter;\"/>\r\n   </g>\r\n   <g id=\"patch_5\">\r\n    <path clip-path=\"url(#pf4825a7048)\" d=\"M 112.625 43.893 \r\nL 114.6635 39.816 \r\nL 112.645385 39.816 \r\nL 112.645385 27.585 \r\nL 112.604615 27.585 \r\nL 112.604615 39.816 \r\nL 110.5865 39.816 \r\nz\r\n\" style=\"fill:#bf00bf;stroke:#bf00bf;stroke-linejoin:miter;\"/>\r\n   </g>\r\n   <g id=\"patch_6\">\r\n    <path clip-path=\"url(#pf4825a7048)\" d=\"M 137.087 27.585 \r\nL 141.164 29.6235 \r\nL 141.164 27.605385 \r\nL 153.395 27.605385 \r\nL 153.395 27.564615 \r\nL 141.164 27.564615 \r\nL 141.164 25.5465 \r\nz\r\n\" style=\"fill:#bf00bf;stroke:#bf00bf;stroke-linejoin:miter;\"/>\r\n   </g>\r\n   <g id=\"patch_7\">\r\n    <path clip-path=\"url(#pf4825a7048)\" d=\"M 31.085 84.663 \r\nL 33.1235 80.586 \r\nL 31.105385 80.586 \r\nL 31.105385 68.355 \r\nL 31.064615 68.355 \r\nL 31.064615 80.586 \r\nL 29.0465 80.586 \r\nz\r\n\" style=\"fill:#bf00bf;stroke:#bf00bf;stroke-linejoin:miter;\"/>\r\n   </g>\r\n   <g id=\"patch_8\">\r\n    <path clip-path=\"url(#pf4825a7048)\" d=\"M 112.625 84.663 \r\nL 114.6635 80.586 \r\nL 112.645385 80.586 \r\nL 112.645385 68.355 \r\nL 112.604615 68.355 \r\nL 112.604615 80.586 \r\nL 110.5865 80.586 \r\nz\r\n\" style=\"fill:#bf00bf;stroke:#bf00bf;stroke-linejoin:miter;\"/>\r\n   </g>\r\n   <g id=\"patch_9\">\r\n    <path clip-path=\"url(#pf4825a7048)\" d=\"M 47.393 109.125 \r\nL 43.316 107.0865 \r\nL 43.316 109.104615 \r\nL 31.085 109.104615 \r\nL 31.085 109.145385 \r\nL 43.316 109.145385 \r\nL 43.316 111.1635 \r\nz\r\n\" style=\"fill:#bf00bf;stroke:#bf00bf;stroke-linejoin:miter;\"/>\r\n   </g>\r\n   <g id=\"patch_10\">\r\n    <path clip-path=\"url(#pf4825a7048)\" d=\"M 71.855 125.433 \r\nL 73.8935 121.356 \r\nL 71.875385 121.356 \r\nL 71.875385 109.125 \r\nL 71.834615 109.125 \r\nL 71.834615 121.356 \r\nL 69.8165 121.356 \r\nz\r\n\" style=\"fill:#bf00bf;stroke:#bf00bf;stroke-linejoin:miter;\"/>\r\n   </g>\r\n   <g id=\"patch_11\">\r\n    <path clip-path=\"url(#pf4825a7048)\" d=\"M 112.625 125.433 \r\nL 114.6635 121.356 \r\nL 112.645385 121.356 \r\nL 112.645385 109.125 \r\nL 112.604615 109.125 \r\nL 112.604615 121.356 \r\nL 110.5865 121.356 \r\nz\r\n\" style=\"fill:#bf00bf;stroke:#bf00bf;stroke-linejoin:miter;\"/>\r\n   </g>\r\n   <g id=\"patch_12\">\r\n    <path clip-path=\"url(#pf4825a7048)\" d=\"M 88.163 149.895 \r\nL 84.086 147.8565 \r\nL 84.086 149.874615 \r\nL 71.855 149.874615 \r\nL 71.855 149.915385 \r\nL 84.086 149.915385 \r\nL 84.086 151.9335 \r\nz\r\n\" style=\"fill:#bf00bf;stroke:#bf00bf;stroke-linejoin:miter;\"/>\r\n   </g>\r\n   <g id=\"patch_13\">\r\n    <path clip-path=\"url(#pf4825a7048)\" d=\"M 128.933 149.895 \r\nL 124.856 147.8565 \r\nL 124.856 149.874615 \r\nL 112.625 149.874615 \r\nL 112.625 149.915385 \r\nL 124.856 149.915385 \r\nL 124.856 151.9335 \r\nz\r\n\" style=\"fill:#bf00bf;stroke:#bf00bf;stroke-linejoin:miter;\"/>\r\n   </g>\r\n   <g id=\"matplotlib.axis_1\">\r\n    <g id=\"xtick_1\">\r\n     <g id=\"line2d_1\">\r\n      <path clip-path=\"url(#pf4825a7048)\" d=\"M 10.7 170.28 \r\nL 10.7 7.2 \r\n\" style=\"fill:none;stroke:#0000ff;stroke-linecap:square;stroke-width:2;\"/>\r\n     </g>\r\n     <g id=\"line2d_2\">\r\n      <defs>\r\n       <path d=\"M 0 0 \r\nL 0 3.5 \r\n\" id=\"mc1471e2691\" style=\"stroke:#000000;stroke-width:0.8;\"/>\r\n      </defs>\r\n      <g>\r\n       <use style=\"stroke:#000000;stroke-width:0.8;\" x=\"10.7\" xlink:href=\"#mc1471e2691\" y=\"170.28\"/>\r\n      </g>\r\n     </g>\r\n    </g>\r\n    <g id=\"xtick_2\">\r\n     <g id=\"line2d_3\">\r\n      <path clip-path=\"url(#pf4825a7048)\" d=\"M 51.47 170.28 \r\nL 51.47 7.2 \r\n\" style=\"fill:none;stroke:#0000ff;stroke-linecap:square;stroke-width:2;\"/>\r\n     </g>\r\n     <g id=\"line2d_4\">\r\n      <g>\r\n       <use style=\"stroke:#000000;stroke-width:0.8;\" x=\"51.47\" xlink:href=\"#mc1471e2691\" y=\"170.28\"/>\r\n      </g>\r\n     </g>\r\n    </g>\r\n    <g id=\"xtick_3\">\r\n     <g id=\"line2d_5\">\r\n      <path clip-path=\"url(#pf4825a7048)\" d=\"M 92.24 170.28 \r\nL 92.24 7.2 \r\n\" style=\"fill:none;stroke:#0000ff;stroke-linecap:square;stroke-width:2;\"/>\r\n     </g>\r\n     <g id=\"line2d_6\">\r\n      <g>\r\n       <use style=\"stroke:#000000;stroke-width:0.8;\" x=\"92.24\" xlink:href=\"#mc1471e2691\" y=\"170.28\"/>\r\n      </g>\r\n     </g>\r\n    </g>\r\n    <g id=\"xtick_4\">\r\n     <g id=\"line2d_7\">\r\n      <path clip-path=\"url(#pf4825a7048)\" d=\"M 133.01 170.28 \r\nL 133.01 7.2 \r\n\" style=\"fill:none;stroke:#0000ff;stroke-linecap:square;stroke-width:2;\"/>\r\n     </g>\r\n     <g id=\"line2d_8\">\r\n      <g>\r\n       <use style=\"stroke:#000000;stroke-width:0.8;\" x=\"133.01\" xlink:href=\"#mc1471e2691\" y=\"170.28\"/>\r\n      </g>\r\n     </g>\r\n    </g>\r\n   </g>\r\n   <g id=\"matplotlib.axis_2\">\r\n    <g id=\"ytick_1\">\r\n     <g id=\"line2d_9\">\r\n      <path clip-path=\"url(#pf4825a7048)\" d=\"M 10.7 7.2 \r\nL 173.78 7.2 \r\n\" style=\"fill:none;stroke:#0000ff;stroke-linecap:square;stroke-width:2;\"/>\r\n     </g>\r\n     <g id=\"line2d_10\">\r\n      <defs>\r\n       <path d=\"M 0 0 \r\nL -3.5 0 \r\n\" id=\"m03e7087687\" style=\"stroke:#000000;stroke-width:0.8;\"/>\r\n      </defs>\r\n      <g>\r\n       <use style=\"stroke:#000000;stroke-width:0.8;\" x=\"10.7\" xlink:href=\"#m03e7087687\" y=\"7.2\"/>\r\n      </g>\r\n     </g>\r\n    </g>\r\n    <g id=\"ytick_2\">\r\n     <g id=\"line2d_11\">\r\n      <path clip-path=\"url(#pf4825a7048)\" d=\"M 10.7 47.97 \r\nL 173.78 47.97 \r\n\" style=\"fill:none;stroke:#0000ff;stroke-linecap:square;stroke-width:2;\"/>\r\n     </g>\r\n     <g id=\"line2d_12\">\r\n      <g>\r\n       <use style=\"stroke:#000000;stroke-width:0.8;\" x=\"10.7\" xlink:href=\"#m03e7087687\" y=\"47.97\"/>\r\n      </g>\r\n     </g>\r\n    </g>\r\n    <g id=\"ytick_3\">\r\n     <g id=\"line2d_13\">\r\n      <path clip-path=\"url(#pf4825a7048)\" d=\"M 10.7 88.74 \r\nL 173.78 88.74 \r\n\" style=\"fill:none;stroke:#0000ff;stroke-linecap:square;stroke-width:2;\"/>\r\n     </g>\r\n     <g id=\"line2d_14\">\r\n      <g>\r\n       <use style=\"stroke:#000000;stroke-width:0.8;\" x=\"10.7\" xlink:href=\"#m03e7087687\" y=\"88.74\"/>\r\n      </g>\r\n     </g>\r\n    </g>\r\n    <g id=\"ytick_4\">\r\n     <g id=\"line2d_15\">\r\n      <path clip-path=\"url(#pf4825a7048)\" d=\"M 10.7 129.51 \r\nL 173.78 129.51 \r\n\" style=\"fill:none;stroke:#0000ff;stroke-linecap:square;stroke-width:2;\"/>\r\n     </g>\r\n     <g id=\"line2d_16\">\r\n      <g>\r\n       <use style=\"stroke:#000000;stroke-width:0.8;\" x=\"10.7\" xlink:href=\"#m03e7087687\" y=\"129.51\"/>\r\n      </g>\r\n     </g>\r\n    </g>\r\n   </g>\r\n   <g id=\"patch_14\">\r\n    <path d=\"M 10.7 170.28 \r\nL 10.7 7.2 \r\n\" style=\"fill:none;stroke:#000000;stroke-linecap:square;stroke-linejoin:miter;stroke-width:0.8;\"/>\r\n   </g>\r\n   <g id=\"patch_15\">\r\n    <path d=\"M 173.78 170.28 \r\nL 173.78 7.2 \r\n\" style=\"fill:none;stroke:#000000;stroke-linecap:square;stroke-linejoin:miter;stroke-width:0.8;\"/>\r\n   </g>\r\n   <g id=\"patch_16\">\r\n    <path d=\"M 10.7 170.28 \r\nL 173.78 170.28 \r\n\" style=\"fill:none;stroke:#000000;stroke-linecap:square;stroke-linejoin:miter;stroke-width:0.8;\"/>\r\n   </g>\r\n   <g id=\"patch_17\">\r\n    <path d=\"M 10.7 7.2 \r\nL 173.78 7.2 \r\n\" style=\"fill:none;stroke:#000000;stroke-linecap:square;stroke-linejoin:miter;stroke-width:0.8;\"/>\r\n   </g>\r\n   <g id=\"text_1\">\r\n    <!-- S -->\r\n    <g style=\"fill:#008000;\" transform=\"translate(26.764063 30.89625)scale(0.12 -0.12)\">\r\n     <defs>\r\n      <path d=\"M 3834 4519 \r\nL 3834 3531 \r\nQ 3450 3703 3084 3790 \r\nQ 2719 3878 2394 3878 \r\nQ 1963 3878 1756 3759 \r\nQ 1550 3641 1550 3391 \r\nQ 1550 3203 1689 3098 \r\nQ 1828 2994 2194 2919 \r\nL 2706 2816 \r\nQ 3484 2659 3812 2340 \r\nQ 4141 2022 4141 1434 \r\nQ 4141 663 3683 286 \r\nQ 3225 -91 2284 -91 \r\nQ 1841 -91 1394 -6 \r\nQ 947 78 500 244 \r\nL 500 1259 \r\nQ 947 1022 1364 901 \r\nQ 1781 781 2169 781 \r\nQ 2563 781 2772 912 \r\nQ 2981 1044 2981 1288 \r\nQ 2981 1506 2839 1625 \r\nQ 2697 1744 2272 1838 \r\nL 1806 1941 \r\nQ 1106 2091 782 2419 \r\nQ 459 2747 459 3303 \r\nQ 459 4000 909 4375 \r\nQ 1359 4750 2203 4750 \r\nQ 2588 4750 2994 4692 \r\nQ 3400 4634 3834 4519 \r\nz\r\n\" id=\"DejaVuSans-Bold-53\" transform=\"scale(0.015625)\"/>\r\n     </defs>\r\n     <use xlink:href=\"#DejaVuSans-Bold-53\"/>\r\n    </g>\r\n   </g>\r\n   <g id=\"text_2\">\r\n    <!-- F -->\r\n    <g style=\"fill:#008000;\" transform=\"translate(67.75625 30.89625)scale(0.12 -0.12)\">\r\n     <defs>\r\n      <path d=\"M 588 4666 \r\nL 3834 4666 \r\nL 3834 3756 \r\nL 1791 3756 \r\nL 1791 2888 \r\nL 3713 2888 \r\nL 3713 1978 \r\nL 1791 1978 \r\nL 1791 0 \r\nL 588 0 \r\nL 588 4666 \r\nz\r\n\" id=\"DejaVuSans-Bold-46\" transform=\"scale(0.015625)\"/>\r\n     </defs>\r\n     <use xlink:href=\"#DejaVuSans-Bold-46\"/>\r\n    </g>\r\n   </g>\r\n   <g id=\"text_3\">\r\n    <!-- F -->\r\n    <g style=\"fill:#008000;\" transform=\"translate(108.52625 30.89625)scale(0.12 -0.12)\">\r\n     <use xlink:href=\"#DejaVuSans-Bold-46\"/>\r\n    </g>\r\n   </g>\r\n   <g id=\"text_4\">\r\n    <!-- F -->\r\n    <g style=\"fill:#008000;\" transform=\"translate(149.29625 30.89625)scale(0.12 -0.12)\">\r\n     <use xlink:href=\"#DejaVuSans-Bold-46\"/>\r\n    </g>\r\n   </g>\r\n   <g id=\"text_5\">\r\n    <!-- F -->\r\n    <g style=\"fill:#008000;\" transform=\"translate(26.98625 71.66625)scale(0.12 -0.12)\">\r\n     <use xlink:href=\"#DejaVuSans-Bold-46\"/>\r\n    </g>\r\n   </g>\r\n   <g id=\"text_6\">\r\n    <!-- H -->\r\n    <g style=\"fill:#008000;\" transform=\"translate(66.83375 71.66625)scale(0.12 -0.12)\">\r\n     <defs>\r\n      <path d=\"M 588 4666 \r\nL 1791 4666 \r\nL 1791 2888 \r\nL 3566 2888 \r\nL 3566 4666 \r\nL 4769 4666 \r\nL 4769 0 \r\nL 3566 0 \r\nL 3566 1978 \r\nL 1791 1978 \r\nL 1791 0 \r\nL 588 0 \r\nL 588 4666 \r\nz\r\n\" id=\"DejaVuSans-Bold-48\" transform=\"scale(0.015625)\"/>\r\n     </defs>\r\n     <use xlink:href=\"#DejaVuSans-Bold-48\"/>\r\n    </g>\r\n   </g>\r\n   <g id=\"text_7\">\r\n    <!-- F -->\r\n    <g style=\"fill:#008000;\" transform=\"translate(108.52625 71.66625)scale(0.12 -0.12)\">\r\n     <use xlink:href=\"#DejaVuSans-Bold-46\"/>\r\n    </g>\r\n   </g>\r\n   <g id=\"text_8\">\r\n    <!-- H -->\r\n    <g style=\"fill:#008000;\" transform=\"translate(148.37375 71.66625)scale(0.12 -0.12)\">\r\n     <use xlink:href=\"#DejaVuSans-Bold-48\"/>\r\n    </g>\r\n   </g>\r\n   <g id=\"text_9\">\r\n    <!-- F -->\r\n    <g style=\"fill:#008000;\" transform=\"translate(26.98625 112.43625)scale(0.12 -0.12)\">\r\n     <use xlink:href=\"#DejaVuSans-Bold-46\"/>\r\n    </g>\r\n   </g>\r\n   <g id=\"text_10\">\r\n    <!-- F -->\r\n    <g style=\"fill:#008000;\" transform=\"translate(67.75625 112.43625)scale(0.12 -0.12)\">\r\n     <use xlink:href=\"#DejaVuSans-Bold-46\"/>\r\n    </g>\r\n   </g>\r\n   <g id=\"text_11\">\r\n    <!-- F -->\r\n    <g style=\"fill:#008000;\" transform=\"translate(108.52625 112.43625)scale(0.12 -0.12)\">\r\n     <use xlink:href=\"#DejaVuSans-Bold-46\"/>\r\n    </g>\r\n   </g>\r\n   <g id=\"text_12\">\r\n    <!-- H -->\r\n    <g style=\"fill:#008000;\" transform=\"translate(148.37375 112.43625)scale(0.12 -0.12)\">\r\n     <use xlink:href=\"#DejaVuSans-Bold-48\"/>\r\n    </g>\r\n   </g>\r\n   <g id=\"text_13\">\r\n    <!-- H -->\r\n    <g style=\"fill:#008000;\" transform=\"translate(26.06375 153.20625)scale(0.12 -0.12)\">\r\n     <use xlink:href=\"#DejaVuSans-Bold-48\"/>\r\n    </g>\r\n   </g>\r\n   <g id=\"text_14\">\r\n    <!-- F -->\r\n    <g style=\"fill:#008000;\" transform=\"translate(67.75625 153.20625)scale(0.12 -0.12)\">\r\n     <use xlink:href=\"#DejaVuSans-Bold-46\"/>\r\n    </g>\r\n   </g>\r\n   <g id=\"text_15\">\r\n    <!-- F -->\r\n    <g style=\"fill:#008000;\" transform=\"translate(108.52625 153.20625)scale(0.12 -0.12)\">\r\n     <use xlink:href=\"#DejaVuSans-Bold-46\"/>\r\n    </g>\r\n   </g>\r\n   <g id=\"text_16\">\r\n    <!-- G -->\r\n    <g style=\"fill:#008000;\" transform=\"translate(148.470312 153.20625)scale(0.12 -0.12)\">\r\n     <defs>\r\n      <path d=\"M 4781 347 \r\nQ 4331 128 3847 18 \r\nQ 3363 -91 2847 -91 \r\nQ 1681 -91 1000 561 \r\nQ 319 1213 319 2328 \r\nQ 319 3456 1012 4103 \r\nQ 1706 4750 2913 4750 \r\nQ 3378 4750 3804 4662 \r\nQ 4231 4575 4609 4403 \r\nL 4609 3438 \r\nQ 4219 3659 3833 3768 \r\nQ 3447 3878 3059 3878 \r\nQ 2341 3878 1952 3476 \r\nQ 1563 3075 1563 2328 \r\nQ 1563 1588 1938 1184 \r\nQ 2313 781 3003 781 \r\nQ 3191 781 3352 804 \r\nQ 3513 828 3641 878 \r\nL 3641 1784 \r\nL 2906 1784 \r\nL 2906 2591 \r\nL 4781 2591 \r\nL 4781 347 \r\nz\r\n\" id=\"DejaVuSans-Bold-47\" transform=\"scale(0.015625)\"/>\r\n     </defs>\r\n     <use xlink:href=\"#DejaVuSans-Bold-47\"/>\r\n    </g>\r\n   </g>\r\n  </g>\r\n </g>\r\n <defs>\r\n  <clipPath id=\"pf4825a7048\">\r\n   <rect height=\"163.08\" width=\"163.08\" x=\"10.7\" y=\"7.2\"/>\r\n  </clipPath>\r\n </defs>\r\n</svg>\r\n",
      "image/png": "[encoded data removed]"
     },
     "metadata": {
      "needs_background": "light"
     }
    },
    {
     "output_type": "stream",
     "name": "stdout",
     "text": [
      "after iteration 6\niter    0   |   diff: 0.00000   |   V(start): 0.590 \n"
     ]
    },
    {
     "output_type": "display_data",
     "data": {
      "text/plain": "<Figure size 216x216 with 1 Axes>",
      "image/svg+xml": "<?xml version=\"1.0\" encoding=\"utf-8\" standalone=\"no\"?>\r\n<!DOCTYPE svg PUBLIC \"-//W3C//DTD SVG 1.1//EN\"\r\n  \"http://www.w3.org/Graphics/SVG/1.1/DTD/svg11.dtd\">\r\n<svg height=\"180.98pt\" version=\"1.1\" viewBox=\"0 0 180.98 180.98\" width=\"180.98pt\" xmlns=\"http://www.w3.org/2000/svg\" xmlns:xlink=\"http://www.w3.org/1999/xlink\">\r\n <metadata>\r\n  <rdf:RDF xmlns:cc=\"http://creativecommons.org/ns#\" xmlns:dc=\"http://purl.org/dc/elements/1.1/\" xmlns:rdf=\"http://www.w3.org/1999/02/22-rdf-syntax-ns#\">\r\n   <cc:Work>\r\n    <dc:type rdf:resource=\"http://purl.org/dc/dcmitype/StillImage\"/>\r\n    <dc:date>2021-06-03T00:12:16.969416</dc:date>\r\n    <dc:format>image/svg+xml</dc:format>\r\n    <dc:creator>\r\n     <cc:Agent>\r\n      <dc:title>Matplotlib v3.4.1, https://matplotlib.org/</dc:title>\r\n     </cc:Agent>\r\n    </dc:creator>\r\n   </cc:Work>\r\n  </rdf:RDF>\r\n </metadata>\r\n <defs>\r\n  <style type=\"text/css\">*{stroke-linecap:butt;stroke-linejoin:round;}</style>\r\n </defs>\r\n <g id=\"figure_1\">\r\n  <g id=\"patch_1\">\r\n   <path d=\"M 0 180.98 \r\nL 180.98 180.98 \r\nL 180.98 0 \r\nL 0 0 \r\nz\r\n\" style=\"fill:none;\"/>\r\n  </g>\r\n  <g id=\"axes_1\">\r\n   <g id=\"patch_2\">\r\n    <path d=\"M 10.7 170.28 \r\nL 173.78 170.28 \r\nL 173.78 7.2 \r\nL 10.7 7.2 \r\nz\r\n\" style=\"fill:#ffffff;\"/>\r\n   </g>\r\n   <g clip-path=\"url(#p00714ced38)\">\r\n    <image height=\"4\" id=\"image504c716d75\" style=\"image-rendering:crisp-edges;image-rendering:pixelated\" transform=\"matrix(41 0 0 41 10.7 6.28)\" width=\"4\" xlink:href=\"data:image/png;base64,\r\niVBORw0KGgoAAAANSUhEUgAAAAQAAAAECAYAAACp8Z5+AAAAOUlEQVR4nDXBMRHAAAgEwUsUMEOBdCQg513QoeFTZffpbkcEmcndwcwYsCQDfjMTSVQVP++ubRvwB2q2GuxcSPqxAAAAAElFTkSuQmCC\"/>\r\n   </g>\r\n   <g id=\"patch_3\">\r\n    <path clip-path=\"url(#p00714ced38)\" d=\"M 31.085 43.893 \r\nL 33.1235 39.816 \r\nL 31.105385 39.816 \r\nL 31.105385 27.585 \r\nL 31.064615 27.585 \r\nL 31.064615 39.816 \r\nL 29.0465 39.816 \r\nz\r\n\" style=\"fill:#bf00bf;stroke:#bf00bf;stroke-linejoin:miter;\"/>\r\n   </g>\r\n   <g id=\"patch_4\">\r\n    <path clip-path=\"url(#p00714ced38)\" d=\"M 88.163 27.585 \r\nL 84.086 25.5465 \r\nL 84.086 27.564615 \r\nL 71.855 27.564615 \r\nL 71.855 27.605385 \r\nL 84.086 27.605385 \r\nL 84.086 29.6235 \r\nz\r\n\" style=\"fill:#bf00bf;stroke:#bf00bf;stroke-linejoin:miter;\"/>\r\n   </g>\r\n   <g id=\"patch_5\">\r\n    <path clip-path=\"url(#p00714ced38)\" d=\"M 112.625 43.893 \r\nL 114.6635 39.816 \r\nL 112.645385 39.816 \r\nL 112.645385 27.585 \r\nL 112.604615 27.585 \r\nL 112.604615 39.816 \r\nL 110.5865 39.816 \r\nz\r\n\" style=\"fill:#bf00bf;stroke:#bf00bf;stroke-linejoin:miter;\"/>\r\n   </g>\r\n   <g id=\"patch_6\">\r\n    <path clip-path=\"url(#p00714ced38)\" d=\"M 137.087 27.585 \r\nL 141.164 29.6235 \r\nL 141.164 27.605385 \r\nL 153.395 27.605385 \r\nL 153.395 27.564615 \r\nL 141.164 27.564615 \r\nL 141.164 25.5465 \r\nz\r\n\" style=\"fill:#bf00bf;stroke:#bf00bf;stroke-linejoin:miter;\"/>\r\n   </g>\r\n   <g id=\"patch_7\">\r\n    <path clip-path=\"url(#p00714ced38)\" d=\"M 31.085 84.663 \r\nL 33.1235 80.586 \r\nL 31.105385 80.586 \r\nL 31.105385 68.355 \r\nL 31.064615 68.355 \r\nL 31.064615 80.586 \r\nL 29.0465 80.586 \r\nz\r\n\" style=\"fill:#bf00bf;stroke:#bf00bf;stroke-linejoin:miter;\"/>\r\n   </g>\r\n   <g id=\"patch_8\">\r\n    <path clip-path=\"url(#p00714ced38)\" d=\"M 112.625 84.663 \r\nL 114.6635 80.586 \r\nL 112.645385 80.586 \r\nL 112.645385 68.355 \r\nL 112.604615 68.355 \r\nL 112.604615 80.586 \r\nL 110.5865 80.586 \r\nz\r\n\" style=\"fill:#bf00bf;stroke:#bf00bf;stroke-linejoin:miter;\"/>\r\n   </g>\r\n   <g id=\"patch_9\">\r\n    <path clip-path=\"url(#p00714ced38)\" d=\"M 47.393 109.125 \r\nL 43.316 107.0865 \r\nL 43.316 109.104615 \r\nL 31.085 109.104615 \r\nL 31.085 109.145385 \r\nL 43.316 109.145385 \r\nL 43.316 111.1635 \r\nz\r\n\" style=\"fill:#bf00bf;stroke:#bf00bf;stroke-linejoin:miter;\"/>\r\n   </g>\r\n   <g id=\"patch_10\">\r\n    <path clip-path=\"url(#p00714ced38)\" d=\"M 71.855 125.433 \r\nL 73.8935 121.356 \r\nL 71.875385 121.356 \r\nL 71.875385 109.125 \r\nL 71.834615 109.125 \r\nL 71.834615 121.356 \r\nL 69.8165 121.356 \r\nz\r\n\" style=\"fill:#bf00bf;stroke:#bf00bf;stroke-linejoin:miter;\"/>\r\n   </g>\r\n   <g id=\"patch_11\">\r\n    <path clip-path=\"url(#p00714ced38)\" d=\"M 112.625 125.433 \r\nL 114.6635 121.356 \r\nL 112.645385 121.356 \r\nL 112.645385 109.125 \r\nL 112.604615 109.125 \r\nL 112.604615 121.356 \r\nL 110.5865 121.356 \r\nz\r\n\" style=\"fill:#bf00bf;stroke:#bf00bf;stroke-linejoin:miter;\"/>\r\n   </g>\r\n   <g id=\"patch_12\">\r\n    <path clip-path=\"url(#p00714ced38)\" d=\"M 88.163 149.895 \r\nL 84.086 147.8565 \r\nL 84.086 149.874615 \r\nL 71.855 149.874615 \r\nL 71.855 149.915385 \r\nL 84.086 149.915385 \r\nL 84.086 151.9335 \r\nz\r\n\" style=\"fill:#bf00bf;stroke:#bf00bf;stroke-linejoin:miter;\"/>\r\n   </g>\r\n   <g id=\"patch_13\">\r\n    <path clip-path=\"url(#p00714ced38)\" d=\"M 128.933 149.895 \r\nL 124.856 147.8565 \r\nL 124.856 149.874615 \r\nL 112.625 149.874615 \r\nL 112.625 149.915385 \r\nL 124.856 149.915385 \r\nL 124.856 151.9335 \r\nz\r\n\" style=\"fill:#bf00bf;stroke:#bf00bf;stroke-linejoin:miter;\"/>\r\n   </g>\r\n   <g id=\"matplotlib.axis_1\">\r\n    <g id=\"xtick_1\">\r\n     <g id=\"line2d_1\">\r\n      <path clip-path=\"url(#p00714ced38)\" d=\"M 10.7 170.28 \r\nL 10.7 7.2 \r\n\" style=\"fill:none;stroke:#0000ff;stroke-linecap:square;stroke-width:2;\"/>\r\n     </g>\r\n     <g id=\"line2d_2\">\r\n      <defs>\r\n       <path d=\"M 0 0 \r\nL 0 3.5 \r\n\" id=\"mbebecb2d68\" style=\"stroke:#000000;stroke-width:0.8;\"/>\r\n      </defs>\r\n      <g>\r\n       <use style=\"stroke:#000000;stroke-width:0.8;\" x=\"10.7\" xlink:href=\"#mbebecb2d68\" y=\"170.28\"/>\r\n      </g>\r\n     </g>\r\n    </g>\r\n    <g id=\"xtick_2\">\r\n     <g id=\"line2d_3\">\r\n      <path clip-path=\"url(#p00714ced38)\" d=\"M 51.47 170.28 \r\nL 51.47 7.2 \r\n\" style=\"fill:none;stroke:#0000ff;stroke-linecap:square;stroke-width:2;\"/>\r\n     </g>\r\n     <g id=\"line2d_4\">\r\n      <g>\r\n       <use style=\"stroke:#000000;stroke-width:0.8;\" x=\"51.47\" xlink:href=\"#mbebecb2d68\" y=\"170.28\"/>\r\n      </g>\r\n     </g>\r\n    </g>\r\n    <g id=\"xtick_3\">\r\n     <g id=\"line2d_5\">\r\n      <path clip-path=\"url(#p00714ced38)\" d=\"M 92.24 170.28 \r\nL 92.24 7.2 \r\n\" style=\"fill:none;stroke:#0000ff;stroke-linecap:square;stroke-width:2;\"/>\r\n     </g>\r\n     <g id=\"line2d_6\">\r\n      <g>\r\n       <use style=\"stroke:#000000;stroke-width:0.8;\" x=\"92.24\" xlink:href=\"#mbebecb2d68\" y=\"170.28\"/>\r\n      </g>\r\n     </g>\r\n    </g>\r\n    <g id=\"xtick_4\">\r\n     <g id=\"line2d_7\">\r\n      <path clip-path=\"url(#p00714ced38)\" d=\"M 133.01 170.28 \r\nL 133.01 7.2 \r\n\" style=\"fill:none;stroke:#0000ff;stroke-linecap:square;stroke-width:2;\"/>\r\n     </g>\r\n     <g id=\"line2d_8\">\r\n      <g>\r\n       <use style=\"stroke:#000000;stroke-width:0.8;\" x=\"133.01\" xlink:href=\"#mbebecb2d68\" y=\"170.28\"/>\r\n      </g>\r\n     </g>\r\n    </g>\r\n   </g>\r\n   <g id=\"matplotlib.axis_2\">\r\n    <g id=\"ytick_1\">\r\n     <g id=\"line2d_9\">\r\n      <path clip-path=\"url(#p00714ced38)\" d=\"M 10.7 7.2 \r\nL 173.78 7.2 \r\n\" style=\"fill:none;stroke:#0000ff;stroke-linecap:square;stroke-width:2;\"/>\r\n     </g>\r\n     <g id=\"line2d_10\">\r\n      <defs>\r\n       <path d=\"M 0 0 \r\nL -3.5 0 \r\n\" id=\"m2b1e5f2d84\" style=\"stroke:#000000;stroke-width:0.8;\"/>\r\n      </defs>\r\n      <g>\r\n       <use style=\"stroke:#000000;stroke-width:0.8;\" x=\"10.7\" xlink:href=\"#m2b1e5f2d84\" y=\"7.2\"/>\r\n      </g>\r\n     </g>\r\n    </g>\r\n    <g id=\"ytick_2\">\r\n     <g id=\"line2d_11\">\r\n      <path clip-path=\"url(#p00714ced38)\" d=\"M 10.7 47.97 \r\nL 173.78 47.97 \r\n\" style=\"fill:none;stroke:#0000ff;stroke-linecap:square;stroke-width:2;\"/>\r\n     </g>\r\n     <g id=\"line2d_12\">\r\n      <g>\r\n       <use style=\"stroke:#000000;stroke-width:0.8;\" x=\"10.7\" xlink:href=\"#m2b1e5f2d84\" y=\"47.97\"/>\r\n      </g>\r\n     </g>\r\n    </g>\r\n    <g id=\"ytick_3\">\r\n     <g id=\"line2d_13\">\r\n      <path clip-path=\"url(#p00714ced38)\" d=\"M 10.7 88.74 \r\nL 173.78 88.74 \r\n\" style=\"fill:none;stroke:#0000ff;stroke-linecap:square;stroke-width:2;\"/>\r\n     </g>\r\n     <g id=\"line2d_14\">\r\n      <g>\r\n       <use style=\"stroke:#000000;stroke-width:0.8;\" x=\"10.7\" xlink:href=\"#m2b1e5f2d84\" y=\"88.74\"/>\r\n      </g>\r\n     </g>\r\n    </g>\r\n    <g id=\"ytick_4\">\r\n     <g id=\"line2d_15\">\r\n      <path clip-path=\"url(#p00714ced38)\" d=\"M 10.7 129.51 \r\nL 173.78 129.51 \r\n\" style=\"fill:none;stroke:#0000ff;stroke-linecap:square;stroke-width:2;\"/>\r\n     </g>\r\n     <g id=\"line2d_16\">\r\n      <g>\r\n       <use style=\"stroke:#000000;stroke-width:0.8;\" x=\"10.7\" xlink:href=\"#m2b1e5f2d84\" y=\"129.51\"/>\r\n      </g>\r\n     </g>\r\n    </g>\r\n   </g>\r\n   <g id=\"patch_14\">\r\n    <path d=\"M 10.7 170.28 \r\nL 10.7 7.2 \r\n\" style=\"fill:none;stroke:#000000;stroke-linecap:square;stroke-linejoin:miter;stroke-width:0.8;\"/>\r\n   </g>\r\n   <g id=\"patch_15\">\r\n    <path d=\"M 173.78 170.28 \r\nL 173.78 7.2 \r\n\" style=\"fill:none;stroke:#000000;stroke-linecap:square;stroke-linejoin:miter;stroke-width:0.8;\"/>\r\n   </g>\r\n   <g id=\"patch_16\">\r\n    <path d=\"M 10.7 170.28 \r\nL 173.78 170.28 \r\n\" style=\"fill:none;stroke:#000000;stroke-linecap:square;stroke-linejoin:miter;stroke-width:0.8;\"/>\r\n   </g>\r\n   <g id=\"patch_17\">\r\n    <path d=\"M 10.7 7.2 \r\nL 173.78 7.2 \r\n\" style=\"fill:none;stroke:#000000;stroke-linecap:square;stroke-linejoin:miter;stroke-width:0.8;\"/>\r\n   </g>\r\n   <g id=\"text_1\">\r\n    <!-- S -->\r\n    <g style=\"fill:#008000;\" transform=\"translate(26.764063 30.89625)scale(0.12 -0.12)\">\r\n     <defs>\r\n      <path d=\"M 3834 4519 \r\nL 3834 3531 \r\nQ 3450 3703 3084 3790 \r\nQ 2719 3878 2394 3878 \r\nQ 1963 3878 1756 3759 \r\nQ 1550 3641 1550 3391 \r\nQ 1550 3203 1689 3098 \r\nQ 1828 2994 2194 2919 \r\nL 2706 2816 \r\nQ 3484 2659 3812 2340 \r\nQ 4141 2022 4141 1434 \r\nQ 4141 663 3683 286 \r\nQ 3225 -91 2284 -91 \r\nQ 1841 -91 1394 -6 \r\nQ 947 78 500 244 \r\nL 500 1259 \r\nQ 947 1022 1364 901 \r\nQ 1781 781 2169 781 \r\nQ 2563 781 2772 912 \r\nQ 2981 1044 2981 1288 \r\nQ 2981 1506 2839 1625 \r\nQ 2697 1744 2272 1838 \r\nL 1806 1941 \r\nQ 1106 2091 782 2419 \r\nQ 459 2747 459 3303 \r\nQ 459 4000 909 4375 \r\nQ 1359 4750 2203 4750 \r\nQ 2588 4750 2994 4692 \r\nQ 3400 4634 3834 4519 \r\nz\r\n\" id=\"DejaVuSans-Bold-53\" transform=\"scale(0.015625)\"/>\r\n     </defs>\r\n     <use xlink:href=\"#DejaVuSans-Bold-53\"/>\r\n    </g>\r\n   </g>\r\n   <g id=\"text_2\">\r\n    <!-- F -->\r\n    <g style=\"fill:#008000;\" transform=\"translate(67.75625 30.89625)scale(0.12 -0.12)\">\r\n     <defs>\r\n      <path d=\"M 588 4666 \r\nL 3834 4666 \r\nL 3834 3756 \r\nL 1791 3756 \r\nL 1791 2888 \r\nL 3713 2888 \r\nL 3713 1978 \r\nL 1791 1978 \r\nL 1791 0 \r\nL 588 0 \r\nL 588 4666 \r\nz\r\n\" id=\"DejaVuSans-Bold-46\" transform=\"scale(0.015625)\"/>\r\n     </defs>\r\n     <use xlink:href=\"#DejaVuSans-Bold-46\"/>\r\n    </g>\r\n   </g>\r\n   <g id=\"text_3\">\r\n    <!-- F -->\r\n    <g style=\"fill:#008000;\" transform=\"translate(108.52625 30.89625)scale(0.12 -0.12)\">\r\n     <use xlink:href=\"#DejaVuSans-Bold-46\"/>\r\n    </g>\r\n   </g>\r\n   <g id=\"text_4\">\r\n    <!-- F -->\r\n    <g style=\"fill:#008000;\" transform=\"translate(149.29625 30.89625)scale(0.12 -0.12)\">\r\n     <use xlink:href=\"#DejaVuSans-Bold-46\"/>\r\n    </g>\r\n   </g>\r\n   <g id=\"text_5\">\r\n    <!-- F -->\r\n    <g style=\"fill:#008000;\" transform=\"translate(26.98625 71.66625)scale(0.12 -0.12)\">\r\n     <use xlink:href=\"#DejaVuSans-Bold-46\"/>\r\n    </g>\r\n   </g>\r\n   <g id=\"text_6\">\r\n    <!-- H -->\r\n    <g style=\"fill:#008000;\" transform=\"translate(66.83375 71.66625)scale(0.12 -0.12)\">\r\n     <defs>\r\n      <path d=\"M 588 4666 \r\nL 1791 4666 \r\nL 1791 2888 \r\nL 3566 2888 \r\nL 3566 4666 \r\nL 4769 4666 \r\nL 4769 0 \r\nL 3566 0 \r\nL 3566 1978 \r\nL 1791 1978 \r\nL 1791 0 \r\nL 588 0 \r\nL 588 4666 \r\nz\r\n\" id=\"DejaVuSans-Bold-48\" transform=\"scale(0.015625)\"/>\r\n     </defs>\r\n     <use xlink:href=\"#DejaVuSans-Bold-48\"/>\r\n    </g>\r\n   </g>\r\n   <g id=\"text_7\">\r\n    <!-- F -->\r\n    <g style=\"fill:#008000;\" transform=\"translate(108.52625 71.66625)scale(0.12 -0.12)\">\r\n     <use xlink:href=\"#DejaVuSans-Bold-46\"/>\r\n    </g>\r\n   </g>\r\n   <g id=\"text_8\">\r\n    <!-- H -->\r\n    <g style=\"fill:#008000;\" transform=\"translate(148.37375 71.66625)scale(0.12 -0.12)\">\r\n     <use xlink:href=\"#DejaVuSans-Bold-48\"/>\r\n    </g>\r\n   </g>\r\n   <g id=\"text_9\">\r\n    <!-- F -->\r\n    <g style=\"fill:#008000;\" transform=\"translate(26.98625 112.43625)scale(0.12 -0.12)\">\r\n     <use xlink:href=\"#DejaVuSans-Bold-46\"/>\r\n    </g>\r\n   </g>\r\n   <g id=\"text_10\">\r\n    <!-- F -->\r\n    <g style=\"fill:#008000;\" transform=\"translate(67.75625 112.43625)scale(0.12 -0.12)\">\r\n     <use xlink:href=\"#DejaVuSans-Bold-46\"/>\r\n    </g>\r\n   </g>\r\n   <g id=\"text_11\">\r\n    <!-- F -->\r\n    <g style=\"fill:#008000;\" transform=\"translate(108.52625 112.43625)scale(0.12 -0.12)\">\r\n     <use xlink:href=\"#DejaVuSans-Bold-46\"/>\r\n    </g>\r\n   </g>\r\n   <g id=\"text_12\">\r\n    <!-- H -->\r\n    <g style=\"fill:#008000;\" transform=\"translate(148.37375 112.43625)scale(0.12 -0.12)\">\r\n     <use xlink:href=\"#DejaVuSans-Bold-48\"/>\r\n    </g>\r\n   </g>\r\n   <g id=\"text_13\">\r\n    <!-- H -->\r\n    <g style=\"fill:#008000;\" transform=\"translate(26.06375 153.20625)scale(0.12 -0.12)\">\r\n     <use xlink:href=\"#DejaVuSans-Bold-48\"/>\r\n    </g>\r\n   </g>\r\n   <g id=\"text_14\">\r\n    <!-- F -->\r\n    <g style=\"fill:#008000;\" transform=\"translate(67.75625 153.20625)scale(0.12 -0.12)\">\r\n     <use xlink:href=\"#DejaVuSans-Bold-46\"/>\r\n    </g>\r\n   </g>\r\n   <g id=\"text_15\">\r\n    <!-- F -->\r\n    <g style=\"fill:#008000;\" transform=\"translate(108.52625 153.20625)scale(0.12 -0.12)\">\r\n     <use xlink:href=\"#DejaVuSans-Bold-46\"/>\r\n    </g>\r\n   </g>\r\n   <g id=\"text_16\">\r\n    <!-- G -->\r\n    <g style=\"fill:#008000;\" transform=\"translate(148.470312 153.20625)scale(0.12 -0.12)\">\r\n     <defs>\r\n      <path d=\"M 4781 347 \r\nQ 4331 128 3847 18 \r\nQ 3363 -91 2847 -91 \r\nQ 1681 -91 1000 561 \r\nQ 319 1213 319 2328 \r\nQ 319 3456 1012 4103 \r\nQ 1706 4750 2913 4750 \r\nQ 3378 4750 3804 4662 \r\nQ 4231 4575 4609 4403 \r\nL 4609 3438 \r\nQ 4219 3659 3833 3768 \r\nQ 3447 3878 3059 3878 \r\nQ 2341 3878 1952 3476 \r\nQ 1563 3075 1563 2328 \r\nQ 1563 1588 1938 1184 \r\nQ 2313 781 3003 781 \r\nQ 3191 781 3352 804 \r\nQ 3513 828 3641 878 \r\nL 3641 1784 \r\nL 2906 1784 \r\nL 2906 2591 \r\nL 4781 2591 \r\nL 4781 347 \r\nz\r\n\" id=\"DejaVuSans-Bold-47\" transform=\"scale(0.015625)\"/>\r\n     </defs>\r\n     <use xlink:href=\"#DejaVuSans-Bold-47\"/>\r\n    </g>\r\n   </g>\r\n  </g>\r\n </g>\r\n <defs>\r\n  <clipPath id=\"p00714ced38\">\r\n   <rect height=\"163.08\" width=\"163.08\" x=\"10.7\" y=\"7.2\"/>\r\n  </clipPath>\r\n </defs>\r\n</svg>\r\n",
      "image/png": "[encoded data removed]"
     },
     "metadata": {
      "needs_background": "light"
     }
    },
    {
     "output_type": "stream",
     "name": "stdout",
     "text": [
      "after iteration 7\niter    0   |   diff: 0.00000   |   V(start): 0.590 \n"
     ]
    },
    {
     "output_type": "display_data",
     "data": {
      "text/plain": "<Figure size 216x216 with 1 Axes>",
      "image/svg+xml": "<?xml version=\"1.0\" encoding=\"utf-8\" standalone=\"no\"?>\r\n<!DOCTYPE svg PUBLIC \"-//W3C//DTD SVG 1.1//EN\"\r\n  \"http://www.w3.org/Graphics/SVG/1.1/DTD/svg11.dtd\">\r\n<svg height=\"180.98pt\" version=\"1.1\" viewBox=\"0 0 180.98 180.98\" width=\"180.98pt\" xmlns=\"http://www.w3.org/2000/svg\" xmlns:xlink=\"http://www.w3.org/1999/xlink\">\r\n <metadata>\r\n  <rdf:RDF xmlns:cc=\"http://creativecommons.org/ns#\" xmlns:dc=\"http://purl.org/dc/elements/1.1/\" xmlns:rdf=\"http://www.w3.org/1999/02/22-rdf-syntax-ns#\">\r\n   <cc:Work>\r\n    <dc:type rdf:resource=\"http://purl.org/dc/dcmitype/StillImage\"/>\r\n    <dc:date>2021-06-03T00:12:17.148382</dc:date>\r\n    <dc:format>image/svg+xml</dc:format>\r\n    <dc:creator>\r\n     <cc:Agent>\r\n      <dc:title>Matplotlib v3.4.1, https://matplotlib.org/</dc:title>\r\n     </cc:Agent>\r\n    </dc:creator>\r\n   </cc:Work>\r\n  </rdf:RDF>\r\n </metadata>\r\n <defs>\r\n  <style type=\"text/css\">*{stroke-linecap:butt;stroke-linejoin:round;}</style>\r\n </defs>\r\n <g id=\"figure_1\">\r\n  <g id=\"patch_1\">\r\n   <path d=\"M 0 180.98 \r\nL 180.98 180.98 \r\nL 180.98 0 \r\nL 0 0 \r\nz\r\n\" style=\"fill:none;\"/>\r\n  </g>\r\n  <g id=\"axes_1\">\r\n   <g id=\"patch_2\">\r\n    <path d=\"M 10.7 170.28 \r\nL 173.78 170.28 \r\nL 173.78 7.2 \r\nL 10.7 7.2 \r\nz\r\n\" style=\"fill:#ffffff;\"/>\r\n   </g>\r\n   <g clip-path=\"url(#pa4fe80f759)\">\r\n    <image height=\"4\" id=\"imaged9775c25e1\" style=\"image-rendering:crisp-edges;image-rendering:pixelated\" transform=\"matrix(41 0 0 41 10.7 6.28)\" width=\"4\" xlink:href=\"data:image/png;base64,\r\niVBORw0KGgoAAAANSUhEUgAAAAQAAAAECAYAAACp8Z5+AAAAOUlEQVR4nDXBMRHAAAgEwUsUMEOBdCQg513QoeFTZffpbkcEmcndwcwYsCQDfjMTSVQVP++ubRvwB2q2GuxcSPqxAAAAAElFTkSuQmCC\"/>\r\n   </g>\r\n   <g id=\"patch_3\">\r\n    <path clip-path=\"url(#pa4fe80f759)\" d=\"M 31.085 43.893 \r\nL 33.1235 39.816 \r\nL 31.105385 39.816 \r\nL 31.105385 27.585 \r\nL 31.064615 27.585 \r\nL 31.064615 39.816 \r\nL 29.0465 39.816 \r\nz\r\n\" style=\"fill:#bf00bf;stroke:#bf00bf;stroke-linejoin:miter;\"/>\r\n   </g>\r\n   <g id=\"patch_4\">\r\n    <path clip-path=\"url(#pa4fe80f759)\" d=\"M 88.163 27.585 \r\nL 84.086 25.5465 \r\nL 84.086 27.564615 \r\nL 71.855 27.564615 \r\nL 71.855 27.605385 \r\nL 84.086 27.605385 \r\nL 84.086 29.6235 \r\nz\r\n\" style=\"fill:#bf00bf;stroke:#bf00bf;stroke-linejoin:miter;\"/>\r\n   </g>\r\n   <g id=\"patch_5\">\r\n    <path clip-path=\"url(#pa4fe80f759)\" d=\"M 112.625 43.893 \r\nL 114.6635 39.816 \r\nL 112.645385 39.816 \r\nL 112.645385 27.585 \r\nL 112.604615 27.585 \r\nL 112.604615 39.816 \r\nL 110.5865 39.816 \r\nz\r\n\" style=\"fill:#bf00bf;stroke:#bf00bf;stroke-linejoin:miter;\"/>\r\n   </g>\r\n   <g id=\"patch_6\">\r\n    <path clip-path=\"url(#pa4fe80f759)\" d=\"M 137.087 27.585 \r\nL 141.164 29.6235 \r\nL 141.164 27.605385 \r\nL 153.395 27.605385 \r\nL 153.395 27.564615 \r\nL 141.164 27.564615 \r\nL 141.164 25.5465 \r\nz\r\n\" style=\"fill:#bf00bf;stroke:#bf00bf;stroke-linejoin:miter;\"/>\r\n   </g>\r\n   <g id=\"patch_7\">\r\n    <path clip-path=\"url(#pa4fe80f759)\" d=\"M 31.085 84.663 \r\nL 33.1235 80.586 \r\nL 31.105385 80.586 \r\nL 31.105385 68.355 \r\nL 31.064615 68.355 \r\nL 31.064615 80.586 \r\nL 29.0465 80.586 \r\nz\r\n\" style=\"fill:#bf00bf;stroke:#bf00bf;stroke-linejoin:miter;\"/>\r\n   </g>\r\n   <g id=\"patch_8\">\r\n    <path clip-path=\"url(#pa4fe80f759)\" d=\"M 112.625 84.663 \r\nL 114.6635 80.586 \r\nL 112.645385 80.586 \r\nL 112.645385 68.355 \r\nL 112.604615 68.355 \r\nL 112.604615 80.586 \r\nL 110.5865 80.586 \r\nz\r\n\" style=\"fill:#bf00bf;stroke:#bf00bf;stroke-linejoin:miter;\"/>\r\n   </g>\r\n   <g id=\"patch_9\">\r\n    <path clip-path=\"url(#pa4fe80f759)\" d=\"M 47.393 109.125 \r\nL 43.316 107.0865 \r\nL 43.316 109.104615 \r\nL 31.085 109.104615 \r\nL 31.085 109.145385 \r\nL 43.316 109.145385 \r\nL 43.316 111.1635 \r\nz\r\n\" style=\"fill:#bf00bf;stroke:#bf00bf;stroke-linejoin:miter;\"/>\r\n   </g>\r\n   <g id=\"patch_10\">\r\n    <path clip-path=\"url(#pa4fe80f759)\" d=\"M 71.855 125.433 \r\nL 73.8935 121.356 \r\nL 71.875385 121.356 \r\nL 71.875385 109.125 \r\nL 71.834615 109.125 \r\nL 71.834615 121.356 \r\nL 69.8165 121.356 \r\nz\r\n\" style=\"fill:#bf00bf;stroke:#bf00bf;stroke-linejoin:miter;\"/>\r\n   </g>\r\n   <g id=\"patch_11\">\r\n    <path clip-path=\"url(#pa4fe80f759)\" d=\"M 112.625 125.433 \r\nL 114.6635 121.356 \r\nL 112.645385 121.356 \r\nL 112.645385 109.125 \r\nL 112.604615 109.125 \r\nL 112.604615 121.356 \r\nL 110.5865 121.356 \r\nz\r\n\" style=\"fill:#bf00bf;stroke:#bf00bf;stroke-linejoin:miter;\"/>\r\n   </g>\r\n   <g id=\"patch_12\">\r\n    <path clip-path=\"url(#pa4fe80f759)\" d=\"M 88.163 149.895 \r\nL 84.086 147.8565 \r\nL 84.086 149.874615 \r\nL 71.855 149.874615 \r\nL 71.855 149.915385 \r\nL 84.086 149.915385 \r\nL 84.086 151.9335 \r\nz\r\n\" style=\"fill:#bf00bf;stroke:#bf00bf;stroke-linejoin:miter;\"/>\r\n   </g>\r\n   <g id=\"patch_13\">\r\n    <path clip-path=\"url(#pa4fe80f759)\" d=\"M 128.933 149.895 \r\nL 124.856 147.8565 \r\nL 124.856 149.874615 \r\nL 112.625 149.874615 \r\nL 112.625 149.915385 \r\nL 124.856 149.915385 \r\nL 124.856 151.9335 \r\nz\r\n\" style=\"fill:#bf00bf;stroke:#bf00bf;stroke-linejoin:miter;\"/>\r\n   </g>\r\n   <g id=\"matplotlib.axis_1\">\r\n    <g id=\"xtick_1\">\r\n     <g id=\"line2d_1\">\r\n      <path clip-path=\"url(#pa4fe80f759)\" d=\"M 10.7 170.28 \r\nL 10.7 7.2 \r\n\" style=\"fill:none;stroke:#0000ff;stroke-linecap:square;stroke-width:2;\"/>\r\n     </g>\r\n     <g id=\"line2d_2\">\r\n      <defs>\r\n       <path d=\"M 0 0 \r\nL 0 3.5 \r\n\" id=\"m5758682639\" style=\"stroke:#000000;stroke-width:0.8;\"/>\r\n      </defs>\r\n      <g>\r\n       <use style=\"stroke:#000000;stroke-width:0.8;\" x=\"10.7\" xlink:href=\"#m5758682639\" y=\"170.28\"/>\r\n      </g>\r\n     </g>\r\n    </g>\r\n    <g id=\"xtick_2\">\r\n     <g id=\"line2d_3\">\r\n      <path clip-path=\"url(#pa4fe80f759)\" d=\"M 51.47 170.28 \r\nL 51.47 7.2 \r\n\" style=\"fill:none;stroke:#0000ff;stroke-linecap:square;stroke-width:2;\"/>\r\n     </g>\r\n     <g id=\"line2d_4\">\r\n      <g>\r\n       <use style=\"stroke:#000000;stroke-width:0.8;\" x=\"51.47\" xlink:href=\"#m5758682639\" y=\"170.28\"/>\r\n      </g>\r\n     </g>\r\n    </g>\r\n    <g id=\"xtick_3\">\r\n     <g id=\"line2d_5\">\r\n      <path clip-path=\"url(#pa4fe80f759)\" d=\"M 92.24 170.28 \r\nL 92.24 7.2 \r\n\" style=\"fill:none;stroke:#0000ff;stroke-linecap:square;stroke-width:2;\"/>\r\n     </g>\r\n     <g id=\"line2d_6\">\r\n      <g>\r\n       <use style=\"stroke:#000000;stroke-width:0.8;\" x=\"92.24\" xlink:href=\"#m5758682639\" y=\"170.28\"/>\r\n      </g>\r\n     </g>\r\n    </g>\r\n    <g id=\"xtick_4\">\r\n     <g id=\"line2d_7\">\r\n      <path clip-path=\"url(#pa4fe80f759)\" d=\"M 133.01 170.28 \r\nL 133.01 7.2 \r\n\" style=\"fill:none;stroke:#0000ff;stroke-linecap:square;stroke-width:2;\"/>\r\n     </g>\r\n     <g id=\"line2d_8\">\r\n      <g>\r\n       <use style=\"stroke:#000000;stroke-width:0.8;\" x=\"133.01\" xlink:href=\"#m5758682639\" y=\"170.28\"/>\r\n      </g>\r\n     </g>\r\n    </g>\r\n   </g>\r\n   <g id=\"matplotlib.axis_2\">\r\n    <g id=\"ytick_1\">\r\n     <g id=\"line2d_9\">\r\n      <path clip-path=\"url(#pa4fe80f759)\" d=\"M 10.7 7.2 \r\nL 173.78 7.2 \r\n\" style=\"fill:none;stroke:#0000ff;stroke-linecap:square;stroke-width:2;\"/>\r\n     </g>\r\n     <g id=\"line2d_10\">\r\n      <defs>\r\n       <path d=\"M 0 0 \r\nL -3.5 0 \r\n\" id=\"md936b00463\" style=\"stroke:#000000;stroke-width:0.8;\"/>\r\n      </defs>\r\n      <g>\r\n       <use style=\"stroke:#000000;stroke-width:0.8;\" x=\"10.7\" xlink:href=\"#md936b00463\" y=\"7.2\"/>\r\n      </g>\r\n     </g>\r\n    </g>\r\n    <g id=\"ytick_2\">\r\n     <g id=\"line2d_11\">\r\n      <path clip-path=\"url(#pa4fe80f759)\" d=\"M 10.7 47.97 \r\nL 173.78 47.97 \r\n\" style=\"fill:none;stroke:#0000ff;stroke-linecap:square;stroke-width:2;\"/>\r\n     </g>\r\n     <g id=\"line2d_12\">\r\n      <g>\r\n       <use style=\"stroke:#000000;stroke-width:0.8;\" x=\"10.7\" xlink:href=\"#md936b00463\" y=\"47.97\"/>\r\n      </g>\r\n     </g>\r\n    </g>\r\n    <g id=\"ytick_3\">\r\n     <g id=\"line2d_13\">\r\n      <path clip-path=\"url(#pa4fe80f759)\" d=\"M 10.7 88.74 \r\nL 173.78 88.74 \r\n\" style=\"fill:none;stroke:#0000ff;stroke-linecap:square;stroke-width:2;\"/>\r\n     </g>\r\n     <g id=\"line2d_14\">\r\n      <g>\r\n       <use style=\"stroke:#000000;stroke-width:0.8;\" x=\"10.7\" xlink:href=\"#md936b00463\" y=\"88.74\"/>\r\n      </g>\r\n     </g>\r\n    </g>\r\n    <g id=\"ytick_4\">\r\n     <g id=\"line2d_15\">\r\n      <path clip-path=\"url(#pa4fe80f759)\" d=\"M 10.7 129.51 \r\nL 173.78 129.51 \r\n\" style=\"fill:none;stroke:#0000ff;stroke-linecap:square;stroke-width:2;\"/>\r\n     </g>\r\n     <g id=\"line2d_16\">\r\n      <g>\r\n       <use style=\"stroke:#000000;stroke-width:0.8;\" x=\"10.7\" xlink:href=\"#md936b00463\" y=\"129.51\"/>\r\n      </g>\r\n     </g>\r\n    </g>\r\n   </g>\r\n   <g id=\"patch_14\">\r\n    <path d=\"M 10.7 170.28 \r\nL 10.7 7.2 \r\n\" style=\"fill:none;stroke:#000000;stroke-linecap:square;stroke-linejoin:miter;stroke-width:0.8;\"/>\r\n   </g>\r\n   <g id=\"patch_15\">\r\n    <path d=\"M 173.78 170.28 \r\nL 173.78 7.2 \r\n\" style=\"fill:none;stroke:#000000;stroke-linecap:square;stroke-linejoin:miter;stroke-width:0.8;\"/>\r\n   </g>\r\n   <g id=\"patch_16\">\r\n    <path d=\"M 10.7 170.28 \r\nL 173.78 170.28 \r\n\" style=\"fill:none;stroke:#000000;stroke-linecap:square;stroke-linejoin:miter;stroke-width:0.8;\"/>\r\n   </g>\r\n   <g id=\"patch_17\">\r\n    <path d=\"M 10.7 7.2 \r\nL 173.78 7.2 \r\n\" style=\"fill:none;stroke:#000000;stroke-linecap:square;stroke-linejoin:miter;stroke-width:0.8;\"/>\r\n   </g>\r\n   <g id=\"text_1\">\r\n    <!-- S -->\r\n    <g style=\"fill:#008000;\" transform=\"translate(26.764063 30.89625)scale(0.12 -0.12)\">\r\n     <defs>\r\n      <path d=\"M 3834 4519 \r\nL 3834 3531 \r\nQ 3450 3703 3084 3790 \r\nQ 2719 3878 2394 3878 \r\nQ 1963 3878 1756 3759 \r\nQ 1550 3641 1550 3391 \r\nQ 1550 3203 1689 3098 \r\nQ 1828 2994 2194 2919 \r\nL 2706 2816 \r\nQ 3484 2659 3812 2340 \r\nQ 4141 2022 4141 1434 \r\nQ 4141 663 3683 286 \r\nQ 3225 -91 2284 -91 \r\nQ 1841 -91 1394 -6 \r\nQ 947 78 500 244 \r\nL 500 1259 \r\nQ 947 1022 1364 901 \r\nQ 1781 781 2169 781 \r\nQ 2563 781 2772 912 \r\nQ 2981 1044 2981 1288 \r\nQ 2981 1506 2839 1625 \r\nQ 2697 1744 2272 1838 \r\nL 1806 1941 \r\nQ 1106 2091 782 2419 \r\nQ 459 2747 459 3303 \r\nQ 459 4000 909 4375 \r\nQ 1359 4750 2203 4750 \r\nQ 2588 4750 2994 4692 \r\nQ 3400 4634 3834 4519 \r\nz\r\n\" id=\"DejaVuSans-Bold-53\" transform=\"scale(0.015625)\"/>\r\n     </defs>\r\n     <use xlink:href=\"#DejaVuSans-Bold-53\"/>\r\n    </g>\r\n   </g>\r\n   <g id=\"text_2\">\r\n    <!-- F -->\r\n    <g style=\"fill:#008000;\" transform=\"translate(67.75625 30.89625)scale(0.12 -0.12)\">\r\n     <defs>\r\n      <path d=\"M 588 4666 \r\nL 3834 4666 \r\nL 3834 3756 \r\nL 1791 3756 \r\nL 1791 2888 \r\nL 3713 2888 \r\nL 3713 1978 \r\nL 1791 1978 \r\nL 1791 0 \r\nL 588 0 \r\nL 588 4666 \r\nz\r\n\" id=\"DejaVuSans-Bold-46\" transform=\"scale(0.015625)\"/>\r\n     </defs>\r\n     <use xlink:href=\"#DejaVuSans-Bold-46\"/>\r\n    </g>\r\n   </g>\r\n   <g id=\"text_3\">\r\n    <!-- F -->\r\n    <g style=\"fill:#008000;\" transform=\"translate(108.52625 30.89625)scale(0.12 -0.12)\">\r\n     <use xlink:href=\"#DejaVuSans-Bold-46\"/>\r\n    </g>\r\n   </g>\r\n   <g id=\"text_4\">\r\n    <!-- F -->\r\n    <g style=\"fill:#008000;\" transform=\"translate(149.29625 30.89625)scale(0.12 -0.12)\">\r\n     <use xlink:href=\"#DejaVuSans-Bold-46\"/>\r\n    </g>\r\n   </g>\r\n   <g id=\"text_5\">\r\n    <!-- F -->\r\n    <g style=\"fill:#008000;\" transform=\"translate(26.98625 71.66625)scale(0.12 -0.12)\">\r\n     <use xlink:href=\"#DejaVuSans-Bold-46\"/>\r\n    </g>\r\n   </g>\r\n   <g id=\"text_6\">\r\n    <!-- H -->\r\n    <g style=\"fill:#008000;\" transform=\"translate(66.83375 71.66625)scale(0.12 -0.12)\">\r\n     <defs>\r\n      <path d=\"M 588 4666 \r\nL 1791 4666 \r\nL 1791 2888 \r\nL 3566 2888 \r\nL 3566 4666 \r\nL 4769 4666 \r\nL 4769 0 \r\nL 3566 0 \r\nL 3566 1978 \r\nL 1791 1978 \r\nL 1791 0 \r\nL 588 0 \r\nL 588 4666 \r\nz\r\n\" id=\"DejaVuSans-Bold-48\" transform=\"scale(0.015625)\"/>\r\n     </defs>\r\n     <use xlink:href=\"#DejaVuSans-Bold-48\"/>\r\n    </g>\r\n   </g>\r\n   <g id=\"text_7\">\r\n    <!-- F -->\r\n    <g style=\"fill:#008000;\" transform=\"translate(108.52625 71.66625)scale(0.12 -0.12)\">\r\n     <use xlink:href=\"#DejaVuSans-Bold-46\"/>\r\n    </g>\r\n   </g>\r\n   <g id=\"text_8\">\r\n    <!-- H -->\r\n    <g style=\"fill:#008000;\" transform=\"translate(148.37375 71.66625)scale(0.12 -0.12)\">\r\n     <use xlink:href=\"#DejaVuSans-Bold-48\"/>\r\n    </g>\r\n   </g>\r\n   <g id=\"text_9\">\r\n    <!-- F -->\r\n    <g style=\"fill:#008000;\" transform=\"translate(26.98625 112.43625)scale(0.12 -0.12)\">\r\n     <use xlink:href=\"#DejaVuSans-Bold-46\"/>\r\n    </g>\r\n   </g>\r\n   <g id=\"text_10\">\r\n    <!-- F -->\r\n    <g style=\"fill:#008000;\" transform=\"translate(67.75625 112.43625)scale(0.12 -0.12)\">\r\n     <use xlink:href=\"#DejaVuSans-Bold-46\"/>\r\n    </g>\r\n   </g>\r\n   <g id=\"text_11\">\r\n    <!-- F -->\r\n    <g style=\"fill:#008000;\" transform=\"translate(108.52625 112.43625)scale(0.12 -0.12)\">\r\n     <use xlink:href=\"#DejaVuSans-Bold-46\"/>\r\n    </g>\r\n   </g>\r\n   <g id=\"text_12\">\r\n    <!-- H -->\r\n    <g style=\"fill:#008000;\" transform=\"translate(148.37375 112.43625)scale(0.12 -0.12)\">\r\n     <use xlink:href=\"#DejaVuSans-Bold-48\"/>\r\n    </g>\r\n   </g>\r\n   <g id=\"text_13\">\r\n    <!-- H -->\r\n    <g style=\"fill:#008000;\" transform=\"translate(26.06375 153.20625)scale(0.12 -0.12)\">\r\n     <use xlink:href=\"#DejaVuSans-Bold-48\"/>\r\n    </g>\r\n   </g>\r\n   <g id=\"text_14\">\r\n    <!-- F -->\r\n    <g style=\"fill:#008000;\" transform=\"translate(67.75625 153.20625)scale(0.12 -0.12)\">\r\n     <use xlink:href=\"#DejaVuSans-Bold-46\"/>\r\n    </g>\r\n   </g>\r\n   <g id=\"text_15\">\r\n    <!-- F -->\r\n    <g style=\"fill:#008000;\" transform=\"translate(108.52625 153.20625)scale(0.12 -0.12)\">\r\n     <use xlink:href=\"#DejaVuSans-Bold-46\"/>\r\n    </g>\r\n   </g>\r\n   <g id=\"text_16\">\r\n    <!-- G -->\r\n    <g style=\"fill:#008000;\" transform=\"translate(148.470312 153.20625)scale(0.12 -0.12)\">\r\n     <defs>\r\n      <path d=\"M 4781 347 \r\nQ 4331 128 3847 18 \r\nQ 3363 -91 2847 -91 \r\nQ 1681 -91 1000 561 \r\nQ 319 1213 319 2328 \r\nQ 319 3456 1012 4103 \r\nQ 1706 4750 2913 4750 \r\nQ 3378 4750 3804 4662 \r\nQ 4231 4575 4609 4403 \r\nL 4609 3438 \r\nQ 4219 3659 3833 3768 \r\nQ 3447 3878 3059 3878 \r\nQ 2341 3878 1952 3476 \r\nQ 1563 3075 1563 2328 \r\nQ 1563 1588 1938 1184 \r\nQ 2313 781 3003 781 \r\nQ 3191 781 3352 804 \r\nQ 3513 828 3641 878 \r\nL 3641 1784 \r\nL 2906 1784 \r\nL 2906 2591 \r\nL 4781 2591 \r\nL 4781 347 \r\nz\r\n\" id=\"DejaVuSans-Bold-47\" transform=\"scale(0.015625)\"/>\r\n     </defs>\r\n     <use xlink:href=\"#DejaVuSans-Bold-47\"/>\r\n    </g>\r\n   </g>\r\n  </g>\r\n </g>\r\n <defs>\r\n  <clipPath id=\"pa4fe80f759\">\r\n   <rect height=\"163.08\" width=\"163.08\" x=\"10.7\" y=\"7.2\"/>\r\n  </clipPath>\r\n </defs>\r\n</svg>\r\n",
      "image/png": "[encoded data removed]"
     },
     "metadata": {
      "needs_background": "light"
     }
    },
    {
     "output_type": "stream",
     "name": "stdout",
     "text": [
      "after iteration 8\niter    0   |   diff: 0.00000   |   V(start): 0.590 \n"
     ]
    },
    {
     "output_type": "display_data",
     "data": {
      "text/plain": "<Figure size 216x216 with 1 Axes>",
      "image/svg+xml": "<?xml version=\"1.0\" encoding=\"utf-8\" standalone=\"no\"?>\r\n<!DOCTYPE svg PUBLIC \"-//W3C//DTD SVG 1.1//EN\"\r\n  \"http://www.w3.org/Graphics/SVG/1.1/DTD/svg11.dtd\">\r\n<svg height=\"180.98pt\" version=\"1.1\" viewBox=\"0 0 180.98 180.98\" width=\"180.98pt\" xmlns=\"http://www.w3.org/2000/svg\" xmlns:xlink=\"http://www.w3.org/1999/xlink\">\r\n <metadata>\r\n  <rdf:RDF xmlns:cc=\"http://creativecommons.org/ns#\" xmlns:dc=\"http://purl.org/dc/elements/1.1/\" xmlns:rdf=\"http://www.w3.org/1999/02/22-rdf-syntax-ns#\">\r\n   <cc:Work>\r\n    <dc:type rdf:resource=\"http://purl.org/dc/dcmitype/StillImage\"/>\r\n    <dc:date>2021-06-03T00:12:17.349382</dc:date>\r\n    <dc:format>image/svg+xml</dc:format>\r\n    <dc:creator>\r\n     <cc:Agent>\r\n      <dc:title>Matplotlib v3.4.1, https://matplotlib.org/</dc:title>\r\n     </cc:Agent>\r\n    </dc:creator>\r\n   </cc:Work>\r\n  </rdf:RDF>\r\n </metadata>\r\n <defs>\r\n  <style type=\"text/css\">*{stroke-linecap:butt;stroke-linejoin:round;}</style>\r\n </defs>\r\n <g id=\"figure_1\">\r\n  <g id=\"patch_1\">\r\n   <path d=\"M 0 180.98 \r\nL 180.98 180.98 \r\nL 180.98 0 \r\nL 0 0 \r\nz\r\n\" style=\"fill:none;\"/>\r\n  </g>\r\n  <g id=\"axes_1\">\r\n   <g id=\"patch_2\">\r\n    <path d=\"M 10.7 170.28 \r\nL 173.78 170.28 \r\nL 173.78 7.2 \r\nL 10.7 7.2 \r\nz\r\n\" style=\"fill:#ffffff;\"/>\r\n   </g>\r\n   <g clip-path=\"url(#pd2d8788d9b)\">\r\n    <image height=\"4\" id=\"image13ff99f9a6\" style=\"image-rendering:crisp-edges;image-rendering:pixelated\" transform=\"matrix(41 0 0 41 10.7 6.28)\" width=\"4\" xlink:href=\"data:image/png;base64,\r\niVBORw0KGgoAAAANSUhEUgAAAAQAAAAECAYAAACp8Z5+AAAAOUlEQVR4nDXBMRHAAAgEwUsUMEOBdCQg513QoeFTZffpbkcEmcndwcwYsCQDfjMTSVQVP++ubRvwB2q2GuxcSPqxAAAAAElFTkSuQmCC\"/>\r\n   </g>\r\n   <g id=\"patch_3\">\r\n    <path clip-path=\"url(#pd2d8788d9b)\" d=\"M 31.085 43.893 \r\nL 33.1235 39.816 \r\nL 31.105385 39.816 \r\nL 31.105385 27.585 \r\nL 31.064615 27.585 \r\nL 31.064615 39.816 \r\nL 29.0465 39.816 \r\nz\r\n\" style=\"fill:#bf00bf;stroke:#bf00bf;stroke-linejoin:miter;\"/>\r\n   </g>\r\n   <g id=\"patch_4\">\r\n    <path clip-path=\"url(#pd2d8788d9b)\" d=\"M 88.163 27.585 \r\nL 84.086 25.5465 \r\nL 84.086 27.564615 \r\nL 71.855 27.564615 \r\nL 71.855 27.605385 \r\nL 84.086 27.605385 \r\nL 84.086 29.6235 \r\nz\r\n\" style=\"fill:#bf00bf;stroke:#bf00bf;stroke-linejoin:miter;\"/>\r\n   </g>\r\n   <g id=\"patch_5\">\r\n    <path clip-path=\"url(#pd2d8788d9b)\" d=\"M 112.625 43.893 \r\nL 114.6635 39.816 \r\nL 112.645385 39.816 \r\nL 112.645385 27.585 \r\nL 112.604615 27.585 \r\nL 112.604615 39.816 \r\nL 110.5865 39.816 \r\nz\r\n\" style=\"fill:#bf00bf;stroke:#bf00bf;stroke-linejoin:miter;\"/>\r\n   </g>\r\n   <g id=\"patch_6\">\r\n    <path clip-path=\"url(#pd2d8788d9b)\" d=\"M 137.087 27.585 \r\nL 141.164 29.6235 \r\nL 141.164 27.605385 \r\nL 153.395 27.605385 \r\nL 153.395 27.564615 \r\nL 141.164 27.564615 \r\nL 141.164 25.5465 \r\nz\r\n\" style=\"fill:#bf00bf;stroke:#bf00bf;stroke-linejoin:miter;\"/>\r\n   </g>\r\n   <g id=\"patch_7\">\r\n    <path clip-path=\"url(#pd2d8788d9b)\" d=\"M 31.085 84.663 \r\nL 33.1235 80.586 \r\nL 31.105385 80.586 \r\nL 31.105385 68.355 \r\nL 31.064615 68.355 \r\nL 31.064615 80.586 \r\nL 29.0465 80.586 \r\nz\r\n\" style=\"fill:#bf00bf;stroke:#bf00bf;stroke-linejoin:miter;\"/>\r\n   </g>\r\n   <g id=\"patch_8\">\r\n    <path clip-path=\"url(#pd2d8788d9b)\" d=\"M 112.625 84.663 \r\nL 114.6635 80.586 \r\nL 112.645385 80.586 \r\nL 112.645385 68.355 \r\nL 112.604615 68.355 \r\nL 112.604615 80.586 \r\nL 110.5865 80.586 \r\nz\r\n\" style=\"fill:#bf00bf;stroke:#bf00bf;stroke-linejoin:miter;\"/>\r\n   </g>\r\n   <g id=\"patch_9\">\r\n    <path clip-path=\"url(#pd2d8788d9b)\" d=\"M 47.393 109.125 \r\nL 43.316 107.0865 \r\nL 43.316 109.104615 \r\nL 31.085 109.104615 \r\nL 31.085 109.145385 \r\nL 43.316 109.145385 \r\nL 43.316 111.1635 \r\nz\r\n\" style=\"fill:#bf00bf;stroke:#bf00bf;stroke-linejoin:miter;\"/>\r\n   </g>\r\n   <g id=\"patch_10\">\r\n    <path clip-path=\"url(#pd2d8788d9b)\" d=\"M 71.855 125.433 \r\nL 73.8935 121.356 \r\nL 71.875385 121.356 \r\nL 71.875385 109.125 \r\nL 71.834615 109.125 \r\nL 71.834615 121.356 \r\nL 69.8165 121.356 \r\nz\r\n\" style=\"fill:#bf00bf;stroke:#bf00bf;stroke-linejoin:miter;\"/>\r\n   </g>\r\n   <g id=\"patch_11\">\r\n    <path clip-path=\"url(#pd2d8788d9b)\" d=\"M 112.625 125.433 \r\nL 114.6635 121.356 \r\nL 112.645385 121.356 \r\nL 112.645385 109.125 \r\nL 112.604615 109.125 \r\nL 112.604615 121.356 \r\nL 110.5865 121.356 \r\nz\r\n\" style=\"fill:#bf00bf;stroke:#bf00bf;stroke-linejoin:miter;\"/>\r\n   </g>\r\n   <g id=\"patch_12\">\r\n    <path clip-path=\"url(#pd2d8788d9b)\" d=\"M 88.163 149.895 \r\nL 84.086 147.8565 \r\nL 84.086 149.874615 \r\nL 71.855 149.874615 \r\nL 71.855 149.915385 \r\nL 84.086 149.915385 \r\nL 84.086 151.9335 \r\nz\r\n\" style=\"fill:#bf00bf;stroke:#bf00bf;stroke-linejoin:miter;\"/>\r\n   </g>\r\n   <g id=\"patch_13\">\r\n    <path clip-path=\"url(#pd2d8788d9b)\" d=\"M 128.933 149.895 \r\nL 124.856 147.8565 \r\nL 124.856 149.874615 \r\nL 112.625 149.874615 \r\nL 112.625 149.915385 \r\nL 124.856 149.915385 \r\nL 124.856 151.9335 \r\nz\r\n\" style=\"fill:#bf00bf;stroke:#bf00bf;stroke-linejoin:miter;\"/>\r\n   </g>\r\n   <g id=\"matplotlib.axis_1\">\r\n    <g id=\"xtick_1\">\r\n     <g id=\"line2d_1\">\r\n      <path clip-path=\"url(#pd2d8788d9b)\" d=\"M 10.7 170.28 \r\nL 10.7 7.2 \r\n\" style=\"fill:none;stroke:#0000ff;stroke-linecap:square;stroke-width:2;\"/>\r\n     </g>\r\n     <g id=\"line2d_2\">\r\n      <defs>\r\n       <path d=\"M 0 0 \r\nL 0 3.5 \r\n\" id=\"m934f78eafd\" style=\"stroke:#000000;stroke-width:0.8;\"/>\r\n      </defs>\r\n      <g>\r\n       <use style=\"stroke:#000000;stroke-width:0.8;\" x=\"10.7\" xlink:href=\"#m934f78eafd\" y=\"170.28\"/>\r\n      </g>\r\n     </g>\r\n    </g>\r\n    <g id=\"xtick_2\">\r\n     <g id=\"line2d_3\">\r\n      <path clip-path=\"url(#pd2d8788d9b)\" d=\"M 51.47 170.28 \r\nL 51.47 7.2 \r\n\" style=\"fill:none;stroke:#0000ff;stroke-linecap:square;stroke-width:2;\"/>\r\n     </g>\r\n     <g id=\"line2d_4\">\r\n      <g>\r\n       <use style=\"stroke:#000000;stroke-width:0.8;\" x=\"51.47\" xlink:href=\"#m934f78eafd\" y=\"170.28\"/>\r\n      </g>\r\n     </g>\r\n    </g>\r\n    <g id=\"xtick_3\">\r\n     <g id=\"line2d_5\">\r\n      <path clip-path=\"url(#pd2d8788d9b)\" d=\"M 92.24 170.28 \r\nL 92.24 7.2 \r\n\" style=\"fill:none;stroke:#0000ff;stroke-linecap:square;stroke-width:2;\"/>\r\n     </g>\r\n     <g id=\"line2d_6\">\r\n      <g>\r\n       <use style=\"stroke:#000000;stroke-width:0.8;\" x=\"92.24\" xlink:href=\"#m934f78eafd\" y=\"170.28\"/>\r\n      </g>\r\n     </g>\r\n    </g>\r\n    <g id=\"xtick_4\">\r\n     <g id=\"line2d_7\">\r\n      <path clip-path=\"url(#pd2d8788d9b)\" d=\"M 133.01 170.28 \r\nL 133.01 7.2 \r\n\" style=\"fill:none;stroke:#0000ff;stroke-linecap:square;stroke-width:2;\"/>\r\n     </g>\r\n     <g id=\"line2d_8\">\r\n      <g>\r\n       <use style=\"stroke:#000000;stroke-width:0.8;\" x=\"133.01\" xlink:href=\"#m934f78eafd\" y=\"170.28\"/>\r\n      </g>\r\n     </g>\r\n    </g>\r\n   </g>\r\n   <g id=\"matplotlib.axis_2\">\r\n    <g id=\"ytick_1\">\r\n     <g id=\"line2d_9\">\r\n      <path clip-path=\"url(#pd2d8788d9b)\" d=\"M 10.7 7.2 \r\nL 173.78 7.2 \r\n\" style=\"fill:none;stroke:#0000ff;stroke-linecap:square;stroke-width:2;\"/>\r\n     </g>\r\n     <g id=\"line2d_10\">\r\n      <defs>\r\n       <path d=\"M 0 0 \r\nL -3.5 0 \r\n\" id=\"m6f1e60adce\" style=\"stroke:#000000;stroke-width:0.8;\"/>\r\n      </defs>\r\n      <g>\r\n       <use style=\"stroke:#000000;stroke-width:0.8;\" x=\"10.7\" xlink:href=\"#m6f1e60adce\" y=\"7.2\"/>\r\n      </g>\r\n     </g>\r\n    </g>\r\n    <g id=\"ytick_2\">\r\n     <g id=\"line2d_11\">\r\n      <path clip-path=\"url(#pd2d8788d9b)\" d=\"M 10.7 47.97 \r\nL 173.78 47.97 \r\n\" style=\"fill:none;stroke:#0000ff;stroke-linecap:square;stroke-width:2;\"/>\r\n     </g>\r\n     <g id=\"line2d_12\">\r\n      <g>\r\n       <use style=\"stroke:#000000;stroke-width:0.8;\" x=\"10.7\" xlink:href=\"#m6f1e60adce\" y=\"47.97\"/>\r\n      </g>\r\n     </g>\r\n    </g>\r\n    <g id=\"ytick_3\">\r\n     <g id=\"line2d_13\">\r\n      <path clip-path=\"url(#pd2d8788d9b)\" d=\"M 10.7 88.74 \r\nL 173.78 88.74 \r\n\" style=\"fill:none;stroke:#0000ff;stroke-linecap:square;stroke-width:2;\"/>\r\n     </g>\r\n     <g id=\"line2d_14\">\r\n      <g>\r\n       <use style=\"stroke:#000000;stroke-width:0.8;\" x=\"10.7\" xlink:href=\"#m6f1e60adce\" y=\"88.74\"/>\r\n      </g>\r\n     </g>\r\n    </g>\r\n    <g id=\"ytick_4\">\r\n     <g id=\"line2d_15\">\r\n      <path clip-path=\"url(#pd2d8788d9b)\" d=\"M 10.7 129.51 \r\nL 173.78 129.51 \r\n\" style=\"fill:none;stroke:#0000ff;stroke-linecap:square;stroke-width:2;\"/>\r\n     </g>\r\n     <g id=\"line2d_16\">\r\n      <g>\r\n       <use style=\"stroke:#000000;stroke-width:0.8;\" x=\"10.7\" xlink:href=\"#m6f1e60adce\" y=\"129.51\"/>\r\n      </g>\r\n     </g>\r\n    </g>\r\n   </g>\r\n   <g id=\"patch_14\">\r\n    <path d=\"M 10.7 170.28 \r\nL 10.7 7.2 \r\n\" style=\"fill:none;stroke:#000000;stroke-linecap:square;stroke-linejoin:miter;stroke-width:0.8;\"/>\r\n   </g>\r\n   <g id=\"patch_15\">\r\n    <path d=\"M 173.78 170.28 \r\nL 173.78 7.2 \r\n\" style=\"fill:none;stroke:#000000;stroke-linecap:square;stroke-linejoin:miter;stroke-width:0.8;\"/>\r\n   </g>\r\n   <g id=\"patch_16\">\r\n    <path d=\"M 10.7 170.28 \r\nL 173.78 170.28 \r\n\" style=\"fill:none;stroke:#000000;stroke-linecap:square;stroke-linejoin:miter;stroke-width:0.8;\"/>\r\n   </g>\r\n   <g id=\"patch_17\">\r\n    <path d=\"M 10.7 7.2 \r\nL 173.78 7.2 \r\n\" style=\"fill:none;stroke:#000000;stroke-linecap:square;stroke-linejoin:miter;stroke-width:0.8;\"/>\r\n   </g>\r\n   <g id=\"text_1\">\r\n    <!-- S -->\r\n    <g style=\"fill:#008000;\" transform=\"translate(26.764063 30.89625)scale(0.12 -0.12)\">\r\n     <defs>\r\n      <path d=\"M 3834 4519 \r\nL 3834 3531 \r\nQ 3450 3703 3084 3790 \r\nQ 2719 3878 2394 3878 \r\nQ 1963 3878 1756 3759 \r\nQ 1550 3641 1550 3391 \r\nQ 1550 3203 1689 3098 \r\nQ 1828 2994 2194 2919 \r\nL 2706 2816 \r\nQ 3484 2659 3812 2340 \r\nQ 4141 2022 4141 1434 \r\nQ 4141 663 3683 286 \r\nQ 3225 -91 2284 -91 \r\nQ 1841 -91 1394 -6 \r\nQ 947 78 500 244 \r\nL 500 1259 \r\nQ 947 1022 1364 901 \r\nQ 1781 781 2169 781 \r\nQ 2563 781 2772 912 \r\nQ 2981 1044 2981 1288 \r\nQ 2981 1506 2839 1625 \r\nQ 2697 1744 2272 1838 \r\nL 1806 1941 \r\nQ 1106 2091 782 2419 \r\nQ 459 2747 459 3303 \r\nQ 459 4000 909 4375 \r\nQ 1359 4750 2203 4750 \r\nQ 2588 4750 2994 4692 \r\nQ 3400 4634 3834 4519 \r\nz\r\n\" id=\"DejaVuSans-Bold-53\" transform=\"scale(0.015625)\"/>\r\n     </defs>\r\n     <use xlink:href=\"#DejaVuSans-Bold-53\"/>\r\n    </g>\r\n   </g>\r\n   <g id=\"text_2\">\r\n    <!-- F -->\r\n    <g style=\"fill:#008000;\" transform=\"translate(67.75625 30.89625)scale(0.12 -0.12)\">\r\n     <defs>\r\n      <path d=\"M 588 4666 \r\nL 3834 4666 \r\nL 3834 3756 \r\nL 1791 3756 \r\nL 1791 2888 \r\nL 3713 2888 \r\nL 3713 1978 \r\nL 1791 1978 \r\nL 1791 0 \r\nL 588 0 \r\nL 588 4666 \r\nz\r\n\" id=\"DejaVuSans-Bold-46\" transform=\"scale(0.015625)\"/>\r\n     </defs>\r\n     <use xlink:href=\"#DejaVuSans-Bold-46\"/>\r\n    </g>\r\n   </g>\r\n   <g id=\"text_3\">\r\n    <!-- F -->\r\n    <g style=\"fill:#008000;\" transform=\"translate(108.52625 30.89625)scale(0.12 -0.12)\">\r\n     <use xlink:href=\"#DejaVuSans-Bold-46\"/>\r\n    </g>\r\n   </g>\r\n   <g id=\"text_4\">\r\n    <!-- F -->\r\n    <g style=\"fill:#008000;\" transform=\"translate(149.29625 30.89625)scale(0.12 -0.12)\">\r\n     <use xlink:href=\"#DejaVuSans-Bold-46\"/>\r\n    </g>\r\n   </g>\r\n   <g id=\"text_5\">\r\n    <!-- F -->\r\n    <g style=\"fill:#008000;\" transform=\"translate(26.98625 71.66625)scale(0.12 -0.12)\">\r\n     <use xlink:href=\"#DejaVuSans-Bold-46\"/>\r\n    </g>\r\n   </g>\r\n   <g id=\"text_6\">\r\n    <!-- H -->\r\n    <g style=\"fill:#008000;\" transform=\"translate(66.83375 71.66625)scale(0.12 -0.12)\">\r\n     <defs>\r\n      <path d=\"M 588 4666 \r\nL 1791 4666 \r\nL 1791 2888 \r\nL 3566 2888 \r\nL 3566 4666 \r\nL 4769 4666 \r\nL 4769 0 \r\nL 3566 0 \r\nL 3566 1978 \r\nL 1791 1978 \r\nL 1791 0 \r\nL 588 0 \r\nL 588 4666 \r\nz\r\n\" id=\"DejaVuSans-Bold-48\" transform=\"scale(0.015625)\"/>\r\n     </defs>\r\n     <use xlink:href=\"#DejaVuSans-Bold-48\"/>\r\n    </g>\r\n   </g>\r\n   <g id=\"text_7\">\r\n    <!-- F -->\r\n    <g style=\"fill:#008000;\" transform=\"translate(108.52625 71.66625)scale(0.12 -0.12)\">\r\n     <use xlink:href=\"#DejaVuSans-Bold-46\"/>\r\n    </g>\r\n   </g>\r\n   <g id=\"text_8\">\r\n    <!-- H -->\r\n    <g style=\"fill:#008000;\" transform=\"translate(148.37375 71.66625)scale(0.12 -0.12)\">\r\n     <use xlink:href=\"#DejaVuSans-Bold-48\"/>\r\n    </g>\r\n   </g>\r\n   <g id=\"text_9\">\r\n    <!-- F -->\r\n    <g style=\"fill:#008000;\" transform=\"translate(26.98625 112.43625)scale(0.12 -0.12)\">\r\n     <use xlink:href=\"#DejaVuSans-Bold-46\"/>\r\n    </g>\r\n   </g>\r\n   <g id=\"text_10\">\r\n    <!-- F -->\r\n    <g style=\"fill:#008000;\" transform=\"translate(67.75625 112.43625)scale(0.12 -0.12)\">\r\n     <use xlink:href=\"#DejaVuSans-Bold-46\"/>\r\n    </g>\r\n   </g>\r\n   <g id=\"text_11\">\r\n    <!-- F -->\r\n    <g style=\"fill:#008000;\" transform=\"translate(108.52625 112.43625)scale(0.12 -0.12)\">\r\n     <use xlink:href=\"#DejaVuSans-Bold-46\"/>\r\n    </g>\r\n   </g>\r\n   <g id=\"text_12\">\r\n    <!-- H -->\r\n    <g style=\"fill:#008000;\" transform=\"translate(148.37375 112.43625)scale(0.12 -0.12)\">\r\n     <use xlink:href=\"#DejaVuSans-Bold-48\"/>\r\n    </g>\r\n   </g>\r\n   <g id=\"text_13\">\r\n    <!-- H -->\r\n    <g style=\"fill:#008000;\" transform=\"translate(26.06375 153.20625)scale(0.12 -0.12)\">\r\n     <use xlink:href=\"#DejaVuSans-Bold-48\"/>\r\n    </g>\r\n   </g>\r\n   <g id=\"text_14\">\r\n    <!-- F -->\r\n    <g style=\"fill:#008000;\" transform=\"translate(67.75625 153.20625)scale(0.12 -0.12)\">\r\n     <use xlink:href=\"#DejaVuSans-Bold-46\"/>\r\n    </g>\r\n   </g>\r\n   <g id=\"text_15\">\r\n    <!-- F -->\r\n    <g style=\"fill:#008000;\" transform=\"translate(108.52625 153.20625)scale(0.12 -0.12)\">\r\n     <use xlink:href=\"#DejaVuSans-Bold-46\"/>\r\n    </g>\r\n   </g>\r\n   <g id=\"text_16\">\r\n    <!-- G -->\r\n    <g style=\"fill:#008000;\" transform=\"translate(148.470312 153.20625)scale(0.12 -0.12)\">\r\n     <defs>\r\n      <path d=\"M 4781 347 \r\nQ 4331 128 3847 18 \r\nQ 3363 -91 2847 -91 \r\nQ 1681 -91 1000 561 \r\nQ 319 1213 319 2328 \r\nQ 319 3456 1012 4103 \r\nQ 1706 4750 2913 4750 \r\nQ 3378 4750 3804 4662 \r\nQ 4231 4575 4609 4403 \r\nL 4609 3438 \r\nQ 4219 3659 3833 3768 \r\nQ 3447 3878 3059 3878 \r\nQ 2341 3878 1952 3476 \r\nQ 1563 3075 1563 2328 \r\nQ 1563 1588 1938 1184 \r\nQ 2313 781 3003 781 \r\nQ 3191 781 3352 804 \r\nQ 3513 828 3641 878 \r\nL 3641 1784 \r\nL 2906 1784 \r\nL 2906 2591 \r\nL 4781 2591 \r\nL 4781 347 \r\nz\r\n\" id=\"DejaVuSans-Bold-47\" transform=\"scale(0.015625)\"/>\r\n     </defs>\r\n     <use xlink:href=\"#DejaVuSans-Bold-47\"/>\r\n    </g>\r\n   </g>\r\n  </g>\r\n </g>\r\n <defs>\r\n  <clipPath id=\"pd2d8788d9b\">\r\n   <rect height=\"163.08\" width=\"163.08\" x=\"10.7\" y=\"7.2\"/>\r\n  </clipPath>\r\n </defs>\r\n</svg>\r\n",
      "image/png": "[encoded data removed]"
     },
     "metadata": {
      "needs_background": "light"
     }
    },
    {
     "output_type": "stream",
     "name": "stdout",
     "text": [
      "after iteration 9\niter    0   |   diff: 0.00000   |   V(start): 0.590 \n"
     ]
    },
    {
     "output_type": "display_data",
     "data": {
      "text/plain": "<Figure size 216x216 with 1 Axes>",
      "image/svg+xml": "<?xml version=\"1.0\" encoding=\"utf-8\" standalone=\"no\"?>\r\n<!DOCTYPE svg PUBLIC \"-//W3C//DTD SVG 1.1//EN\"\r\n  \"http://www.w3.org/Graphics/SVG/1.1/DTD/svg11.dtd\">\r\n<svg height=\"180.98pt\" version=\"1.1\" viewBox=\"0 0 180.98 180.98\" width=\"180.98pt\" xmlns=\"http://www.w3.org/2000/svg\" xmlns:xlink=\"http://www.w3.org/1999/xlink\">\r\n <metadata>\r\n  <rdf:RDF xmlns:cc=\"http://creativecommons.org/ns#\" xmlns:dc=\"http://purl.org/dc/elements/1.1/\" xmlns:rdf=\"http://www.w3.org/1999/02/22-rdf-syntax-ns#\">\r\n   <cc:Work>\r\n    <dc:type rdf:resource=\"http://purl.org/dc/dcmitype/StillImage\"/>\r\n    <dc:date>2021-06-03T00:12:17.511414</dc:date>\r\n    <dc:format>image/svg+xml</dc:format>\r\n    <dc:creator>\r\n     <cc:Agent>\r\n      <dc:title>Matplotlib v3.4.1, https://matplotlib.org/</dc:title>\r\n     </cc:Agent>\r\n    </dc:creator>\r\n   </cc:Work>\r\n  </rdf:RDF>\r\n </metadata>\r\n <defs>\r\n  <style type=\"text/css\">*{stroke-linecap:butt;stroke-linejoin:round;}</style>\r\n </defs>\r\n <g id=\"figure_1\">\r\n  <g id=\"patch_1\">\r\n   <path d=\"M 0 180.98 \r\nL 180.98 180.98 \r\nL 180.98 0 \r\nL 0 0 \r\nz\r\n\" style=\"fill:none;\"/>\r\n  </g>\r\n  <g id=\"axes_1\">\r\n   <g id=\"patch_2\">\r\n    <path d=\"M 10.7 170.28 \r\nL 173.78 170.28 \r\nL 173.78 7.2 \r\nL 10.7 7.2 \r\nz\r\n\" style=\"fill:#ffffff;\"/>\r\n   </g>\r\n   <g clip-path=\"url(#pd1d079f5c6)\">\r\n    <image height=\"4\" id=\"image59719feafd\" style=\"image-rendering:crisp-edges;image-rendering:pixelated\" transform=\"matrix(41 0 0 41 10.7 6.28)\" width=\"4\" xlink:href=\"data:image/png;base64,\r\niVBORw0KGgoAAAANSUhEUgAAAAQAAAAECAYAAACp8Z5+AAAAOUlEQVR4nDXBMRHAAAgEwUsUMEOBdCQg513QoeFTZffpbkcEmcndwcwYsCQDfjMTSVQVP++ubRvwB2q2GuxcSPqxAAAAAElFTkSuQmCC\"/>\r\n   </g>\r\n   <g id=\"patch_3\">\r\n    <path clip-path=\"url(#pd1d079f5c6)\" d=\"M 31.085 43.893 \r\nL 33.1235 39.816 \r\nL 31.105385 39.816 \r\nL 31.105385 27.585 \r\nL 31.064615 27.585 \r\nL 31.064615 39.816 \r\nL 29.0465 39.816 \r\nz\r\n\" style=\"fill:#bf00bf;stroke:#bf00bf;stroke-linejoin:miter;\"/>\r\n   </g>\r\n   <g id=\"patch_4\">\r\n    <path clip-path=\"url(#pd1d079f5c6)\" d=\"M 88.163 27.585 \r\nL 84.086 25.5465 \r\nL 84.086 27.564615 \r\nL 71.855 27.564615 \r\nL 71.855 27.605385 \r\nL 84.086 27.605385 \r\nL 84.086 29.6235 \r\nz\r\n\" style=\"fill:#bf00bf;stroke:#bf00bf;stroke-linejoin:miter;\"/>\r\n   </g>\r\n   <g id=\"patch_5\">\r\n    <path clip-path=\"url(#pd1d079f5c6)\" d=\"M 112.625 43.893 \r\nL 114.6635 39.816 \r\nL 112.645385 39.816 \r\nL 112.645385 27.585 \r\nL 112.604615 27.585 \r\nL 112.604615 39.816 \r\nL 110.5865 39.816 \r\nz\r\n\" style=\"fill:#bf00bf;stroke:#bf00bf;stroke-linejoin:miter;\"/>\r\n   </g>\r\n   <g id=\"patch_6\">\r\n    <path clip-path=\"url(#pd1d079f5c6)\" d=\"M 137.087 27.585 \r\nL 141.164 29.6235 \r\nL 141.164 27.605385 \r\nL 153.395 27.605385 \r\nL 153.395 27.564615 \r\nL 141.164 27.564615 \r\nL 141.164 25.5465 \r\nz\r\n\" style=\"fill:#bf00bf;stroke:#bf00bf;stroke-linejoin:miter;\"/>\r\n   </g>\r\n   <g id=\"patch_7\">\r\n    <path clip-path=\"url(#pd1d079f5c6)\" d=\"M 31.085 84.663 \r\nL 33.1235 80.586 \r\nL 31.105385 80.586 \r\nL 31.105385 68.355 \r\nL 31.064615 68.355 \r\nL 31.064615 80.586 \r\nL 29.0465 80.586 \r\nz\r\n\" style=\"fill:#bf00bf;stroke:#bf00bf;stroke-linejoin:miter;\"/>\r\n   </g>\r\n   <g id=\"patch_8\">\r\n    <path clip-path=\"url(#pd1d079f5c6)\" d=\"M 112.625 84.663 \r\nL 114.6635 80.586 \r\nL 112.645385 80.586 \r\nL 112.645385 68.355 \r\nL 112.604615 68.355 \r\nL 112.604615 80.586 \r\nL 110.5865 80.586 \r\nz\r\n\" style=\"fill:#bf00bf;stroke:#bf00bf;stroke-linejoin:miter;\"/>\r\n   </g>\r\n   <g id=\"patch_9\">\r\n    <path clip-path=\"url(#pd1d079f5c6)\" d=\"M 47.393 109.125 \r\nL 43.316 107.0865 \r\nL 43.316 109.104615 \r\nL 31.085 109.104615 \r\nL 31.085 109.145385 \r\nL 43.316 109.145385 \r\nL 43.316 111.1635 \r\nz\r\n\" style=\"fill:#bf00bf;stroke:#bf00bf;stroke-linejoin:miter;\"/>\r\n   </g>\r\n   <g id=\"patch_10\">\r\n    <path clip-path=\"url(#pd1d079f5c6)\" d=\"M 71.855 125.433 \r\nL 73.8935 121.356 \r\nL 71.875385 121.356 \r\nL 71.875385 109.125 \r\nL 71.834615 109.125 \r\nL 71.834615 121.356 \r\nL 69.8165 121.356 \r\nz\r\n\" style=\"fill:#bf00bf;stroke:#bf00bf;stroke-linejoin:miter;\"/>\r\n   </g>\r\n   <g id=\"patch_11\">\r\n    <path clip-path=\"url(#pd1d079f5c6)\" d=\"M 112.625 125.433 \r\nL 114.6635 121.356 \r\nL 112.645385 121.356 \r\nL 112.645385 109.125 \r\nL 112.604615 109.125 \r\nL 112.604615 121.356 \r\nL 110.5865 121.356 \r\nz\r\n\" style=\"fill:#bf00bf;stroke:#bf00bf;stroke-linejoin:miter;\"/>\r\n   </g>\r\n   <g id=\"patch_12\">\r\n    <path clip-path=\"url(#pd1d079f5c6)\" d=\"M 88.163 149.895 \r\nL 84.086 147.8565 \r\nL 84.086 149.874615 \r\nL 71.855 149.874615 \r\nL 71.855 149.915385 \r\nL 84.086 149.915385 \r\nL 84.086 151.9335 \r\nz\r\n\" style=\"fill:#bf00bf;stroke:#bf00bf;stroke-linejoin:miter;\"/>\r\n   </g>\r\n   <g id=\"patch_13\">\r\n    <path clip-path=\"url(#pd1d079f5c6)\" d=\"M 128.933 149.895 \r\nL 124.856 147.8565 \r\nL 124.856 149.874615 \r\nL 112.625 149.874615 \r\nL 112.625 149.915385 \r\nL 124.856 149.915385 \r\nL 124.856 151.9335 \r\nz\r\n\" style=\"fill:#bf00bf;stroke:#bf00bf;stroke-linejoin:miter;\"/>\r\n   </g>\r\n   <g id=\"matplotlib.axis_1\">\r\n    <g id=\"xtick_1\">\r\n     <g id=\"line2d_1\">\r\n      <path clip-path=\"url(#pd1d079f5c6)\" d=\"M 10.7 170.28 \r\nL 10.7 7.2 \r\n\" style=\"fill:none;stroke:#0000ff;stroke-linecap:square;stroke-width:2;\"/>\r\n     </g>\r\n     <g id=\"line2d_2\">\r\n      <defs>\r\n       <path d=\"M 0 0 \r\nL 0 3.5 \r\n\" id=\"mfb4b6ace86\" style=\"stroke:#000000;stroke-width:0.8;\"/>\r\n      </defs>\r\n      <g>\r\n       <use style=\"stroke:#000000;stroke-width:0.8;\" x=\"10.7\" xlink:href=\"#mfb4b6ace86\" y=\"170.28\"/>\r\n      </g>\r\n     </g>\r\n    </g>\r\n    <g id=\"xtick_2\">\r\n     <g id=\"line2d_3\">\r\n      <path clip-path=\"url(#pd1d079f5c6)\" d=\"M 51.47 170.28 \r\nL 51.47 7.2 \r\n\" style=\"fill:none;stroke:#0000ff;stroke-linecap:square;stroke-width:2;\"/>\r\n     </g>\r\n     <g id=\"line2d_4\">\r\n      <g>\r\n       <use style=\"stroke:#000000;stroke-width:0.8;\" x=\"51.47\" xlink:href=\"#mfb4b6ace86\" y=\"170.28\"/>\r\n      </g>\r\n     </g>\r\n    </g>\r\n    <g id=\"xtick_3\">\r\n     <g id=\"line2d_5\">\r\n      <path clip-path=\"url(#pd1d079f5c6)\" d=\"M 92.24 170.28 \r\nL 92.24 7.2 \r\n\" style=\"fill:none;stroke:#0000ff;stroke-linecap:square;stroke-width:2;\"/>\r\n     </g>\r\n     <g id=\"line2d_6\">\r\n      <g>\r\n       <use style=\"stroke:#000000;stroke-width:0.8;\" x=\"92.24\" xlink:href=\"#mfb4b6ace86\" y=\"170.28\"/>\r\n      </g>\r\n     </g>\r\n    </g>\r\n    <g id=\"xtick_4\">\r\n     <g id=\"line2d_7\">\r\n      <path clip-path=\"url(#pd1d079f5c6)\" d=\"M 133.01 170.28 \r\nL 133.01 7.2 \r\n\" style=\"fill:none;stroke:#0000ff;stroke-linecap:square;stroke-width:2;\"/>\r\n     </g>\r\n     <g id=\"line2d_8\">\r\n      <g>\r\n       <use style=\"stroke:#000000;stroke-width:0.8;\" x=\"133.01\" xlink:href=\"#mfb4b6ace86\" y=\"170.28\"/>\r\n      </g>\r\n     </g>\r\n    </g>\r\n   </g>\r\n   <g id=\"matplotlib.axis_2\">\r\n    <g id=\"ytick_1\">\r\n     <g id=\"line2d_9\">\r\n      <path clip-path=\"url(#pd1d079f5c6)\" d=\"M 10.7 7.2 \r\nL 173.78 7.2 \r\n\" style=\"fill:none;stroke:#0000ff;stroke-linecap:square;stroke-width:2;\"/>\r\n     </g>\r\n     <g id=\"line2d_10\">\r\n      <defs>\r\n       <path d=\"M 0 0 \r\nL -3.5 0 \r\n\" id=\"me3ba0b57ed\" style=\"stroke:#000000;stroke-width:0.8;\"/>\r\n      </defs>\r\n      <g>\r\n       <use style=\"stroke:#000000;stroke-width:0.8;\" x=\"10.7\" xlink:href=\"#me3ba0b57ed\" y=\"7.2\"/>\r\n      </g>\r\n     </g>\r\n    </g>\r\n    <g id=\"ytick_2\">\r\n     <g id=\"line2d_11\">\r\n      <path clip-path=\"url(#pd1d079f5c6)\" d=\"M 10.7 47.97 \r\nL 173.78 47.97 \r\n\" style=\"fill:none;stroke:#0000ff;stroke-linecap:square;stroke-width:2;\"/>\r\n     </g>\r\n     <g id=\"line2d_12\">\r\n      <g>\r\n       <use style=\"stroke:#000000;stroke-width:0.8;\" x=\"10.7\" xlink:href=\"#me3ba0b57ed\" y=\"47.97\"/>\r\n      </g>\r\n     </g>\r\n    </g>\r\n    <g id=\"ytick_3\">\r\n     <g id=\"line2d_13\">\r\n      <path clip-path=\"url(#pd1d079f5c6)\" d=\"M 10.7 88.74 \r\nL 173.78 88.74 \r\n\" style=\"fill:none;stroke:#0000ff;stroke-linecap:square;stroke-width:2;\"/>\r\n     </g>\r\n     <g id=\"line2d_14\">\r\n      <g>\r\n       <use style=\"stroke:#000000;stroke-width:0.8;\" x=\"10.7\" xlink:href=\"#me3ba0b57ed\" y=\"88.74\"/>\r\n      </g>\r\n     </g>\r\n    </g>\r\n    <g id=\"ytick_4\">\r\n     <g id=\"line2d_15\">\r\n      <path clip-path=\"url(#pd1d079f5c6)\" d=\"M 10.7 129.51 \r\nL 173.78 129.51 \r\n\" style=\"fill:none;stroke:#0000ff;stroke-linecap:square;stroke-width:2;\"/>\r\n     </g>\r\n     <g id=\"line2d_16\">\r\n      <g>\r\n       <use style=\"stroke:#000000;stroke-width:0.8;\" x=\"10.7\" xlink:href=\"#me3ba0b57ed\" y=\"129.51\"/>\r\n      </g>\r\n     </g>\r\n    </g>\r\n   </g>\r\n   <g id=\"patch_14\">\r\n    <path d=\"M 10.7 170.28 \r\nL 10.7 7.2 \r\n\" style=\"fill:none;stroke:#000000;stroke-linecap:square;stroke-linejoin:miter;stroke-width:0.8;\"/>\r\n   </g>\r\n   <g id=\"patch_15\">\r\n    <path d=\"M 173.78 170.28 \r\nL 173.78 7.2 \r\n\" style=\"fill:none;stroke:#000000;stroke-linecap:square;stroke-linejoin:miter;stroke-width:0.8;\"/>\r\n   </g>\r\n   <g id=\"patch_16\">\r\n    <path d=\"M 10.7 170.28 \r\nL 173.78 170.28 \r\n\" style=\"fill:none;stroke:#000000;stroke-linecap:square;stroke-linejoin:miter;stroke-width:0.8;\"/>\r\n   </g>\r\n   <g id=\"patch_17\">\r\n    <path d=\"M 10.7 7.2 \r\nL 173.78 7.2 \r\n\" style=\"fill:none;stroke:#000000;stroke-linecap:square;stroke-linejoin:miter;stroke-width:0.8;\"/>\r\n   </g>\r\n   <g id=\"text_1\">\r\n    <!-- S -->\r\n    <g style=\"fill:#008000;\" transform=\"translate(26.764063 30.89625)scale(0.12 -0.12)\">\r\n     <defs>\r\n      <path d=\"M 3834 4519 \r\nL 3834 3531 \r\nQ 3450 3703 3084 3790 \r\nQ 2719 3878 2394 3878 \r\nQ 1963 3878 1756 3759 \r\nQ 1550 3641 1550 3391 \r\nQ 1550 3203 1689 3098 \r\nQ 1828 2994 2194 2919 \r\nL 2706 2816 \r\nQ 3484 2659 3812 2340 \r\nQ 4141 2022 4141 1434 \r\nQ 4141 663 3683 286 \r\nQ 3225 -91 2284 -91 \r\nQ 1841 -91 1394 -6 \r\nQ 947 78 500 244 \r\nL 500 1259 \r\nQ 947 1022 1364 901 \r\nQ 1781 781 2169 781 \r\nQ 2563 781 2772 912 \r\nQ 2981 1044 2981 1288 \r\nQ 2981 1506 2839 1625 \r\nQ 2697 1744 2272 1838 \r\nL 1806 1941 \r\nQ 1106 2091 782 2419 \r\nQ 459 2747 459 3303 \r\nQ 459 4000 909 4375 \r\nQ 1359 4750 2203 4750 \r\nQ 2588 4750 2994 4692 \r\nQ 3400 4634 3834 4519 \r\nz\r\n\" id=\"DejaVuSans-Bold-53\" transform=\"scale(0.015625)\"/>\r\n     </defs>\r\n     <use xlink:href=\"#DejaVuSans-Bold-53\"/>\r\n    </g>\r\n   </g>\r\n   <g id=\"text_2\">\r\n    <!-- F -->\r\n    <g style=\"fill:#008000;\" transform=\"translate(67.75625 30.89625)scale(0.12 -0.12)\">\r\n     <defs>\r\n      <path d=\"M 588 4666 \r\nL 3834 4666 \r\nL 3834 3756 \r\nL 1791 3756 \r\nL 1791 2888 \r\nL 3713 2888 \r\nL 3713 1978 \r\nL 1791 1978 \r\nL 1791 0 \r\nL 588 0 \r\nL 588 4666 \r\nz\r\n\" id=\"DejaVuSans-Bold-46\" transform=\"scale(0.015625)\"/>\r\n     </defs>\r\n     <use xlink:href=\"#DejaVuSans-Bold-46\"/>\r\n    </g>\r\n   </g>\r\n   <g id=\"text_3\">\r\n    <!-- F -->\r\n    <g style=\"fill:#008000;\" transform=\"translate(108.52625 30.89625)scale(0.12 -0.12)\">\r\n     <use xlink:href=\"#DejaVuSans-Bold-46\"/>\r\n    </g>\r\n   </g>\r\n   <g id=\"text_4\">\r\n    <!-- F -->\r\n    <g style=\"fill:#008000;\" transform=\"translate(149.29625 30.89625)scale(0.12 -0.12)\">\r\n     <use xlink:href=\"#DejaVuSans-Bold-46\"/>\r\n    </g>\r\n   </g>\r\n   <g id=\"text_5\">\r\n    <!-- F -->\r\n    <g style=\"fill:#008000;\" transform=\"translate(26.98625 71.66625)scale(0.12 -0.12)\">\r\n     <use xlink:href=\"#DejaVuSans-Bold-46\"/>\r\n    </g>\r\n   </g>\r\n   <g id=\"text_6\">\r\n    <!-- H -->\r\n    <g style=\"fill:#008000;\" transform=\"translate(66.83375 71.66625)scale(0.12 -0.12)\">\r\n     <defs>\r\n      <path d=\"M 588 4666 \r\nL 1791 4666 \r\nL 1791 2888 \r\nL 3566 2888 \r\nL 3566 4666 \r\nL 4769 4666 \r\nL 4769 0 \r\nL 3566 0 \r\nL 3566 1978 \r\nL 1791 1978 \r\nL 1791 0 \r\nL 588 0 \r\nL 588 4666 \r\nz\r\n\" id=\"DejaVuSans-Bold-48\" transform=\"scale(0.015625)\"/>\r\n     </defs>\r\n     <use xlink:href=\"#DejaVuSans-Bold-48\"/>\r\n    </g>\r\n   </g>\r\n   <g id=\"text_7\">\r\n    <!-- F -->\r\n    <g style=\"fill:#008000;\" transform=\"translate(108.52625 71.66625)scale(0.12 -0.12)\">\r\n     <use xlink:href=\"#DejaVuSans-Bold-46\"/>\r\n    </g>\r\n   </g>\r\n   <g id=\"text_8\">\r\n    <!-- H -->\r\n    <g style=\"fill:#008000;\" transform=\"translate(148.37375 71.66625)scale(0.12 -0.12)\">\r\n     <use xlink:href=\"#DejaVuSans-Bold-48\"/>\r\n    </g>\r\n   </g>\r\n   <g id=\"text_9\">\r\n    <!-- F -->\r\n    <g style=\"fill:#008000;\" transform=\"translate(26.98625 112.43625)scale(0.12 -0.12)\">\r\n     <use xlink:href=\"#DejaVuSans-Bold-46\"/>\r\n    </g>\r\n   </g>\r\n   <g id=\"text_10\">\r\n    <!-- F -->\r\n    <g style=\"fill:#008000;\" transform=\"translate(67.75625 112.43625)scale(0.12 -0.12)\">\r\n     <use xlink:href=\"#DejaVuSans-Bold-46\"/>\r\n    </g>\r\n   </g>\r\n   <g id=\"text_11\">\r\n    <!-- F -->\r\n    <g style=\"fill:#008000;\" transform=\"translate(108.52625 112.43625)scale(0.12 -0.12)\">\r\n     <use xlink:href=\"#DejaVuSans-Bold-46\"/>\r\n    </g>\r\n   </g>\r\n   <g id=\"text_12\">\r\n    <!-- H -->\r\n    <g style=\"fill:#008000;\" transform=\"translate(148.37375 112.43625)scale(0.12 -0.12)\">\r\n     <use xlink:href=\"#DejaVuSans-Bold-48\"/>\r\n    </g>\r\n   </g>\r\n   <g id=\"text_13\">\r\n    <!-- H -->\r\n    <g style=\"fill:#008000;\" transform=\"translate(26.06375 153.20625)scale(0.12 -0.12)\">\r\n     <use xlink:href=\"#DejaVuSans-Bold-48\"/>\r\n    </g>\r\n   </g>\r\n   <g id=\"text_14\">\r\n    <!-- F -->\r\n    <g style=\"fill:#008000;\" transform=\"translate(67.75625 153.20625)scale(0.12 -0.12)\">\r\n     <use xlink:href=\"#DejaVuSans-Bold-46\"/>\r\n    </g>\r\n   </g>\r\n   <g id=\"text_15\">\r\n    <!-- F -->\r\n    <g style=\"fill:#008000;\" transform=\"translate(108.52625 153.20625)scale(0.12 -0.12)\">\r\n     <use xlink:href=\"#DejaVuSans-Bold-46\"/>\r\n    </g>\r\n   </g>\r\n   <g id=\"text_16\">\r\n    <!-- G -->\r\n    <g style=\"fill:#008000;\" transform=\"translate(148.470312 153.20625)scale(0.12 -0.12)\">\r\n     <defs>\r\n      <path d=\"M 4781 347 \r\nQ 4331 128 3847 18 \r\nQ 3363 -91 2847 -91 \r\nQ 1681 -91 1000 561 \r\nQ 319 1213 319 2328 \r\nQ 319 3456 1012 4103 \r\nQ 1706 4750 2913 4750 \r\nQ 3378 4750 3804 4662 \r\nQ 4231 4575 4609 4403 \r\nL 4609 3438 \r\nQ 4219 3659 3833 3768 \r\nQ 3447 3878 3059 3878 \r\nQ 2341 3878 1952 3476 \r\nQ 1563 3075 1563 2328 \r\nQ 1563 1588 1938 1184 \r\nQ 2313 781 3003 781 \r\nQ 3191 781 3352 804 \r\nQ 3513 828 3641 878 \r\nL 3641 1784 \r\nL 2906 1784 \r\nL 2906 2591 \r\nL 4781 2591 \r\nL 4781 347 \r\nz\r\n\" id=\"DejaVuSans-Bold-47\" transform=\"scale(0.015625)\"/>\r\n     </defs>\r\n     <use xlink:href=\"#DejaVuSans-Bold-47\"/>\r\n    </g>\r\n   </g>\r\n  </g>\r\n </g>\r\n <defs>\r\n  <clipPath id=\"pd1d079f5c6\">\r\n   <rect height=\"163.08\" width=\"163.08\" x=\"10.7\" y=\"7.2\"/>\r\n  </clipPath>\r\n </defs>\r\n</svg>\r\n",
      "image/png": "[encoded data removed]"
     },
     "metadata": {
      "needs_background": "light"
     }
    }
   ],
   "source": [
    "state_values = {s: 0 for s in mdp.get_all_states()}\n",
    "\n",
    "for i in range(10):\n",
    "    print(\"after iteration %i\" % i)\n",
    "    state_values = value_iteration(mdp, state_values, num_iter=1)\n",
    "    draw_policy(mdp, state_values)\n",
    "# please ignore iter 0 at each step"
   ]
  },
  {
   "cell_type": "code",
   "execution_count": 31,
   "metadata": {},
   "outputs": [
    {
     "output_type": "stream",
     "name": "stdout",
     "text": [
      "after iteration 29\niter    0   |   diff: 0.00000   |   V(start): 0.198 \n"
     ]
    },
    {
     "output_type": "display_data",
     "data": {
      "text/plain": "<Figure size 216x216 with 1 Axes>",
      "image/svg+xml": "<?xml version=\"1.0\" encoding=\"utf-8\" standalone=\"no\"?>\r\n<!DOCTYPE svg PUBLIC \"-//W3C//DTD SVG 1.1//EN\"\r\n  \"http://www.w3.org/Graphics/SVG/1.1/DTD/svg11.dtd\">\r\n<svg height=\"180.98pt\" version=\"1.1\" viewBox=\"0 0 180.98 180.98\" width=\"180.98pt\" xmlns=\"http://www.w3.org/2000/svg\" xmlns:xlink=\"http://www.w3.org/1999/xlink\">\r\n <metadata>\r\n  <rdf:RDF xmlns:cc=\"http://creativecommons.org/ns#\" xmlns:dc=\"http://purl.org/dc/elements/1.1/\" xmlns:rdf=\"http://www.w3.org/1999/02/22-rdf-syntax-ns#\">\r\n   <cc:Work>\r\n    <dc:type rdf:resource=\"http://purl.org/dc/dcmitype/StillImage\"/>\r\n    <dc:date>2021-06-03T00:13:13.253629</dc:date>\r\n    <dc:format>image/svg+xml</dc:format>\r\n    <dc:creator>\r\n     <cc:Agent>\r\n      <dc:title>Matplotlib v3.4.1, https://matplotlib.org/</dc:title>\r\n     </cc:Agent>\r\n    </dc:creator>\r\n   </cc:Work>\r\n  </rdf:RDF>\r\n </metadata>\r\n <defs>\r\n  <style type=\"text/css\">*{stroke-linecap:butt;stroke-linejoin:round;}</style>\r\n </defs>\r\n <g id=\"figure_1\">\r\n  <g id=\"patch_1\">\r\n   <path d=\"M 0 180.98 \r\nL 180.98 180.98 \r\nL 180.98 0 \r\nL 0 0 \r\nz\r\n\" style=\"fill:none;\"/>\r\n  </g>\r\n  <g id=\"axes_1\">\r\n   <g id=\"patch_2\">\r\n    <path d=\"M 10.7 170.28 \r\nL 173.78 170.28 \r\nL 173.78 7.2 \r\nL 10.7 7.2 \r\nz\r\n\" style=\"fill:#ffffff;\"/>\r\n   </g>\r\n   <g clip-path=\"url(#pd06825cfb7)\">\r\n    <image height=\"8\" id=\"imagefd2107896a\" style=\"image-rendering:crisp-edges;image-rendering:pixelated\" transform=\"matrix(20.5 0 0 20.5 10.7 6.28)\" width=\"8\" xlink:href=\"data:image/png;base64,\r\niVBORw0KGgoAAAANSUhEUgAAAAgAAAAICAYAAADED76LAAAAzElEQVR4nE3LO66CQBiA0c+B/M4DGeKUJoSGloJd2LgNXAcNS2AfGndgaeNK6AyDJFjd5BanPLu2bTcRYb/fo7XGGIMxBucczjlSpRR/0jRFa421lizLOBwOqHVdWZaFGCOPxwMRQUTI85yiKFD/1+VyIUkSxnGkKApCCKjv98s8z3w+H263G8fjkb7vsdYSQiCNMfJ+vwHoug4RwXvP9Xrl9Xqhtm0D4Hw+M00TwzBwOp0AqOuaXdM0m4igteb5fHK/36mqirIs8d7zA0YxORZBpcQLAAAAAElFTkSuQmCC\"/>\r\n   </g>\r\n   <g id=\"patch_3\">\r\n    <path clip-path=\"url(#pd06825cfb7)\" d=\"M 29.0465 17.3925 \r\nL 27.008 16.37325 \r\nL 27.008 17.382308 \r\nL 20.8925 17.382308 \r\nL 20.8925 17.402693 \r\nL 27.008 17.402693 \r\nL 27.008 18.41175 \r\nz\r\n\" style=\"fill:#bf00bf;stroke:#bf00bf;stroke-linejoin:miter;\"/>\r\n   </g>\r\n   <g id=\"patch_4\">\r\n    <path clip-path=\"url(#pd06825cfb7)\" d=\"M 49.4315 17.3925 \r\nL 47.393 16.37325 \r\nL 47.393 17.382308 \r\nL 41.2775 17.382308 \r\nL 41.2775 17.402693 \r\nL 47.393 17.402693 \r\nL 47.393 18.41175 \r\nz\r\n\" style=\"fill:#bf00bf;stroke:#bf00bf;stroke-linejoin:miter;\"/>\r\n   </g>\r\n   <g id=\"patch_5\">\r\n    <path clip-path=\"url(#pd06825cfb7)\" d=\"M 69.8165 17.3925 \r\nL 67.778 16.37325 \r\nL 67.778 17.382308 \r\nL 61.6625 17.382308 \r\nL 61.6625 17.402693 \r\nL 67.778 17.402693 \r\nL 67.778 18.41175 \r\nz\r\n\" style=\"fill:#bf00bf;stroke:#bf00bf;stroke-linejoin:miter;\"/>\r\n   </g>\r\n   <g id=\"patch_6\">\r\n    <path clip-path=\"url(#pd06825cfb7)\" d=\"M 90.2015 17.3925 \r\nL 88.163 16.37325 \r\nL 88.163 17.382308 \r\nL 82.0475 17.382308 \r\nL 82.0475 17.402693 \r\nL 88.163 17.402693 \r\nL 88.163 18.41175 \r\nz\r\n\" style=\"fill:#bf00bf;stroke:#bf00bf;stroke-linejoin:miter;\"/>\r\n   </g>\r\n   <g id=\"patch_7\">\r\n    <path clip-path=\"url(#pd06825cfb7)\" d=\"M 110.5865 17.3925 \r\nL 108.548 16.37325 \r\nL 108.548 17.382308 \r\nL 102.4325 17.382308 \r\nL 102.4325 17.402693 \r\nL 108.548 17.402693 \r\nL 108.548 18.41175 \r\nz\r\n\" style=\"fill:#bf00bf;stroke:#bf00bf;stroke-linejoin:miter;\"/>\r\n   </g>\r\n   <g id=\"patch_8\">\r\n    <path clip-path=\"url(#pd06825cfb7)\" d=\"M 130.9715 17.3925 \r\nL 128.933 16.37325 \r\nL 128.933 17.382308 \r\nL 122.8175 17.382308 \r\nL 122.8175 17.402693 \r\nL 128.933 17.402693 \r\nL 128.933 18.41175 \r\nz\r\n\" style=\"fill:#bf00bf;stroke:#bf00bf;stroke-linejoin:miter;\"/>\r\n   </g>\r\n   <g id=\"patch_9\">\r\n    <path clip-path=\"url(#pd06825cfb7)\" d=\"M 143.2025 25.5465 \r\nL 144.22175 23.508 \r\nL 143.212692 23.508 \r\nL 143.212692 17.3925 \r\nL 143.192307 17.3925 \r\nL 143.192307 23.508 \r\nL 142.18325 23.508 \r\nz\r\n\" style=\"fill:#bf00bf;stroke:#bf00bf;stroke-linejoin:miter;\"/>\r\n   </g>\r\n   <g id=\"patch_10\">\r\n    <path clip-path=\"url(#pd06825cfb7)\" d=\"M 163.5875 25.5465 \r\nL 164.60675 23.508 \r\nL 163.597692 23.508 \r\nL 163.597692 17.3925 \r\nL 163.577308 17.3925 \r\nL 163.577308 23.508 \r\nL 162.56825 23.508 \r\nz\r\n\" style=\"fill:#bf00bf;stroke:#bf00bf;stroke-linejoin:miter;\"/>\r\n   </g>\r\n   <g id=\"patch_11\">\r\n    <path clip-path=\"url(#pd06825cfb7)\" d=\"M 29.0465 37.7775 \r\nL 27.008 36.75825 \r\nL 27.008 37.767308 \r\nL 20.8925 37.767308 \r\nL 20.8925 37.787693 \r\nL 27.008 37.787693 \r\nL 27.008 38.79675 \r\nz\r\n\" style=\"fill:#bf00bf;stroke:#bf00bf;stroke-linejoin:miter;\"/>\r\n   </g>\r\n   <g id=\"patch_12\">\r\n    <path clip-path=\"url(#pd06825cfb7)\" d=\"M 49.4315 37.7775 \r\nL 47.393 36.75825 \r\nL 47.393 37.767308 \r\nL 41.2775 37.767308 \r\nL 41.2775 37.787693 \r\nL 47.393 37.787693 \r\nL 47.393 38.79675 \r\nz\r\n\" style=\"fill:#bf00bf;stroke:#bf00bf;stroke-linejoin:miter;\"/>\r\n   </g>\r\n   <g id=\"patch_13\">\r\n    <path clip-path=\"url(#pd06825cfb7)\" d=\"M 69.8165 37.7775 \r\nL 67.778 36.75825 \r\nL 67.778 37.767308 \r\nL 61.6625 37.767308 \r\nL 61.6625 37.787693 \r\nL 67.778 37.787693 \r\nL 67.778 38.79675 \r\nz\r\n\" style=\"fill:#bf00bf;stroke:#bf00bf;stroke-linejoin:miter;\"/>\r\n   </g>\r\n   <g id=\"patch_14\">\r\n    <path clip-path=\"url(#pd06825cfb7)\" d=\"M 90.2015 37.7775 \r\nL 88.163 36.75825 \r\nL 88.163 37.767308 \r\nL 82.0475 37.767308 \r\nL 82.0475 37.787693 \r\nL 88.163 37.787693 \r\nL 88.163 38.79675 \r\nz\r\n\" style=\"fill:#bf00bf;stroke:#bf00bf;stroke-linejoin:miter;\"/>\r\n   </g>\r\n   <g id=\"patch_15\">\r\n    <path clip-path=\"url(#pd06825cfb7)\" d=\"M 110.5865 37.7775 \r\nL 108.548 36.75825 \r\nL 108.548 37.767308 \r\nL 102.4325 37.767308 \r\nL 102.4325 37.787693 \r\nL 108.548 37.787693 \r\nL 108.548 38.79675 \r\nz\r\n\" style=\"fill:#bf00bf;stroke:#bf00bf;stroke-linejoin:miter;\"/>\r\n   </g>\r\n   <g id=\"patch_16\">\r\n    <path clip-path=\"url(#pd06825cfb7)\" d=\"M 130.9715 37.7775 \r\nL 128.933 36.75825 \r\nL 128.933 37.767308 \r\nL 122.8175 37.767308 \r\nL 122.8175 37.787693 \r\nL 128.933 37.787693 \r\nL 128.933 38.79675 \r\nz\r\n\" style=\"fill:#bf00bf;stroke:#bf00bf;stroke-linejoin:miter;\"/>\r\n   </g>\r\n   <g id=\"patch_17\">\r\n    <path clip-path=\"url(#pd06825cfb7)\" d=\"M 143.2025 45.9315 \r\nL 144.22175 43.893 \r\nL 143.212692 43.893 \r\nL 143.212692 37.7775 \r\nL 143.192307 37.7775 \r\nL 143.192307 43.893 \r\nL 142.18325 43.893 \r\nz\r\n\" style=\"fill:#bf00bf;stroke:#bf00bf;stroke-linejoin:miter;\"/>\r\n   </g>\r\n   <g id=\"patch_18\">\r\n    <path clip-path=\"url(#pd06825cfb7)\" d=\"M 163.5875 45.9315 \r\nL 164.60675 43.893 \r\nL 163.597692 43.893 \r\nL 163.597692 37.7775 \r\nL 163.577308 37.7775 \r\nL 163.577308 43.893 \r\nL 162.56825 43.893 \r\nz\r\n\" style=\"fill:#bf00bf;stroke:#bf00bf;stroke-linejoin:miter;\"/>\r\n   </g>\r\n   <g id=\"patch_19\">\r\n    <path clip-path=\"url(#pd06825cfb7)\" d=\"M 29.0465 58.1625 \r\nL 27.008 57.14325 \r\nL 27.008 58.152308 \r\nL 20.8925 58.152308 \r\nL 20.8925 58.172693 \r\nL 27.008 58.172693 \r\nL 27.008 59.18175 \r\nz\r\n\" style=\"fill:#bf00bf;stroke:#bf00bf;stroke-linejoin:miter;\"/>\r\n   </g>\r\n   <g id=\"patch_20\">\r\n    <path clip-path=\"url(#pd06825cfb7)\" d=\"M 41.2775 66.3165 \r\nL 42.29675 64.278 \r\nL 41.287692 64.278 \r\nL 41.287692 58.1625 \r\nL 41.267308 58.1625 \r\nL 41.267308 64.278 \r\nL 40.25825 64.278 \r\nz\r\n\" style=\"fill:#bf00bf;stroke:#bf00bf;stroke-linejoin:miter;\"/>\r\n   </g>\r\n   <g id=\"patch_21\">\r\n    <path clip-path=\"url(#pd06825cfb7)\" d=\"M 61.6625 66.3165 \r\nL 62.68175 64.278 \r\nL 61.672692 64.278 \r\nL 61.672692 58.1625 \r\nL 61.652307 58.1625 \r\nL 61.652307 64.278 \r\nL 60.64325 64.278 \r\nz\r\n\" style=\"fill:#bf00bf;stroke:#bf00bf;stroke-linejoin:miter;\"/>\r\n   </g>\r\n   <g id=\"patch_22\">\r\n    <path clip-path=\"url(#pd06825cfb7)\" d=\"M 110.5865 58.1625 \r\nL 108.548 57.14325 \r\nL 108.548 58.152308 \r\nL 102.4325 58.152308 \r\nL 102.4325 58.172693 \r\nL 108.548 58.172693 \r\nL 108.548 59.18175 \r\nz\r\n\" style=\"fill:#bf00bf;stroke:#bf00bf;stroke-linejoin:miter;\"/>\r\n   </g>\r\n   <g id=\"patch_23\">\r\n    <path clip-path=\"url(#pd06825cfb7)\" d=\"M 130.9715 58.1625 \r\nL 128.933 57.14325 \r\nL 128.933 58.152308 \r\nL 122.8175 58.152308 \r\nL 122.8175 58.172693 \r\nL 128.933 58.172693 \r\nL 128.933 59.18175 \r\nz\r\n\" style=\"fill:#bf00bf;stroke:#bf00bf;stroke-linejoin:miter;\"/>\r\n   </g>\r\n   <g id=\"patch_24\">\r\n    <path clip-path=\"url(#pd06825cfb7)\" d=\"M 143.2025 66.3165 \r\nL 144.22175 64.278 \r\nL 143.212692 64.278 \r\nL 143.212692 58.1625 \r\nL 143.192307 58.1625 \r\nL 143.192307 64.278 \r\nL 142.18325 64.278 \r\nz\r\n\" style=\"fill:#bf00bf;stroke:#bf00bf;stroke-linejoin:miter;\"/>\r\n   </g>\r\n   <g id=\"patch_25\">\r\n    <path clip-path=\"url(#pd06825cfb7)\" d=\"M 163.5875 66.3165 \r\nL 164.60675 64.278 \r\nL 163.597692 64.278 \r\nL 163.597692 58.1625 \r\nL 163.577308 58.1625 \r\nL 163.577308 64.278 \r\nL 162.56825 64.278 \r\nz\r\n\" style=\"fill:#bf00bf;stroke:#bf00bf;stroke-linejoin:miter;\"/>\r\n   </g>\r\n   <g id=\"patch_26\">\r\n    <path clip-path=\"url(#pd06825cfb7)\" d=\"M 29.0465 78.5475 \r\nL 27.008 77.52825 \r\nL 27.008 78.537308 \r\nL 20.8925 78.537308 \r\nL 20.8925 78.557693 \r\nL 27.008 78.557693 \r\nL 27.008 79.56675 \r\nz\r\n\" style=\"fill:#bf00bf;stroke:#bf00bf;stroke-linejoin:miter;\"/>\r\n   </g>\r\n   <g id=\"patch_27\">\r\n    <path clip-path=\"url(#pd06825cfb7)\" d=\"M 49.4315 78.5475 \r\nL 47.393 77.52825 \r\nL 47.393 78.537308 \r\nL 41.2775 78.537308 \r\nL 41.2775 78.557693 \r\nL 47.393 78.557693 \r\nL 47.393 79.56675 \r\nz\r\n\" style=\"fill:#bf00bf;stroke:#bf00bf;stroke-linejoin:miter;\"/>\r\n   </g>\r\n   <g id=\"patch_28\">\r\n    <path clip-path=\"url(#pd06825cfb7)\" d=\"M 69.8165 78.5475 \r\nL 67.778 77.52825 \r\nL 67.778 78.537308 \r\nL 61.6625 78.537308 \r\nL 61.6625 78.557693 \r\nL 67.778 78.557693 \r\nL 67.778 79.56675 \r\nz\r\n\" style=\"fill:#bf00bf;stroke:#bf00bf;stroke-linejoin:miter;\"/>\r\n   </g>\r\n   <g id=\"patch_29\">\r\n    <path clip-path=\"url(#pd06825cfb7)\" d=\"M 90.2015 78.5475 \r\nL 88.163 77.52825 \r\nL 88.163 78.537308 \r\nL 82.0475 78.537308 \r\nL 82.0475 78.557693 \r\nL 88.163 78.557693 \r\nL 88.163 79.56675 \r\nz\r\n\" style=\"fill:#bf00bf;stroke:#bf00bf;stroke-linejoin:miter;\"/>\r\n   </g>\r\n   <g id=\"patch_30\">\r\n    <path clip-path=\"url(#pd06825cfb7)\" d=\"M 102.4325 86.7015 \r\nL 103.45175 84.663 \r\nL 102.442692 84.663 \r\nL 102.442692 78.5475 \r\nL 102.422307 78.5475 \r\nL 102.422307 84.663 \r\nL 101.41325 84.663 \r\nz\r\n\" style=\"fill:#bf00bf;stroke:#bf00bf;stroke-linejoin:miter;\"/>\r\n   </g>\r\n   <g id=\"patch_31\">\r\n    <path clip-path=\"url(#pd06825cfb7)\" d=\"M 151.3565 78.5475 \r\nL 149.318 77.52825 \r\nL 149.318 78.537308 \r\nL 143.2025 78.537308 \r\nL 143.2025 78.557693 \r\nL 149.318 78.557693 \r\nL 149.318 79.56675 \r\nz\r\n\" style=\"fill:#bf00bf;stroke:#bf00bf;stroke-linejoin:miter;\"/>\r\n   </g>\r\n   <g id=\"patch_32\">\r\n    <path clip-path=\"url(#pd06825cfb7)\" d=\"M 163.5875 86.7015 \r\nL 164.60675 84.663 \r\nL 163.597692 84.663 \r\nL 163.597692 78.5475 \r\nL 163.577308 78.5475 \r\nL 163.577308 84.663 \r\nL 162.56825 84.663 \r\nz\r\n\" style=\"fill:#bf00bf;stroke:#bf00bf;stroke-linejoin:miter;\"/>\r\n   </g>\r\n   <g id=\"patch_33\">\r\n    <path clip-path=\"url(#pd06825cfb7)\" d=\"M 29.0465 98.9325 \r\nL 27.008 97.91325 \r\nL 27.008 98.922308 \r\nL 20.8925 98.922308 \r\nL 20.8925 98.942693 \r\nL 27.008 98.942693 \r\nL 27.008 99.95175 \r\nz\r\n\" style=\"fill:#bf00bf;stroke:#bf00bf;stroke-linejoin:miter;\"/>\r\n   </g>\r\n   <g id=\"patch_34\">\r\n    <path clip-path=\"url(#pd06825cfb7)\" d=\"M 41.2775 90.7785 \r\nL 40.25825 92.817 \r\nL 41.267308 92.817 \r\nL 41.267308 98.9325 \r\nL 41.287692 98.9325 \r\nL 41.287692 92.817 \r\nL 42.29675 92.817 \r\nz\r\n\" style=\"fill:#bf00bf;stroke:#bf00bf;stroke-linejoin:miter;\"/>\r\n   </g>\r\n   <g id=\"patch_35\">\r\n    <path clip-path=\"url(#pd06825cfb7)\" d=\"M 61.6625 90.7785 \r\nL 60.64325 92.817 \r\nL 61.652307 92.817 \r\nL 61.652307 98.9325 \r\nL 61.672692 98.9325 \r\nL 61.672692 92.817 \r\nL 62.68175 92.817 \r\nz\r\n\" style=\"fill:#bf00bf;stroke:#bf00bf;stroke-linejoin:miter;\"/>\r\n   </g>\r\n   <g id=\"patch_36\">\r\n    <path clip-path=\"url(#pd06825cfb7)\" d=\"M 110.5865 98.9325 \r\nL 108.548 97.91325 \r\nL 108.548 98.922308 \r\nL 102.4325 98.922308 \r\nL 102.4325 98.942693 \r\nL 108.548 98.942693 \r\nL 108.548 99.95175 \r\nz\r\n\" style=\"fill:#bf00bf;stroke:#bf00bf;stroke-linejoin:miter;\"/>\r\n   </g>\r\n   <g id=\"patch_37\">\r\n    <path clip-path=\"url(#pd06825cfb7)\" d=\"M 130.9715 98.9325 \r\nL 128.933 97.91325 \r\nL 128.933 98.922308 \r\nL 122.8175 98.922308 \r\nL 122.8175 98.942693 \r\nL 128.933 98.942693 \r\nL 128.933 99.95175 \r\nz\r\n\" style=\"fill:#bf00bf;stroke:#bf00bf;stroke-linejoin:miter;\"/>\r\n   </g>\r\n   <g id=\"patch_38\">\r\n    <path clip-path=\"url(#pd06825cfb7)\" d=\"M 151.3565 98.9325 \r\nL 149.318 97.91325 \r\nL 149.318 98.922308 \r\nL 143.2025 98.922308 \r\nL 143.2025 98.942693 \r\nL 149.318 98.942693 \r\nL 149.318 99.95175 \r\nz\r\n\" style=\"fill:#bf00bf;stroke:#bf00bf;stroke-linejoin:miter;\"/>\r\n   </g>\r\n   <g id=\"patch_39\">\r\n    <path clip-path=\"url(#pd06825cfb7)\" d=\"M 163.5875 107.0865 \r\nL 164.60675 105.048 \r\nL 163.597692 105.048 \r\nL 163.597692 98.9325 \r\nL 163.577308 98.9325 \r\nL 163.577308 105.048 \r\nL 162.56825 105.048 \r\nz\r\n\" style=\"fill:#bf00bf;stroke:#bf00bf;stroke-linejoin:miter;\"/>\r\n   </g>\r\n   <g id=\"patch_40\">\r\n    <path clip-path=\"url(#pd06825cfb7)\" d=\"M 20.8925 111.1635 \r\nL 19.87325 113.202 \r\nL 20.882308 113.202 \r\nL 20.882308 119.3175 \r\nL 20.902693 119.3175 \r\nL 20.902693 113.202 \r\nL 21.91175 113.202 \r\nz\r\n\" style=\"fill:#bf00bf;stroke:#bf00bf;stroke-linejoin:miter;\"/>\r\n   </g>\r\n   <g id=\"patch_41\">\r\n    <path clip-path=\"url(#pd06825cfb7)\" d=\"M 90.2015 119.3175 \r\nL 88.163 118.29825 \r\nL 88.163 119.307308 \r\nL 82.0475 119.307308 \r\nL 82.0475 119.327693 \r\nL 88.163 119.327693 \r\nL 88.163 120.33675 \r\nz\r\n\" style=\"fill:#bf00bf;stroke:#bf00bf;stroke-linejoin:miter;\"/>\r\n   </g>\r\n   <g id=\"patch_42\">\r\n    <path clip-path=\"url(#pd06825cfb7)\" d=\"M 110.5865 119.3175 \r\nL 108.548 118.29825 \r\nL 108.548 119.307308 \r\nL 102.4325 119.307308 \r\nL 102.4325 119.327693 \r\nL 108.548 119.327693 \r\nL 108.548 120.33675 \r\nz\r\n\" style=\"fill:#bf00bf;stroke:#bf00bf;stroke-linejoin:miter;\"/>\r\n   </g>\r\n   <g id=\"patch_43\">\r\n    <path clip-path=\"url(#pd06825cfb7)\" d=\"M 122.8175 127.4715 \r\nL 123.83675 125.433 \r\nL 122.827692 125.433 \r\nL 122.827692 119.3175 \r\nL 122.807307 119.3175 \r\nL 122.807307 125.433 \r\nL 121.79825 125.433 \r\nz\r\n\" style=\"fill:#bf00bf;stroke:#bf00bf;stroke-linejoin:miter;\"/>\r\n   </g>\r\n   <g id=\"patch_44\">\r\n    <path clip-path=\"url(#pd06825cfb7)\" d=\"M 163.5875 127.4715 \r\nL 164.60675 125.433 \r\nL 163.597692 125.433 \r\nL 163.597692 119.3175 \r\nL 163.577308 119.3175 \r\nL 163.577308 125.433 \r\nL 162.56825 125.433 \r\nz\r\n\" style=\"fill:#bf00bf;stroke:#bf00bf;stroke-linejoin:miter;\"/>\r\n   </g>\r\n   <g id=\"patch_45\">\r\n    <path clip-path=\"url(#pd06825cfb7)\" d=\"M 20.8925 147.8565 \r\nL 21.91175 145.818 \r\nL 20.902693 145.818 \r\nL 20.902693 139.7025 \r\nL 20.882308 139.7025 \r\nL 20.882308 145.818 \r\nL 19.87325 145.818 \r\nz\r\n\" style=\"fill:#bf00bf;stroke:#bf00bf;stroke-linejoin:miter;\"/>\r\n   </g>\r\n   <g id=\"patch_46\">\r\n    <path clip-path=\"url(#pd06825cfb7)\" d=\"M 69.8165 139.7025 \r\nL 67.778 138.68325 \r\nL 67.778 139.692308 \r\nL 61.6625 139.692308 \r\nL 61.6625 139.712693 \r\nL 67.778 139.712693 \r\nL 67.778 140.72175 \r\nz\r\n\" style=\"fill:#bf00bf;stroke:#bf00bf;stroke-linejoin:miter;\"/>\r\n   </g>\r\n   <g id=\"patch_47\">\r\n    <path clip-path=\"url(#pd06825cfb7)\" d=\"M 82.0475 131.5485 \r\nL 81.02825 133.587 \r\nL 82.037307 133.587 \r\nL 82.037307 139.7025 \r\nL 82.057693 139.7025 \r\nL 82.057693 133.587 \r\nL 83.06675 133.587 \r\nz\r\n\" style=\"fill:#bf00bf;stroke:#bf00bf;stroke-linejoin:miter;\"/>\r\n   </g>\r\n   <g id=\"patch_48\">\r\n    <path clip-path=\"url(#pd06825cfb7)\" d=\"M 122.8175 147.8565 \r\nL 123.83675 145.818 \r\nL 122.827692 145.818 \r\nL 122.827692 139.7025 \r\nL 122.807307 139.7025 \r\nL 122.807307 145.818 \r\nL 121.79825 145.818 \r\nz\r\n\" style=\"fill:#bf00bf;stroke:#bf00bf;stroke-linejoin:miter;\"/>\r\n   </g>\r\n   <g id=\"patch_49\">\r\n    <path clip-path=\"url(#pd06825cfb7)\" d=\"M 163.5875 147.8565 \r\nL 164.60675 145.818 \r\nL 163.597692 145.818 \r\nL 163.597692 139.7025 \r\nL 163.577308 139.7025 \r\nL 163.577308 145.818 \r\nL 162.56825 145.818 \r\nz\r\n\" style=\"fill:#bf00bf;stroke:#bf00bf;stroke-linejoin:miter;\"/>\r\n   </g>\r\n   <g id=\"patch_50\">\r\n    <path clip-path=\"url(#pd06825cfb7)\" d=\"M 29.0465 160.0875 \r\nL 27.008 159.06825 \r\nL 27.008 160.077308 \r\nL 20.8925 160.077308 \r\nL 20.8925 160.097693 \r\nL 27.008 160.097693 \r\nL 27.008 161.10675 \r\nz\r\n\" style=\"fill:#bf00bf;stroke:#bf00bf;stroke-linejoin:miter;\"/>\r\n   </g>\r\n   <g id=\"patch_51\">\r\n    <path clip-path=\"url(#pd06825cfb7)\" d=\"M 49.4315 160.0875 \r\nL 47.393 159.06825 \r\nL 47.393 160.077308 \r\nL 41.2775 160.077308 \r\nL 41.2775 160.097693 \r\nL 47.393 160.097693 \r\nL 47.393 161.10675 \r\nz\r\n\" style=\"fill:#bf00bf;stroke:#bf00bf;stroke-linejoin:miter;\"/>\r\n   </g>\r\n   <g id=\"patch_52\">\r\n    <path clip-path=\"url(#pd06825cfb7)\" d=\"M 61.6625 151.9335 \r\nL 60.64325 153.972 \r\nL 61.652307 153.972 \r\nL 61.652307 160.0875 \r\nL 61.672692 160.0875 \r\nL 61.672692 153.972 \r\nL 62.68175 153.972 \r\nz\r\n\" style=\"fill:#bf00bf;stroke:#bf00bf;stroke-linejoin:miter;\"/>\r\n   </g>\r\n   <g id=\"patch_53\">\r\n    <path clip-path=\"url(#pd06825cfb7)\" d=\"M 110.5865 160.0875 \r\nL 108.548 159.06825 \r\nL 108.548 160.077308 \r\nL 102.4325 160.077308 \r\nL 102.4325 160.097693 \r\nL 108.548 160.097693 \r\nL 108.548 161.10675 \r\nz\r\n\" style=\"fill:#bf00bf;stroke:#bf00bf;stroke-linejoin:miter;\"/>\r\n   </g>\r\n   <g id=\"patch_54\">\r\n    <path clip-path=\"url(#pd06825cfb7)\" d=\"M 130.9715 160.0875 \r\nL 128.933 159.06825 \r\nL 128.933 160.077308 \r\nL 122.8175 160.077308 \r\nL 122.8175 160.097693 \r\nL 128.933 160.097693 \r\nL 128.933 161.10675 \r\nz\r\n\" style=\"fill:#bf00bf;stroke:#bf00bf;stroke-linejoin:miter;\"/>\r\n   </g>\r\n   <g id=\"patch_55\">\r\n    <path clip-path=\"url(#pd06825cfb7)\" d=\"M 151.3565 160.0875 \r\nL 149.318 159.06825 \r\nL 149.318 160.077308 \r\nL 143.2025 160.077308 \r\nL 143.2025 160.097693 \r\nL 149.318 160.097693 \r\nL 149.318 161.10675 \r\nz\r\n\" style=\"fill:#bf00bf;stroke:#bf00bf;stroke-linejoin:miter;\"/>\r\n   </g>\r\n   <g id=\"matplotlib.axis_1\">\r\n    <g id=\"xtick_1\">\r\n     <g id=\"line2d_1\">\r\n      <path clip-path=\"url(#pd06825cfb7)\" d=\"M 10.7 170.28 \r\nL 10.7 7.2 \r\n\" style=\"fill:none;stroke:#0000ff;stroke-linecap:square;stroke-width:2;\"/>\r\n     </g>\r\n     <g id=\"line2d_2\">\r\n      <defs>\r\n       <path d=\"M 0 0 \r\nL 0 3.5 \r\n\" id=\"m1538a8dcbb\" style=\"stroke:#000000;stroke-width:0.8;\"/>\r\n      </defs>\r\n      <g>\r\n       <use style=\"stroke:#000000;stroke-width:0.8;\" x=\"10.7\" xlink:href=\"#m1538a8dcbb\" y=\"170.28\"/>\r\n      </g>\r\n     </g>\r\n    </g>\r\n    <g id=\"xtick_2\">\r\n     <g id=\"line2d_3\">\r\n      <path clip-path=\"url(#pd06825cfb7)\" d=\"M 31.085 170.28 \r\nL 31.085 7.2 \r\n\" style=\"fill:none;stroke:#0000ff;stroke-linecap:square;stroke-width:2;\"/>\r\n     </g>\r\n     <g id=\"line2d_4\">\r\n      <g>\r\n       <use style=\"stroke:#000000;stroke-width:0.8;\" x=\"31.085\" xlink:href=\"#m1538a8dcbb\" y=\"170.28\"/>\r\n      </g>\r\n     </g>\r\n    </g>\r\n    <g id=\"xtick_3\">\r\n     <g id=\"line2d_5\">\r\n      <path clip-path=\"url(#pd06825cfb7)\" d=\"M 51.47 170.28 \r\nL 51.47 7.2 \r\n\" style=\"fill:none;stroke:#0000ff;stroke-linecap:square;stroke-width:2;\"/>\r\n     </g>\r\n     <g id=\"line2d_6\">\r\n      <g>\r\n       <use style=\"stroke:#000000;stroke-width:0.8;\" x=\"51.47\" xlink:href=\"#m1538a8dcbb\" y=\"170.28\"/>\r\n      </g>\r\n     </g>\r\n    </g>\r\n    <g id=\"xtick_4\">\r\n     <g id=\"line2d_7\">\r\n      <path clip-path=\"url(#pd06825cfb7)\" d=\"M 71.855 170.28 \r\nL 71.855 7.2 \r\n\" style=\"fill:none;stroke:#0000ff;stroke-linecap:square;stroke-width:2;\"/>\r\n     </g>\r\n     <g id=\"line2d_8\">\r\n      <g>\r\n       <use style=\"stroke:#000000;stroke-width:0.8;\" x=\"71.855\" xlink:href=\"#m1538a8dcbb\" y=\"170.28\"/>\r\n      </g>\r\n     </g>\r\n    </g>\r\n    <g id=\"xtick_5\">\r\n     <g id=\"line2d_9\">\r\n      <path clip-path=\"url(#pd06825cfb7)\" d=\"M 92.24 170.28 \r\nL 92.24 7.2 \r\n\" style=\"fill:none;stroke:#0000ff;stroke-linecap:square;stroke-width:2;\"/>\r\n     </g>\r\n     <g id=\"line2d_10\">\r\n      <g>\r\n       <use style=\"stroke:#000000;stroke-width:0.8;\" x=\"92.24\" xlink:href=\"#m1538a8dcbb\" y=\"170.28\"/>\r\n      </g>\r\n     </g>\r\n    </g>\r\n    <g id=\"xtick_6\">\r\n     <g id=\"line2d_11\">\r\n      <path clip-path=\"url(#pd06825cfb7)\" d=\"M 112.625 170.28 \r\nL 112.625 7.2 \r\n\" style=\"fill:none;stroke:#0000ff;stroke-linecap:square;stroke-width:2;\"/>\r\n     </g>\r\n     <g id=\"line2d_12\">\r\n      <g>\r\n       <use style=\"stroke:#000000;stroke-width:0.8;\" x=\"112.625\" xlink:href=\"#m1538a8dcbb\" y=\"170.28\"/>\r\n      </g>\r\n     </g>\r\n    </g>\r\n    <g id=\"xtick_7\">\r\n     <g id=\"line2d_13\">\r\n      <path clip-path=\"url(#pd06825cfb7)\" d=\"M 133.01 170.28 \r\nL 133.01 7.2 \r\n\" style=\"fill:none;stroke:#0000ff;stroke-linecap:square;stroke-width:2;\"/>\r\n     </g>\r\n     <g id=\"line2d_14\">\r\n      <g>\r\n       <use style=\"stroke:#000000;stroke-width:0.8;\" x=\"133.01\" xlink:href=\"#m1538a8dcbb\" y=\"170.28\"/>\r\n      </g>\r\n     </g>\r\n    </g>\r\n    <g id=\"xtick_8\">\r\n     <g id=\"line2d_15\">\r\n      <path clip-path=\"url(#pd06825cfb7)\" d=\"M 153.395 170.28 \r\nL 153.395 7.2 \r\n\" style=\"fill:none;stroke:#0000ff;stroke-linecap:square;stroke-width:2;\"/>\r\n     </g>\r\n     <g id=\"line2d_16\">\r\n      <g>\r\n       <use style=\"stroke:#000000;stroke-width:0.8;\" x=\"153.395\" xlink:href=\"#m1538a8dcbb\" y=\"170.28\"/>\r\n      </g>\r\n     </g>\r\n    </g>\r\n   </g>\r\n   <g id=\"matplotlib.axis_2\">\r\n    <g id=\"ytick_1\">\r\n     <g id=\"line2d_17\">\r\n      <path clip-path=\"url(#pd06825cfb7)\" d=\"M 10.7 7.2 \r\nL 173.78 7.2 \r\n\" style=\"fill:none;stroke:#0000ff;stroke-linecap:square;stroke-width:2;\"/>\r\n     </g>\r\n     <g id=\"line2d_18\">\r\n      <defs>\r\n       <path d=\"M 0 0 \r\nL -3.5 0 \r\n\" id=\"m11bb5ae88c\" style=\"stroke:#000000;stroke-width:0.8;\"/>\r\n      </defs>\r\n      <g>\r\n       <use style=\"stroke:#000000;stroke-width:0.8;\" x=\"10.7\" xlink:href=\"#m11bb5ae88c\" y=\"7.2\"/>\r\n      </g>\r\n     </g>\r\n    </g>\r\n    <g id=\"ytick_2\">\r\n     <g id=\"line2d_19\">\r\n      <path clip-path=\"url(#pd06825cfb7)\" d=\"M 10.7 27.585 \r\nL 173.78 27.585 \r\n\" style=\"fill:none;stroke:#0000ff;stroke-linecap:square;stroke-width:2;\"/>\r\n     </g>\r\n     <g id=\"line2d_20\">\r\n      <g>\r\n       <use style=\"stroke:#000000;stroke-width:0.8;\" x=\"10.7\" xlink:href=\"#m11bb5ae88c\" y=\"27.585\"/>\r\n      </g>\r\n     </g>\r\n    </g>\r\n    <g id=\"ytick_3\">\r\n     <g id=\"line2d_21\">\r\n      <path clip-path=\"url(#pd06825cfb7)\" d=\"M 10.7 47.97 \r\nL 173.78 47.97 \r\n\" style=\"fill:none;stroke:#0000ff;stroke-linecap:square;stroke-width:2;\"/>\r\n     </g>\r\n     <g id=\"line2d_22\">\r\n      <g>\r\n       <use style=\"stroke:#000000;stroke-width:0.8;\" x=\"10.7\" xlink:href=\"#m11bb5ae88c\" y=\"47.97\"/>\r\n      </g>\r\n     </g>\r\n    </g>\r\n    <g id=\"ytick_4\">\r\n     <g id=\"line2d_23\">\r\n      <path clip-path=\"url(#pd06825cfb7)\" d=\"M 10.7 68.355 \r\nL 173.78 68.355 \r\n\" style=\"fill:none;stroke:#0000ff;stroke-linecap:square;stroke-width:2;\"/>\r\n     </g>\r\n     <g id=\"line2d_24\">\r\n      <g>\r\n       <use style=\"stroke:#000000;stroke-width:0.8;\" x=\"10.7\" xlink:href=\"#m11bb5ae88c\" y=\"68.355\"/>\r\n      </g>\r\n     </g>\r\n    </g>\r\n    <g id=\"ytick_5\">\r\n     <g id=\"line2d_25\">\r\n      <path clip-path=\"url(#pd06825cfb7)\" d=\"M 10.7 88.74 \r\nL 173.78 88.74 \r\n\" style=\"fill:none;stroke:#0000ff;stroke-linecap:square;stroke-width:2;\"/>\r\n     </g>\r\n     <g id=\"line2d_26\">\r\n      <g>\r\n       <use style=\"stroke:#000000;stroke-width:0.8;\" x=\"10.7\" xlink:href=\"#m11bb5ae88c\" y=\"88.74\"/>\r\n      </g>\r\n     </g>\r\n    </g>\r\n    <g id=\"ytick_6\">\r\n     <g id=\"line2d_27\">\r\n      <path clip-path=\"url(#pd06825cfb7)\" d=\"M 10.7 109.125 \r\nL 173.78 109.125 \r\n\" style=\"fill:none;stroke:#0000ff;stroke-linecap:square;stroke-width:2;\"/>\r\n     </g>\r\n     <g id=\"line2d_28\">\r\n      <g>\r\n       <use style=\"stroke:#000000;stroke-width:0.8;\" x=\"10.7\" xlink:href=\"#m11bb5ae88c\" y=\"109.125\"/>\r\n      </g>\r\n     </g>\r\n    </g>\r\n    <g id=\"ytick_7\">\r\n     <g id=\"line2d_29\">\r\n      <path clip-path=\"url(#pd06825cfb7)\" d=\"M 10.7 129.51 \r\nL 173.78 129.51 \r\n\" style=\"fill:none;stroke:#0000ff;stroke-linecap:square;stroke-width:2;\"/>\r\n     </g>\r\n     <g id=\"line2d_30\">\r\n      <g>\r\n       <use style=\"stroke:#000000;stroke-width:0.8;\" x=\"10.7\" xlink:href=\"#m11bb5ae88c\" y=\"129.51\"/>\r\n      </g>\r\n     </g>\r\n    </g>\r\n    <g id=\"ytick_8\">\r\n     <g id=\"line2d_31\">\r\n      <path clip-path=\"url(#pd06825cfb7)\" d=\"M 10.7 149.895 \r\nL 173.78 149.895 \r\n\" style=\"fill:none;stroke:#0000ff;stroke-linecap:square;stroke-width:2;\"/>\r\n     </g>\r\n     <g id=\"line2d_32\">\r\n      <g>\r\n       <use style=\"stroke:#000000;stroke-width:0.8;\" x=\"10.7\" xlink:href=\"#m11bb5ae88c\" y=\"149.895\"/>\r\n      </g>\r\n     </g>\r\n    </g>\r\n   </g>\r\n   <g id=\"patch_56\">\r\n    <path d=\"M 10.7 170.28 \r\nL 10.7 7.2 \r\n\" style=\"fill:none;stroke:#000000;stroke-linecap:square;stroke-linejoin:miter;stroke-width:0.8;\"/>\r\n   </g>\r\n   <g id=\"patch_57\">\r\n    <path d=\"M 173.78 170.28 \r\nL 173.78 7.2 \r\n\" style=\"fill:none;stroke:#000000;stroke-linecap:square;stroke-linejoin:miter;stroke-width:0.8;\"/>\r\n   </g>\r\n   <g id=\"patch_58\">\r\n    <path d=\"M 10.7 170.28 \r\nL 173.78 170.28 \r\n\" style=\"fill:none;stroke:#000000;stroke-linecap:square;stroke-linejoin:miter;stroke-width:0.8;\"/>\r\n   </g>\r\n   <g id=\"patch_59\">\r\n    <path d=\"M 10.7 7.2 \r\nL 173.78 7.2 \r\n\" style=\"fill:none;stroke:#000000;stroke-linecap:square;stroke-linejoin:miter;stroke-width:0.8;\"/>\r\n   </g>\r\n   <g id=\"text_1\">\r\n    <!-- S -->\r\n    <g style=\"fill:#008000;\" transform=\"translate(16.571563 20.70375)scale(0.12 -0.12)\">\r\n     <defs>\r\n      <path d=\"M 3834 4519 \r\nL 3834 3531 \r\nQ 3450 3703 3084 3790 \r\nQ 2719 3878 2394 3878 \r\nQ 1963 3878 1756 3759 \r\nQ 1550 3641 1550 3391 \r\nQ 1550 3203 1689 3098 \r\nQ 1828 2994 2194 2919 \r\nL 2706 2816 \r\nQ 3484 2659 3812 2340 \r\nQ 4141 2022 4141 1434 \r\nQ 4141 663 3683 286 \r\nQ 3225 -91 2284 -91 \r\nQ 1841 -91 1394 -6 \r\nQ 947 78 500 244 \r\nL 500 1259 \r\nQ 947 1022 1364 901 \r\nQ 1781 781 2169 781 \r\nQ 2563 781 2772 912 \r\nQ 2981 1044 2981 1288 \r\nQ 2981 1506 2839 1625 \r\nQ 2697 1744 2272 1838 \r\nL 1806 1941 \r\nQ 1106 2091 782 2419 \r\nQ 459 2747 459 3303 \r\nQ 459 4000 909 4375 \r\nQ 1359 4750 2203 4750 \r\nQ 2588 4750 2994 4692 \r\nQ 3400 4634 3834 4519 \r\nz\r\n\" id=\"DejaVuSans-Bold-53\" transform=\"scale(0.015625)\"/>\r\n     </defs>\r\n     <use xlink:href=\"#DejaVuSans-Bold-53\"/>\r\n    </g>\r\n   </g>\r\n   <g id=\"text_2\">\r\n    <!-- F -->\r\n    <g style=\"fill:#008000;\" transform=\"translate(37.17875 20.70375)scale(0.12 -0.12)\">\r\n     <defs>\r\n      <path d=\"M 588 4666 \r\nL 3834 4666 \r\nL 3834 3756 \r\nL 1791 3756 \r\nL 1791 2888 \r\nL 3713 2888 \r\nL 3713 1978 \r\nL 1791 1978 \r\nL 1791 0 \r\nL 588 0 \r\nL 588 4666 \r\nz\r\n\" id=\"DejaVuSans-Bold-46\" transform=\"scale(0.015625)\"/>\r\n     </defs>\r\n     <use xlink:href=\"#DejaVuSans-Bold-46\"/>\r\n    </g>\r\n   </g>\r\n   <g id=\"text_3\">\r\n    <!-- F -->\r\n    <g style=\"fill:#008000;\" transform=\"translate(57.56375 20.70375)scale(0.12 -0.12)\">\r\n     <use xlink:href=\"#DejaVuSans-Bold-46\"/>\r\n    </g>\r\n   </g>\r\n   <g id=\"text_4\">\r\n    <!-- F -->\r\n    <g style=\"fill:#008000;\" transform=\"translate(77.94875 20.70375)scale(0.12 -0.12)\">\r\n     <use xlink:href=\"#DejaVuSans-Bold-46\"/>\r\n    </g>\r\n   </g>\r\n   <g id=\"text_5\">\r\n    <!-- F -->\r\n    <g style=\"fill:#008000;\" transform=\"translate(98.33375 20.70375)scale(0.12 -0.12)\">\r\n     <use xlink:href=\"#DejaVuSans-Bold-46\"/>\r\n    </g>\r\n   </g>\r\n   <g id=\"text_6\">\r\n    <!-- F -->\r\n    <g style=\"fill:#008000;\" transform=\"translate(118.71875 20.70375)scale(0.12 -0.12)\">\r\n     <use xlink:href=\"#DejaVuSans-Bold-46\"/>\r\n    </g>\r\n   </g>\r\n   <g id=\"text_7\">\r\n    <!-- F -->\r\n    <g style=\"fill:#008000;\" transform=\"translate(139.10375 20.70375)scale(0.12 -0.12)\">\r\n     <use xlink:href=\"#DejaVuSans-Bold-46\"/>\r\n    </g>\r\n   </g>\r\n   <g id=\"text_8\">\r\n    <!-- F -->\r\n    <g style=\"fill:#008000;\" transform=\"translate(159.48875 20.70375)scale(0.12 -0.12)\">\r\n     <use xlink:href=\"#DejaVuSans-Bold-46\"/>\r\n    </g>\r\n   </g>\r\n   <g id=\"text_9\">\r\n    <!-- F -->\r\n    <g style=\"fill:#008000;\" transform=\"translate(16.79375 41.08875)scale(0.12 -0.12)\">\r\n     <use xlink:href=\"#DejaVuSans-Bold-46\"/>\r\n    </g>\r\n   </g>\r\n   <g id=\"text_10\">\r\n    <!-- F -->\r\n    <g style=\"fill:#008000;\" transform=\"translate(37.17875 41.08875)scale(0.12 -0.12)\">\r\n     <use xlink:href=\"#DejaVuSans-Bold-46\"/>\r\n    </g>\r\n   </g>\r\n   <g id=\"text_11\">\r\n    <!-- F -->\r\n    <g style=\"fill:#008000;\" transform=\"translate(57.56375 41.08875)scale(0.12 -0.12)\">\r\n     <use xlink:href=\"#DejaVuSans-Bold-46\"/>\r\n    </g>\r\n   </g>\r\n   <g id=\"text_12\">\r\n    <!-- F -->\r\n    <g style=\"fill:#008000;\" transform=\"translate(77.94875 41.08875)scale(0.12 -0.12)\">\r\n     <use xlink:href=\"#DejaVuSans-Bold-46\"/>\r\n    </g>\r\n   </g>\r\n   <g id=\"text_13\">\r\n    <!-- F -->\r\n    <g style=\"fill:#008000;\" transform=\"translate(98.33375 41.08875)scale(0.12 -0.12)\">\r\n     <use xlink:href=\"#DejaVuSans-Bold-46\"/>\r\n    </g>\r\n   </g>\r\n   <g id=\"text_14\">\r\n    <!-- F -->\r\n    <g style=\"fill:#008000;\" transform=\"translate(118.71875 41.08875)scale(0.12 -0.12)\">\r\n     <use xlink:href=\"#DejaVuSans-Bold-46\"/>\r\n    </g>\r\n   </g>\r\n   <g id=\"text_15\">\r\n    <!-- F -->\r\n    <g style=\"fill:#008000;\" transform=\"translate(139.10375 41.08875)scale(0.12 -0.12)\">\r\n     <use xlink:href=\"#DejaVuSans-Bold-46\"/>\r\n    </g>\r\n   </g>\r\n   <g id=\"text_16\">\r\n    <!-- F -->\r\n    <g style=\"fill:#008000;\" transform=\"translate(159.48875 41.08875)scale(0.12 -0.12)\">\r\n     <use xlink:href=\"#DejaVuSans-Bold-46\"/>\r\n    </g>\r\n   </g>\r\n   <g id=\"text_17\">\r\n    <!-- F -->\r\n    <g style=\"fill:#008000;\" transform=\"translate(16.79375 61.47375)scale(0.12 -0.12)\">\r\n     <use xlink:href=\"#DejaVuSans-Bold-46\"/>\r\n    </g>\r\n   </g>\r\n   <g id=\"text_18\">\r\n    <!-- F -->\r\n    <g style=\"fill:#008000;\" transform=\"translate(37.17875 61.47375)scale(0.12 -0.12)\">\r\n     <use xlink:href=\"#DejaVuSans-Bold-46\"/>\r\n    </g>\r\n   </g>\r\n   <g id=\"text_19\">\r\n    <!-- F -->\r\n    <g style=\"fill:#008000;\" transform=\"translate(57.56375 61.47375)scale(0.12 -0.12)\">\r\n     <use xlink:href=\"#DejaVuSans-Bold-46\"/>\r\n    </g>\r\n   </g>\r\n   <g id=\"text_20\">\r\n    <!-- H -->\r\n    <g style=\"fill:#008000;\" transform=\"translate(77.02625 61.47375)scale(0.12 -0.12)\">\r\n     <defs>\r\n      <path d=\"M 588 4666 \r\nL 1791 4666 \r\nL 1791 2888 \r\nL 3566 2888 \r\nL 3566 4666 \r\nL 4769 4666 \r\nL 4769 0 \r\nL 3566 0 \r\nL 3566 1978 \r\nL 1791 1978 \r\nL 1791 0 \r\nL 588 0 \r\nL 588 4666 \r\nz\r\n\" id=\"DejaVuSans-Bold-48\" transform=\"scale(0.015625)\"/>\r\n     </defs>\r\n     <use xlink:href=\"#DejaVuSans-Bold-48\"/>\r\n    </g>\r\n   </g>\r\n   <g id=\"text_21\">\r\n    <!-- F -->\r\n    <g style=\"fill:#008000;\" transform=\"translate(98.33375 61.47375)scale(0.12 -0.12)\">\r\n     <use xlink:href=\"#DejaVuSans-Bold-46\"/>\r\n    </g>\r\n   </g>\r\n   <g id=\"text_22\">\r\n    <!-- F -->\r\n    <g style=\"fill:#008000;\" transform=\"translate(118.71875 61.47375)scale(0.12 -0.12)\">\r\n     <use xlink:href=\"#DejaVuSans-Bold-46\"/>\r\n    </g>\r\n   </g>\r\n   <g id=\"text_23\">\r\n    <!-- F -->\r\n    <g style=\"fill:#008000;\" transform=\"translate(139.10375 61.47375)scale(0.12 -0.12)\">\r\n     <use xlink:href=\"#DejaVuSans-Bold-46\"/>\r\n    </g>\r\n   </g>\r\n   <g id=\"text_24\">\r\n    <!-- F -->\r\n    <g style=\"fill:#008000;\" transform=\"translate(159.48875 61.47375)scale(0.12 -0.12)\">\r\n     <use xlink:href=\"#DejaVuSans-Bold-46\"/>\r\n    </g>\r\n   </g>\r\n   <g id=\"text_25\">\r\n    <!-- F -->\r\n    <g style=\"fill:#008000;\" transform=\"translate(16.79375 81.85875)scale(0.12 -0.12)\">\r\n     <use xlink:href=\"#DejaVuSans-Bold-46\"/>\r\n    </g>\r\n   </g>\r\n   <g id=\"text_26\">\r\n    <!-- F -->\r\n    <g style=\"fill:#008000;\" transform=\"translate(37.17875 81.85875)scale(0.12 -0.12)\">\r\n     <use xlink:href=\"#DejaVuSans-Bold-46\"/>\r\n    </g>\r\n   </g>\r\n   <g id=\"text_27\">\r\n    <!-- F -->\r\n    <g style=\"fill:#008000;\" transform=\"translate(57.56375 81.85875)scale(0.12 -0.12)\">\r\n     <use xlink:href=\"#DejaVuSans-Bold-46\"/>\r\n    </g>\r\n   </g>\r\n   <g id=\"text_28\">\r\n    <!-- F -->\r\n    <g style=\"fill:#008000;\" transform=\"translate(77.94875 81.85875)scale(0.12 -0.12)\">\r\n     <use xlink:href=\"#DejaVuSans-Bold-46\"/>\r\n    </g>\r\n   </g>\r\n   <g id=\"text_29\">\r\n    <!-- F -->\r\n    <g style=\"fill:#008000;\" transform=\"translate(98.33375 81.85875)scale(0.12 -0.12)\">\r\n     <use xlink:href=\"#DejaVuSans-Bold-46\"/>\r\n    </g>\r\n   </g>\r\n   <g id=\"text_30\">\r\n    <!-- H -->\r\n    <g style=\"fill:#008000;\" transform=\"translate(117.79625 81.85875)scale(0.12 -0.12)\">\r\n     <use xlink:href=\"#DejaVuSans-Bold-48\"/>\r\n    </g>\r\n   </g>\r\n   <g id=\"text_31\">\r\n    <!-- F -->\r\n    <g style=\"fill:#008000;\" transform=\"translate(139.10375 81.85875)scale(0.12 -0.12)\">\r\n     <use xlink:href=\"#DejaVuSans-Bold-46\"/>\r\n    </g>\r\n   </g>\r\n   <g id=\"text_32\">\r\n    <!-- F -->\r\n    <g style=\"fill:#008000;\" transform=\"translate(159.48875 81.85875)scale(0.12 -0.12)\">\r\n     <use xlink:href=\"#DejaVuSans-Bold-46\"/>\r\n    </g>\r\n   </g>\r\n   <g id=\"text_33\">\r\n    <!-- F -->\r\n    <g style=\"fill:#008000;\" transform=\"translate(16.79375 102.24375)scale(0.12 -0.12)\">\r\n     <use xlink:href=\"#DejaVuSans-Bold-46\"/>\r\n    </g>\r\n   </g>\r\n   <g id=\"text_34\">\r\n    <!-- F -->\r\n    <g style=\"fill:#008000;\" transform=\"translate(37.17875 102.24375)scale(0.12 -0.12)\">\r\n     <use xlink:href=\"#DejaVuSans-Bold-46\"/>\r\n    </g>\r\n   </g>\r\n   <g id=\"text_35\">\r\n    <!-- F -->\r\n    <g style=\"fill:#008000;\" transform=\"translate(57.56375 102.24375)scale(0.12 -0.12)\">\r\n     <use xlink:href=\"#DejaVuSans-Bold-46\"/>\r\n    </g>\r\n   </g>\r\n   <g id=\"text_36\">\r\n    <!-- H -->\r\n    <g style=\"fill:#008000;\" transform=\"translate(77.02625 102.24375)scale(0.12 -0.12)\">\r\n     <use xlink:href=\"#DejaVuSans-Bold-48\"/>\r\n    </g>\r\n   </g>\r\n   <g id=\"text_37\">\r\n    <!-- F -->\r\n    <g style=\"fill:#008000;\" transform=\"translate(98.33375 102.24375)scale(0.12 -0.12)\">\r\n     <use xlink:href=\"#DejaVuSans-Bold-46\"/>\r\n    </g>\r\n   </g>\r\n   <g id=\"text_38\">\r\n    <!-- F -->\r\n    <g style=\"fill:#008000;\" transform=\"translate(118.71875 102.24375)scale(0.12 -0.12)\">\r\n     <use xlink:href=\"#DejaVuSans-Bold-46\"/>\r\n    </g>\r\n   </g>\r\n   <g id=\"text_39\">\r\n    <!-- F -->\r\n    <g style=\"fill:#008000;\" transform=\"translate(139.10375 102.24375)scale(0.12 -0.12)\">\r\n     <use xlink:href=\"#DejaVuSans-Bold-46\"/>\r\n    </g>\r\n   </g>\r\n   <g id=\"text_40\">\r\n    <!-- F -->\r\n    <g style=\"fill:#008000;\" transform=\"translate(159.48875 102.24375)scale(0.12 -0.12)\">\r\n     <use xlink:href=\"#DejaVuSans-Bold-46\"/>\r\n    </g>\r\n   </g>\r\n   <g id=\"text_41\">\r\n    <!-- F -->\r\n    <g style=\"fill:#008000;\" transform=\"translate(16.79375 122.62875)scale(0.12 -0.12)\">\r\n     <use xlink:href=\"#DejaVuSans-Bold-46\"/>\r\n    </g>\r\n   </g>\r\n   <g id=\"text_42\">\r\n    <!-- H -->\r\n    <g style=\"fill:#008000;\" transform=\"translate(36.25625 122.62875)scale(0.12 -0.12)\">\r\n     <use xlink:href=\"#DejaVuSans-Bold-48\"/>\r\n    </g>\r\n   </g>\r\n   <g id=\"text_43\">\r\n    <!-- H -->\r\n    <g style=\"fill:#008000;\" transform=\"translate(56.64125 122.62875)scale(0.12 -0.12)\">\r\n     <use xlink:href=\"#DejaVuSans-Bold-48\"/>\r\n    </g>\r\n   </g>\r\n   <g id=\"text_44\">\r\n    <!-- F -->\r\n    <g style=\"fill:#008000;\" transform=\"translate(77.94875 122.62875)scale(0.12 -0.12)\">\r\n     <use xlink:href=\"#DejaVuSans-Bold-46\"/>\r\n    </g>\r\n   </g>\r\n   <g id=\"text_45\">\r\n    <!-- F -->\r\n    <g style=\"fill:#008000;\" transform=\"translate(98.33375 122.62875)scale(0.12 -0.12)\">\r\n     <use xlink:href=\"#DejaVuSans-Bold-46\"/>\r\n    </g>\r\n   </g>\r\n   <g id=\"text_46\">\r\n    <!-- F -->\r\n    <g style=\"fill:#008000;\" transform=\"translate(118.71875 122.62875)scale(0.12 -0.12)\">\r\n     <use xlink:href=\"#DejaVuSans-Bold-46\"/>\r\n    </g>\r\n   </g>\r\n   <g id=\"text_47\">\r\n    <!-- H -->\r\n    <g style=\"fill:#008000;\" transform=\"translate(138.18125 122.62875)scale(0.12 -0.12)\">\r\n     <use xlink:href=\"#DejaVuSans-Bold-48\"/>\r\n    </g>\r\n   </g>\r\n   <g id=\"text_48\">\r\n    <!-- F -->\r\n    <g style=\"fill:#008000;\" transform=\"translate(159.48875 122.62875)scale(0.12 -0.12)\">\r\n     <use xlink:href=\"#DejaVuSans-Bold-46\"/>\r\n    </g>\r\n   </g>\r\n   <g id=\"text_49\">\r\n    <!-- F -->\r\n    <g style=\"fill:#008000;\" transform=\"translate(16.79375 143.01375)scale(0.12 -0.12)\">\r\n     <use xlink:href=\"#DejaVuSans-Bold-46\"/>\r\n    </g>\r\n   </g>\r\n   <g id=\"text_50\">\r\n    <!-- H -->\r\n    <g style=\"fill:#008000;\" transform=\"translate(36.25625 143.01375)scale(0.12 -0.12)\">\r\n     <use xlink:href=\"#DejaVuSans-Bold-48\"/>\r\n    </g>\r\n   </g>\r\n   <g id=\"text_51\">\r\n    <!-- F -->\r\n    <g style=\"fill:#008000;\" transform=\"translate(57.56375 143.01375)scale(0.12 -0.12)\">\r\n     <use xlink:href=\"#DejaVuSans-Bold-46\"/>\r\n    </g>\r\n   </g>\r\n   <g id=\"text_52\">\r\n    <!-- F -->\r\n    <g style=\"fill:#008000;\" transform=\"translate(77.94875 143.01375)scale(0.12 -0.12)\">\r\n     <use xlink:href=\"#DejaVuSans-Bold-46\"/>\r\n    </g>\r\n   </g>\r\n   <g id=\"text_53\">\r\n    <!-- H -->\r\n    <g style=\"fill:#008000;\" transform=\"translate(97.41125 143.01375)scale(0.12 -0.12)\">\r\n     <use xlink:href=\"#DejaVuSans-Bold-48\"/>\r\n    </g>\r\n   </g>\r\n   <g id=\"text_54\">\r\n    <!-- F -->\r\n    <g style=\"fill:#008000;\" transform=\"translate(118.71875 143.01375)scale(0.12 -0.12)\">\r\n     <use xlink:href=\"#DejaVuSans-Bold-46\"/>\r\n    </g>\r\n   </g>\r\n   <g id=\"text_55\">\r\n    <!-- H -->\r\n    <g style=\"fill:#008000;\" transform=\"translate(138.18125 143.01375)scale(0.12 -0.12)\">\r\n     <use xlink:href=\"#DejaVuSans-Bold-48\"/>\r\n    </g>\r\n   </g>\r\n   <g id=\"text_56\">\r\n    <!-- F -->\r\n    <g style=\"fill:#008000;\" transform=\"translate(159.48875 143.01375)scale(0.12 -0.12)\">\r\n     <use xlink:href=\"#DejaVuSans-Bold-46\"/>\r\n    </g>\r\n   </g>\r\n   <g id=\"text_57\">\r\n    <!-- F -->\r\n    <g style=\"fill:#008000;\" transform=\"translate(16.79375 163.39875)scale(0.12 -0.12)\">\r\n     <use xlink:href=\"#DejaVuSans-Bold-46\"/>\r\n    </g>\r\n   </g>\r\n   <g id=\"text_58\">\r\n    <!-- F -->\r\n    <g style=\"fill:#008000;\" transform=\"translate(37.17875 163.39875)scale(0.12 -0.12)\">\r\n     <use xlink:href=\"#DejaVuSans-Bold-46\"/>\r\n    </g>\r\n   </g>\r\n   <g id=\"text_59\">\r\n    <!-- F -->\r\n    <g style=\"fill:#008000;\" transform=\"translate(57.56375 163.39875)scale(0.12 -0.12)\">\r\n     <use xlink:href=\"#DejaVuSans-Bold-46\"/>\r\n    </g>\r\n   </g>\r\n   <g id=\"text_60\">\r\n    <!-- H -->\r\n    <g style=\"fill:#008000;\" transform=\"translate(77.02625 163.39875)scale(0.12 -0.12)\">\r\n     <use xlink:href=\"#DejaVuSans-Bold-48\"/>\r\n    </g>\r\n   </g>\r\n   <g id=\"text_61\">\r\n    <!-- F -->\r\n    <g style=\"fill:#008000;\" transform=\"translate(98.33375 163.39875)scale(0.12 -0.12)\">\r\n     <use xlink:href=\"#DejaVuSans-Bold-46\"/>\r\n    </g>\r\n   </g>\r\n   <g id=\"text_62\">\r\n    <!-- F -->\r\n    <g style=\"fill:#008000;\" transform=\"translate(118.71875 163.39875)scale(0.12 -0.12)\">\r\n     <use xlink:href=\"#DejaVuSans-Bold-46\"/>\r\n    </g>\r\n   </g>\r\n   <g id=\"text_63\">\r\n    <!-- F -->\r\n    <g style=\"fill:#008000;\" transform=\"translate(139.10375 163.39875)scale(0.12 -0.12)\">\r\n     <use xlink:href=\"#DejaVuSans-Bold-46\"/>\r\n    </g>\r\n   </g>\r\n   <g id=\"text_64\">\r\n    <!-- G -->\r\n    <g style=\"fill:#008000;\" transform=\"translate(158.662813 163.39875)scale(0.12 -0.12)\">\r\n     <defs>\r\n      <path d=\"M 4781 347 \r\nQ 4331 128 3847 18 \r\nQ 3363 -91 2847 -91 \r\nQ 1681 -91 1000 561 \r\nQ 319 1213 319 2328 \r\nQ 319 3456 1012 4103 \r\nQ 1706 4750 2913 4750 \r\nQ 3378 4750 3804 4662 \r\nQ 4231 4575 4609 4403 \r\nL 4609 3438 \r\nQ 4219 3659 3833 3768 \r\nQ 3447 3878 3059 3878 \r\nQ 2341 3878 1952 3476 \r\nQ 1563 3075 1563 2328 \r\nQ 1563 1588 1938 1184 \r\nQ 2313 781 3003 781 \r\nQ 3191 781 3352 804 \r\nQ 3513 828 3641 878 \r\nL 3641 1784 \r\nL 2906 1784 \r\nL 2906 2591 \r\nL 4781 2591 \r\nL 4781 347 \r\nz\r\n\" id=\"DejaVuSans-Bold-47\" transform=\"scale(0.015625)\"/>\r\n     </defs>\r\n     <use xlink:href=\"#DejaVuSans-Bold-47\"/>\r\n    </g>\r\n   </g>\r\n  </g>\r\n </g>\r\n <defs>\r\n  <clipPath id=\"pd06825cfb7\">\r\n   <rect height=\"163.08\" width=\"163.08\" x=\"10.7\" y=\"7.2\"/>\r\n  </clipPath>\r\n </defs>\r\n</svg>\r\n",
      "image/png": "[encoded data removed]"
     },
     "metadata": {
      "needs_background": "light"
     }
    }
   ],
   "source": [
    "from IPython.display import clear_output\n",
    "from time import sleep\n",
    "mdp = FrozenLakeEnv(map_name='8x8', slip_chance=0.1)\n",
    "state_values = {s: 0 for s in mdp.get_all_states()}\n",
    "\n",
    "for i in range(30):\n",
    "    clear_output(True)\n",
    "    print(\"after iteration %i\" % i)\n",
    "    state_values = value_iteration(mdp, state_values, num_iter=1)\n",
    "    draw_policy(mdp, state_values)\n",
    "    sleep(0.5)\n",
    "# please ignore iter 0 at each step"
   ]
  },
  {
   "cell_type": "markdown",
   "metadata": {},
   "source": [
    "Massive tests"
   ]
  },
  {
   "cell_type": "code",
   "execution_count": 32,
   "metadata": {},
   "outputs": [
    {
     "output_type": "stream",
     "name": "stdout",
     "text": [
      "iter    0   |   diff: 1.00000   |   V(start): 0.000 \n",
      "iter    1   |   diff: 0.90000   |   V(start): 0.000 \n",
      "iter    2   |   diff: 0.81000   |   V(start): 0.000 \n",
      "iter    3   |   diff: 0.72900   |   V(start): 0.000 \n",
      "iter    4   |   diff: 0.65610   |   V(start): 0.000 \n",
      "iter    5   |   diff: 0.59049   |   V(start): 0.590 \n",
      "iter    6   |   diff: 0.00000   |   V(start): 0.590 \n",
      "average reward:  1.0\n",
      "Well done!\n"
     ]
    }
   ],
   "source": [
    "mdp = FrozenLakeEnv(slip_chance=0)\n",
    "state_values = value_iteration(mdp)\n",
    "\n",
    "total_rewards = []\n",
    "for game_i in range(1000):\n",
    "    s = mdp.reset()\n",
    "    rewards = []\n",
    "    for t in range(100):\n",
    "        s, r, done, _ = mdp.step(\n",
    "            get_optimal_action(mdp, state_values, s, gamma))\n",
    "        rewards.append(r)\n",
    "        if done:\n",
    "            break\n",
    "    total_rewards.append(np.sum(rewards))\n",
    "\n",
    "print(\"average reward: \", np.mean(total_rewards))\n",
    "assert(1.0 <= np.mean(total_rewards) <= 1.0)\n",
    "print(\"Well done!\")"
   ]
  },
  {
   "cell_type": "code",
   "execution_count": 33,
   "metadata": {},
   "outputs": [
    {
     "output_type": "stream",
     "name": "stdout",
     "text": [
      "iter    0   |   diff: 0.90000   |   V(start): 0.000 \n",
      "iter    1   |   diff: 0.72900   |   V(start): 0.000 \n",
      "iter    2   |   diff: 0.62330   |   V(start): 0.000 \n",
      "iter    3   |   diff: 0.50487   |   V(start): 0.000 \n",
      "iter    4   |   diff: 0.40894   |   V(start): 0.000 \n",
      "iter    5   |   diff: 0.34868   |   V(start): 0.349 \n",
      "iter    6   |   diff: 0.06529   |   V(start): 0.410 \n",
      "iter    7   |   diff: 0.05832   |   V(start): 0.468 \n",
      "iter    8   |   diff: 0.01139   |   V(start): 0.480 \n",
      "iter    9   |   diff: 0.00764   |   V(start): 0.487 \n",
      "iter   10   |   diff: 0.00164   |   V(start): 0.489 \n",
      "iter   11   |   diff: 0.00094   |   V(start): 0.490 \n",
      "iter   12   |   diff: 0.00022   |   V(start): 0.490 \n",
      "iter   13   |   diff: 0.00011   |   V(start): 0.490 \n",
      "iter   14   |   diff: 0.00003   |   V(start): 0.490 \n",
      "iter   15   |   diff: 0.00001   |   V(start): 0.490 \n",
      "iter   16   |   diff: 0.00000   |   V(start): 0.490 \n",
      "average reward:  0.886\n",
      "Well done!\n"
     ]
    }
   ],
   "source": [
    "# Measure agent's average reward\n",
    "mdp = FrozenLakeEnv(slip_chance=0.1)\n",
    "state_values = value_iteration(mdp)\n",
    "\n",
    "total_rewards = []\n",
    "for game_i in range(1000):\n",
    "    s = mdp.reset()\n",
    "    rewards = []\n",
    "    for t in range(100):\n",
    "        s, r, done, _ = mdp.step(\n",
    "            get_optimal_action(mdp, state_values, s, gamma))\n",
    "        rewards.append(r)\n",
    "        if done:\n",
    "            break\n",
    "    total_rewards.append(np.sum(rewards))\n",
    "\n",
    "print(\"average reward: \", np.mean(total_rewards))\n",
    "assert(0.8 <= np.mean(total_rewards) <= 0.95)\n",
    "print(\"Well done!\")"
   ]
  },
  {
   "cell_type": "code",
   "execution_count": 34,
   "metadata": {},
   "outputs": [
    {
     "output_type": "stream",
     "name": "stdout",
     "text": [
      "iter    0   |   diff: 0.75000   |   V(start): 0.000 \n",
      "iter    1   |   diff: 0.50625   |   V(start): 0.000 \n",
      "iter    2   |   diff: 0.39867   |   V(start): 0.000 \n",
      "iter    3   |   diff: 0.26910   |   V(start): 0.000 \n",
      "iter    4   |   diff: 0.18164   |   V(start): 0.000 \n",
      "iter    5   |   diff: 0.14013   |   V(start): 0.140 \n",
      "iter    6   |   diff: 0.07028   |   V(start): 0.199 \n",
      "iter    7   |   diff: 0.06030   |   V(start): 0.260 \n",
      "iter    8   |   diff: 0.02594   |   V(start): 0.285 \n",
      "iter    9   |   diff: 0.01918   |   V(start): 0.305 \n",
      "iter   10   |   diff: 0.00858   |   V(start): 0.313 \n",
      "iter   11   |   diff: 0.00560   |   V(start): 0.319 \n",
      "iter   12   |   diff: 0.00260   |   V(start): 0.321 \n",
      "iter   13   |   diff: 0.00159   |   V(start): 0.323 \n",
      "iter   14   |   diff: 0.00076   |   V(start): 0.324 \n",
      "iter   15   |   diff: 0.00045   |   V(start): 0.324 \n",
      "iter   16   |   diff: 0.00022   |   V(start): 0.324 \n",
      "iter   17   |   diff: 0.00012   |   V(start): 0.325 \n",
      "iter   18   |   diff: 0.00006   |   V(start): 0.325 \n",
      "iter   19   |   diff: 0.00003   |   V(start): 0.325 \n",
      "iter   20   |   diff: 0.00002   |   V(start): 0.325 \n",
      "iter   21   |   diff: 0.00001   |   V(start): 0.325 \n",
      "average reward:  0.659\n",
      "Well done!\n"
     ]
    }
   ],
   "source": [
    "# Measure agent's average reward\n",
    "mdp = FrozenLakeEnv(slip_chance=0.25)\n",
    "state_values = value_iteration(mdp)\n",
    "\n",
    "total_rewards = []\n",
    "for game_i in range(1000):\n",
    "    s = mdp.reset()\n",
    "    rewards = []\n",
    "    for t in range(100):\n",
    "        s, r, done, _ = mdp.step(\n",
    "            get_optimal_action(mdp, state_values, s, gamma))\n",
    "        rewards.append(r)\n",
    "        if done:\n",
    "            break\n",
    "    total_rewards.append(np.sum(rewards))\n",
    "\n",
    "print(\"average reward: \", np.mean(total_rewards))\n",
    "assert(0.6 <= np.mean(total_rewards) <= 0.7)\n",
    "print(\"Well done!\")"
   ]
  },
  {
   "cell_type": "code",
   "execution_count": 35,
   "metadata": {},
   "outputs": [
    {
     "output_type": "stream",
     "name": "stdout",
     "text": [
      "iter    0   |   diff: 0.80000   |   V(start): 0.000 \n",
      "iter    1   |   diff: 0.57600   |   V(start): 0.000 \n",
      "iter    2   |   diff: 0.41472   |   V(start): 0.000 \n",
      "iter    3   |   diff: 0.29860   |   V(start): 0.000 \n",
      "iter    4   |   diff: 0.24186   |   V(start): 0.000 \n",
      "iter    5   |   diff: 0.19349   |   V(start): 0.000 \n",
      "iter    6   |   diff: 0.15325   |   V(start): 0.000 \n",
      "iter    7   |   diff: 0.12288   |   V(start): 0.000 \n",
      "iter    8   |   diff: 0.09930   |   V(start): 0.000 \n",
      "iter    9   |   diff: 0.08037   |   V(start): 0.000 \n",
      "iter   10   |   diff: 0.06426   |   V(start): 0.000 \n",
      "iter   11   |   diff: 0.05129   |   V(start): 0.000 \n",
      "iter   12   |   diff: 0.04330   |   V(start): 0.000 \n",
      "iter   13   |   diff: 0.03802   |   V(start): 0.033 \n",
      "iter   14   |   diff: 0.03332   |   V(start): 0.058 \n",
      "iter   15   |   diff: 0.02910   |   V(start): 0.087 \n",
      "iter   16   |   diff: 0.01855   |   V(start): 0.106 \n",
      "iter   17   |   diff: 0.01403   |   V(start): 0.120 \n",
      "iter   18   |   diff: 0.00810   |   V(start): 0.128 \n",
      "iter   19   |   diff: 0.00555   |   V(start): 0.133 \n",
      "iter   20   |   diff: 0.00321   |   V(start): 0.137 \n",
      "iter   21   |   diff: 0.00247   |   V(start): 0.138 \n",
      "iter   22   |   diff: 0.00147   |   V(start): 0.139 \n",
      "iter   23   |   diff: 0.00104   |   V(start): 0.140 \n",
      "iter   24   |   diff: 0.00058   |   V(start): 0.140 \n",
      "iter   25   |   diff: 0.00036   |   V(start): 0.141 \n",
      "iter   26   |   diff: 0.00024   |   V(start): 0.141 \n",
      "iter   27   |   diff: 0.00018   |   V(start): 0.141 \n",
      "iter   28   |   diff: 0.00012   |   V(start): 0.141 \n",
      "iter   29   |   diff: 0.00007   |   V(start): 0.141 \n",
      "iter   30   |   diff: 0.00004   |   V(start): 0.141 \n",
      "iter   31   |   diff: 0.00003   |   V(start): 0.141 \n",
      "iter   32   |   diff: 0.00001   |   V(start): 0.141 \n",
      "iter   33   |   diff: 0.00001   |   V(start): 0.141 \n",
      "average reward:  0.735\n",
      "Well done!\n"
     ]
    }
   ],
   "source": [
    "# Measure agent's average reward\n",
    "mdp = FrozenLakeEnv(slip_chance=0.2, map_name='8x8')\n",
    "state_values = value_iteration(mdp)\n",
    "\n",
    "total_rewards = []\n",
    "for game_i in range(1000):\n",
    "    s = mdp.reset()\n",
    "    rewards = []\n",
    "    for t in range(100):\n",
    "        s, r, done, _ = mdp.step(\n",
    "            get_optimal_action(mdp, state_values, s, gamma))\n",
    "        rewards.append(r)\n",
    "        if done:\n",
    "            break\n",
    "    total_rewards.append(np.sum(rewards))\n",
    "\n",
    "print(\"average reward: \", np.mean(total_rewards))\n",
    "assert(0.6 <= np.mean(total_rewards) <= 0.8)\n",
    "print(\"Well done!\")"
   ]
  },
  {
   "cell_type": "markdown",
   "metadata": {},
   "source": [
    "# HW Part 1: Value iteration convergence\n",
    "\n",
    "### Find an MDP for which value iteration takes long to converge  (0.5 pts)\n",
    "\n",
    "When we ran value iteration on the small frozen lake problem, the last iteration where an action changed was iteration 6--i.e., value iteration computed the optimal policy at iteration 6. Are there any guarantees regarding how many iterations it'll take value iteration to compute the optimal policy? There are no such guarantees without additional assumptions--we can construct the MDP in such a way that the greedy policy will change after arbitrarily many iterations.\n",
    "\n",
    "Your task: define an MDP with at most 3 states and 2 actions, such that when you run value iteration, the optimal action changes at iteration >= 50. Use discount=0.95. (However, note that the discount doesn't matter here--you can construct an appropriate MDP with any discount.)\n",
    "\n",
    "Note: value function must change at least once after iteration >=50, not necessarily change on every iteration till >=50."
   ]
  },
  {
   "cell_type": "code",
   "execution_count": null,
   "metadata": {},
   "outputs": [],
   "source": [
    "transition_probs = {\n",
    "    <YOUR CODE>\n",
    "}\n",
    "rewards = {\n",
    "    <YOUR CODE>\n",
    "}\n",
    "\n",
    "from mdp import MDP\n",
    "from numpy import random\n",
    "mdp = MDP(transition_probs, rewards, initial_state=random.choice(tuple(transition_probs.keys())))\n",
    "# Feel free to change the initial_state"
   ]
  },
  {
   "cell_type": "code",
   "execution_count": null,
   "metadata": {},
   "outputs": [],
   "source": [
    "state_values = {s: 0 for s in mdp.get_all_states()}\n",
    "policy = np.array([get_optimal_action(mdp, state_values, state, gamma)\n",
    "                   for state in sorted(mdp.get_all_states())])\n",
    "\n",
    "for i in range(100):\n",
    "    print(\"after iteration %i\" % i)\n",
    "    state_values = value_iteration(mdp, state_values, num_iter=1)\n",
    "\n",
    "    new_policy = np.array([get_optimal_action(mdp, state_values, state, gamma)\n",
    "                           for state in sorted(mdp.get_all_states())])\n",
    "\n",
    "    n_changes = (policy != new_policy).sum()\n",
    "    print(\"N actions changed = %i \\n\" % n_changes)\n",
    "    policy = new_policy\n",
    "\n",
    "# please ignore iter 0 at each step"
   ]
  },
  {
   "cell_type": "markdown",
   "metadata": {},
   "source": [
    "### Value iteration convervence proof (0.5 pts)\n",
    "**Note:** Assume that $\\mathcal{S}, \\mathcal{A}$ are finite.\n",
    "\n",
    "Update of value function in value iteration can be rewritten in a form of Bellman operator:\n",
    "\n",
    "$$(TV)(s) = \\max_{a \\in \\mathcal{A}}\\mathbb{E}\\left[ r_{t+1} + \\gamma V(s_{t+1}) | s_t = s, a_t = a\\right]$$\n",
    "\n",
    "Value iteration algorithm with Bellman operator:\n",
    "\n",
    "---\n",
    "&nbsp;&nbsp; Initialize $V_0$\n",
    "\n",
    "&nbsp;&nbsp; **for** $k = 0,1,2,...$ **do**\n",
    "\n",
    "&nbsp;&nbsp;&nbsp;&nbsp; $V_{k+1} \\leftarrow TV_k$\n",
    "\n",
    "&nbsp;&nbsp;**end for**\n",
    "\n",
    "---\n",
    "\n",
    "In [lecture](https://docs.google.com/presentation/d/1lz2oIUTvd2MHWKEQSH8hquS66oe4MZ_eRvVViZs2uuE/edit#slide=id.g4fd6bae29e_2_4) we established contraction property of bellman operator:\n",
    "\n",
    "$$\n",
    "||TV - TU||_{\\infty} \\le \\gamma ||V - U||_{\\infty}\n",
    "$$\n",
    "\n",
    "For all $V, U$\n",
    "\n",
    "Using contraction property of Bellman operator, Banach fixed-point theorem and Bellman equations prove that value function converges to $V^*$ in value iterateion$\n",
    "\n",
    "*<-- Your proof here -->*"
   ]
  },
  {
   "cell_type": "markdown",
   "metadata": {},
   "source": [
    "### Bonus. Asynchronious value iteration (2 pts)\n",
    "\n",
    "Consider the following algorithm:\n",
    "\n",
    "---\n",
    "\n",
    "Initialize $V_0$\n",
    "\n",
    "**for** $k = 0,1,2,...$ **do**\n",
    "\n",
    "&nbsp;&nbsp;&nbsp;&nbsp; Select some state $s_k \\in \\mathcal{S}$    \n",
    "\n",
    "&nbsp;&nbsp;&nbsp;&nbsp; $V(s_k) := (TV)(s_k)$\n",
    "\n",
    "**end for**\n",
    "\n",
    "---\n",
    "\n",
    "\n",
    "Note that unlike common value iteration, here we update only a single state at a time.\n",
    "\n",
    "**Homework.** Prove the following proposition:\n",
    "\n",
    "If for all $s \\in \\mathcal{S}$, $s$ appears in the sequence $(s_0, s_1, ...)$ infinitely often, then $V$ converges to $V*$\n",
    "\n",
    "*<-- Your proof here -->*\n"
   ]
  },
  {
   "cell_type": "markdown",
   "metadata": {},
   "source": [
    "# HW Part 2: Policy iteration\n",
    "\n",
    "## Policy iteration implementateion (2 pts)\n",
    "\n",
    "Let's implement exact policy iteration (PI), which has the following pseudocode:\n",
    "\n",
    "---\n",
    "Initialize $\\pi_0$   `// random or fixed action`\n",
    "\n",
    "For $n=0, 1, 2, \\dots$\n",
    "- Compute the state-value function $V^{\\pi_{n}}$\n",
    "- Using $V^{\\pi_{n}}$, compute the state-action-value function $Q^{\\pi_{n}}$\n",
    "- Compute new policy $\\pi_{n+1}(s) = \\operatorname*{argmax}_a Q^{\\pi_{n}}(s,a)$\n",
    "---\n",
    "\n",
    "Unlike VI, policy iteration has to maintain a policy - chosen actions from all states - and estimate $V^{\\pi_{n}}$ based on this policy. It only changes policy once values converged.\n",
    "\n",
    "\n",
    "Below are a few helpers that you may or may not use in your implementation."
   ]
  },
  {
   "cell_type": "code",
   "execution_count": null,
   "metadata": {},
   "outputs": [],
   "source": [
    "transition_probs = {\n",
    "    's0': {\n",
    "        'a0': {'s0': 0.5, 's2': 0.5},\n",
    "        'a1': {'s2': 1}\n",
    "    },\n",
    "    's1': {\n",
    "        'a0': {'s0': 0.7, 's1': 0.1, 's2': 0.2},\n",
    "        'a1': {'s1': 0.95, 's2': 0.05}\n",
    "    },\n",
    "    's2': {\n",
    "        'a0': {'s0': 0.4, 's1': 0.6},\n",
    "        'a1': {'s0': 0.3, 's1': 0.3, 's2': 0.4}\n",
    "    }\n",
    "}\n",
    "rewards = {\n",
    "    's1': {'a0': {'s0': +5}},\n",
    "    's2': {'a1': {'s0': -1}}\n",
    "}\n",
    "\n",
    "from mdp import MDP\n",
    "mdp = MDP(transition_probs, rewards, initial_state='s0')"
   ]
  },
  {
   "cell_type": "markdown",
   "metadata": {},
   "source": [
    "Let's write a function called `compute_vpi` that computes the state-value function $V^{\\pi}$ for an arbitrary policy $\\pi$.\n",
    "\n",
    "Unlike VI, this time you must find the exact solution, not just a single iteration.\n",
    "\n",
    "Recall that $V^{\\pi}$ satisfies the following linear equation:\n",
    "$$V^{\\pi}(s) = \\sum_{s'} P(s,\\pi(s),s')[ R(s,\\pi(s),s') + \\gamma V^{\\pi}(s')]$$\n",
    "\n",
    "You'll have to solve a linear system in your code. (Find an exact solution, e.g., with `np.linalg.solve`.)"
   ]
  },
  {
   "cell_type": "code",
   "execution_count": null,
   "metadata": {},
   "outputs": [],
   "source": [
    "def compute_vpi(mdp, policy, gamma):\n",
    "    \"\"\"\n",
    "    Computes V^pi(s) FOR ALL STATES under given policy.\n",
    "    :param policy: a dict of currently chosen actions {s : a}\n",
    "    :returns: a dict {state : V^pi(state) for all states}\n",
    "    \"\"\"\n",
    "    <YOUR CODE>\n",
    "    return <YOUR CODE>"
   ]
  },
  {
   "cell_type": "code",
   "execution_count": null,
   "metadata": {},
   "outputs": [],
   "source": [
    "test_policy = {s: np.random.choice(\n",
    "    mdp.get_possible_actions(s)) for s in mdp.get_all_states()}\n",
    "new_vpi = compute_vpi(mdp, test_policy, gamma)\n",
    "\n",
    "print(new_vpi)\n",
    "\n",
    "assert type(\n",
    "    new_vpi) is dict, \"compute_vpi must return a dict {state : V^pi(state) for all states}\""
   ]
  },
  {
   "cell_type": "markdown",
   "metadata": {},
   "source": [
    "Once we've got new state values, it's time to update our policy."
   ]
  },
  {
   "cell_type": "code",
   "execution_count": null,
   "metadata": {},
   "outputs": [],
   "source": [
    "def compute_new_policy(mdp, vpi, gamma):\n",
    "    \"\"\"\n",
    "    Computes new policy as argmax of state values\n",
    "    :param vpi: a dict {state : V^pi(state) for all states}\n",
    "    :returns: a dict {state : optimal action for all states}\n",
    "    \"\"\"\n",
    "    <YOUR CODE>\n",
    "    return <YOUR CODE>"
   ]
  },
  {
   "cell_type": "code",
   "execution_count": null,
   "metadata": {},
   "outputs": [],
   "source": [
    "new_policy = compute_new_policy(mdp, new_vpi, gamma)\n",
    "\n",
    "print(new_policy)\n",
    "\n",
    "assert type(\n",
    "    new_policy) is dict, \"compute_new_policy must return a dict {state : optimal action for all states}\""
   ]
  },
  {
   "cell_type": "markdown",
   "metadata": {},
   "source": [
    "__Main loop__"
   ]
  },
  {
   "cell_type": "code",
   "execution_count": null,
   "metadata": {},
   "outputs": [],
   "source": [
    "def policy_iteration(mdp, policy=None, gamma=0.9, num_iter=1000, min_difference=1e-5):\n",
    "    \"\"\" \n",
    "    Run the policy iteration loop for num_iter iterations or till difference between V(s) is below min_difference.\n",
    "    If policy is not given, initialize it at random.\n",
    "    \"\"\"\n",
    "    <YOUR CODE: a whole lot of it>\n",
    "\n",
    "    return state_values, policy"
   ]
  },
  {
   "cell_type": "markdown",
   "metadata": {},
   "source": [
    "__Your PI Results__"
   ]
  },
  {
   "cell_type": "code",
   "execution_count": null,
   "metadata": {},
   "outputs": [],
   "source": [
    "<YOUR CODE: compare PI and VI on the MDP from bonus 1, then on small & large FrozenLake>"
   ]
  },
  {
   "cell_type": "markdown",
   "metadata": {},
   "source": [
    "## Policy iteration convergence (3 pts)\n",
    "\n",
    "**Note:** Assume that $\\mathcal{S}, \\mathcal{A}$ are finite.\n",
    "\n",
    "We can define another Bellman operator:\n",
    "\n",
    "$$(T_{\\pi}V)(s) = \\mathbb{E}_{r, s'|s, a = \\pi(s)}\\left[r + \\gamma V(s')\\right]$$\n",
    "\n",
    "And rewrite policy iteration algorithm in operator form:\n",
    "\n",
    "\n",
    "---\n",
    "\n",
    "Initialize $\\pi_0$\n",
    "\n",
    "**for** $k = 0,1,2,...$ **do**\n",
    "\n",
    "&nbsp;&nbsp;&nbsp;&nbsp; Solve $V_k = T_{\\pi_k}V_k$   \n",
    "\n",
    "&nbsp;&nbsp;&nbsp;&nbsp; Select $\\pi_{k+1}$ s.t. $T_{\\pi_{k+1}}V_k = TV_k$ \n",
    "\n",
    "**end for**\n",
    "\n",
    "---\n",
    "\n",
    "To prove convergence of the algorithm we need to prove two properties: contraction an monotonicity.\n",
    "\n",
    "#### Monotonicity (0.5 pts)\n",
    "\n",
    "For all $V, U$ if $V(s) \\le U(s)$   $\\forall s \\in \\mathcal{S}$ then $(T_\\pi V)(s) \\le (T_\\pi U)(s)$   $\\forall s \\in  \\mathcal{S}$\n",
    "\n",
    "*<-- Your proof here -->*\n",
    "\n",
    "#### Contraction (1 pts)\n",
    "\n",
    "$$\n",
    "||T_\\pi V - T_\\pi U||_{\\infty} \\le \\gamma ||V - U||_{\\infty}\n",
    "$$\n",
    "\n",
    "For all $V, U$\n",
    "\n",
    "*<-- Your proof here -->*\n",
    "\n",
    "#### Convergence (1.5 pts)\n",
    "\n",
    "Prove that there exists iteration $k_0$ such that $\\pi_k = \\pi^*$ for all $k \\ge k_0$\n",
    "\n",
    "*<-- Your proof here -->*"
   ]
  }
 ],
 "metadata": {
  "language_info": {
   "name": "python",
   "pygments_lexer": "ipython3",
   "version": "3.9.0"
  },
  "kernelspec": {
   "name": "python390jvsc74a57bd0127481f931572b13e32a9965a0df42d5a8b8e9eb0e006a79d1d2cd084c759156",
   "display_name": "Python 3.9.0 64-bit ('env': venv)",
   "language": "python"
  }
 },
 "nbformat": 4,
 "nbformat_minor": 2
}