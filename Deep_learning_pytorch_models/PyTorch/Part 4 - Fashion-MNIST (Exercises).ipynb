{
 "cells": [
  {
   "cell_type": "markdown",
   "metadata": {},
   "source": [
    "# Classifying Fashion-MNIST\n",
    "\n",
    "Now it's your turn to build and train a neural network. You'll be using the [Fashion-MNIST dataset](https://github.com/zalandoresearch/fashion-mnist), a drop-in replacement for the MNIST dataset. MNIST is actually quite trivial with neural networks where you can easily achieve better than 97% accuracy. Fashion-MNIST is a set of 28x28 greyscale images of clothes. It's more complex than MNIST, so it's a better representation of the actual performance of your network, and a better representation of datasets you'll use in the real world.\n",
    "\n",
    "<img src='assets/fashion-mnist-sprite.png' width=500px>\n",
    "\n",
    "In this notebook, you'll build your own neural network. For the most part, you could just copy and paste the code from Part 3, but you wouldn't be learning. It's important for you to write the code yourself and get it to work. Feel free to consult the previous notebooks though as you work through this.\n",
    "\n",
    "First off, let's load the dataset through torchvision."
   ]
  },
  {
   "cell_type": "code",
   "execution_count": 1,
   "metadata": {},
   "outputs": [],
   "source": [
    "import torch\n",
    "from torchvision import datasets, transforms\n",
    "import helper\n",
    "\n",
    "# Define a transform to normalize the data\n",
    "transform = transforms.Compose([transforms.ToTensor(),\n",
    "                                transforms.Normalize((0.5,), (0.5,))])\n",
    "# Download and load the training data\n",
    "trainset = datasets.FashionMNIST('~/.pytorch/F_MNIST_data/', download=True, train=True, transform=transform)\n",
    "trainloader = torch.utils.data.DataLoader(trainset, batch_size=64, shuffle=True)\n",
    "\n",
    "# Download and load the test data\n",
    "testset = datasets.FashionMNIST('~/.pytorch/F_MNIST_data/', download=True, train=False, transform=transform)\n",
    "testloader = torch.utils.data.DataLoader(testset, batch_size=64, shuffle=True)"
   ]
  },
  {
   "cell_type": "markdown",
   "metadata": {},
   "source": [
    "Here we can see one of the images."
   ]
  },
  {
   "cell_type": "code",
   "execution_count": 2,
   "metadata": {},
   "outputs": [
    {
     "output_type": "display_data",
     "data": {
      "text/plain": "<Figure size 432x288 with 1 Axes>",
      "image/svg+xml": "<?xml version=\"1.0\" encoding=\"utf-8\" standalone=\"no\"?>\r\n<!DOCTYPE svg PUBLIC \"-//W3C//DTD SVG 1.1//EN\"\r\n  \"http://www.w3.org/Graphics/SVG/1.1/DTD/svg11.dtd\">\r\n<!-- Created with matplotlib (https://matplotlib.org/) -->\r\n<svg height=\"231.84pt\" version=\"1.1\" viewBox=\"0 0 231.84 231.84\" width=\"231.84pt\" xmlns=\"http://www.w3.org/2000/svg\" xmlns:xlink=\"http://www.w3.org/1999/xlink\">\r\n <metadata>\r\n  <rdf:RDF xmlns:cc=\"http://creativecommons.org/ns#\" xmlns:dc=\"http://purl.org/dc/elements/1.1/\" xmlns:rdf=\"http://www.w3.org/1999/02/22-rdf-syntax-ns#\">\r\n   <cc:Work>\r\n    <dc:type rdf:resource=\"http://purl.org/dc/dcmitype/StillImage\"/>\r\n    <dc:date>2021-06-02T18:25:35.267645</dc:date>\r\n    <dc:format>image/svg+xml</dc:format>\r\n    <dc:creator>\r\n     <cc:Agent>\r\n      <dc:title>Matplotlib v3.3.2, https://matplotlib.org/</dc:title>\r\n     </cc:Agent>\r\n    </dc:creator>\r\n   </cc:Work>\r\n  </rdf:RDF>\r\n </metadata>\r\n <defs>\r\n  <style type=\"text/css\">*{stroke-linecap:butt;stroke-linejoin:round;}</style>\r\n </defs>\r\n <g id=\"figure_1\">\r\n  <g id=\"patch_1\">\r\n   <path d=\"M 0 231.84 \r\nL 231.84 231.84 \r\nL 231.84 0 \r\nL 0 0 \r\nz\r\n\" style=\"fill:none;\"/>\r\n  </g>\r\n  <g id=\"axes_1\">\r\n   <g id=\"patch_2\">\r\n    <path d=\"M 7.2 224.64 \r\nL 224.64 224.64 \r\nL 224.64 7.2 \r\nL 7.2 7.2 \r\nz\r\n\" style=\"fill:#ffffff;\"/>\r\n   </g>\r\n   <g clip-path=\"url(#p2e3b55fee4)\">\r\n    <image height=\"218\" id=\"imageb1b03005a6\" transform=\"scale(1 -1)translate(0 -218)\" width=\"218\" x=\"7.2\" xlink:href=\"data:image/png;base64,\r\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\" y=\"-6.64\"/>\r\n   </g>\r\n   <g id=\"matplotlib.axis_1\">\r\n    <g id=\"xtick_1\">\r\n     <g id=\"line2d_1\"/>\r\n    </g>\r\n    <g id=\"xtick_2\">\r\n     <g id=\"line2d_2\"/>\r\n    </g>\r\n    <g id=\"xtick_3\">\r\n     <g id=\"line2d_3\"/>\r\n    </g>\r\n    <g id=\"xtick_4\">\r\n     <g id=\"line2d_4\"/>\r\n    </g>\r\n    <g id=\"xtick_5\">\r\n     <g id=\"line2d_5\"/>\r\n    </g>\r\n    <g id=\"xtick_6\">\r\n     <g id=\"line2d_6\"/>\r\n    </g>\r\n   </g>\r\n   <g id=\"matplotlib.axis_2\">\r\n    <g id=\"ytick_1\">\r\n     <g id=\"line2d_7\"/>\r\n    </g>\r\n    <g id=\"ytick_2\">\r\n     <g id=\"line2d_8\"/>\r\n    </g>\r\n    <g id=\"ytick_3\">\r\n     <g id=\"line2d_9\"/>\r\n    </g>\r\n    <g id=\"ytick_4\">\r\n     <g id=\"line2d_10\"/>\r\n    </g>\r\n    <g id=\"ytick_5\">\r\n     <g id=\"line2d_11\"/>\r\n    </g>\r\n    <g id=\"ytick_6\">\r\n     <g id=\"line2d_12\"/>\r\n    </g>\r\n   </g>\r\n  </g>\r\n </g>\r\n <defs>\r\n  <clipPath id=\"p2e3b55fee4\">\r\n   <rect height=\"217.44\" width=\"217.44\" x=\"7.2\" y=\"7.2\"/>\r\n  </clipPath>\r\n </defs>\r\n</svg>\r\n",
      "image/png": "[encoded data removed]"
     },
     "metadata": {
      "needs_background": "light"
     }
    }
   ],
   "source": [
    "image, label = next(iter(trainloader))\n",
    "helper.imshow(image[0,:]);"
   ]
  },
  {
   "cell_type": "markdown",
   "metadata": {},
   "source": [
    "## Building the network\n",
    "\n",
    "Here you should define your network. As with MNIST, each image is 28x28 which is a total of 784 pixels, and there are 10 classes. You should include at least one hidden layer. We suggest you use ReLU activations for the layers and to return the logits or log-softmax from the forward pass. It's up to you how many layers you add and the size of those layers."
   ]
  },
  {
   "cell_type": "code",
   "execution_count": 3,
   "metadata": {},
   "outputs": [],
   "source": [
    "from torch import nn\n",
    "from torch import optim"
   ]
  },
  {
   "cell_type": "markdown",
   "metadata": {},
   "source": [
    "# Train the network\n",
    "\n",
    "Now you should create your network and train it. First you'll want to define [the criterion](http://pytorch.org/docs/master/nn.html#loss-functions) ( something like `nn.CrossEntropyLoss`) and [the optimizer](http://pytorch.org/docs/master/optim.html) (typically `optim.SGD` or `optim.Adam`).\n",
    "\n",
    "Then write the training code. Remember the training pass is a fairly straightforward process:\n",
    "\n",
    "* Make a forward pass through the network to get the logits \n",
    "* Use the logits to calculate the loss\n",
    "* Perform a backward pass through the network with `loss.backward()` to calculate the gradients\n",
    "* Take a step with the optimizer to update the weights\n",
    "\n",
    "By adjusting the hyperparameters (hidden units, learning rate, etc), you should be able to get the training loss below 0.4."
   ]
  },
  {
   "cell_type": "code",
   "execution_count": 19,
   "metadata": {},
   "outputs": [
    {
     "output_type": "stream",
     "name": "stdout",
     "text": [
      "for lr= 0.256  epoch  1  loss=  1034.6500254571438\n",
      "for lr= 0.256  epoch  2  loss=  499.1649007499218\n",
      "for lr= 0.256  epoch  3  loss=  406.1937974989414\n",
      "for lr= 0.256  epoch  4  loss=  360.2330942898989\n",
      "for lr= 0.256  epoch  5  loss=  340.09458577632904\n",
      "for lr= 0.256  epoch  6  loss=  313.79629450291395\n",
      "for lr= 0.256  epoch  7  loss=  296.8358704596758\n",
      "for lr= 0.256  epoch  8  loss=  282.37971509993076\n",
      "for lr= 0.256  epoch  9  loss=  271.48156171664596\n",
      "for lr= 0.256  epoch  10  loss=  257.6118809580803\n",
      "for lr= 0.256  epoch  11  loss=  247.56422128900886\n",
      "for lr= 0.256  epoch  12  loss=  245.1144264563918\n",
      "for lr= 0.256  epoch  13  loss=  235.19151512160897\n",
      "for lr= 0.256  epoch  14  loss=  225.83602039143443\n",
      "for lr= 0.256  epoch  15  loss=  217.52218256518245\n",
      "for lr= 0.256  epoch  16  loss=  210.94731447845697\n",
      "for lr= 0.256  epoch  17  loss=  204.13398540765047\n",
      "for lr= 0.256  epoch  18  loss=  198.49708049371839\n",
      "for lr= 0.256  epoch  19  loss=  192.8207547403872\n",
      "for lr= 0.256  epoch  20  loss=  184.72064913623035\n",
      "\n"
     ]
    }
   ],
   "source": [
    "# TODO: Train the network here\n",
    "#.03\n",
    "for l in [0.256]:\n",
    "     model=nn.Sequential(nn.Linear(784,484),\n",
    "                         nn.ReLU(),\n",
    "                         nn.Linear(484,256),\n",
    "                         nn.ReLU(),\n",
    "                         nn.Linear(256,169),\n",
    "                         nn.ReLU(),\n",
    "                         nn.Linear(169,81),\n",
    "                         nn.ReLU(),\n",
    "                         nn.Linear(81,64),\n",
    "                         nn.ReLU(),\n",
    "                         nn.Linear(64,36),\n",
    "                         nn.ReLU(),\n",
    "                         nn.Linear(36,10),\n",
    "                         nn.LogSoftmax(dim=1))\n",
    "     criterion=nn.NLLLoss()\n",
    "     optimizer = optim.SGD(model.parameters(), lr=l)\n",
    "     epoch=20\n",
    "     for i in range(epoch):\n",
    "          run_loss=0\n",
    "          for image,label in trainloader:\n",
    "               image=image.view(image.shape[0],-1)\n",
    "               optimizer.zero_grad()\n",
    "               out=model(image)\n",
    "               loss=criterion(out,label)\n",
    "               loss.backward()\n",
    "               optimizer.step()\n",
    "               run_loss=run_loss+loss.item()\n",
    "          print(\"for lr=\",l,\" epoch \",i+1,\" loss= \",run_loss)\n",
    "     print(\"\")"
   ]
  },
  {
   "cell_type": "code",
   "execution_count": 25,
   "metadata": {},
   "outputs": [
    {
     "output_type": "display_data",
     "data": {
      "text/plain": "<Figure size 432x648 with 2 Axes>",
      "image/png": "[encoded data removed]"
     },
     "metadata": {
      "image/png": {
       "width": 424,
       "height": 216
      },
      "needs_background": "light"
     }
    }
   ],
   "source": [
    "%matplotlib inline\n",
    "%config InlineBackend.figure_format = 'retina'\n",
    "\n",
    "import helper\n",
    "\n",
    "# Test out your network!\n",
    "\n",
    "dataiter = iter(testloader)\n",
    "images, labels = dataiter.next()\n",
    "# c=0\n",
    "# d=0\n",
    "# for img,lab in testloader:\n",
    "    \n",
    "# #for i in range(images.length()\n",
    "img = images[0]\n",
    "\n",
    "# Convert 2D image to 1D vector\n",
    "img = img.resize_(1, 784)\n",
    "\n",
    "# TODO: Calculate the class probabilities (softmax) for img\n",
    "with torch.no_grad():\n",
    "    logps = model(img)\n",
    "ps = torch.exp(logps)\n",
    "\n",
    "# Plot the image and probabilities\n",
    "helper.view_classify(img.resize_(1, 28, 28), ps, version='Fashion')\n"
   ]
  },
  {
   "cell_type": "code",
   "execution_count": null,
   "metadata": {},
   "outputs": [],
   "source": []
  },
  {
   "cell_type": "code",
   "execution_count": null,
   "metadata": {},
   "outputs": [],
   "source": []
  }
 ],
 "metadata": {
  "kernelspec": {
   "name": "python385jvsc74a57bd0c0f70214c0dd213f07f54ee5d6e0ea644bdbba35113c9bfe8aaa0d1db03ad5dd",
   "display_name": "Python 3.8.5 64-bit ('base': conda)"
  },
  "language_info": {
   "codemirror_mode": {
    "name": "ipython",
    "version": 3
   },
   "file_extension": ".py",
   "mimetype": "text/x-python",
   "name": "python",
   "nbconvert_exporter": "python",
   "pygments_lexer": "ipython3",
   "version": "3.8.5"
  }
 },
 "nbformat": 4,
 "nbformat_minor": 2
}